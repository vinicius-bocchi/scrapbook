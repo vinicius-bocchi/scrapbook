{
 "cells": [
  {
   "cell_type": "code",
   "execution_count": 125,
   "id": "e79b4a0b-4366-4062-b3a4-cdd01f51a7ce",
   "metadata": {},
   "outputs": [],
   "source": [
    "import pandas as pd\n",
    "import numpy as np\n",
    "import plotly.express as px"
   ]
  },
  {
   "cell_type": "code",
   "execution_count": 126,
   "id": "11bf0e13-313c-46c4-aa97-36d9a8eb5bec",
   "metadata": {},
   "outputs": [],
   "source": [
    "#State conversion\n",
    "estados = {'AC':'Acre', 'AL':'Alagoas', 'AP':'Amapá', 'AM':'Amazonas', 'BA':'Bahia', 'CE':'Ceará', 'DF':'Distrito Federal',\n",
    "           'ES':'Espírito Santo', 'GO':'Goiás', 'MA':'Maranhão', 'MT':'Mato Grosso', 'MS':'Mato Grosso do Sul', 'MG':'Minas Gerais',\n",
    "           'PA':'Pará', 'PB':'Paraíba', 'PR':'Paraná', 'PE':'Pernambuco', 'PI':'Teresina', 'RJ':'Rio de Janeiro','RN':'Rio Grande do Norte',\n",
    "           'RS':'Rio Grande do Sul', 'RO':'Rondônia', 'RR':'Roraima', 'SC':'Santa Catarina', 'SP':'São Paulo', 'SE':'Sergipe', 'TO':'Tocantins'}\n",
    "\n",
    "#Purchase type\n",
    "tipos=['CLIENTE NOVO','RECOMPRA']\n",
    "cores_vendedor = {'CLIENTE NOVO':'rgb(0,73,46)',\n",
    "                                 'RECOMPRA':'rgb(0,124,78)'}"
   ]
  },
  {
   "cell_type": "code",
   "execution_count": 127,
   "id": "94717185-7bba-4032-bae2-119e00aff260",
   "metadata": {},
   "outputs": [],
   "source": [
    "df = pd.read_excel('Sales_report.xlsx')"
   ]
  },
  {
   "cell_type": "code",
   "execution_count": 128,
   "id": "2008316c-67af-4110-bbf8-ac7a22c1218a",
   "metadata": {},
   "outputs": [
    {
     "data": {
      "text/plain": [
       "Index(['Nº CPF/CNPJ Cliente', 'Cliente', 'Pedido', 'Status', 'Vendedor',\n",
       "       'Cond. Pgto.', 'Data NFe', 'Nota Fiscal', 'Nº Ped. Cliente',\n",
       "       'Data emissão', 'Data entrega', 'Ordem Item', 'Código', 'Descrição',\n",
       "       'Cor/Espec./Tam.', 'UF', 'Cidade', 'Bairro', 'Complemento', 'Endereço',\n",
       "       'Número', 'Unid.', 'Linha', 'Sub-Linha', 'Qtde.', 'Vl. Unitário',\n",
       "       'Desconto', 'Vl. Total', 'Observações', 'Obs. Itens', 'Peso Bruto',\n",
       "       'Peso Líquido', 'Chave Acesso'],\n",
       "      dtype='object')"
      ]
     },
     "execution_count": 128,
     "metadata": {},
     "output_type": "execute_result"
    }
   ],
   "source": [
    "df.columns"
   ]
  },
  {
   "cell_type": "code",
   "execution_count": 129,
   "id": "119d6109-005f-4cdc-89aa-296351c8a3c8",
   "metadata": {},
   "outputs": [],
   "source": [
    "df.drop(['Nº CPF/CNPJ Cliente', 'Pedido', 'Status', 'Cliente','Bairro', 'Complemento', 'Endereço',\n",
    "         'Número', 'Cond. Pgto.', 'Data NFe', 'Nota Fiscal', 'Nº Ped. Cliente','Chave Acesso'],axis=1, inplace=True)"
   ]
  },
  {
   "cell_type": "code",
   "execution_count": 130,
   "id": "ca7f2ab1-2d2a-4b18-8f93-458014b9fb02",
   "metadata": {},
   "outputs": [
    {
     "data": {
      "text/plain": [
       "Vendedor                   object\n",
       "Data emissão       datetime64[ns]\n",
       "Data entrega       datetime64[ns]\n",
       "Ordem Item                  int64\n",
       "Código                     object\n",
       "Descrição                  object\n",
       "Cor/Espec./Tam.           float64\n",
       "UF                         object\n",
       "Cidade                     object\n",
       "Unid.                      object\n",
       "Linha                      object\n",
       "Sub-Linha                  object\n",
       "Qtde.                       int64\n",
       "Vl. Unitário              float64\n",
       "Desconto                  float64\n",
       "Vl. Total                 float64\n",
       "Observações               float64\n",
       "Obs. Itens                 object\n",
       "Peso Bruto                float64\n",
       "Peso Líquido              float64\n",
       "dtype: object"
      ]
     },
     "execution_count": 130,
     "metadata": {},
     "output_type": "execute_result"
    }
   ],
   "source": [
    "df.dtypes"
   ]
  },
  {
   "cell_type": "code",
   "execution_count": 131,
   "id": "0188f639-96aa-455f-bf5b-1a9eb46f4dd1",
   "metadata": {},
   "outputs": [],
   "source": [
    "df = df.rename(columns={'Data emissão': 'Data', 'Qtde.':'Quantidade', 'UF':'Estado', 'Vl. Total': 'Total'})"
   ]
  },
  {
   "cell_type": "code",
   "execution_count": 132,
   "id": "7ddba78d-38fb-476a-b2f3-ccf0f55661fe",
   "metadata": {},
   "outputs": [],
   "source": [
    "df['Estado'] = df['Estado'].apply(lambda x: estados[x])"
   ]
  },
  {
   "cell_type": "code",
   "execution_count": 133,
   "id": "f9707ef8-756d-4036-8ae9-c56b2bd55acf",
   "metadata": {},
   "outputs": [],
   "source": [
    "vds_por_est = pd.DataFrame(df, columns=['Estado','Total'])\n",
    "vds_por_est = vds_por_est.groupby('Estado').sum()\n",
    "# verificar como plotar o mapa do Brasil"
   ]
  },
  {
   "cell_type": "code",
   "execution_count": 134,
   "id": "60376b0b-9e53-446e-83c3-150bda65c156",
   "metadata": {},
   "outputs": [
    {
     "data": {
      "application/vnd.plotly.v1+json": {
       "config": {
        "plotlyServerURL": "https://plot.ly"
       },
       "data": [
        {
         "customdata": [
          [
           "CLIENTE NOVO"
          ],
          [
           "RECOMPRA"
          ],
          [
           "RECOMPRA"
          ],
          [
           "RECOMPRA"
          ],
          [
           "RECOMPRA"
          ],
          [
           "RECOMPRA"
          ],
          [
           "RECOMPRA"
          ],
          [
           "RECOMPRA"
          ],
          [
           "RECOMPRA"
          ],
          [
           "RECOMPRA"
          ],
          [
           "CLIENTE NOVO"
          ],
          [
           "RECOMPRA"
          ],
          [
           "RECOMPRA"
          ],
          [
           "RECOMPRA"
          ],
          [
           "CLIENTE NOVO"
          ],
          [
           "CLIENTE NOVO"
          ],
          [
           "CLIENTE NOVO"
          ],
          [
           "CLIENTE NOVO"
          ],
          [
           "CLIENTE NOVO"
          ],
          [
           "CLIENTE NOVO"
          ],
          [
           "CLIENTE NOVO"
          ],
          [
           "CLIENTE NOVO"
          ],
          [
           "CLIENTE NOVO"
          ],
          [
           "CLIENTE NOVO"
          ],
          [
           "CLIENTE NOVO"
          ],
          [
           "CLIENTE NOVO"
          ],
          [
           "CLIENTE NOVO"
          ],
          [
           "CLIENTE NOVO"
          ],
          [
           "CLIENTE NOVO"
          ],
          [
           "CLIENTE NOVO"
          ],
          [
           "CLIENTE NOVO"
          ],
          [
           "CLIENTE NOVO"
          ],
          [
           "CLIENTE NOVO"
          ],
          [
           "RECOMPRA"
          ],
          [
           "CLIENTE NOVO"
          ],
          [
           "CLIENTE NOVO"
          ],
          [
           "CLIENTE NOVO"
          ],
          [
           "CLIENTE NOVO"
          ],
          [
           "RECOMPRA"
          ],
          [
           "RECOMPRA"
          ],
          [
           "RECOMPRA"
          ],
          [
           "RECOMPRA"
          ],
          [
           "CLIENTE NOVO"
          ],
          [
           "CLIENTE NOVO"
          ],
          [
           "CLIENTE NOVO"
          ],
          [
           "CLIENTE NOVO"
          ],
          [
           "RECOMPRA"
          ],
          [
           "CLIENTE NOVO"
          ],
          [
           "CLIENTE NOVO"
          ],
          [
           "CLIENTE NOVO"
          ],
          [
           "CLIENTE NOVO"
          ],
          [
           "CLIENTE NOVO"
          ],
          [
           "RECOMPRA"
          ],
          [
           "RECOMPRA"
          ],
          [
           "RECOMPRA"
          ],
          [
           "CLIENTE NOVO"
          ],
          [
           "RECOMPRA"
          ],
          [
           "CLIENTE NOVO"
          ],
          [
           "CLIENTE NOVO"
          ],
          [
           "RECOMPRA"
          ],
          [
           "RECOMPRA"
          ],
          [
           "CLIENTE NOVO"
          ],
          [
           "CLIENTE NOVO"
          ],
          [
           "CLIENTE NOVO"
          ],
          [
           "CLIENTE NOVO"
          ],
          [
           "CLIENTE NOVO"
          ],
          [
           "CLIENTE NOVO"
          ],
          [
           "CLIENTE NOVO"
          ],
          [
           "CLIENTE NOVO"
          ],
          [
           "CLIENTE NOVO"
          ],
          [
           "CLIENTE NOVO"
          ],
          [
           "CLIENTE NOVO"
          ],
          [
           "RECOMPRA"
          ],
          [
           "CLIENTE NOVO"
          ],
          [
           "RECOMPRA"
          ],
          [
           "CLIENTE NOVO"
          ],
          [
           "CLIENTE NOVO"
          ],
          [
           "RECOMPRA"
          ],
          [
           "RECOMPRA"
          ],
          [
           "RECOMPRA"
          ],
          [
           "CLIENTE NOVO"
          ],
          [
           "RECOMPRA"
          ],
          [
           "CLIENTE NOVO"
          ],
          [
           "CLIENTE NOVO"
          ],
          [
           "RECOMPRA"
          ],
          [
           "RECOMPRA"
          ],
          [
           "RECOMPRA"
          ],
          [
           "CLIENTE NOVO"
          ],
          [
           "CLIENTE NOVO"
          ],
          [
           "CLIENTE NOVO"
          ],
          [
           "CLIENTE NOVO"
          ],
          [
           "CLIENTE NOVO"
          ],
          [
           "CLIENTE NOVO"
          ],
          [
           "CLIENTE NOVO"
          ],
          [
           "CLIENTE NOVO"
          ],
          [
           "CLIENTE NOVO"
          ],
          [
           "CLIENTE NOVO"
          ],
          [
           "CLIENTE NOVO"
          ],
          [
           "RECOMPRA"
          ],
          [
           "CLIENTE NOVO"
          ],
          [
           "RECOMPRA"
          ],
          [
           "CLIENTE NOVO"
          ],
          [
           "CLIENTE NOVO"
          ],
          [
           "CLIENTE NOVO"
          ],
          [
           "CLIENTE NOVO"
          ],
          [
           "CLIENTE NOVO"
          ],
          [
           "CLIENTE NOVO"
          ],
          [
           "RECOMPRA"
          ],
          [
           "RECOMPRA"
          ],
          [
           "RECOMPRA"
          ],
          [
           "RECOMPRA"
          ],
          [
           "CLIENTE NOVO"
          ],
          [
           "RECOMPRA"
          ],
          [
           "RECOMPRA"
          ],
          [
           "CLIENTE NOVO"
          ],
          [
           "RECOMPRA"
          ],
          [
           "RECOMPRA"
          ],
          [
           "RECOMPRA"
          ],
          [
           "CLIENTE NOVO"
          ],
          [
           "RECOMPRA"
          ],
          [
           "CLIENTE NOVO"
          ],
          [
           "RECOMPRA"
          ],
          [
           "RECOMPRA"
          ],
          [
           "RECOMPRA"
          ],
          [
           "RECOMPRA"
          ],
          [
           "RECOMPRA"
          ],
          [
           "RECOMPRA"
          ],
          [
           "RECOMPRA"
          ],
          [
           "RECOMPRA"
          ],
          [
           "RECOMPRA"
          ],
          [
           "CLIENTE NOVO"
          ],
          [
           "RECOMPRA"
          ],
          [
           "RECOMPRA"
          ],
          [
           "CLIENTE NOVO"
          ],
          [
           "CLIENTE NOVO"
          ],
          [
           "RECOMPRA"
          ],
          [
           "CLIENTE NOVO"
          ],
          [
           "RECOMPRA"
          ],
          [
           "RECOMPRA"
          ],
          [
           "CLIENTE NOVO"
          ],
          [
           "RECOMPRA"
          ],
          [
           "CLIENTE NOVO"
          ],
          [
           "RECOMPRA"
          ],
          [
           "RECOMPRA"
          ],
          [
           "RECOMPRA"
          ],
          [
           "RECOMPRA"
          ],
          [
           "RECOMPRA"
          ],
          [
           "CLIENTE NOVO"
          ],
          [
           "CLIENTE NOVO"
          ],
          [
           "CLIENTE NOVO"
          ],
          [
           "RECOMPRA"
          ],
          [
           "RECOMPRA"
          ],
          [
           "RECOMPRA"
          ],
          [
           "RECOMPRA"
          ],
          [
           "CLIENTE NOVO"
          ],
          [
           "CLIENTE NOVO"
          ],
          [
           "RECOMPRA"
          ],
          [
           "RECOMPRA"
          ],
          [
           "RECOMPRA"
          ],
          [
           "RECOMPRA"
          ],
          [
           "CLIENTE NOVO"
          ],
          [
           "CLIENTE NOVO"
          ],
          [
           "RECOMPRA"
          ],
          [
           "RECOMPRA"
          ],
          [
           "CLIENTE NOVO"
          ],
          [
           "CLIENTE NOVO"
          ],
          [
           "CLIENTE NOVO"
          ],
          [
           "RECOMPRA"
          ],
          [
           "RECOMPRA"
          ],
          [
           "CLIENTE NOVO"
          ],
          [
           "RECOMPRA"
          ],
          [
           "CLIENTE NOVO"
          ],
          [
           "CLIENTE NOVO"
          ],
          [
           "RECOMPRA"
          ],
          [
           "RECOMPRA"
          ],
          [
           "CLIENTE NOVO"
          ],
          [
           "RECOMPRA"
          ],
          [
           "RECOMPRA"
          ],
          [
           "RECOMPRA"
          ],
          [
           "RECOMPRA"
          ],
          [
           "RECOMPRA"
          ],
          [
           "RECOMPRA"
          ],
          [
           "CLIENTE NOVO"
          ],
          [
           "CLIENTE NOVO"
          ],
          [
           "RECOMPRA"
          ],
          [
           "CLIENTE NOVO"
          ],
          [
           "CLIENTE NOVO"
          ],
          [
           "CLIENTE NOVO"
          ],
          [
           "RECOMPRA"
          ],
          [
           "RECOMPRA"
          ],
          [
           "CLIENTE NOVO"
          ],
          [
           "CLIENTE NOVO"
          ],
          [
           "RECOMPRA"
          ],
          [
           "RECOMPRA"
          ],
          [
           "RECOMPRA"
          ],
          [
           "RECOMPRA"
          ],
          [
           "RECOMPRA"
          ],
          [
           "CLIENTE NOVO"
          ],
          [
           "CLIENTE NOVO"
          ],
          [
           "RECOMPRA"
          ],
          [
           "CLIENTE NOVO"
          ],
          [
           "CLIENTE NOVO"
          ],
          [
           "CLIENTE NOVO"
          ],
          [
           "RECOMPRA"
          ],
          [
           "CLIENTE NOVO"
          ],
          [
           "RECOMPRA"
          ],
          [
           "RECOMPRA"
          ],
          [
           "CLIENTE NOVO"
          ],
          [
           "RECOMPRA"
          ],
          [
           "RECOMPRA"
          ],
          [
           "CLIENTE NOVO"
          ],
          [
           "CLIENTE NOVO"
          ],
          [
           "RECOMPRA"
          ],
          [
           "RECOMPRA"
          ],
          [
           "RECOMPRA"
          ],
          [
           "CLIENTE NOVO"
          ],
          [
           "RECOMPRA"
          ],
          [
           "CLIENTE NOVO"
          ],
          [
           "RECOMPRA"
          ],
          [
           "RECOMPRA"
          ],
          [
           "RECOMPRA"
          ],
          [
           "RECOMPRA"
          ],
          [
           "CLIENTE NOVO"
          ],
          [
           "RECOMPRA"
          ],
          [
           "CLIENTE NOVO"
          ],
          [
           "RECOMPRA"
          ],
          [
           "RECOMPRA"
          ],
          [
           "CLIENTE NOVO"
          ],
          [
           "RECOMPRA"
          ],
          [
           "RECOMPRA"
          ],
          [
           "CLIENTE NOVO"
          ],
          [
           "CLIENTE NOVO"
          ],
          [
           "CLIENTE NOVO"
          ],
          [
           "RECOMPRA"
          ],
          [
           "CLIENTE NOVO"
          ],
          [
           "RECOMPRA"
          ],
          [
           "CLIENTE NOVO"
          ],
          [
           "CLIENTE NOVO"
          ],
          [
           "CLIENTE NOVO"
          ],
          [
           "CLIENTE NOVO"
          ],
          [
           "RECOMPRA"
          ],
          [
           "RECOMPRA"
          ],
          [
           "CLIENTE NOVO"
          ],
          [
           "RECOMPRA"
          ],
          [
           "RECOMPRA"
          ],
          [
           "RECOMPRA"
          ],
          [
           "CLIENTE NOVO"
          ],
          [
           "CLIENTE NOVO"
          ],
          [
           "CLIENTE NOVO"
          ],
          [
           "RECOMPRA"
          ],
          [
           "CLIENTE NOVO"
          ],
          [
           "CLIENTE NOVO"
          ],
          [
           "CLIENTE NOVO"
          ],
          [
           "CLIENTE NOVO"
          ],
          [
           "RECOMPRA"
          ],
          [
           "CLIENTE NOVO"
          ],
          [
           "RECOMPRA"
          ],
          [
           "RECOMPRA"
          ],
          [
           "RECOMPRA"
          ],
          [
           "RECOMPRA"
          ],
          [
           "RECOMPRA"
          ],
          [
           "RECOMPRA"
          ],
          [
           "RECOMPRA"
          ],
          [
           "RECOMPRA"
          ],
          [
           "CLIENTE NOVO"
          ],
          [
           "CLIENTE NOVO"
          ],
          [
           "CLIENTE NOVO"
          ],
          [
           "CLIENTE NOVO"
          ],
          [
           "CLIENTE NOVO"
          ],
          [
           "CLIENTE NOVO"
          ],
          [
           "CLIENTE NOVO"
          ],
          [
           "CLIENTE NOVO"
          ],
          [
           "CLIENTE NOVO"
          ],
          [
           "CLIENTE NOVO"
          ],
          [
           "RECOMPRA"
          ],
          [
           "CLIENTE NOVO"
          ],
          [
           "CLIENTE NOVO"
          ],
          [
           "CLIENTE NOVO"
          ],
          [
           "RECOMPRA"
          ],
          [
           "RECOMPRA"
          ],
          [
           "RECOMPRA"
          ],
          [
           "CLIENTE NOVO"
          ],
          [
           "RECOMPRA"
          ],
          [
           "CLIENTE NOVO"
          ],
          [
           "CLIENTE NOVO"
          ],
          [
           "CLIENTE NOVO"
          ],
          [
           "CLIENTE NOVO"
          ],
          [
           "CLIENTE NOVO"
          ],
          [
           "RECOMPRA"
          ],
          [
           "CLIENTE NOVO"
          ],
          [
           "RECOMPRA"
          ],
          [
           "RECOMPRA"
          ],
          [
           "CLIENTE NOVO"
          ],
          [
           "CLIENTE NOVO"
          ],
          [
           "CLIENTE NOVO"
          ],
          [
           "RECOMPRA"
          ],
          [
           "CLIENTE NOVO"
          ],
          [
           "RECOMPRA"
          ],
          [
           "RECOMPRA"
          ],
          [
           "CLIENTE NOVO"
          ],
          [
           "RECOMPRA"
          ],
          [
           "CLIENTE NOVO"
          ],
          [
           "CLIENTE NOVO"
          ],
          [
           "CLIENTE NOVO"
          ],
          [
           "RECOMPRA"
          ],
          [
           "CLIENTE NOVO"
          ],
          [
           "CLIENTE NOVO"
          ],
          [
           "CLIENTE NOVO"
          ],
          [
           "CLIENTE NOVO"
          ],
          [
           "CLIENTE NOVO"
          ],
          [
           "CLIENTE NOVO"
          ],
          [
           "RECOMPRA"
          ],
          [
           "CLIENTE NOVO"
          ],
          [
           "RECOMPRA"
          ],
          [
           "RECOMPRA"
          ],
          [
           "CLIENTE NOVO"
          ],
          [
           "CLIENTE NOVO"
          ],
          [
           "RECOMPRA"
          ],
          [
           "CLIENTE NOVO"
          ],
          [
           "RECOMPRA"
          ],
          [
           "RECOMPRA"
          ],
          [
           "RECOMPRA"
          ],
          [
           "RECOMPRA"
          ],
          [
           "CLIENTE NOVO"
          ],
          [
           "CLIENTE NOVO"
          ],
          [
           "CLIENTE NOVO"
          ],
          [
           "RECOMPRA"
          ],
          [
           "CLIENTE NOVO"
          ],
          [
           "RECOMPRA"
          ],
          [
           "CLIENTE NOVO"
          ],
          [
           "CLIENTE NOVO"
          ],
          [
           "RECOMPRA"
          ],
          [
           "CLIENTE NOVO"
          ],
          [
           "RECOMPRA"
          ],
          [
           "RECOMPRA"
          ],
          [
           "CLIENTE NOVO"
          ],
          [
           "CLIENTE NOVO"
          ],
          [
           "CLIENTE NOVO"
          ],
          [
           "RECOMPRA"
          ],
          [
           "RECOMPRA"
          ],
          [
           "RECOMPRA"
          ],
          [
           "CLIENTE NOVO"
          ],
          [
           "CLIENTE NOVO"
          ],
          [
           "CLIENTE NOVO"
          ],
          [
           "CLIENTE NOVO"
          ],
          [
           "CLIENTE NOVO"
          ],
          [
           "CLIENTE NOVO"
          ],
          [
           "RECOMPRA"
          ],
          [
           "CLIENTE NOVO"
          ],
          [
           "RECOMPRA"
          ],
          [
           "RECOMPRA"
          ],
          [
           "CLIENTE NOVO"
          ],
          [
           "RECOMPRA"
          ],
          [
           "RECOMPRA"
          ],
          [
           "RECOMPRA"
          ],
          [
           "RECOMPRA"
          ],
          [
           "CLIENTE NOVO"
          ],
          [
           "CLIENTE NOVO"
          ],
          [
           "CLIENTE NOVO"
          ],
          [
           "CLIENTE NOVO"
          ],
          [
           "RECOMPRA"
          ],
          [
           "RECOMPRA"
          ],
          [
           "CLIENTE NOVO"
          ],
          [
           "RECOMPRA"
          ],
          [
           "RECOMPRA"
          ],
          [
           "CLIENTE NOVO"
          ],
          [
           "CLIENTE NOVO"
          ],
          [
           "CLIENTE NOVO"
          ],
          [
           "CLIENTE NOVO"
          ],
          [
           "CLIENTE NOVO"
          ],
          [
           "RECOMPRA"
          ],
          [
           "CLIENTE NOVO"
          ],
          [
           "CLIENTE NOVO"
          ],
          [
           "CLIENTE NOVO"
          ],
          [
           "CLIENTE NOVO"
          ],
          [
           "RECOMPRA"
          ],
          [
           "CLIENTE NOVO"
          ],
          [
           "CLIENTE NOVO"
          ],
          [
           "RECOMPRA"
          ],
          [
           "RECOMPRA"
          ],
          [
           "RECOMPRA"
          ],
          [
           "RECOMPRA"
          ],
          [
           "RECOMPRA"
          ],
          [
           "RECOMPRA"
          ],
          [
           "CLIENTE NOVO"
          ],
          [
           "RECOMPRA"
          ],
          [
           "RECOMPRA"
          ],
          [
           "CLIENTE NOVO"
          ],
          [
           "RECOMPRA"
          ],
          [
           "RECOMPRA"
          ],
          [
           "CLIENTE NOVO"
          ],
          [
           "CLIENTE NOVO"
          ],
          [
           "CLIENTE NOVO"
          ],
          [
           "RECOMPRA"
          ],
          [
           "CLIENTE NOVO"
          ],
          [
           "CLIENTE NOVO"
          ],
          [
           "CLIENTE NOVO"
          ],
          [
           "CLIENTE NOVO"
          ],
          [
           "CLIENTE NOVO"
          ],
          [
           "CLIENTE NOVO"
          ],
          [
           "RECOMPRA"
          ],
          [
           "RECOMPRA"
          ],
          [
           "RECOMPRA"
          ],
          [
           "CLIENTE NOVO"
          ],
          [
           "RECOMPRA"
          ],
          [
           "CLIENTE NOVO"
          ],
          [
           "RECOMPRA"
          ],
          [
           "RECOMPRA"
          ],
          [
           "CLIENTE NOVO"
          ],
          [
           "RECOMPRA"
          ],
          [
           "CLIENTE NOVO"
          ],
          [
           "CLIENTE NOVO"
          ],
          [
           "RECOMPRA"
          ],
          [
           "RECOMPRA"
          ],
          [
           "CLIENTE NOVO"
          ],
          [
           "CLIENTE NOVO"
          ],
          [
           "CLIENTE NOVO"
          ],
          [
           "RECOMPRA"
          ],
          [
           "CLIENTE NOVO"
          ],
          [
           "CLIENTE NOVO"
          ],
          [
           "CLIENTE NOVO"
          ],
          [
           "RECOMPRA"
          ],
          [
           "CLIENTE NOVO"
          ],
          [
           "RECOMPRA"
          ],
          [
           "CLIENTE NOVO"
          ],
          [
           "CLIENTE NOVO"
          ],
          [
           "RECOMPRA"
          ],
          [
           "CLIENTE NOVO"
          ],
          [
           "CLIENTE NOVO"
          ],
          [
           "RECOMPRA"
          ],
          [
           "RECOMPRA"
          ],
          [
           "RECOMPRA"
          ],
          [
           "RECOMPRA"
          ],
          [
           "RECOMPRA"
          ],
          [
           "RECOMPRA"
          ],
          [
           "CLIENTE NOVO"
          ],
          [
           "RECOMPRA"
          ],
          [
           "RECOMPRA"
          ],
          [
           "RECOMPRA"
          ],
          [
           "CLIENTE NOVO"
          ],
          [
           "RECOMPRA"
          ],
          [
           "CLIENTE NOVO"
          ],
          [
           "CLIENTE NOVO"
          ],
          [
           "CLIENTE NOVO"
          ],
          [
           "CLIENTE NOVO"
          ],
          [
           "CLIENTE NOVO"
          ],
          [
           "CLIENTE NOVO"
          ],
          [
           "CLIENTE NOVO"
          ],
          [
           "CLIENTE NOVO"
          ],
          [
           "CLIENTE NOVO"
          ],
          [
           "RECOMPRA"
          ],
          [
           "CLIENTE NOVO"
          ],
          [
           "CLIENTE NOVO"
          ],
          [
           "RECOMPRA"
          ],
          [
           "RECOMPRA"
          ],
          [
           "CLIENTE NOVO"
          ],
          [
           "RECOMPRA"
          ],
          [
           "RECOMPRA"
          ],
          [
           "CLIENTE NOVO"
          ],
          [
           "CLIENTE NOVO"
          ],
          [
           "CLIENTE NOVO"
          ],
          [
           "RECOMPRA"
          ],
          [
           "CLIENTE NOVO"
          ],
          [
           "CLIENTE NOVO"
          ],
          [
           "CLIENTE NOVO"
          ],
          [
           "CLIENTE NOVO"
          ],
          [
           "RECOMPRA"
          ],
          [
           "CLIENTE NOVO"
          ],
          [
           "RECOMPRA"
          ],
          [
           "RECOMPRA"
          ],
          [
           "CLIENTE NOVO"
          ],
          [
           "CLIENTE NOVO"
          ],
          [
           "CLIENTE NOVO"
          ],
          [
           "RECOMPRA"
          ],
          [
           "CLIENTE NOVO"
          ],
          [
           "CLIENTE NOVO"
          ],
          [
           "CLIENTE NOVO"
          ],
          [
           "RECOMPRA"
          ],
          [
           "RECOMPRA"
          ],
          [
           "CLIENTE NOVO"
          ],
          [
           "RECOMPRA"
          ],
          [
           "RECOMPRA"
          ],
          [
           "RECOMPRA"
          ],
          [
           "RECOMPRA"
          ],
          [
           "RECOMPRA"
          ],
          [
           "RECOMPRA"
          ],
          [
           "RECOMPRA"
          ],
          [
           "CLIENTE NOVO"
          ],
          [
           "CLIENTE NOVO"
          ],
          [
           "CLIENTE NOVO"
          ],
          [
           "RECOMPRA"
          ],
          [
           "CLIENTE NOVO"
          ],
          [
           "RECOMPRA"
          ],
          [
           "CLIENTE NOVO"
          ],
          [
           "RECOMPRA"
          ],
          [
           "RECOMPRA"
          ],
          [
           "CLIENTE NOVO"
          ],
          [
           "CLIENTE NOVO"
          ],
          [
           "RECOMPRA"
          ],
          [
           "CLIENTE NOVO"
          ],
          [
           "CLIENTE NOVO"
          ],
          [
           "RECOMPRA"
          ],
          [
           "CLIENTE NOVO"
          ],
          [
           "CLIENTE NOVO"
          ],
          [
           "RECOMPRA"
          ],
          [
           "RECOMPRA"
          ],
          [
           "RECOMPRA"
          ],
          [
           "CLIENTE NOVO"
          ],
          [
           "CLIENTE NOVO"
          ],
          [
           "RECOMPRA"
          ],
          [
           "RECOMPRA"
          ],
          [
           "RECOMPRA"
          ],
          [
           "CLIENTE NOVO"
          ],
          [
           "RECOMPRA"
          ],
          [
           "CLIENTE NOVO"
          ],
          [
           "CLIENTE NOVO"
          ],
          [
           "CLIENTE NOVO"
          ],
          [
           "CLIENTE NOVO"
          ],
          [
           "RECOMPRA"
          ],
          [
           "CLIENTE NOVO"
          ],
          [
           "CLIENTE NOVO"
          ],
          [
           "CLIENTE NOVO"
          ],
          [
           "CLIENTE NOVO"
          ],
          [
           "CLIENTE NOVO"
          ],
          [
           "CLIENTE NOVO"
          ],
          [
           "CLIENTE NOVO"
          ],
          [
           "CLIENTE NOVO"
          ],
          [
           "RECOMPRA"
          ],
          [
           "RECOMPRA"
          ],
          [
           "RECOMPRA"
          ],
          [
           "RECOMPRA"
          ],
          [
           "CLIENTE NOVO"
          ],
          [
           "CLIENTE NOVO"
          ],
          [
           "RECOMPRA"
          ],
          [
           "RECOMPRA"
          ],
          [
           "RECOMPRA"
          ],
          [
           "RECOMPRA"
          ],
          [
           "RECOMPRA"
          ],
          [
           "CLIENTE NOVO"
          ],
          [
           "CLIENTE NOVO"
          ],
          [
           "CLIENTE NOVO"
          ],
          [
           "RECOMPRA"
          ],
          [
           "CLIENTE NOVO"
          ],
          [
           "RECOMPRA"
          ],
          [
           "CLIENTE NOVO"
          ],
          [
           "CLIENTE NOVO"
          ],
          [
           "RECOMPRA"
          ],
          [
           "RECOMPRA"
          ],
          [
           "CLIENTE NOVO"
          ],
          [
           "CLIENTE NOVO"
          ],
          [
           "RECOMPRA"
          ],
          [
           "CLIENTE NOVO"
          ],
          [
           "CLIENTE NOVO"
          ],
          [
           "RECOMPRA"
          ],
          [
           "RECOMPRA"
          ],
          [
           "RECOMPRA"
          ],
          [
           "CLIENTE NOVO"
          ],
          [
           "RECOMPRA"
          ],
          [
           "RECOMPRA"
          ],
          [
           "RECOMPRA"
          ],
          [
           "RECOMPRA"
          ],
          [
           "CLIENTE NOVO"
          ],
          [
           "RECOMPRA"
          ],
          [
           "CLIENTE NOVO"
          ],
          [
           "CLIENTE NOVO"
          ],
          [
           "CLIENTE NOVO"
          ],
          [
           "CLIENTE NOVO"
          ],
          [
           "RECOMPRA"
          ],
          [
           "CLIENTE NOVO"
          ],
          [
           "CLIENTE NOVO"
          ],
          [
           "CLIENTE NOVO"
          ],
          [
           "CLIENTE NOVO"
          ],
          [
           "RECOMPRA"
          ],
          [
           "CLIENTE NOVO"
          ],
          [
           "CLIENTE NOVO"
          ],
          [
           "CLIENTE NOVO"
          ],
          [
           "CLIENTE NOVO"
          ],
          [
           "RECOMPRA"
          ],
          [
           "RECOMPRA"
          ],
          [
           "RECOMPRA"
          ],
          [
           "CLIENTE NOVO"
          ],
          [
           "RECOMPRA"
          ],
          [
           "RECOMPRA"
          ],
          [
           "CLIENTE NOVO"
          ],
          [
           "RECOMPRA"
          ],
          [
           "RECOMPRA"
          ],
          [
           "CLIENTE NOVO"
          ],
          [
           "CLIENTE NOVO"
          ],
          [
           "RECOMPRA"
          ],
          [
           "CLIENTE NOVO"
          ],
          [
           "RECOMPRA"
          ],
          [
           "RECOMPRA"
          ],
          [
           "CLIENTE NOVO"
          ],
          [
           "CLIENTE NOVO"
          ],
          [
           "RECOMPRA"
          ],
          [
           "RECOMPRA"
          ],
          [
           "CLIENTE NOVO"
          ],
          [
           "RECOMPRA"
          ],
          [
           "RECOMPRA"
          ],
          [
           "CLIENTE NOVO"
          ],
          [
           "CLIENTE NOVO"
          ],
          [
           "CLIENTE NOVO"
          ],
          [
           "CLIENTE NOVO"
          ],
          [
           "CLIENTE NOVO"
          ],
          [
           "CLIENTE NOVO"
          ],
          [
           "RECOMPRA"
          ],
          [
           "CLIENTE NOVO"
          ],
          [
           "CLIENTE NOVO"
          ],
          [
           "RECOMPRA"
          ],
          [
           "RECOMPRA"
          ],
          [
           "RECOMPRA"
          ],
          [
           "CLIENTE NOVO"
          ],
          [
           "CLIENTE NOVO"
          ],
          [
           "CLIENTE NOVO"
          ],
          [
           "RECOMPRA"
          ],
          [
           "RECOMPRA"
          ],
          [
           "RECOMPRA"
          ],
          [
           "RECOMPRA"
          ],
          [
           "RECOMPRA"
          ],
          [
           "RECOMPRA"
          ],
          [
           "CLIENTE NOVO"
          ],
          [
           "CLIENTE NOVO"
          ],
          [
           "RECOMPRA"
          ],
          [
           "CLIENTE NOVO"
          ],
          [
           "RECOMPRA"
          ],
          [
           "CLIENTE NOVO"
          ],
          [
           "CLIENTE NOVO"
          ],
          [
           "CLIENTE NOVO"
          ],
          [
           "RECOMPRA"
          ],
          [
           "RECOMPRA"
          ],
          [
           "CLIENTE NOVO"
          ],
          [
           "CLIENTE NOVO"
          ],
          [
           "RECOMPRA"
          ],
          [
           "RECOMPRA"
          ],
          [
           "RECOMPRA"
          ],
          [
           "RECOMPRA"
          ],
          [
           "RECOMPRA"
          ],
          [
           "CLIENTE NOVO"
          ],
          [
           "CLIENTE NOVO"
          ],
          [
           "CLIENTE NOVO"
          ],
          [
           "CLIENTE NOVO"
          ],
          [
           "CLIENTE NOVO"
          ],
          [
           "RECOMPRA"
          ],
          [
           "CLIENTE NOVO"
          ],
          [
           "CLIENTE NOVO"
          ],
          [
           "CLIENTE NOVO"
          ],
          [
           "CLIENTE NOVO"
          ],
          [
           "CLIENTE NOVO"
          ],
          [
           "CLIENTE NOVO"
          ],
          [
           "CLIENTE NOVO"
          ],
          [
           "CLIENTE NOVO"
          ],
          [
           "RECOMPRA"
          ],
          [
           "CLIENTE NOVO"
          ],
          [
           "RECOMPRA"
          ],
          [
           "RECOMPRA"
          ],
          [
           "RECOMPRA"
          ],
          [
           "RECOMPRA"
          ],
          [
           "RECOMPRA"
          ],
          [
           "CLIENTE NOVO"
          ],
          [
           "CLIENTE NOVO"
          ],
          [
           "CLIENTE NOVO"
          ],
          [
           "RECOMPRA"
          ],
          [
           "CLIENTE NOVO"
          ],
          [
           "CLIENTE NOVO"
          ],
          [
           "CLIENTE NOVO"
          ],
          [
           "CLIENTE NOVO"
          ],
          [
           "RECOMPRA"
          ],
          [
           "RECOMPRA"
          ],
          [
           "CLIENTE NOVO"
          ],
          [
           "RECOMPRA"
          ],
          [
           "CLIENTE NOVO"
          ],
          [
           "CLIENTE NOVO"
          ],
          [
           "CLIENTE NOVO"
          ],
          [
           "CLIENTE NOVO"
          ],
          [
           "CLIENTE NOVO"
          ],
          [
           "CLIENTE NOVO"
          ],
          [
           "CLIENTE NOVO"
          ],
          [
           "CLIENTE NOVO"
          ],
          [
           "CLIENTE NOVO"
          ],
          [
           "CLIENTE NOVO"
          ],
          [
           "RECOMPRA"
          ],
          [
           "CLIENTE NOVO"
          ],
          [
           "CLIENTE NOVO"
          ],
          [
           "CLIENTE NOVO"
          ],
          [
           "CLIENTE NOVO"
          ],
          [
           "CLIENTE NOVO"
          ],
          [
           "RECOMPRA"
          ],
          [
           "CLIENTE NOVO"
          ],
          [
           "CLIENTE NOVO"
          ],
          [
           "CLIENTE NOVO"
          ],
          [
           "CLIENTE NOVO"
          ],
          [
           "CLIENTE NOVO"
          ],
          [
           "CLIENTE NOVO"
          ],
          [
           "CLIENTE NOVO"
          ],
          [
           "CLIENTE NOVO"
          ],
          [
           "CLIENTE NOVO"
          ],
          [
           "RECOMPRA"
          ],
          [
           "RECOMPRA"
          ],
          [
           "CLIENTE NOVO"
          ],
          [
           "CLIENTE NOVO"
          ],
          [
           "CLIENTE NOVO"
          ],
          [
           "CLIENTE NOVO"
          ],
          [
           "CLIENTE NOVO"
          ],
          [
           "CLIENTE NOVO"
          ],
          [
           "RECOMPRA"
          ],
          [
           "CLIENTE NOVO"
          ],
          [
           "CLIENTE NOVO"
          ],
          [
           "CLIENTE NOVO"
          ],
          [
           "CLIENTE NOVO"
          ],
          [
           "CLIENTE NOVO"
          ],
          [
           "CLIENTE NOVO"
          ],
          [
           "CLIENTE NOVO"
          ],
          [
           "CLIENTE NOVO"
          ],
          [
           "CLIENTE NOVO"
          ],
          [
           "CLIENTE NOVO"
          ],
          [
           "CLIENTE NOVO"
          ],
          [
           "CLIENTE NOVO"
          ],
          [
           "RECOMPRA"
          ],
          [
           "CLIENTE NOVO"
          ],
          [
           "CLIENTE NOVO"
          ],
          [
           "RECOMPRA"
          ],
          [
           "CLIENTE NOVO"
          ],
          [
           "RECOMPRA"
          ],
          [
           "CLIENTE NOVO"
          ],
          [
           "CLIENTE NOVO"
          ],
          [
           "CLIENTE NOVO"
          ],
          [
           "RECOMPRA"
          ],
          [
           "CLIENTE NOVO"
          ],
          [
           "CLIENTE NOVO"
          ],
          [
           "CLIENTE NOVO"
          ],
          [
           "CLIENTE NOVO"
          ],
          [
           "RECOMPRA"
          ],
          [
           "CLIENTE NOVO"
          ],
          [
           "CLIENTE NOVO"
          ],
          [
           "CLIENTE NOVO"
          ],
          [
           "CLIENTE NOVO"
          ],
          [
           "CLIENTE NOVO"
          ],
          [
           "RECOMPRA"
          ],
          [
           "RECOMPRA"
          ],
          [
           "CLIENTE NOVO"
          ],
          [
           "RECOMPRA"
          ],
          [
           "RECOMPRA"
          ],
          [
           "RECOMPRA"
          ],
          [
           "RECOMPRA"
          ],
          [
           "CLIENTE NOVO"
          ],
          [
           "CLIENTE NOVO"
          ],
          [
           "CLIENTE NOVO"
          ],
          [
           "RECOMPRA"
          ],
          [
           "CLIENTE NOVO"
          ],
          [
           "CLIENTE NOVO"
          ],
          [
           "CLIENTE NOVO"
          ],
          [
           "CLIENTE NOVO"
          ],
          [
           "CLIENTE NOVO"
          ],
          [
           "CLIENTE NOVO"
          ],
          [
           "RECOMPRA"
          ],
          [
           "RECOMPRA"
          ],
          [
           "RECOMPRA"
          ],
          [
           "RECOMPRA"
          ],
          [
           "RECOMPRA"
          ],
          [
           "CLIENTE NOVO"
          ],
          [
           "CLIENTE NOVO"
          ],
          [
           "CLIENTE NOVO"
          ],
          [
           "CLIENTE NOVO"
          ],
          [
           "CLIENTE NOVO"
          ],
          [
           "CLIENTE NOVO"
          ],
          [
           "CLIENTE NOVO"
          ],
          [
           "CLIENTE NOVO"
          ],
          [
           "CLIENTE NOVO"
          ],
          [
           "RECOMPRA"
          ],
          [
           "CLIENTE NOVO"
          ],
          [
           "CLIENTE NOVO"
          ],
          [
           "CLIENTE NOVO"
          ],
          [
           "RECOMPRA"
          ],
          [
           "RECOMPRA"
          ],
          [
           "CLIENTE NOVO"
          ],
          [
           "RECOMPRA"
          ],
          [
           "CLIENTE NOVO"
          ],
          [
           "CLIENTE NOVO"
          ],
          [
           "RECOMPRA"
          ],
          [
           "RECOMPRA"
          ],
          [
           "CLIENTE NOVO"
          ],
          [
           "CLIENTE NOVO"
          ],
          [
           "CLIENTE NOVO"
          ],
          [
           "CLIENTE NOVO"
          ],
          [
           "RECOMPRA"
          ],
          [
           "CLIENTE NOVO"
          ],
          [
           "CLIENTE NOVO"
          ],
          [
           "CLIENTE NOVO"
          ],
          [
           "CLIENTE NOVO"
          ],
          [
           "CLIENTE NOVO"
          ],
          [
           "RECOMPRA"
          ],
          [
           "CLIENTE NOVO"
          ],
          [
           "RECOMPRA"
          ],
          [
           "CLIENTE NOVO"
          ],
          [
           "CLIENTE NOVO"
          ],
          [
           "RECOMPRA"
          ],
          [
           "RECOMPRA"
          ],
          [
           "CLIENTE NOVO"
          ],
          [
           "CLIENTE NOVO"
          ],
          [
           "CLIENTE NOVO"
          ],
          [
           "CLIENTE NOVO"
          ],
          [
           "CLIENTE NOVO"
          ],
          [
           "RECOMPRA"
          ],
          [
           "RECOMPRA"
          ],
          [
           "CLIENTE NOVO"
          ],
          [
           "RECOMPRA"
          ],
          [
           "RECOMPRA"
          ],
          [
           "CLIENTE NOVO"
          ],
          [
           "RECOMPRA"
          ],
          [
           "CLIENTE NOVO"
          ],
          [
           "CLIENTE NOVO"
          ],
          [
           "CLIENTE NOVO"
          ],
          [
           "RECOMPRA"
          ],
          [
           "RECOMPRA"
          ],
          [
           "RECOMPRA"
          ],
          [
           "RECOMPRA"
          ],
          [
           "RECOMPRA"
          ],
          [
           "RECOMPRA"
          ],
          [
           "CLIENTE NOVO"
          ],
          [
           "CLIENTE NOVO"
          ],
          [
           "CLIENTE NOVO"
          ],
          [
           "CLIENTE NOVO"
          ],
          [
           "CLIENTE NOVO"
          ],
          [
           "CLIENTE NOVO"
          ],
          [
           "CLIENTE NOVO"
          ],
          [
           "RECOMPRA"
          ],
          [
           "RECOMPRA"
          ],
          [
           "CLIENTE NOVO"
          ],
          [
           "RECOMPRA"
          ],
          [
           "RECOMPRA"
          ],
          [
           "CLIENTE NOVO"
          ],
          [
           "RECOMPRA"
          ],
          [
           "RECOMPRA"
          ],
          [
           "RECOMPRA"
          ],
          [
           "RECOMPRA"
          ],
          [
           "CLIENTE NOVO"
          ],
          [
           "RECOMPRA"
          ],
          [
           "RECOMPRA"
          ],
          [
           "CLIENTE NOVO"
          ],
          [
           "CLIENTE NOVO"
          ],
          [
           "RECOMPRA"
          ],
          [
           "RECOMPRA"
          ],
          [
           "RECOMPRA"
          ],
          [
           "RECOMPRA"
          ],
          [
           "RECOMPRA"
          ],
          [
           "CLIENTE NOVO"
          ],
          [
           "CLIENTE NOVO"
          ],
          [
           "RECOMPRA"
          ],
          [
           "CLIENTE NOVO"
          ],
          [
           "CLIENTE NOVO"
          ],
          [
           "CLIENTE NOVO"
          ],
          [
           "CLIENTE NOVO"
          ],
          [
           "RECOMPRA"
          ],
          [
           "RECOMPRA"
          ],
          [
           "RECOMPRA"
          ],
          [
           "RECOMPRA"
          ],
          [
           "RECOMPRA"
          ],
          [
           "CLIENTE NOVO"
          ],
          [
           "CLIENTE NOVO"
          ],
          [
           "RECOMPRA"
          ],
          [
           "RECOMPRA"
          ],
          [
           "RECOMPRA"
          ],
          [
           "CLIENTE NOVO"
          ],
          [
           "CLIENTE NOVO"
          ],
          [
           "RECOMPRA"
          ],
          [
           "RECOMPRA"
          ],
          [
           "RECOMPRA"
          ],
          [
           "RECOMPRA"
          ],
          [
           "RECOMPRA"
          ],
          [
           "RECOMPRA"
          ],
          [
           "CLIENTE NOVO"
          ],
          [
           "CLIENTE NOVO"
          ],
          [
           "CLIENTE NOVO"
          ],
          [
           "CLIENTE NOVO"
          ],
          [
           "CLIENTE NOVO"
          ],
          [
           "RECOMPRA"
          ],
          [
           "CLIENTE NOVO"
          ],
          [
           "RECOMPRA"
          ],
          [
           "CLIENTE NOVO"
          ],
          [
           "CLIENTE NOVO"
          ],
          [
           "CLIENTE NOVO"
          ],
          [
           "CLIENTE NOVO"
          ],
          [
           "CLIENTE NOVO"
          ],
          [
           "CLIENTE NOVO"
          ],
          [
           "RECOMPRA"
          ],
          [
           "CLIENTE NOVO"
          ],
          [
           "CLIENTE NOVO"
          ],
          [
           "CLIENTE NOVO"
          ],
          [
           "CLIENTE NOVO"
          ],
          [
           "CLIENTE NOVO"
          ],
          [
           "CLIENTE NOVO"
          ],
          [
           "CLIENTE NOVO"
          ],
          [
           "RECOMPRA"
          ],
          [
           "CLIENTE NOVO"
          ],
          [
           "RECOMPRA"
          ],
          [
           "CLIENTE NOVO"
          ],
          [
           "CLIENTE NOVO"
          ],
          [
           "CLIENTE NOVO"
          ],
          [
           "RECOMPRA"
          ],
          [
           "CLIENTE NOVO"
          ],
          [
           "RECOMPRA"
          ],
          [
           "RECOMPRA"
          ],
          [
           "RECOMPRA"
          ],
          [
           "RECOMPRA"
          ],
          [
           "RECOMPRA"
          ],
          [
           "CLIENTE NOVO"
          ],
          [
           "CLIENTE NOVO"
          ],
          [
           "CLIENTE NOVO"
          ],
          [
           "RECOMPRA"
          ],
          [
           "RECOMPRA"
          ],
          [
           "RECOMPRA"
          ],
          [
           "CLIENTE NOVO"
          ],
          [
           "CLIENTE NOVO"
          ],
          [
           "RECOMPRA"
          ],
          [
           "CLIENTE NOVO"
          ],
          [
           "CLIENTE NOVO"
          ],
          [
           "RECOMPRA"
          ],
          [
           "CLIENTE NOVO"
          ],
          [
           "RECOMPRA"
          ],
          [
           "RECOMPRA"
          ],
          [
           "RECOMPRA"
          ],
          [
           "CLIENTE NOVO"
          ],
          [
           "CLIENTE NOVO"
          ],
          [
           "CLIENTE NOVO"
          ],
          [
           "CLIENTE NOVO"
          ],
          [
           "RECOMPRA"
          ],
          [
           "CLIENTE NOVO"
          ],
          [
           "CLIENTE NOVO"
          ],
          [
           "RECOMPRA"
          ],
          [
           "CLIENTE NOVO"
          ],
          [
           "RECOMPRA"
          ],
          [
           "CLIENTE NOVO"
          ],
          [
           "CLIENTE NOVO"
          ],
          [
           "CLIENTE NOVO"
          ],
          [
           "CLIENTE NOVO"
          ],
          [
           "RECOMPRA"
          ],
          [
           "RECOMPRA"
          ],
          [
           "CLIENTE NOVO"
          ],
          [
           "CLIENTE NOVO"
          ],
          [
           "RECOMPRA"
          ],
          [
           "CLIENTE NOVO"
          ],
          [
           "RECOMPRA"
          ],
          [
           "RECOMPRA"
          ],
          [
           "RECOMPRA"
          ],
          [
           "CLIENTE NOVO"
          ],
          [
           "CLIENTE NOVO"
          ],
          [
           "RECOMPRA"
          ],
          [
           "RECOMPRA"
          ],
          [
           "CLIENTE NOVO"
          ],
          [
           "CLIENTE NOVO"
          ],
          [
           "CLIENTE NOVO"
          ],
          [
           "RECOMPRA"
          ],
          [
           "CLIENTE NOVO"
          ],
          [
           "CLIENTE NOVO"
          ],
          [
           "CLIENTE NOVO"
          ],
          [
           "CLIENTE NOVO"
          ],
          [
           "CLIENTE NOVO"
          ],
          [
           "RECOMPRA"
          ],
          [
           "CLIENTE NOVO"
          ],
          [
           "RECOMPRA"
          ],
          [
           "CLIENTE NOVO"
          ],
          [
           "CLIENTE NOVO"
          ],
          [
           "RECOMPRA"
          ],
          [
           "CLIENTE NOVO"
          ],
          [
           "CLIENTE NOVO"
          ],
          [
           "CLIENTE NOVO"
          ],
          [
           "CLIENTE NOVO"
          ],
          [
           "CLIENTE NOVO"
          ],
          [
           "CLIENTE NOVO"
          ],
          [
           "RECOMPRA"
          ],
          [
           "RECOMPRA"
          ],
          [
           "CLIENTE NOVO"
          ],
          [
           "CLIENTE NOVO"
          ],
          [
           "CLIENTE NOVO"
          ],
          [
           "RECOMPRA"
          ],
          [
           "RECOMPRA"
          ],
          [
           "RECOMPRA"
          ],
          [
           "RECOMPRA"
          ],
          [
           "RECOMPRA"
          ],
          [
           "CLIENTE NOVO"
          ],
          [
           "CLIENTE NOVO"
          ],
          [
           "CLIENTE NOVO"
          ],
          [
           "CLIENTE NOVO"
          ],
          [
           "CLIENTE NOVO"
          ],
          [
           "RECOMPRA"
          ],
          [
           "RECOMPRA"
          ],
          [
           "CLIENTE NOVO"
          ],
          [
           "CLIENTE NOVO"
          ],
          [
           "RECOMPRA"
          ],
          [
           "CLIENTE NOVO"
          ],
          [
           "RECOMPRA"
          ],
          [
           "CLIENTE NOVO"
          ],
          [
           "RECOMPRA"
          ],
          [
           "RECOMPRA"
          ],
          [
           "CLIENTE NOVO"
          ],
          [
           "CLIENTE NOVO"
          ],
          [
           "CLIENTE NOVO"
          ],
          [
           "CLIENTE NOVO"
          ],
          [
           "RECOMPRA"
          ],
          [
           "CLIENTE NOVO"
          ],
          [
           "RECOMPRA"
          ],
          [
           "RECOMPRA"
          ],
          [
           "CLIENTE NOVO"
          ],
          [
           "RECOMPRA"
          ],
          [
           "CLIENTE NOVO"
          ],
          [
           "RECOMPRA"
          ],
          [
           "RECOMPRA"
          ],
          [
           "CLIENTE NOVO"
          ],
          [
           "CLIENTE NOVO"
          ],
          [
           "CLIENTE NOVO"
          ],
          [
           "CLIENTE NOVO"
          ],
          [
           "RECOMPRA"
          ],
          [
           "RECOMPRA"
          ],
          [
           "CLIENTE NOVO"
          ],
          [
           "CLIENTE NOVO"
          ],
          [
           "CLIENTE NOVO"
          ],
          [
           "RECOMPRA"
          ],
          [
           "CLIENTE NOVO"
          ],
          [
           "RECOMPRA"
          ],
          [
           "RECOMPRA"
          ],
          [
           "CLIENTE NOVO"
          ],
          [
           "RECOMPRA"
          ],
          [
           "RECOMPRA"
          ],
          [
           "RECOMPRA"
          ],
          [
           "RECOMPRA"
          ],
          [
           "RECOMPRA"
          ],
          [
           "RECOMPRA"
          ],
          [
           "RECOMPRA"
          ],
          [
           "CLIENTE NOVO"
          ],
          [
           "CLIENTE NOVO"
          ],
          [
           "CLIENTE NOVO"
          ],
          [
           "RECOMPRA"
          ],
          [
           "CLIENTE NOVO"
          ],
          [
           "CLIENTE NOVO"
          ],
          [
           "CLIENTE NOVO"
          ],
          [
           "RECOMPRA"
          ],
          [
           "CLIENTE NOVO"
          ],
          [
           "CLIENTE NOVO"
          ],
          [
           "CLIENTE NOVO"
          ],
          [
           "RECOMPRA"
          ],
          [
           "CLIENTE NOVO"
          ],
          [
           "CLIENTE NOVO"
          ],
          [
           "CLIENTE NOVO"
          ],
          [
           "RECOMPRA"
          ],
          [
           "CLIENTE NOVO"
          ],
          [
           "RECOMPRA"
          ],
          [
           "CLIENTE NOVO"
          ],
          [
           "CLIENTE NOVO"
          ],
          [
           "CLIENTE NOVO"
          ],
          [
           "CLIENTE NOVO"
          ],
          [
           "CLIENTE NOVO"
          ],
          [
           "CLIENTE NOVO"
          ],
          [
           "CLIENTE NOVO"
          ],
          [
           "CLIENTE NOVO"
          ],
          [
           "CLIENTE NOVO"
          ],
          [
           "CLIENTE NOVO"
          ],
          [
           "CLIENTE NOVO"
          ],
          [
           "RECOMPRA"
          ],
          [
           "CLIENTE NOVO"
          ],
          [
           "CLIENTE NOVO"
          ],
          [
           "RECOMPRA"
          ],
          [
           "CLIENTE NOVO"
          ],
          [
           "CLIENTE NOVO"
          ],
          [
           "CLIENTE NOVO"
          ],
          [
           "RECOMPRA"
          ],
          [
           "RECOMPRA"
          ],
          [
           "RECOMPRA"
          ],
          [
           "RECOMPRA"
          ],
          [
           "CLIENTE NOVO"
          ],
          [
           "RECOMPRA"
          ],
          [
           "CLIENTE NOVO"
          ],
          [
           "CLIENTE NOVO"
          ],
          [
           "CLIENTE NOVO"
          ],
          [
           "RECOMPRA"
          ],
          [
           "RECOMPRA"
          ],
          [
           "CLIENTE NOVO"
          ],
          [
           "RECOMPRA"
          ],
          [
           "CLIENTE NOVO"
          ],
          [
           "CLIENTE NOVO"
          ],
          [
           "CLIENTE NOVO"
          ],
          [
           "CLIENTE NOVO"
          ],
          [
           "CLIENTE NOVO"
          ],
          [
           "RECOMPRA"
          ],
          [
           "CLIENTE NOVO"
          ],
          [
           "RECOMPRA"
          ],
          [
           "CLIENTE NOVO"
          ],
          [
           "RECOMPRA"
          ],
          [
           "RECOMPRA"
          ],
          [
           "CLIENTE NOVO"
          ],
          [
           "RECOMPRA"
          ],
          [
           "RECOMPRA"
          ],
          [
           "CLIENTE NOVO"
          ],
          [
           "RECOMPRA"
          ],
          [
           "RECOMPRA"
          ],
          [
           "RECOMPRA"
          ],
          [
           "CLIENTE NOVO"
          ],
          [
           "RECOMPRA"
          ],
          [
           "CLIENTE NOVO"
          ],
          [
           "CLIENTE NOVO"
          ],
          [
           "CLIENTE NOVO"
          ],
          [
           "CLIENTE NOVO"
          ],
          [
           "CLIENTE NOVO"
          ],
          [
           "CLIENTE NOVO"
          ],
          [
           "CLIENTE NOVO"
          ],
          [
           "CLIENTE NOVO"
          ],
          [
           "CLIENTE NOVO"
          ],
          [
           "CLIENTE NOVO"
          ],
          [
           "CLIENTE NOVO"
          ],
          [
           "CLIENTE NOVO"
          ],
          [
           "CLIENTE NOVO"
          ],
          [
           "RECOMPRA"
          ],
          [
           "RECOMPRA"
          ],
          [
           "RECOMPRA"
          ],
          [
           "RECOMPRA"
          ],
          [
           "CLIENTE NOVO"
          ],
          [
           "RECOMPRA"
          ],
          [
           "CLIENTE NOVO"
          ],
          [
           "CLIENTE NOVO"
          ],
          [
           "RECOMPRA"
          ],
          [
           "RECOMPRA"
          ],
          [
           "CLIENTE NOVO"
          ],
          [
           "CLIENTE NOVO"
          ],
          [
           "RECOMPRA"
          ],
          [
           "RECOMPRA"
          ],
          [
           "RECOMPRA"
          ],
          [
           "CLIENTE NOVO"
          ],
          [
           "CLIENTE NOVO"
          ],
          [
           "CLIENTE NOVO"
          ],
          [
           "CLIENTE NOVO"
          ],
          [
           "CLIENTE NOVO"
          ],
          [
           "CLIENTE NOVO"
          ],
          [
           "CLIENTE NOVO"
          ],
          [
           "RECOMPRA"
          ],
          [
           "CLIENTE NOVO"
          ],
          [
           "CLIENTE NOVO"
          ],
          [
           "CLIENTE NOVO"
          ],
          [
           "RECOMPRA"
          ],
          [
           "RECOMPRA"
          ],
          [
           "CLIENTE NOVO"
          ],
          [
           "RECOMPRA"
          ],
          [
           "RECOMPRA"
          ],
          [
           "CLIENTE NOVO"
          ],
          [
           "CLIENTE NOVO"
          ],
          [
           "RECOMPRA"
          ],
          [
           "CLIENTE NOVO"
          ],
          [
           "CLIENTE NOVO"
          ],
          [
           "CLIENTE NOVO"
          ],
          [
           "RECOMPRA"
          ],
          [
           "RECOMPRA"
          ],
          [
           "RECOMPRA"
          ],
          [
           "CLIENTE NOVO"
          ],
          [
           "RECOMPRA"
          ],
          [
           "CLIENTE NOVO"
          ],
          [
           "CLIENTE NOVO"
          ],
          [
           "RECOMPRA"
          ],
          [
           "CLIENTE NOVO"
          ],
          [
           "CLIENTE NOVO"
          ],
          [
           "CLIENTE NOVO"
          ],
          [
           "RECOMPRA"
          ],
          [
           "CLIENTE NOVO"
          ],
          [
           "CLIENTE NOVO"
          ],
          [
           "CLIENTE NOVO"
          ],
          [
           "CLIENTE NOVO"
          ],
          [
           "RECOMPRA"
          ],
          [
           "RECOMPRA"
          ],
          [
           "RECOMPRA"
          ],
          [
           "CLIENTE NOVO"
          ],
          [
           "CLIENTE NOVO"
          ],
          [
           "CLIENTE NOVO"
          ],
          [
           "CLIENTE NOVO"
          ],
          [
           "RECOMPRA"
          ],
          [
           "RECOMPRA"
          ],
          [
           "CLIENTE NOVO"
          ],
          [
           "CLIENTE NOVO"
          ],
          [
           "RECOMPRA"
          ],
          [
           "RECOMPRA"
          ],
          [
           "RECOMPRA"
          ],
          [
           "RECOMPRA"
          ],
          [
           "CLIENTE NOVO"
          ],
          [
           "RECOMPRA"
          ],
          [
           "CLIENTE NOVO"
          ],
          [
           "RECOMPRA"
          ],
          [
           "RECOMPRA"
          ],
          [
           "RECOMPRA"
          ],
          [
           "CLIENTE NOVO"
          ],
          [
           "CLIENTE NOVO"
          ],
          [
           "CLIENTE NOVO"
          ],
          [
           "CLIENTE NOVO"
          ],
          [
           "CLIENTE NOVO"
          ],
          [
           "CLIENTE NOVO"
          ],
          [
           "CLIENTE NOVO"
          ],
          [
           "RECOMPRA"
          ],
          [
           "CLIENTE NOVO"
          ],
          [
           "RECOMPRA"
          ],
          [
           "CLIENTE NOVO"
          ],
          [
           "RECOMPRA"
          ],
          [
           "CLIENTE NOVO"
          ],
          [
           "RECOMPRA"
          ],
          [
           "RECOMPRA"
          ],
          [
           "RECOMPRA"
          ],
          [
           "CLIENTE NOVO"
          ],
          [
           "CLIENTE NOVO"
          ],
          [
           "CLIENTE NOVO"
          ],
          [
           "CLIENTE NOVO"
          ],
          [
           "CLIENTE NOVO"
          ],
          [
           "RECOMPRA"
          ],
          [
           "RECOMPRA"
          ],
          [
           "CLIENTE NOVO"
          ],
          [
           "CLIENTE NOVO"
          ],
          [
           "CLIENTE NOVO"
          ],
          [
           "RECOMPRA"
          ],
          [
           "RECOMPRA"
          ],
          [
           "RECOMPRA"
          ],
          [
           "RECOMPRA"
          ],
          [
           "CLIENTE NOVO"
          ],
          [
           "CLIENTE NOVO"
          ],
          [
           "CLIENTE NOVO"
          ],
          [
           "CLIENTE NOVO"
          ],
          [
           "CLIENTE NOVO"
          ],
          [
           "CLIENTE NOVO"
          ],
          [
           "RECOMPRA"
          ],
          [
           "CLIENTE NOVO"
          ],
          [
           "CLIENTE NOVO"
          ],
          [
           "CLIENTE NOVO"
          ],
          [
           "CLIENTE NOVO"
          ],
          [
           "CLIENTE NOVO"
          ],
          [
           "CLIENTE NOVO"
          ],
          [
           "CLIENTE NOVO"
          ],
          [
           "CLIENTE NOVO"
          ],
          [
           "RECOMPRA"
          ],
          [
           "CLIENTE NOVO"
          ],
          [
           "CLIENTE NOVO"
          ],
          [
           "RECOMPRA"
          ],
          [
           "CLIENTE NOVO"
          ],
          [
           "RECOMPRA"
          ],
          [
           "CLIENTE NOVO"
          ],
          [
           "CLIENTE NOVO"
          ],
          [
           "CLIENTE NOVO"
          ],
          [
           "RECOMPRA"
          ],
          [
           "CLIENTE NOVO"
          ],
          [
           "CLIENTE NOVO"
          ],
          [
           "RECOMPRA"
          ],
          [
           "RECOMPRA"
          ],
          [
           "RECOMPRA"
          ],
          [
           "RECOMPRA"
          ],
          [
           "RECOMPRA"
          ],
          [
           "CLIENTE NOVO"
          ],
          [
           "RECOMPRA"
          ],
          [
           "CLIENTE NOVO"
          ],
          [
           "RECOMPRA"
          ],
          [
           "RECOMPRA"
          ],
          [
           "RECOMPRA"
          ],
          [
           "RECOMPRA"
          ],
          [
           "RECOMPRA"
          ],
          [
           "CLIENTE NOVO"
          ],
          [
           "CLIENTE NOVO"
          ],
          [
           "RECOMPRA"
          ],
          [
           "RECOMPRA"
          ],
          [
           "RECOMPRA"
          ],
          [
           "RECOMPRA"
          ],
          [
           "CLIENTE NOVO"
          ],
          [
           "RECOMPRA"
          ],
          [
           "CLIENTE NOVO"
          ],
          [
           "CLIENTE NOVO"
          ],
          [
           "CLIENTE NOVO"
          ],
          [
           "CLIENTE NOVO"
          ],
          [
           "RECOMPRA"
          ],
          [
           "CLIENTE NOVO"
          ],
          [
           "CLIENTE NOVO"
          ],
          [
           "CLIENTE NOVO"
          ],
          [
           "RECOMPRA"
          ],
          [
           "RECOMPRA"
          ],
          [
           "RECOMPRA"
          ],
          [
           "CLIENTE NOVO"
          ],
          [
           "CLIENTE NOVO"
          ],
          [
           "CLIENTE NOVO"
          ],
          [
           "CLIENTE NOVO"
          ],
          [
           "CLIENTE NOVO"
          ],
          [
           "CLIENTE NOVO"
          ],
          [
           "CLIENTE NOVO"
          ],
          [
           "CLIENTE NOVO"
          ],
          [
           "RECOMPRA"
          ],
          [
           "CLIENTE NOVO"
          ],
          [
           "RECOMPRA"
          ],
          [
           "CLIENTE NOVO"
          ],
          [
           "CLIENTE NOVO"
          ],
          [
           "CLIENTE NOVO"
          ],
          [
           "CLIENTE NOVO"
          ],
          [
           "CLIENTE NOVO"
          ],
          [
           "CLIENTE NOVO"
          ],
          [
           "RECOMPRA"
          ],
          [
           "RECOMPRA"
          ],
          [
           "CLIENTE NOVO"
          ],
          [
           "RECOMPRA"
          ],
          [
           "RECOMPRA"
          ],
          [
           "RECOMPRA"
          ],
          [
           "CLIENTE NOVO"
          ],
          [
           "CLIENTE NOVO"
          ],
          [
           "CLIENTE NOVO"
          ],
          [
           "RECOMPRA"
          ],
          [
           "RECOMPRA"
          ],
          [
           "RECOMPRA"
          ],
          [
           "CLIENTE NOVO"
          ],
          [
           "CLIENTE NOVO"
          ],
          [
           "CLIENTE NOVO"
          ],
          [
           "RECOMPRA"
          ],
          [
           "RECOMPRA"
          ],
          [
           "CLIENTE NOVO"
          ],
          [
           "CLIENTE NOVO"
          ],
          [
           "CLIENTE NOVO"
          ],
          [
           "CLIENTE NOVO"
          ],
          [
           "RECOMPRA"
          ],
          [
           "RECOMPRA"
          ],
          [
           "CLIENTE NOVO"
          ],
          [
           "CLIENTE NOVO"
          ],
          [
           "RECOMPRA"
          ],
          [
           "RECOMPRA"
          ],
          [
           "CLIENTE NOVO"
          ],
          [
           "RECOMPRA"
          ],
          [
           "CLIENTE NOVO"
          ],
          [
           "RECOMPRA"
          ],
          [
           "CLIENTE NOVO"
          ],
          [
           "CLIENTE NOVO"
          ],
          [
           "CLIENTE NOVO"
          ],
          [
           "CLIENTE NOVO"
          ],
          [
           "RECOMPRA"
          ],
          [
           "RECOMPRA"
          ],
          [
           "CLIENTE NOVO"
          ],
          [
           "RECOMPRA"
          ],
          [
           "CLIENTE NOVO"
          ],
          [
           "CLIENTE NOVO"
          ],
          [
           "CLIENTE NOVO"
          ],
          [
           "CLIENTE NOVO"
          ],
          [
           "CLIENTE NOVO"
          ],
          [
           "CLIENTE NOVO"
          ],
          [
           "CLIENTE NOVO"
          ],
          [
           "RECOMPRA"
          ],
          [
           "RECOMPRA"
          ],
          [
           "RECOMPRA"
          ],
          [
           "CLIENTE NOVO"
          ],
          [
           "CLIENTE NOVO"
          ],
          [
           "CLIENTE NOVO"
          ],
          [
           "RECOMPRA"
          ],
          [
           "CLIENTE NOVO"
          ],
          [
           "CLIENTE NOVO"
          ],
          [
           "CLIENTE NOVO"
          ],
          [
           "CLIENTE NOVO"
          ],
          [
           "CLIENTE NOVO"
          ],
          [
           "CLIENTE NOVO"
          ],
          [
           "RECOMPRA"
          ],
          [
           "RECOMPRA"
          ],
          [
           "CLIENTE NOVO"
          ],
          [
           "CLIENTE NOVO"
          ],
          [
           "CLIENTE NOVO"
          ],
          [
           "CLIENTE NOVO"
          ],
          [
           "CLIENTE NOVO"
          ],
          [
           "RECOMPRA"
          ],
          [
           "RECOMPRA"
          ],
          [
           "CLIENTE NOVO"
          ],
          [
           "CLIENTE NOVO"
          ],
          [
           "RECOMPRA"
          ],
          [
           "RECOMPRA"
          ],
          [
           "CLIENTE NOVO"
          ],
          [
           "CLIENTE NOVO"
          ],
          [
           "CLIENTE NOVO"
          ],
          [
           "CLIENTE NOVO"
          ],
          [
           "CLIENTE NOVO"
          ],
          [
           "RECOMPRA"
          ],
          [
           "RECOMPRA"
          ],
          [
           "RECOMPRA"
          ],
          [
           "RECOMPRA"
          ],
          [
           "RECOMPRA"
          ],
          [
           "RECOMPRA"
          ],
          [
           "RECOMPRA"
          ],
          [
           "RECOMPRA"
          ],
          [
           "RECOMPRA"
          ],
          [
           "RECOMPRA"
          ],
          [
           "RECOMPRA"
          ],
          [
           "RECOMPRA"
          ],
          [
           "RECOMPRA"
          ],
          [
           "RECOMPRA"
          ],
          [
           "RECOMPRA"
          ],
          [
           "CLIENTE NOVO"
          ],
          [
           "RECOMPRA"
          ],
          [
           "CLIENTE NOVO"
          ],
          [
           "CLIENTE NOVO"
          ],
          [
           "RECOMPRA"
          ],
          [
           "CLIENTE NOVO"
          ],
          [
           "CLIENTE NOVO"
          ],
          [
           "CLIENTE NOVO"
          ],
          [
           "RECOMPRA"
          ],
          [
           "CLIENTE NOVO"
          ],
          [
           "RECOMPRA"
          ],
          [
           "CLIENTE NOVO"
          ],
          [
           "RECOMPRA"
          ],
          [
           "CLIENTE NOVO"
          ],
          [
           "RECOMPRA"
          ],
          [
           "CLIENTE NOVO"
          ],
          [
           "CLIENTE NOVO"
          ],
          [
           "CLIENTE NOVO"
          ],
          [
           "CLIENTE NOVO"
          ],
          [
           "CLIENTE NOVO"
          ],
          [
           "CLIENTE NOVO"
          ],
          [
           "RECOMPRA"
          ],
          [
           "RECOMPRA"
          ],
          [
           "RECOMPRA"
          ],
          [
           "RECOMPRA"
          ],
          [
           "RECOMPRA"
          ],
          [
           "RECOMPRA"
          ],
          [
           "CLIENTE NOVO"
          ],
          [
           "RECOMPRA"
          ],
          [
           "CLIENTE NOVO"
          ],
          [
           "RECOMPRA"
          ],
          [
           "CLIENTE NOVO"
          ],
          [
           "CLIENTE NOVO"
          ],
          [
           "CLIENTE NOVO"
          ],
          [
           "RECOMPRA"
          ],
          [
           "RECOMPRA"
          ],
          [
           "RECOMPRA"
          ],
          [
           "CLIENTE NOVO"
          ],
          [
           "RECOMPRA"
          ],
          [
           "RECOMPRA"
          ],
          [
           "RECOMPRA"
          ],
          [
           "RECOMPRA"
          ],
          [
           "CLIENTE NOVO"
          ],
          [
           "CLIENTE NOVO"
          ],
          [
           "CLIENTE NOVO"
          ],
          [
           "CLIENTE NOVO"
          ],
          [
           "CLIENTE NOVO"
          ],
          [
           "CLIENTE NOVO"
          ],
          [
           "CLIENTE NOVO"
          ],
          [
           "RECOMPRA"
          ],
          [
           "CLIENTE NOVO"
          ],
          [
           "CLIENTE NOVO"
          ],
          [
           "RECOMPRA"
          ],
          [
           "CLIENTE NOVO"
          ],
          [
           "CLIENTE NOVO"
          ],
          [
           "CLIENTE NOVO"
          ],
          [
           "CLIENTE NOVO"
          ],
          [
           "RECOMPRA"
          ],
          [
           "CLIENTE NOVO"
          ],
          [
           "RECOMPRA"
          ],
          [
           "CLIENTE NOVO"
          ],
          [
           "CLIENTE NOVO"
          ],
          [
           "CLIENTE NOVO"
          ],
          [
           "RECOMPRA"
          ],
          [
           "RECOMPRA"
          ],
          [
           "CLIENTE NOVO"
          ],
          [
           "RECOMPRA"
          ],
          [
           "RECOMPRA"
          ],
          [
           "CLIENTE NOVO"
          ],
          [
           "CLIENTE NOVO"
          ],
          [
           "RECOMPRA"
          ],
          [
           "RECOMPRA"
          ],
          [
           "CLIENTE NOVO"
          ],
          [
           "RECOMPRA"
          ],
          [
           "RECOMPRA"
          ],
          [
           "RECOMPRA"
          ],
          [
           "CLIENTE NOVO"
          ],
          [
           "RECOMPRA"
          ],
          [
           "RECOMPRA"
          ],
          [
           "CLIENTE NOVO"
          ],
          [
           "CLIENTE NOVO"
          ],
          [
           "RECOMPRA"
          ],
          [
           "RECOMPRA"
          ],
          [
           "CLIENTE NOVO"
          ],
          [
           "CLIENTE NOVO"
          ],
          [
           "CLIENTE NOVO"
          ],
          [
           "CLIENTE NOVO"
          ],
          [
           "RECOMPRA"
          ],
          [
           "RECOMPRA"
          ],
          [
           "RECOMPRA"
          ],
          [
           "RECOMPRA"
          ],
          [
           "CLIENTE NOVO"
          ],
          [
           "CLIENTE NOVO"
          ],
          [
           "CLIENTE NOVO"
          ],
          [
           "RECOMPRA"
          ],
          [
           "CLIENTE NOVO"
          ],
          [
           "CLIENTE NOVO"
          ],
          [
           "CLIENTE NOVO"
          ],
          [
           "CLIENTE NOVO"
          ],
          [
           "CLIENTE NOVO"
          ],
          [
           "CLIENTE NOVO"
          ],
          [
           "CLIENTE NOVO"
          ],
          [
           "CLIENTE NOVO"
          ],
          [
           "CLIENTE NOVO"
          ],
          [
           "CLIENTE NOVO"
          ],
          [
           "CLIENTE NOVO"
          ],
          [
           "RECOMPRA"
          ],
          [
           "RECOMPRA"
          ],
          [
           "CLIENTE NOVO"
          ],
          [
           "CLIENTE NOVO"
          ],
          [
           "CLIENTE NOVO"
          ],
          [
           "CLIENTE NOVO"
          ],
          [
           "CLIENTE NOVO"
          ],
          [
           "CLIENTE NOVO"
          ],
          [
           "CLIENTE NOVO"
          ],
          [
           "CLIENTE NOVO"
          ],
          [
           "CLIENTE NOVO"
          ],
          [
           "CLIENTE NOVO"
          ],
          [
           "CLIENTE NOVO"
          ],
          [
           "CLIENTE NOVO"
          ],
          [
           "CLIENTE NOVO"
          ],
          [
           "CLIENTE NOVO"
          ],
          [
           "CLIENTE NOVO"
          ],
          [
           "RECOMPRA"
          ],
          [
           "RECOMPRA"
          ],
          [
           "CLIENTE NOVO"
          ],
          [
           "CLIENTE NOVO"
          ],
          [
           "CLIENTE NOVO"
          ],
          [
           "CLIENTE NOVO"
          ],
          [
           "CLIENTE NOVO"
          ],
          [
           "RECOMPRA"
          ],
          [
           "CLIENTE NOVO"
          ],
          [
           "CLIENTE NOVO"
          ],
          [
           "CLIENTE NOVO"
          ],
          [
           "CLIENTE NOVO"
          ],
          [
           "CLIENTE NOVO"
          ],
          [
           "CLIENTE NOVO"
          ],
          [
           "CLIENTE NOVO"
          ],
          [
           "RECOMPRA"
          ],
          [
           "CLIENTE NOVO"
          ],
          [
           "CLIENTE NOVO"
          ],
          [
           "CLIENTE NOVO"
          ],
          [
           "CLIENTE NOVO"
          ],
          [
           "CLIENTE NOVO"
          ],
          [
           "CLIENTE NOVO"
          ],
          [
           "CLIENTE NOVO"
          ],
          [
           "CLIENTE NOVO"
          ],
          [
           "CLIENTE NOVO"
          ],
          [
           "CLIENTE NOVO"
          ],
          [
           "CLIENTE NOVO"
          ],
          [
           "RECOMPRA"
          ],
          [
           "RECOMPRA"
          ],
          [
           "RECOMPRA"
          ],
          [
           "RECOMPRA"
          ],
          [
           "CLIENTE NOVO"
          ],
          [
           "CLIENTE NOVO"
          ],
          [
           "CLIENTE NOVO"
          ],
          [
           "CLIENTE NOVO"
          ],
          [
           "CLIENTE NOVO"
          ],
          [
           "CLIENTE NOVO"
          ],
          [
           "CLIENTE NOVO"
          ],
          [
           "CLIENTE NOVO"
          ],
          [
           "CLIENTE NOVO"
          ],
          [
           "RECOMPRA"
          ],
          [
           "RECOMPRA"
          ],
          [
           "RECOMPRA"
          ],
          [
           "CLIENTE NOVO"
          ],
          [
           "RECOMPRA"
          ],
          [
           "CLIENTE NOVO"
          ],
          [
           "RECOMPRA"
          ],
          [
           "CLIENTE NOVO"
          ],
          [
           "CLIENTE NOVO"
          ],
          [
           "CLIENTE NOVO"
          ],
          [
           "CLIENTE NOVO"
          ],
          [
           "CLIENTE NOVO"
          ],
          [
           "CLIENTE NOVO"
          ],
          [
           "CLIENTE NOVO"
          ],
          [
           "CLIENTE NOVO"
          ],
          [
           "CLIENTE NOVO"
          ],
          [
           "CLIENTE NOVO"
          ],
          [
           "CLIENTE NOVO"
          ],
          [
           "CLIENTE NOVO"
          ],
          [
           "CLIENTE NOVO"
          ],
          [
           "CLIENTE NOVO"
          ],
          [
           "CLIENTE NOVO"
          ],
          [
           "CLIENTE NOVO"
          ],
          [
           "CLIENTE NOVO"
          ],
          [
           "CLIENTE NOVO"
          ],
          [
           "CLIENTE NOVO"
          ],
          [
           "CLIENTE NOVO"
          ],
          [
           "CLIENTE NOVO"
          ],
          [
           "CLIENTE NOVO"
          ],
          [
           "CLIENTE NOVO"
          ],
          [
           "CLIENTE NOVO"
          ],
          [
           "RECOMPRA"
          ],
          [
           "RECOMPRA"
          ],
          [
           "RECOMPRA"
          ],
          [
           "RECOMPRA"
          ],
          [
           "RECOMPRA"
          ],
          [
           "RECOMPRA"
          ],
          [
           "CLIENTE NOVO"
          ],
          [
           "CLIENTE NOVO"
          ],
          [
           "RECOMPRA"
          ],
          [
           "CLIENTE NOVO"
          ],
          [
           "CLIENTE NOVO"
          ],
          [
           "CLIENTE NOVO"
          ],
          [
           "RECOMPRA"
          ],
          [
           "CLIENTE NOVO"
          ],
          [
           "CLIENTE NOVO"
          ],
          [
           "CLIENTE NOVO"
          ],
          [
           "CLIENTE NOVO"
          ],
          [
           "CLIENTE NOVO"
          ],
          [
           "CLIENTE NOVO"
          ],
          [
           "CLIENTE NOVO"
          ],
          [
           "CLIENTE NOVO"
          ],
          [
           "RECOMPRA"
          ],
          [
           "CLIENTE NOVO"
          ],
          [
           "CLIENTE NOVO"
          ],
          [
           "CLIENTE NOVO"
          ],
          [
           "CLIENTE NOVO"
          ],
          [
           "CLIENTE NOVO"
          ],
          [
           "CLIENTE NOVO"
          ],
          [
           "RECOMPRA"
          ],
          [
           "RECOMPRA"
          ],
          [
           "RECOMPRA"
          ],
          [
           "RECOMPRA"
          ],
          [
           "CLIENTE NOVO"
          ],
          [
           "CLIENTE NOVO"
          ],
          [
           "CLIENTE NOVO"
          ],
          [
           "CLIENTE NOVO"
          ],
          [
           "CLIENTE NOVO"
          ],
          [
           "CLIENTE NOVO"
          ],
          [
           "CLIENTE NOVO"
          ],
          [
           "CLIENTE NOVO"
          ],
          [
           "RECOMPRA"
          ],
          [
           "CLIENTE NOVO"
          ],
          [
           "RECOMPRA"
          ],
          [
           "CLIENTE NOVO"
          ],
          [
           "RECOMPRA"
          ],
          [
           "CLIENTE NOVO"
          ],
          [
           "RECOMPRA"
          ],
          [
           "CLIENTE NOVO"
          ],
          [
           "CLIENTE NOVO"
          ],
          [
           "RECOMPRA"
          ],
          [
           "CLIENTE NOVO"
          ],
          [
           "CLIENTE NOVO"
          ],
          [
           "CLIENTE NOVO"
          ],
          [
           "CLIENTE NOVO"
          ],
          [
           "RECOMPRA"
          ],
          [
           "RECOMPRA"
          ],
          [
           "CLIENTE NOVO"
          ],
          [
           "CLIENTE NOVO"
          ],
          [
           "RECOMPRA"
          ],
          [
           "RECOMPRA"
          ],
          [
           "RECOMPRA"
          ],
          [
           "CLIENTE NOVO"
          ],
          [
           "RECOMPRA"
          ],
          [
           "CLIENTE NOVO"
          ],
          [
           "CLIENTE NOVO"
          ],
          [
           "CLIENTE NOVO"
          ],
          [
           "CLIENTE NOVO"
          ],
          [
           "CLIENTE NOVO"
          ],
          [
           "RECOMPRA"
          ],
          [
           "RECOMPRA"
          ],
          [
           "CLIENTE NOVO"
          ],
          [
           "CLIENTE NOVO"
          ],
          [
           "CLIENTE NOVO"
          ],
          [
           "RECOMPRA"
          ],
          [
           "CLIENTE NOVO"
          ],
          [
           "RECOMPRA"
          ],
          [
           "RECOMPRA"
          ],
          [
           "RECOMPRA"
          ],
          [
           "RECOMPRA"
          ],
          [
           "RECOMPRA"
          ],
          [
           "RECOMPRA"
          ],
          [
           "RECOMPRA"
          ],
          [
           "RECOMPRA"
          ],
          [
           "RECOMPRA"
          ],
          [
           "RECOMPRA"
          ],
          [
           "CLIENTE NOVO"
          ],
          [
           "CLIENTE NOVO"
          ],
          [
           "RECOMPRA"
          ],
          [
           "RECOMPRA"
          ],
          [
           "RECOMPRA"
          ],
          [
           "CLIENTE NOVO"
          ],
          [
           "CLIENTE NOVO"
          ],
          [
           "RECOMPRA"
          ],
          [
           "CLIENTE NOVO"
          ],
          [
           "CLIENTE NOVO"
          ],
          [
           "CLIENTE NOVO"
          ],
          [
           "CLIENTE NOVO"
          ],
          [
           "CLIENTE NOVO"
          ],
          [
           "CLIENTE NOVO"
          ],
          [
           "RECOMPRA"
          ],
          [
           "CLIENTE NOVO"
          ],
          [
           "CLIENTE NOVO"
          ],
          [
           "RECOMPRA"
          ],
          [
           "CLIENTE NOVO"
          ],
          [
           "RECOMPRA"
          ],
          [
           "CLIENTE NOVO"
          ],
          [
           "CLIENTE NOVO"
          ],
          [
           "RECOMPRA"
          ],
          [
           "RECOMPRA"
          ],
          [
           "CLIENTE NOVO"
          ],
          [
           "CLIENTE NOVO"
          ],
          [
           "RECOMPRA"
          ],
          [
           "CLIENTE NOVO"
          ],
          [
           "CLIENTE NOVO"
          ],
          [
           "RECOMPRA"
          ],
          [
           "CLIENTE NOVO"
          ],
          [
           "RECOMPRA"
          ],
          [
           "CLIENTE NOVO"
          ],
          [
           "CLIENTE NOVO"
          ],
          [
           "CLIENTE NOVO"
          ],
          [
           "RECOMPRA"
          ],
          [
           "RECOMPRA"
          ],
          [
           "CLIENTE NOVO"
          ],
          [
           "CLIENTE NOVO"
          ],
          [
           "CLIENTE NOVO"
          ],
          [
           "RECOMPRA"
          ],
          [
           "RECOMPRA"
          ],
          [
           "CLIENTE NOVO"
          ],
          [
           "CLIENTE NOVO"
          ],
          [
           "RECOMPRA"
          ],
          [
           "RECOMPRA"
          ],
          [
           "RECOMPRA"
          ],
          [
           "CLIENTE NOVO"
          ],
          [
           "CLIENTE NOVO"
          ],
          [
           "RECOMPRA"
          ],
          [
           "RECOMPRA"
          ],
          [
           "RECOMPRA"
          ],
          [
           "CLIENTE NOVO"
          ],
          [
           "CLIENTE NOVO"
          ],
          [
           "CLIENTE NOVO"
          ],
          [
           "CLIENTE NOVO"
          ],
          [
           "CLIENTE NOVO"
          ],
          [
           "CLIENTE NOVO"
          ]
         ],
         "domain": {
          "x": [
           0,
           1
          ],
          "y": [
           0,
           1
          ]
         },
         "hole": 0.4,
         "hovertemplate": "Vendedor=%{customdata[0]}<br>Total=%{value}<extra></extra>",
         "labels": [
          "CLIENTE NOVO",
          "RECOMPRA",
          "RECOMPRA",
          "RECOMPRA",
          "RECOMPRA",
          "RECOMPRA",
          "RECOMPRA",
          "RECOMPRA",
          "RECOMPRA",
          "RECOMPRA",
          "CLIENTE NOVO",
          "RECOMPRA",
          "RECOMPRA",
          "RECOMPRA",
          "CLIENTE NOVO",
          "CLIENTE NOVO",
          "CLIENTE NOVO",
          "CLIENTE NOVO",
          "CLIENTE NOVO",
          "CLIENTE NOVO",
          "CLIENTE NOVO",
          "CLIENTE NOVO",
          "CLIENTE NOVO",
          "CLIENTE NOVO",
          "CLIENTE NOVO",
          "CLIENTE NOVO",
          "CLIENTE NOVO",
          "CLIENTE NOVO",
          "CLIENTE NOVO",
          "CLIENTE NOVO",
          "CLIENTE NOVO",
          "CLIENTE NOVO",
          "CLIENTE NOVO",
          "RECOMPRA",
          "CLIENTE NOVO",
          "CLIENTE NOVO",
          "CLIENTE NOVO",
          "CLIENTE NOVO",
          "RECOMPRA",
          "RECOMPRA",
          "RECOMPRA",
          "RECOMPRA",
          "CLIENTE NOVO",
          "CLIENTE NOVO",
          "CLIENTE NOVO",
          "CLIENTE NOVO",
          "RECOMPRA",
          "CLIENTE NOVO",
          "CLIENTE NOVO",
          "CLIENTE NOVO",
          "CLIENTE NOVO",
          "CLIENTE NOVO",
          "RECOMPRA",
          "RECOMPRA",
          "RECOMPRA",
          "CLIENTE NOVO",
          "RECOMPRA",
          "CLIENTE NOVO",
          "CLIENTE NOVO",
          "RECOMPRA",
          "RECOMPRA",
          "CLIENTE NOVO",
          "CLIENTE NOVO",
          "CLIENTE NOVO",
          "CLIENTE NOVO",
          "CLIENTE NOVO",
          "CLIENTE NOVO",
          "CLIENTE NOVO",
          "CLIENTE NOVO",
          "CLIENTE NOVO",
          "CLIENTE NOVO",
          "CLIENTE NOVO",
          "RECOMPRA",
          "CLIENTE NOVO",
          "RECOMPRA",
          "CLIENTE NOVO",
          "CLIENTE NOVO",
          "RECOMPRA",
          "RECOMPRA",
          "RECOMPRA",
          "CLIENTE NOVO",
          "RECOMPRA",
          "CLIENTE NOVO",
          "CLIENTE NOVO",
          "RECOMPRA",
          "RECOMPRA",
          "RECOMPRA",
          "CLIENTE NOVO",
          "CLIENTE NOVO",
          "CLIENTE NOVO",
          "CLIENTE NOVO",
          "CLIENTE NOVO",
          "CLIENTE NOVO",
          "CLIENTE NOVO",
          "CLIENTE NOVO",
          "CLIENTE NOVO",
          "CLIENTE NOVO",
          "CLIENTE NOVO",
          "RECOMPRA",
          "CLIENTE NOVO",
          "RECOMPRA",
          "CLIENTE NOVO",
          "CLIENTE NOVO",
          "CLIENTE NOVO",
          "CLIENTE NOVO",
          "CLIENTE NOVO",
          "CLIENTE NOVO",
          "RECOMPRA",
          "RECOMPRA",
          "RECOMPRA",
          "RECOMPRA",
          "CLIENTE NOVO",
          "RECOMPRA",
          "RECOMPRA",
          "CLIENTE NOVO",
          "RECOMPRA",
          "RECOMPRA",
          "RECOMPRA",
          "CLIENTE NOVO",
          "RECOMPRA",
          "CLIENTE NOVO",
          "RECOMPRA",
          "RECOMPRA",
          "RECOMPRA",
          "RECOMPRA",
          "RECOMPRA",
          "RECOMPRA",
          "RECOMPRA",
          "RECOMPRA",
          "RECOMPRA",
          "CLIENTE NOVO",
          "RECOMPRA",
          "RECOMPRA",
          "CLIENTE NOVO",
          "CLIENTE NOVO",
          "RECOMPRA",
          "CLIENTE NOVO",
          "RECOMPRA",
          "RECOMPRA",
          "CLIENTE NOVO",
          "RECOMPRA",
          "CLIENTE NOVO",
          "RECOMPRA",
          "RECOMPRA",
          "RECOMPRA",
          "RECOMPRA",
          "RECOMPRA",
          "CLIENTE NOVO",
          "CLIENTE NOVO",
          "CLIENTE NOVO",
          "RECOMPRA",
          "RECOMPRA",
          "RECOMPRA",
          "RECOMPRA",
          "CLIENTE NOVO",
          "CLIENTE NOVO",
          "RECOMPRA",
          "RECOMPRA",
          "RECOMPRA",
          "RECOMPRA",
          "CLIENTE NOVO",
          "CLIENTE NOVO",
          "RECOMPRA",
          "RECOMPRA",
          "CLIENTE NOVO",
          "CLIENTE NOVO",
          "CLIENTE NOVO",
          "RECOMPRA",
          "RECOMPRA",
          "CLIENTE NOVO",
          "RECOMPRA",
          "CLIENTE NOVO",
          "CLIENTE NOVO",
          "RECOMPRA",
          "RECOMPRA",
          "CLIENTE NOVO",
          "RECOMPRA",
          "RECOMPRA",
          "RECOMPRA",
          "RECOMPRA",
          "RECOMPRA",
          "RECOMPRA",
          "CLIENTE NOVO",
          "CLIENTE NOVO",
          "RECOMPRA",
          "CLIENTE NOVO",
          "CLIENTE NOVO",
          "CLIENTE NOVO",
          "RECOMPRA",
          "RECOMPRA",
          "CLIENTE NOVO",
          "CLIENTE NOVO",
          "RECOMPRA",
          "RECOMPRA",
          "RECOMPRA",
          "RECOMPRA",
          "RECOMPRA",
          "CLIENTE NOVO",
          "CLIENTE NOVO",
          "RECOMPRA",
          "CLIENTE NOVO",
          "CLIENTE NOVO",
          "CLIENTE NOVO",
          "RECOMPRA",
          "CLIENTE NOVO",
          "RECOMPRA",
          "RECOMPRA",
          "CLIENTE NOVO",
          "RECOMPRA",
          "RECOMPRA",
          "CLIENTE NOVO",
          "CLIENTE NOVO",
          "RECOMPRA",
          "RECOMPRA",
          "RECOMPRA",
          "CLIENTE NOVO",
          "RECOMPRA",
          "CLIENTE NOVO",
          "RECOMPRA",
          "RECOMPRA",
          "RECOMPRA",
          "RECOMPRA",
          "CLIENTE NOVO",
          "RECOMPRA",
          "CLIENTE NOVO",
          "RECOMPRA",
          "RECOMPRA",
          "CLIENTE NOVO",
          "RECOMPRA",
          "RECOMPRA",
          "CLIENTE NOVO",
          "CLIENTE NOVO",
          "CLIENTE NOVO",
          "RECOMPRA",
          "CLIENTE NOVO",
          "RECOMPRA",
          "CLIENTE NOVO",
          "CLIENTE NOVO",
          "CLIENTE NOVO",
          "CLIENTE NOVO",
          "RECOMPRA",
          "RECOMPRA",
          "CLIENTE NOVO",
          "RECOMPRA",
          "RECOMPRA",
          "RECOMPRA",
          "CLIENTE NOVO",
          "CLIENTE NOVO",
          "CLIENTE NOVO",
          "RECOMPRA",
          "CLIENTE NOVO",
          "CLIENTE NOVO",
          "CLIENTE NOVO",
          "CLIENTE NOVO",
          "RECOMPRA",
          "CLIENTE NOVO",
          "RECOMPRA",
          "RECOMPRA",
          "RECOMPRA",
          "RECOMPRA",
          "RECOMPRA",
          "RECOMPRA",
          "RECOMPRA",
          "RECOMPRA",
          "CLIENTE NOVO",
          "CLIENTE NOVO",
          "CLIENTE NOVO",
          "CLIENTE NOVO",
          "CLIENTE NOVO",
          "CLIENTE NOVO",
          "CLIENTE NOVO",
          "CLIENTE NOVO",
          "CLIENTE NOVO",
          "CLIENTE NOVO",
          "RECOMPRA",
          "CLIENTE NOVO",
          "CLIENTE NOVO",
          "CLIENTE NOVO",
          "RECOMPRA",
          "RECOMPRA",
          "RECOMPRA",
          "CLIENTE NOVO",
          "RECOMPRA",
          "CLIENTE NOVO",
          "CLIENTE NOVO",
          "CLIENTE NOVO",
          "CLIENTE NOVO",
          "CLIENTE NOVO",
          "RECOMPRA",
          "CLIENTE NOVO",
          "RECOMPRA",
          "RECOMPRA",
          "CLIENTE NOVO",
          "CLIENTE NOVO",
          "CLIENTE NOVO",
          "RECOMPRA",
          "CLIENTE NOVO",
          "RECOMPRA",
          "RECOMPRA",
          "CLIENTE NOVO",
          "RECOMPRA",
          "CLIENTE NOVO",
          "CLIENTE NOVO",
          "CLIENTE NOVO",
          "RECOMPRA",
          "CLIENTE NOVO",
          "CLIENTE NOVO",
          "CLIENTE NOVO",
          "CLIENTE NOVO",
          "CLIENTE NOVO",
          "CLIENTE NOVO",
          "RECOMPRA",
          "CLIENTE NOVO",
          "RECOMPRA",
          "RECOMPRA",
          "CLIENTE NOVO",
          "CLIENTE NOVO",
          "RECOMPRA",
          "CLIENTE NOVO",
          "RECOMPRA",
          "RECOMPRA",
          "RECOMPRA",
          "RECOMPRA",
          "CLIENTE NOVO",
          "CLIENTE NOVO",
          "CLIENTE NOVO",
          "RECOMPRA",
          "CLIENTE NOVO",
          "RECOMPRA",
          "CLIENTE NOVO",
          "CLIENTE NOVO",
          "RECOMPRA",
          "CLIENTE NOVO",
          "RECOMPRA",
          "RECOMPRA",
          "CLIENTE NOVO",
          "CLIENTE NOVO",
          "CLIENTE NOVO",
          "RECOMPRA",
          "RECOMPRA",
          "RECOMPRA",
          "CLIENTE NOVO",
          "CLIENTE NOVO",
          "CLIENTE NOVO",
          "CLIENTE NOVO",
          "CLIENTE NOVO",
          "CLIENTE NOVO",
          "RECOMPRA",
          "CLIENTE NOVO",
          "RECOMPRA",
          "RECOMPRA",
          "CLIENTE NOVO",
          "RECOMPRA",
          "RECOMPRA",
          "RECOMPRA",
          "RECOMPRA",
          "CLIENTE NOVO",
          "CLIENTE NOVO",
          "CLIENTE NOVO",
          "CLIENTE NOVO",
          "RECOMPRA",
          "RECOMPRA",
          "CLIENTE NOVO",
          "RECOMPRA",
          "RECOMPRA",
          "CLIENTE NOVO",
          "CLIENTE NOVO",
          "CLIENTE NOVO",
          "CLIENTE NOVO",
          "CLIENTE NOVO",
          "RECOMPRA",
          "CLIENTE NOVO",
          "CLIENTE NOVO",
          "CLIENTE NOVO",
          "CLIENTE NOVO",
          "RECOMPRA",
          "CLIENTE NOVO",
          "CLIENTE NOVO",
          "RECOMPRA",
          "RECOMPRA",
          "RECOMPRA",
          "RECOMPRA",
          "RECOMPRA",
          "RECOMPRA",
          "CLIENTE NOVO",
          "RECOMPRA",
          "RECOMPRA",
          "CLIENTE NOVO",
          "RECOMPRA",
          "RECOMPRA",
          "CLIENTE NOVO",
          "CLIENTE NOVO",
          "CLIENTE NOVO",
          "RECOMPRA",
          "CLIENTE NOVO",
          "CLIENTE NOVO",
          "CLIENTE NOVO",
          "CLIENTE NOVO",
          "CLIENTE NOVO",
          "CLIENTE NOVO",
          "RECOMPRA",
          "RECOMPRA",
          "RECOMPRA",
          "CLIENTE NOVO",
          "RECOMPRA",
          "CLIENTE NOVO",
          "RECOMPRA",
          "RECOMPRA",
          "CLIENTE NOVO",
          "RECOMPRA",
          "CLIENTE NOVO",
          "CLIENTE NOVO",
          "RECOMPRA",
          "RECOMPRA",
          "CLIENTE NOVO",
          "CLIENTE NOVO",
          "CLIENTE NOVO",
          "RECOMPRA",
          "CLIENTE NOVO",
          "CLIENTE NOVO",
          "CLIENTE NOVO",
          "RECOMPRA",
          "CLIENTE NOVO",
          "RECOMPRA",
          "CLIENTE NOVO",
          "CLIENTE NOVO",
          "RECOMPRA",
          "CLIENTE NOVO",
          "CLIENTE NOVO",
          "RECOMPRA",
          "RECOMPRA",
          "RECOMPRA",
          "RECOMPRA",
          "RECOMPRA",
          "RECOMPRA",
          "CLIENTE NOVO",
          "RECOMPRA",
          "RECOMPRA",
          "RECOMPRA",
          "CLIENTE NOVO",
          "RECOMPRA",
          "CLIENTE NOVO",
          "CLIENTE NOVO",
          "CLIENTE NOVO",
          "CLIENTE NOVO",
          "CLIENTE NOVO",
          "CLIENTE NOVO",
          "CLIENTE NOVO",
          "CLIENTE NOVO",
          "CLIENTE NOVO",
          "RECOMPRA",
          "CLIENTE NOVO",
          "CLIENTE NOVO",
          "RECOMPRA",
          "RECOMPRA",
          "CLIENTE NOVO",
          "RECOMPRA",
          "RECOMPRA",
          "CLIENTE NOVO",
          "CLIENTE NOVO",
          "CLIENTE NOVO",
          "RECOMPRA",
          "CLIENTE NOVO",
          "CLIENTE NOVO",
          "CLIENTE NOVO",
          "CLIENTE NOVO",
          "RECOMPRA",
          "CLIENTE NOVO",
          "RECOMPRA",
          "RECOMPRA",
          "CLIENTE NOVO",
          "CLIENTE NOVO",
          "CLIENTE NOVO",
          "RECOMPRA",
          "CLIENTE NOVO",
          "CLIENTE NOVO",
          "CLIENTE NOVO",
          "RECOMPRA",
          "RECOMPRA",
          "CLIENTE NOVO",
          "RECOMPRA",
          "RECOMPRA",
          "RECOMPRA",
          "RECOMPRA",
          "RECOMPRA",
          "RECOMPRA",
          "RECOMPRA",
          "CLIENTE NOVO",
          "CLIENTE NOVO",
          "CLIENTE NOVO",
          "RECOMPRA",
          "CLIENTE NOVO",
          "RECOMPRA",
          "CLIENTE NOVO",
          "RECOMPRA",
          "RECOMPRA",
          "CLIENTE NOVO",
          "CLIENTE NOVO",
          "RECOMPRA",
          "CLIENTE NOVO",
          "CLIENTE NOVO",
          "RECOMPRA",
          "CLIENTE NOVO",
          "CLIENTE NOVO",
          "RECOMPRA",
          "RECOMPRA",
          "RECOMPRA",
          "CLIENTE NOVO",
          "CLIENTE NOVO",
          "RECOMPRA",
          "RECOMPRA",
          "RECOMPRA",
          "CLIENTE NOVO",
          "RECOMPRA",
          "CLIENTE NOVO",
          "CLIENTE NOVO",
          "CLIENTE NOVO",
          "CLIENTE NOVO",
          "RECOMPRA",
          "CLIENTE NOVO",
          "CLIENTE NOVO",
          "CLIENTE NOVO",
          "CLIENTE NOVO",
          "CLIENTE NOVO",
          "CLIENTE NOVO",
          "CLIENTE NOVO",
          "CLIENTE NOVO",
          "RECOMPRA",
          "RECOMPRA",
          "RECOMPRA",
          "RECOMPRA",
          "CLIENTE NOVO",
          "CLIENTE NOVO",
          "RECOMPRA",
          "RECOMPRA",
          "RECOMPRA",
          "RECOMPRA",
          "RECOMPRA",
          "CLIENTE NOVO",
          "CLIENTE NOVO",
          "CLIENTE NOVO",
          "RECOMPRA",
          "CLIENTE NOVO",
          "RECOMPRA",
          "CLIENTE NOVO",
          "CLIENTE NOVO",
          "RECOMPRA",
          "RECOMPRA",
          "CLIENTE NOVO",
          "CLIENTE NOVO",
          "RECOMPRA",
          "CLIENTE NOVO",
          "CLIENTE NOVO",
          "RECOMPRA",
          "RECOMPRA",
          "RECOMPRA",
          "CLIENTE NOVO",
          "RECOMPRA",
          "RECOMPRA",
          "RECOMPRA",
          "RECOMPRA",
          "CLIENTE NOVO",
          "RECOMPRA",
          "CLIENTE NOVO",
          "CLIENTE NOVO",
          "CLIENTE NOVO",
          "CLIENTE NOVO",
          "RECOMPRA",
          "CLIENTE NOVO",
          "CLIENTE NOVO",
          "CLIENTE NOVO",
          "CLIENTE NOVO",
          "RECOMPRA",
          "CLIENTE NOVO",
          "CLIENTE NOVO",
          "CLIENTE NOVO",
          "CLIENTE NOVO",
          "RECOMPRA",
          "RECOMPRA",
          "RECOMPRA",
          "CLIENTE NOVO",
          "RECOMPRA",
          "RECOMPRA",
          "CLIENTE NOVO",
          "RECOMPRA",
          "RECOMPRA",
          "CLIENTE NOVO",
          "CLIENTE NOVO",
          "RECOMPRA",
          "CLIENTE NOVO",
          "RECOMPRA",
          "RECOMPRA",
          "CLIENTE NOVO",
          "CLIENTE NOVO",
          "RECOMPRA",
          "RECOMPRA",
          "CLIENTE NOVO",
          "RECOMPRA",
          "RECOMPRA",
          "CLIENTE NOVO",
          "CLIENTE NOVO",
          "CLIENTE NOVO",
          "CLIENTE NOVO",
          "CLIENTE NOVO",
          "CLIENTE NOVO",
          "RECOMPRA",
          "CLIENTE NOVO",
          "CLIENTE NOVO",
          "RECOMPRA",
          "RECOMPRA",
          "RECOMPRA",
          "CLIENTE NOVO",
          "CLIENTE NOVO",
          "CLIENTE NOVO",
          "RECOMPRA",
          "RECOMPRA",
          "RECOMPRA",
          "RECOMPRA",
          "RECOMPRA",
          "RECOMPRA",
          "CLIENTE NOVO",
          "CLIENTE NOVO",
          "RECOMPRA",
          "CLIENTE NOVO",
          "RECOMPRA",
          "CLIENTE NOVO",
          "CLIENTE NOVO",
          "CLIENTE NOVO",
          "RECOMPRA",
          "RECOMPRA",
          "CLIENTE NOVO",
          "CLIENTE NOVO",
          "RECOMPRA",
          "RECOMPRA",
          "RECOMPRA",
          "RECOMPRA",
          "RECOMPRA",
          "CLIENTE NOVO",
          "CLIENTE NOVO",
          "CLIENTE NOVO",
          "CLIENTE NOVO",
          "CLIENTE NOVO",
          "RECOMPRA",
          "CLIENTE NOVO",
          "CLIENTE NOVO",
          "CLIENTE NOVO",
          "CLIENTE NOVO",
          "CLIENTE NOVO",
          "CLIENTE NOVO",
          "CLIENTE NOVO",
          "CLIENTE NOVO",
          "RECOMPRA",
          "CLIENTE NOVO",
          "RECOMPRA",
          "RECOMPRA",
          "RECOMPRA",
          "RECOMPRA",
          "RECOMPRA",
          "CLIENTE NOVO",
          "CLIENTE NOVO",
          "CLIENTE NOVO",
          "RECOMPRA",
          "CLIENTE NOVO",
          "CLIENTE NOVO",
          "CLIENTE NOVO",
          "CLIENTE NOVO",
          "RECOMPRA",
          "RECOMPRA",
          "CLIENTE NOVO",
          "RECOMPRA",
          "CLIENTE NOVO",
          "CLIENTE NOVO",
          "CLIENTE NOVO",
          "CLIENTE NOVO",
          "CLIENTE NOVO",
          "CLIENTE NOVO",
          "CLIENTE NOVO",
          "CLIENTE NOVO",
          "CLIENTE NOVO",
          "CLIENTE NOVO",
          "RECOMPRA",
          "CLIENTE NOVO",
          "CLIENTE NOVO",
          "CLIENTE NOVO",
          "CLIENTE NOVO",
          "CLIENTE NOVO",
          "RECOMPRA",
          "CLIENTE NOVO",
          "CLIENTE NOVO",
          "CLIENTE NOVO",
          "CLIENTE NOVO",
          "CLIENTE NOVO",
          "CLIENTE NOVO",
          "CLIENTE NOVO",
          "CLIENTE NOVO",
          "CLIENTE NOVO",
          "RECOMPRA",
          "RECOMPRA",
          "CLIENTE NOVO",
          "CLIENTE NOVO",
          "CLIENTE NOVO",
          "CLIENTE NOVO",
          "CLIENTE NOVO",
          "CLIENTE NOVO",
          "RECOMPRA",
          "CLIENTE NOVO",
          "CLIENTE NOVO",
          "CLIENTE NOVO",
          "CLIENTE NOVO",
          "CLIENTE NOVO",
          "CLIENTE NOVO",
          "CLIENTE NOVO",
          "CLIENTE NOVO",
          "CLIENTE NOVO",
          "CLIENTE NOVO",
          "CLIENTE NOVO",
          "CLIENTE NOVO",
          "RECOMPRA",
          "CLIENTE NOVO",
          "CLIENTE NOVO",
          "RECOMPRA",
          "CLIENTE NOVO",
          "RECOMPRA",
          "CLIENTE NOVO",
          "CLIENTE NOVO",
          "CLIENTE NOVO",
          "RECOMPRA",
          "CLIENTE NOVO",
          "CLIENTE NOVO",
          "CLIENTE NOVO",
          "CLIENTE NOVO",
          "RECOMPRA",
          "CLIENTE NOVO",
          "CLIENTE NOVO",
          "CLIENTE NOVO",
          "CLIENTE NOVO",
          "CLIENTE NOVO",
          "RECOMPRA",
          "RECOMPRA",
          "CLIENTE NOVO",
          "RECOMPRA",
          "RECOMPRA",
          "RECOMPRA",
          "RECOMPRA",
          "CLIENTE NOVO",
          "CLIENTE NOVO",
          "CLIENTE NOVO",
          "RECOMPRA",
          "CLIENTE NOVO",
          "CLIENTE NOVO",
          "CLIENTE NOVO",
          "CLIENTE NOVO",
          "CLIENTE NOVO",
          "CLIENTE NOVO",
          "RECOMPRA",
          "RECOMPRA",
          "RECOMPRA",
          "RECOMPRA",
          "RECOMPRA",
          "CLIENTE NOVO",
          "CLIENTE NOVO",
          "CLIENTE NOVO",
          "CLIENTE NOVO",
          "CLIENTE NOVO",
          "CLIENTE NOVO",
          "CLIENTE NOVO",
          "CLIENTE NOVO",
          "CLIENTE NOVO",
          "RECOMPRA",
          "CLIENTE NOVO",
          "CLIENTE NOVO",
          "CLIENTE NOVO",
          "RECOMPRA",
          "RECOMPRA",
          "CLIENTE NOVO",
          "RECOMPRA",
          "CLIENTE NOVO",
          "CLIENTE NOVO",
          "RECOMPRA",
          "RECOMPRA",
          "CLIENTE NOVO",
          "CLIENTE NOVO",
          "CLIENTE NOVO",
          "CLIENTE NOVO",
          "RECOMPRA",
          "CLIENTE NOVO",
          "CLIENTE NOVO",
          "CLIENTE NOVO",
          "CLIENTE NOVO",
          "CLIENTE NOVO",
          "RECOMPRA",
          "CLIENTE NOVO",
          "RECOMPRA",
          "CLIENTE NOVO",
          "CLIENTE NOVO",
          "RECOMPRA",
          "RECOMPRA",
          "CLIENTE NOVO",
          "CLIENTE NOVO",
          "CLIENTE NOVO",
          "CLIENTE NOVO",
          "CLIENTE NOVO",
          "RECOMPRA",
          "RECOMPRA",
          "CLIENTE NOVO",
          "RECOMPRA",
          "RECOMPRA",
          "CLIENTE NOVO",
          "RECOMPRA",
          "CLIENTE NOVO",
          "CLIENTE NOVO",
          "CLIENTE NOVO",
          "RECOMPRA",
          "RECOMPRA",
          "RECOMPRA",
          "RECOMPRA",
          "RECOMPRA",
          "RECOMPRA",
          "CLIENTE NOVO",
          "CLIENTE NOVO",
          "CLIENTE NOVO",
          "CLIENTE NOVO",
          "CLIENTE NOVO",
          "CLIENTE NOVO",
          "CLIENTE NOVO",
          "RECOMPRA",
          "RECOMPRA",
          "CLIENTE NOVO",
          "RECOMPRA",
          "RECOMPRA",
          "CLIENTE NOVO",
          "RECOMPRA",
          "RECOMPRA",
          "RECOMPRA",
          "RECOMPRA",
          "CLIENTE NOVO",
          "RECOMPRA",
          "RECOMPRA",
          "CLIENTE NOVO",
          "CLIENTE NOVO",
          "RECOMPRA",
          "RECOMPRA",
          "RECOMPRA",
          "RECOMPRA",
          "RECOMPRA",
          "CLIENTE NOVO",
          "CLIENTE NOVO",
          "RECOMPRA",
          "CLIENTE NOVO",
          "CLIENTE NOVO",
          "CLIENTE NOVO",
          "CLIENTE NOVO",
          "RECOMPRA",
          "RECOMPRA",
          "RECOMPRA",
          "RECOMPRA",
          "RECOMPRA",
          "CLIENTE NOVO",
          "CLIENTE NOVO",
          "RECOMPRA",
          "RECOMPRA",
          "RECOMPRA",
          "CLIENTE NOVO",
          "CLIENTE NOVO",
          "RECOMPRA",
          "RECOMPRA",
          "RECOMPRA",
          "RECOMPRA",
          "RECOMPRA",
          "RECOMPRA",
          "CLIENTE NOVO",
          "CLIENTE NOVO",
          "CLIENTE NOVO",
          "CLIENTE NOVO",
          "CLIENTE NOVO",
          "RECOMPRA",
          "CLIENTE NOVO",
          "RECOMPRA",
          "CLIENTE NOVO",
          "CLIENTE NOVO",
          "CLIENTE NOVO",
          "CLIENTE NOVO",
          "CLIENTE NOVO",
          "CLIENTE NOVO",
          "RECOMPRA",
          "CLIENTE NOVO",
          "CLIENTE NOVO",
          "CLIENTE NOVO",
          "CLIENTE NOVO",
          "CLIENTE NOVO",
          "CLIENTE NOVO",
          "CLIENTE NOVO",
          "RECOMPRA",
          "CLIENTE NOVO",
          "RECOMPRA",
          "CLIENTE NOVO",
          "CLIENTE NOVO",
          "CLIENTE NOVO",
          "RECOMPRA",
          "CLIENTE NOVO",
          "RECOMPRA",
          "RECOMPRA",
          "RECOMPRA",
          "RECOMPRA",
          "RECOMPRA",
          "CLIENTE NOVO",
          "CLIENTE NOVO",
          "CLIENTE NOVO",
          "RECOMPRA",
          "RECOMPRA",
          "RECOMPRA",
          "CLIENTE NOVO",
          "CLIENTE NOVO",
          "RECOMPRA",
          "CLIENTE NOVO",
          "CLIENTE NOVO",
          "RECOMPRA",
          "CLIENTE NOVO",
          "RECOMPRA",
          "RECOMPRA",
          "RECOMPRA",
          "CLIENTE NOVO",
          "CLIENTE NOVO",
          "CLIENTE NOVO",
          "CLIENTE NOVO",
          "RECOMPRA",
          "CLIENTE NOVO",
          "CLIENTE NOVO",
          "RECOMPRA",
          "CLIENTE NOVO",
          "RECOMPRA",
          "CLIENTE NOVO",
          "CLIENTE NOVO",
          "CLIENTE NOVO",
          "CLIENTE NOVO",
          "RECOMPRA",
          "RECOMPRA",
          "CLIENTE NOVO",
          "CLIENTE NOVO",
          "RECOMPRA",
          "CLIENTE NOVO",
          "RECOMPRA",
          "RECOMPRA",
          "RECOMPRA",
          "CLIENTE NOVO",
          "CLIENTE NOVO",
          "RECOMPRA",
          "RECOMPRA",
          "CLIENTE NOVO",
          "CLIENTE NOVO",
          "CLIENTE NOVO",
          "RECOMPRA",
          "CLIENTE NOVO",
          "CLIENTE NOVO",
          "CLIENTE NOVO",
          "CLIENTE NOVO",
          "CLIENTE NOVO",
          "RECOMPRA",
          "CLIENTE NOVO",
          "RECOMPRA",
          "CLIENTE NOVO",
          "CLIENTE NOVO",
          "RECOMPRA",
          "CLIENTE NOVO",
          "CLIENTE NOVO",
          "CLIENTE NOVO",
          "CLIENTE NOVO",
          "CLIENTE NOVO",
          "CLIENTE NOVO",
          "RECOMPRA",
          "RECOMPRA",
          "CLIENTE NOVO",
          "CLIENTE NOVO",
          "CLIENTE NOVO",
          "RECOMPRA",
          "RECOMPRA",
          "RECOMPRA",
          "RECOMPRA",
          "RECOMPRA",
          "CLIENTE NOVO",
          "CLIENTE NOVO",
          "CLIENTE NOVO",
          "CLIENTE NOVO",
          "CLIENTE NOVO",
          "RECOMPRA",
          "RECOMPRA",
          "CLIENTE NOVO",
          "CLIENTE NOVO",
          "RECOMPRA",
          "CLIENTE NOVO",
          "RECOMPRA",
          "CLIENTE NOVO",
          "RECOMPRA",
          "RECOMPRA",
          "CLIENTE NOVO",
          "CLIENTE NOVO",
          "CLIENTE NOVO",
          "CLIENTE NOVO",
          "RECOMPRA",
          "CLIENTE NOVO",
          "RECOMPRA",
          "RECOMPRA",
          "CLIENTE NOVO",
          "RECOMPRA",
          "CLIENTE NOVO",
          "RECOMPRA",
          "RECOMPRA",
          "CLIENTE NOVO",
          "CLIENTE NOVO",
          "CLIENTE NOVO",
          "CLIENTE NOVO",
          "RECOMPRA",
          "RECOMPRA",
          "CLIENTE NOVO",
          "CLIENTE NOVO",
          "CLIENTE NOVO",
          "RECOMPRA",
          "CLIENTE NOVO",
          "RECOMPRA",
          "RECOMPRA",
          "CLIENTE NOVO",
          "RECOMPRA",
          "RECOMPRA",
          "RECOMPRA",
          "RECOMPRA",
          "RECOMPRA",
          "RECOMPRA",
          "RECOMPRA",
          "CLIENTE NOVO",
          "CLIENTE NOVO",
          "CLIENTE NOVO",
          "RECOMPRA",
          "CLIENTE NOVO",
          "CLIENTE NOVO",
          "CLIENTE NOVO",
          "RECOMPRA",
          "CLIENTE NOVO",
          "CLIENTE NOVO",
          "CLIENTE NOVO",
          "RECOMPRA",
          "CLIENTE NOVO",
          "CLIENTE NOVO",
          "CLIENTE NOVO",
          "RECOMPRA",
          "CLIENTE NOVO",
          "RECOMPRA",
          "CLIENTE NOVO",
          "CLIENTE NOVO",
          "CLIENTE NOVO",
          "CLIENTE NOVO",
          "CLIENTE NOVO",
          "CLIENTE NOVO",
          "CLIENTE NOVO",
          "CLIENTE NOVO",
          "CLIENTE NOVO",
          "CLIENTE NOVO",
          "CLIENTE NOVO",
          "RECOMPRA",
          "CLIENTE NOVO",
          "CLIENTE NOVO",
          "RECOMPRA",
          "CLIENTE NOVO",
          "CLIENTE NOVO",
          "CLIENTE NOVO",
          "RECOMPRA",
          "RECOMPRA",
          "RECOMPRA",
          "RECOMPRA",
          "CLIENTE NOVO",
          "RECOMPRA",
          "CLIENTE NOVO",
          "CLIENTE NOVO",
          "CLIENTE NOVO",
          "RECOMPRA",
          "RECOMPRA",
          "CLIENTE NOVO",
          "RECOMPRA",
          "CLIENTE NOVO",
          "CLIENTE NOVO",
          "CLIENTE NOVO",
          "CLIENTE NOVO",
          "CLIENTE NOVO",
          "RECOMPRA",
          "CLIENTE NOVO",
          "RECOMPRA",
          "CLIENTE NOVO",
          "RECOMPRA",
          "RECOMPRA",
          "CLIENTE NOVO",
          "RECOMPRA",
          "RECOMPRA",
          "CLIENTE NOVO",
          "RECOMPRA",
          "RECOMPRA",
          "RECOMPRA",
          "CLIENTE NOVO",
          "RECOMPRA",
          "CLIENTE NOVO",
          "CLIENTE NOVO",
          "CLIENTE NOVO",
          "CLIENTE NOVO",
          "CLIENTE NOVO",
          "CLIENTE NOVO",
          "CLIENTE NOVO",
          "CLIENTE NOVO",
          "CLIENTE NOVO",
          "CLIENTE NOVO",
          "CLIENTE NOVO",
          "CLIENTE NOVO",
          "CLIENTE NOVO",
          "RECOMPRA",
          "RECOMPRA",
          "RECOMPRA",
          "RECOMPRA",
          "CLIENTE NOVO",
          "RECOMPRA",
          "CLIENTE NOVO",
          "CLIENTE NOVO",
          "RECOMPRA",
          "RECOMPRA",
          "CLIENTE NOVO",
          "CLIENTE NOVO",
          "RECOMPRA",
          "RECOMPRA",
          "RECOMPRA",
          "CLIENTE NOVO",
          "CLIENTE NOVO",
          "CLIENTE NOVO",
          "CLIENTE NOVO",
          "CLIENTE NOVO",
          "CLIENTE NOVO",
          "CLIENTE NOVO",
          "RECOMPRA",
          "CLIENTE NOVO",
          "CLIENTE NOVO",
          "CLIENTE NOVO",
          "RECOMPRA",
          "RECOMPRA",
          "CLIENTE NOVO",
          "RECOMPRA",
          "RECOMPRA",
          "CLIENTE NOVO",
          "CLIENTE NOVO",
          "RECOMPRA",
          "CLIENTE NOVO",
          "CLIENTE NOVO",
          "CLIENTE NOVO",
          "RECOMPRA",
          "RECOMPRA",
          "RECOMPRA",
          "CLIENTE NOVO",
          "RECOMPRA",
          "CLIENTE NOVO",
          "CLIENTE NOVO",
          "RECOMPRA",
          "CLIENTE NOVO",
          "CLIENTE NOVO",
          "CLIENTE NOVO",
          "RECOMPRA",
          "CLIENTE NOVO",
          "CLIENTE NOVO",
          "CLIENTE NOVO",
          "CLIENTE NOVO",
          "RECOMPRA",
          "RECOMPRA",
          "RECOMPRA",
          "CLIENTE NOVO",
          "CLIENTE NOVO",
          "CLIENTE NOVO",
          "CLIENTE NOVO",
          "RECOMPRA",
          "RECOMPRA",
          "CLIENTE NOVO",
          "CLIENTE NOVO",
          "RECOMPRA",
          "RECOMPRA",
          "RECOMPRA",
          "RECOMPRA",
          "CLIENTE NOVO",
          "RECOMPRA",
          "CLIENTE NOVO",
          "RECOMPRA",
          "RECOMPRA",
          "RECOMPRA",
          "CLIENTE NOVO",
          "CLIENTE NOVO",
          "CLIENTE NOVO",
          "CLIENTE NOVO",
          "CLIENTE NOVO",
          "CLIENTE NOVO",
          "CLIENTE NOVO",
          "RECOMPRA",
          "CLIENTE NOVO",
          "RECOMPRA",
          "CLIENTE NOVO",
          "RECOMPRA",
          "CLIENTE NOVO",
          "RECOMPRA",
          "RECOMPRA",
          "RECOMPRA",
          "CLIENTE NOVO",
          "CLIENTE NOVO",
          "CLIENTE NOVO",
          "CLIENTE NOVO",
          "CLIENTE NOVO",
          "RECOMPRA",
          "RECOMPRA",
          "CLIENTE NOVO",
          "CLIENTE NOVO",
          "CLIENTE NOVO",
          "RECOMPRA",
          "RECOMPRA",
          "RECOMPRA",
          "RECOMPRA",
          "CLIENTE NOVO",
          "CLIENTE NOVO",
          "CLIENTE NOVO",
          "CLIENTE NOVO",
          "CLIENTE NOVO",
          "CLIENTE NOVO",
          "RECOMPRA",
          "CLIENTE NOVO",
          "CLIENTE NOVO",
          "CLIENTE NOVO",
          "CLIENTE NOVO",
          "CLIENTE NOVO",
          "CLIENTE NOVO",
          "CLIENTE NOVO",
          "CLIENTE NOVO",
          "RECOMPRA",
          "CLIENTE NOVO",
          "CLIENTE NOVO",
          "RECOMPRA",
          "CLIENTE NOVO",
          "RECOMPRA",
          "CLIENTE NOVO",
          "CLIENTE NOVO",
          "CLIENTE NOVO",
          "RECOMPRA",
          "CLIENTE NOVO",
          "CLIENTE NOVO",
          "RECOMPRA",
          "RECOMPRA",
          "RECOMPRA",
          "RECOMPRA",
          "RECOMPRA",
          "CLIENTE NOVO",
          "RECOMPRA",
          "CLIENTE NOVO",
          "RECOMPRA",
          "RECOMPRA",
          "RECOMPRA",
          "RECOMPRA",
          "RECOMPRA",
          "CLIENTE NOVO",
          "CLIENTE NOVO",
          "RECOMPRA",
          "RECOMPRA",
          "RECOMPRA",
          "RECOMPRA",
          "CLIENTE NOVO",
          "RECOMPRA",
          "CLIENTE NOVO",
          "CLIENTE NOVO",
          "CLIENTE NOVO",
          "CLIENTE NOVO",
          "RECOMPRA",
          "CLIENTE NOVO",
          "CLIENTE NOVO",
          "CLIENTE NOVO",
          "RECOMPRA",
          "RECOMPRA",
          "RECOMPRA",
          "CLIENTE NOVO",
          "CLIENTE NOVO",
          "CLIENTE NOVO",
          "CLIENTE NOVO",
          "CLIENTE NOVO",
          "CLIENTE NOVO",
          "CLIENTE NOVO",
          "CLIENTE NOVO",
          "RECOMPRA",
          "CLIENTE NOVO",
          "RECOMPRA",
          "CLIENTE NOVO",
          "CLIENTE NOVO",
          "CLIENTE NOVO",
          "CLIENTE NOVO",
          "CLIENTE NOVO",
          "CLIENTE NOVO",
          "RECOMPRA",
          "RECOMPRA",
          "CLIENTE NOVO",
          "RECOMPRA",
          "RECOMPRA",
          "RECOMPRA",
          "CLIENTE NOVO",
          "CLIENTE NOVO",
          "CLIENTE NOVO",
          "RECOMPRA",
          "RECOMPRA",
          "RECOMPRA",
          "CLIENTE NOVO",
          "CLIENTE NOVO",
          "CLIENTE NOVO",
          "RECOMPRA",
          "RECOMPRA",
          "CLIENTE NOVO",
          "CLIENTE NOVO",
          "CLIENTE NOVO",
          "CLIENTE NOVO",
          "RECOMPRA",
          "RECOMPRA",
          "CLIENTE NOVO",
          "CLIENTE NOVO",
          "RECOMPRA",
          "RECOMPRA",
          "CLIENTE NOVO",
          "RECOMPRA",
          "CLIENTE NOVO",
          "RECOMPRA",
          "CLIENTE NOVO",
          "CLIENTE NOVO",
          "CLIENTE NOVO",
          "CLIENTE NOVO",
          "RECOMPRA",
          "RECOMPRA",
          "CLIENTE NOVO",
          "RECOMPRA",
          "CLIENTE NOVO",
          "CLIENTE NOVO",
          "CLIENTE NOVO",
          "CLIENTE NOVO",
          "CLIENTE NOVO",
          "CLIENTE NOVO",
          "CLIENTE NOVO",
          "RECOMPRA",
          "RECOMPRA",
          "RECOMPRA",
          "CLIENTE NOVO",
          "CLIENTE NOVO",
          "CLIENTE NOVO",
          "RECOMPRA",
          "CLIENTE NOVO",
          "CLIENTE NOVO",
          "CLIENTE NOVO",
          "CLIENTE NOVO",
          "CLIENTE NOVO",
          "CLIENTE NOVO",
          "RECOMPRA",
          "RECOMPRA",
          "CLIENTE NOVO",
          "CLIENTE NOVO",
          "CLIENTE NOVO",
          "CLIENTE NOVO",
          "CLIENTE NOVO",
          "RECOMPRA",
          "RECOMPRA",
          "CLIENTE NOVO",
          "CLIENTE NOVO",
          "RECOMPRA",
          "RECOMPRA",
          "CLIENTE NOVO",
          "CLIENTE NOVO",
          "CLIENTE NOVO",
          "CLIENTE NOVO",
          "CLIENTE NOVO",
          "RECOMPRA",
          "RECOMPRA",
          "RECOMPRA",
          "RECOMPRA",
          "RECOMPRA",
          "RECOMPRA",
          "RECOMPRA",
          "RECOMPRA",
          "RECOMPRA",
          "RECOMPRA",
          "RECOMPRA",
          "RECOMPRA",
          "RECOMPRA",
          "RECOMPRA",
          "RECOMPRA",
          "CLIENTE NOVO",
          "RECOMPRA",
          "CLIENTE NOVO",
          "CLIENTE NOVO",
          "RECOMPRA",
          "CLIENTE NOVO",
          "CLIENTE NOVO",
          "CLIENTE NOVO",
          "RECOMPRA",
          "CLIENTE NOVO",
          "RECOMPRA",
          "CLIENTE NOVO",
          "RECOMPRA",
          "CLIENTE NOVO",
          "RECOMPRA",
          "CLIENTE NOVO",
          "CLIENTE NOVO",
          "CLIENTE NOVO",
          "CLIENTE NOVO",
          "CLIENTE NOVO",
          "CLIENTE NOVO",
          "RECOMPRA",
          "RECOMPRA",
          "RECOMPRA",
          "RECOMPRA",
          "RECOMPRA",
          "RECOMPRA",
          "CLIENTE NOVO",
          "RECOMPRA",
          "CLIENTE NOVO",
          "RECOMPRA",
          "CLIENTE NOVO",
          "CLIENTE NOVO",
          "CLIENTE NOVO",
          "RECOMPRA",
          "RECOMPRA",
          "RECOMPRA",
          "CLIENTE NOVO",
          "RECOMPRA",
          "RECOMPRA",
          "RECOMPRA",
          "RECOMPRA",
          "CLIENTE NOVO",
          "CLIENTE NOVO",
          "CLIENTE NOVO",
          "CLIENTE NOVO",
          "CLIENTE NOVO",
          "CLIENTE NOVO",
          "CLIENTE NOVO",
          "RECOMPRA",
          "CLIENTE NOVO",
          "CLIENTE NOVO",
          "RECOMPRA",
          "CLIENTE NOVO",
          "CLIENTE NOVO",
          "CLIENTE NOVO",
          "CLIENTE NOVO",
          "RECOMPRA",
          "CLIENTE NOVO",
          "RECOMPRA",
          "CLIENTE NOVO",
          "CLIENTE NOVO",
          "CLIENTE NOVO",
          "RECOMPRA",
          "RECOMPRA",
          "CLIENTE NOVO",
          "RECOMPRA",
          "RECOMPRA",
          "CLIENTE NOVO",
          "CLIENTE NOVO",
          "RECOMPRA",
          "RECOMPRA",
          "CLIENTE NOVO",
          "RECOMPRA",
          "RECOMPRA",
          "RECOMPRA",
          "CLIENTE NOVO",
          "RECOMPRA",
          "RECOMPRA",
          "CLIENTE NOVO",
          "CLIENTE NOVO",
          "RECOMPRA",
          "RECOMPRA",
          "CLIENTE NOVO",
          "CLIENTE NOVO",
          "CLIENTE NOVO",
          "CLIENTE NOVO",
          "RECOMPRA",
          "RECOMPRA",
          "RECOMPRA",
          "RECOMPRA",
          "CLIENTE NOVO",
          "CLIENTE NOVO",
          "CLIENTE NOVO",
          "RECOMPRA",
          "CLIENTE NOVO",
          "CLIENTE NOVO",
          "CLIENTE NOVO",
          "CLIENTE NOVO",
          "CLIENTE NOVO",
          "CLIENTE NOVO",
          "CLIENTE NOVO",
          "CLIENTE NOVO",
          "CLIENTE NOVO",
          "CLIENTE NOVO",
          "CLIENTE NOVO",
          "RECOMPRA",
          "RECOMPRA",
          "CLIENTE NOVO",
          "CLIENTE NOVO",
          "CLIENTE NOVO",
          "CLIENTE NOVO",
          "CLIENTE NOVO",
          "CLIENTE NOVO",
          "CLIENTE NOVO",
          "CLIENTE NOVO",
          "CLIENTE NOVO",
          "CLIENTE NOVO",
          "CLIENTE NOVO",
          "CLIENTE NOVO",
          "CLIENTE NOVO",
          "CLIENTE NOVO",
          "CLIENTE NOVO",
          "RECOMPRA",
          "RECOMPRA",
          "CLIENTE NOVO",
          "CLIENTE NOVO",
          "CLIENTE NOVO",
          "CLIENTE NOVO",
          "CLIENTE NOVO",
          "RECOMPRA",
          "CLIENTE NOVO",
          "CLIENTE NOVO",
          "CLIENTE NOVO",
          "CLIENTE NOVO",
          "CLIENTE NOVO",
          "CLIENTE NOVO",
          "CLIENTE NOVO",
          "RECOMPRA",
          "CLIENTE NOVO",
          "CLIENTE NOVO",
          "CLIENTE NOVO",
          "CLIENTE NOVO",
          "CLIENTE NOVO",
          "CLIENTE NOVO",
          "CLIENTE NOVO",
          "CLIENTE NOVO",
          "CLIENTE NOVO",
          "CLIENTE NOVO",
          "CLIENTE NOVO",
          "RECOMPRA",
          "RECOMPRA",
          "RECOMPRA",
          "RECOMPRA",
          "CLIENTE NOVO",
          "CLIENTE NOVO",
          "CLIENTE NOVO",
          "CLIENTE NOVO",
          "CLIENTE NOVO",
          "CLIENTE NOVO",
          "CLIENTE NOVO",
          "CLIENTE NOVO",
          "CLIENTE NOVO",
          "RECOMPRA",
          "RECOMPRA",
          "RECOMPRA",
          "CLIENTE NOVO",
          "RECOMPRA",
          "CLIENTE NOVO",
          "RECOMPRA",
          "CLIENTE NOVO",
          "CLIENTE NOVO",
          "CLIENTE NOVO",
          "CLIENTE NOVO",
          "CLIENTE NOVO",
          "CLIENTE NOVO",
          "CLIENTE NOVO",
          "CLIENTE NOVO",
          "CLIENTE NOVO",
          "CLIENTE NOVO",
          "CLIENTE NOVO",
          "CLIENTE NOVO",
          "CLIENTE NOVO",
          "CLIENTE NOVO",
          "CLIENTE NOVO",
          "CLIENTE NOVO",
          "CLIENTE NOVO",
          "CLIENTE NOVO",
          "CLIENTE NOVO",
          "CLIENTE NOVO",
          "CLIENTE NOVO",
          "CLIENTE NOVO",
          "CLIENTE NOVO",
          "CLIENTE NOVO",
          "RECOMPRA",
          "RECOMPRA",
          "RECOMPRA",
          "RECOMPRA",
          "RECOMPRA",
          "RECOMPRA",
          "CLIENTE NOVO",
          "CLIENTE NOVO",
          "RECOMPRA",
          "CLIENTE NOVO",
          "CLIENTE NOVO",
          "CLIENTE NOVO",
          "RECOMPRA",
          "CLIENTE NOVO",
          "CLIENTE NOVO",
          "CLIENTE NOVO",
          "CLIENTE NOVO",
          "CLIENTE NOVO",
          "CLIENTE NOVO",
          "CLIENTE NOVO",
          "CLIENTE NOVO",
          "RECOMPRA",
          "CLIENTE NOVO",
          "CLIENTE NOVO",
          "CLIENTE NOVO",
          "CLIENTE NOVO",
          "CLIENTE NOVO",
          "CLIENTE NOVO",
          "RECOMPRA",
          "RECOMPRA",
          "RECOMPRA",
          "RECOMPRA",
          "CLIENTE NOVO",
          "CLIENTE NOVO",
          "CLIENTE NOVO",
          "CLIENTE NOVO",
          "CLIENTE NOVO",
          "CLIENTE NOVO",
          "CLIENTE NOVO",
          "CLIENTE NOVO",
          "RECOMPRA",
          "CLIENTE NOVO",
          "RECOMPRA",
          "CLIENTE NOVO",
          "RECOMPRA",
          "CLIENTE NOVO",
          "RECOMPRA",
          "CLIENTE NOVO",
          "CLIENTE NOVO",
          "RECOMPRA",
          "CLIENTE NOVO",
          "CLIENTE NOVO",
          "CLIENTE NOVO",
          "CLIENTE NOVO",
          "RECOMPRA",
          "RECOMPRA",
          "CLIENTE NOVO",
          "CLIENTE NOVO",
          "RECOMPRA",
          "RECOMPRA",
          "RECOMPRA",
          "CLIENTE NOVO",
          "RECOMPRA",
          "CLIENTE NOVO",
          "CLIENTE NOVO",
          "CLIENTE NOVO",
          "CLIENTE NOVO",
          "CLIENTE NOVO",
          "RECOMPRA",
          "RECOMPRA",
          "CLIENTE NOVO",
          "CLIENTE NOVO",
          "CLIENTE NOVO",
          "RECOMPRA",
          "CLIENTE NOVO",
          "RECOMPRA",
          "RECOMPRA",
          "RECOMPRA",
          "RECOMPRA",
          "RECOMPRA",
          "RECOMPRA",
          "RECOMPRA",
          "RECOMPRA",
          "RECOMPRA",
          "RECOMPRA",
          "CLIENTE NOVO",
          "CLIENTE NOVO",
          "RECOMPRA",
          "RECOMPRA",
          "RECOMPRA",
          "CLIENTE NOVO",
          "CLIENTE NOVO",
          "RECOMPRA",
          "CLIENTE NOVO",
          "CLIENTE NOVO",
          "CLIENTE NOVO",
          "CLIENTE NOVO",
          "CLIENTE NOVO",
          "CLIENTE NOVO",
          "RECOMPRA",
          "CLIENTE NOVO",
          "CLIENTE NOVO",
          "RECOMPRA",
          "CLIENTE NOVO",
          "RECOMPRA",
          "CLIENTE NOVO",
          "CLIENTE NOVO",
          "RECOMPRA",
          "RECOMPRA",
          "CLIENTE NOVO",
          "CLIENTE NOVO",
          "RECOMPRA",
          "CLIENTE NOVO",
          "CLIENTE NOVO",
          "RECOMPRA",
          "CLIENTE NOVO",
          "RECOMPRA",
          "CLIENTE NOVO",
          "CLIENTE NOVO",
          "CLIENTE NOVO",
          "RECOMPRA",
          "RECOMPRA",
          "CLIENTE NOVO",
          "CLIENTE NOVO",
          "CLIENTE NOVO",
          "RECOMPRA",
          "RECOMPRA",
          "CLIENTE NOVO",
          "CLIENTE NOVO",
          "RECOMPRA",
          "RECOMPRA",
          "RECOMPRA",
          "CLIENTE NOVO",
          "CLIENTE NOVO",
          "RECOMPRA",
          "RECOMPRA",
          "RECOMPRA",
          "CLIENTE NOVO",
          "CLIENTE NOVO",
          "CLIENTE NOVO",
          "CLIENTE NOVO",
          "CLIENTE NOVO",
          "CLIENTE NOVO"
         ],
         "legendgroup": "",
         "marker": {
          "colors": [
           "rgb(0,73,46)",
           "rgb(0,124,78)",
           "rgb(0,124,78)",
           "rgb(0,124,78)",
           "rgb(0,124,78)",
           "rgb(0,124,78)",
           "rgb(0,124,78)",
           "rgb(0,124,78)",
           "rgb(0,124,78)",
           "rgb(0,124,78)",
           "rgb(0,73,46)",
           "rgb(0,124,78)",
           "rgb(0,124,78)",
           "rgb(0,124,78)",
           "rgb(0,73,46)",
           "rgb(0,73,46)",
           "rgb(0,73,46)",
           "rgb(0,73,46)",
           "rgb(0,73,46)",
           "rgb(0,73,46)",
           "rgb(0,73,46)",
           "rgb(0,73,46)",
           "rgb(0,73,46)",
           "rgb(0,73,46)",
           "rgb(0,73,46)",
           "rgb(0,73,46)",
           "rgb(0,73,46)",
           "rgb(0,73,46)",
           "rgb(0,73,46)",
           "rgb(0,73,46)",
           "rgb(0,73,46)",
           "rgb(0,73,46)",
           "rgb(0,73,46)",
           "rgb(0,124,78)",
           "rgb(0,73,46)",
           "rgb(0,73,46)",
           "rgb(0,73,46)",
           "rgb(0,73,46)",
           "rgb(0,124,78)",
           "rgb(0,124,78)",
           "rgb(0,124,78)",
           "rgb(0,124,78)",
           "rgb(0,73,46)",
           "rgb(0,73,46)",
           "rgb(0,73,46)",
           "rgb(0,73,46)",
           "rgb(0,124,78)",
           "rgb(0,73,46)",
           "rgb(0,73,46)",
           "rgb(0,73,46)",
           "rgb(0,73,46)",
           "rgb(0,73,46)",
           "rgb(0,124,78)",
           "rgb(0,124,78)",
           "rgb(0,124,78)",
           "rgb(0,73,46)",
           "rgb(0,124,78)",
           "rgb(0,73,46)",
           "rgb(0,73,46)",
           "rgb(0,124,78)",
           "rgb(0,124,78)",
           "rgb(0,73,46)",
           "rgb(0,73,46)",
           "rgb(0,73,46)",
           "rgb(0,73,46)",
           "rgb(0,73,46)",
           "rgb(0,73,46)",
           "rgb(0,73,46)",
           "rgb(0,73,46)",
           "rgb(0,73,46)",
           "rgb(0,73,46)",
           "rgb(0,73,46)",
           "rgb(0,124,78)",
           "rgb(0,73,46)",
           "rgb(0,124,78)",
           "rgb(0,73,46)",
           "rgb(0,73,46)",
           "rgb(0,124,78)",
           "rgb(0,124,78)",
           "rgb(0,124,78)",
           "rgb(0,73,46)",
           "rgb(0,124,78)",
           "rgb(0,73,46)",
           "rgb(0,73,46)",
           "rgb(0,124,78)",
           "rgb(0,124,78)",
           "rgb(0,124,78)",
           "rgb(0,73,46)",
           "rgb(0,73,46)",
           "rgb(0,73,46)",
           "rgb(0,73,46)",
           "rgb(0,73,46)",
           "rgb(0,73,46)",
           "rgb(0,73,46)",
           "rgb(0,73,46)",
           "rgb(0,73,46)",
           "rgb(0,73,46)",
           "rgb(0,73,46)",
           "rgb(0,124,78)",
           "rgb(0,73,46)",
           "rgb(0,124,78)",
           "rgb(0,73,46)",
           "rgb(0,73,46)",
           "rgb(0,73,46)",
           "rgb(0,73,46)",
           "rgb(0,73,46)",
           "rgb(0,73,46)",
           "rgb(0,124,78)",
           "rgb(0,124,78)",
           "rgb(0,124,78)",
           "rgb(0,124,78)",
           "rgb(0,73,46)",
           "rgb(0,124,78)",
           "rgb(0,124,78)",
           "rgb(0,73,46)",
           "rgb(0,124,78)",
           "rgb(0,124,78)",
           "rgb(0,124,78)",
           "rgb(0,73,46)",
           "rgb(0,124,78)",
           "rgb(0,73,46)",
           "rgb(0,124,78)",
           "rgb(0,124,78)",
           "rgb(0,124,78)",
           "rgb(0,124,78)",
           "rgb(0,124,78)",
           "rgb(0,124,78)",
           "rgb(0,124,78)",
           "rgb(0,124,78)",
           "rgb(0,124,78)",
           "rgb(0,73,46)",
           "rgb(0,124,78)",
           "rgb(0,124,78)",
           "rgb(0,73,46)",
           "rgb(0,73,46)",
           "rgb(0,124,78)",
           "rgb(0,73,46)",
           "rgb(0,124,78)",
           "rgb(0,124,78)",
           "rgb(0,73,46)",
           "rgb(0,124,78)",
           "rgb(0,73,46)",
           "rgb(0,124,78)",
           "rgb(0,124,78)",
           "rgb(0,124,78)",
           "rgb(0,124,78)",
           "rgb(0,124,78)",
           "rgb(0,73,46)",
           "rgb(0,73,46)",
           "rgb(0,73,46)",
           "rgb(0,124,78)",
           "rgb(0,124,78)",
           "rgb(0,124,78)",
           "rgb(0,124,78)",
           "rgb(0,73,46)",
           "rgb(0,73,46)",
           "rgb(0,124,78)",
           "rgb(0,124,78)",
           "rgb(0,124,78)",
           "rgb(0,124,78)",
           "rgb(0,73,46)",
           "rgb(0,73,46)",
           "rgb(0,124,78)",
           "rgb(0,124,78)",
           "rgb(0,73,46)",
           "rgb(0,73,46)",
           "rgb(0,73,46)",
           "rgb(0,124,78)",
           "rgb(0,124,78)",
           "rgb(0,73,46)",
           "rgb(0,124,78)",
           "rgb(0,73,46)",
           "rgb(0,73,46)",
           "rgb(0,124,78)",
           "rgb(0,124,78)",
           "rgb(0,73,46)",
           "rgb(0,124,78)",
           "rgb(0,124,78)",
           "rgb(0,124,78)",
           "rgb(0,124,78)",
           "rgb(0,124,78)",
           "rgb(0,124,78)",
           "rgb(0,73,46)",
           "rgb(0,73,46)",
           "rgb(0,124,78)",
           "rgb(0,73,46)",
           "rgb(0,73,46)",
           "rgb(0,73,46)",
           "rgb(0,124,78)",
           "rgb(0,124,78)",
           "rgb(0,73,46)",
           "rgb(0,73,46)",
           "rgb(0,124,78)",
           "rgb(0,124,78)",
           "rgb(0,124,78)",
           "rgb(0,124,78)",
           "rgb(0,124,78)",
           "rgb(0,73,46)",
           "rgb(0,73,46)",
           "rgb(0,124,78)",
           "rgb(0,73,46)",
           "rgb(0,73,46)",
           "rgb(0,73,46)",
           "rgb(0,124,78)",
           "rgb(0,73,46)",
           "rgb(0,124,78)",
           "rgb(0,124,78)",
           "rgb(0,73,46)",
           "rgb(0,124,78)",
           "rgb(0,124,78)",
           "rgb(0,73,46)",
           "rgb(0,73,46)",
           "rgb(0,124,78)",
           "rgb(0,124,78)",
           "rgb(0,124,78)",
           "rgb(0,73,46)",
           "rgb(0,124,78)",
           "rgb(0,73,46)",
           "rgb(0,124,78)",
           "rgb(0,124,78)",
           "rgb(0,124,78)",
           "rgb(0,124,78)",
           "rgb(0,73,46)",
           "rgb(0,124,78)",
           "rgb(0,73,46)",
           "rgb(0,124,78)",
           "rgb(0,124,78)",
           "rgb(0,73,46)",
           "rgb(0,124,78)",
           "rgb(0,124,78)",
           "rgb(0,73,46)",
           "rgb(0,73,46)",
           "rgb(0,73,46)",
           "rgb(0,124,78)",
           "rgb(0,73,46)",
           "rgb(0,124,78)",
           "rgb(0,73,46)",
           "rgb(0,73,46)",
           "rgb(0,73,46)",
           "rgb(0,73,46)",
           "rgb(0,124,78)",
           "rgb(0,124,78)",
           "rgb(0,73,46)",
           "rgb(0,124,78)",
           "rgb(0,124,78)",
           "rgb(0,124,78)",
           "rgb(0,73,46)",
           "rgb(0,73,46)",
           "rgb(0,73,46)",
           "rgb(0,124,78)",
           "rgb(0,73,46)",
           "rgb(0,73,46)",
           "rgb(0,73,46)",
           "rgb(0,73,46)",
           "rgb(0,124,78)",
           "rgb(0,73,46)",
           "rgb(0,124,78)",
           "rgb(0,124,78)",
           "rgb(0,124,78)",
           "rgb(0,124,78)",
           "rgb(0,124,78)",
           "rgb(0,124,78)",
           "rgb(0,124,78)",
           "rgb(0,124,78)",
           "rgb(0,73,46)",
           "rgb(0,73,46)",
           "rgb(0,73,46)",
           "rgb(0,73,46)",
           "rgb(0,73,46)",
           "rgb(0,73,46)",
           "rgb(0,73,46)",
           "rgb(0,73,46)",
           "rgb(0,73,46)",
           "rgb(0,73,46)",
           "rgb(0,124,78)",
           "rgb(0,73,46)",
           "rgb(0,73,46)",
           "rgb(0,73,46)",
           "rgb(0,124,78)",
           "rgb(0,124,78)",
           "rgb(0,124,78)",
           "rgb(0,73,46)",
           "rgb(0,124,78)",
           "rgb(0,73,46)",
           "rgb(0,73,46)",
           "rgb(0,73,46)",
           "rgb(0,73,46)",
           "rgb(0,73,46)",
           "rgb(0,124,78)",
           "rgb(0,73,46)",
           "rgb(0,124,78)",
           "rgb(0,124,78)",
           "rgb(0,73,46)",
           "rgb(0,73,46)",
           "rgb(0,73,46)",
           "rgb(0,124,78)",
           "rgb(0,73,46)",
           "rgb(0,124,78)",
           "rgb(0,124,78)",
           "rgb(0,73,46)",
           "rgb(0,124,78)",
           "rgb(0,73,46)",
           "rgb(0,73,46)",
           "rgb(0,73,46)",
           "rgb(0,124,78)",
           "rgb(0,73,46)",
           "rgb(0,73,46)",
           "rgb(0,73,46)",
           "rgb(0,73,46)",
           "rgb(0,73,46)",
           "rgb(0,73,46)",
           "rgb(0,124,78)",
           "rgb(0,73,46)",
           "rgb(0,124,78)",
           "rgb(0,124,78)",
           "rgb(0,73,46)",
           "rgb(0,73,46)",
           "rgb(0,124,78)",
           "rgb(0,73,46)",
           "rgb(0,124,78)",
           "rgb(0,124,78)",
           "rgb(0,124,78)",
           "rgb(0,124,78)",
           "rgb(0,73,46)",
           "rgb(0,73,46)",
           "rgb(0,73,46)",
           "rgb(0,124,78)",
           "rgb(0,73,46)",
           "rgb(0,124,78)",
           "rgb(0,73,46)",
           "rgb(0,73,46)",
           "rgb(0,124,78)",
           "rgb(0,73,46)",
           "rgb(0,124,78)",
           "rgb(0,124,78)",
           "rgb(0,73,46)",
           "rgb(0,73,46)",
           "rgb(0,73,46)",
           "rgb(0,124,78)",
           "rgb(0,124,78)",
           "rgb(0,124,78)",
           "rgb(0,73,46)",
           "rgb(0,73,46)",
           "rgb(0,73,46)",
           "rgb(0,73,46)",
           "rgb(0,73,46)",
           "rgb(0,73,46)",
           "rgb(0,124,78)",
           "rgb(0,73,46)",
           "rgb(0,124,78)",
           "rgb(0,124,78)",
           "rgb(0,73,46)",
           "rgb(0,124,78)",
           "rgb(0,124,78)",
           "rgb(0,124,78)",
           "rgb(0,124,78)",
           "rgb(0,73,46)",
           "rgb(0,73,46)",
           "rgb(0,73,46)",
           "rgb(0,73,46)",
           "rgb(0,124,78)",
           "rgb(0,124,78)",
           "rgb(0,73,46)",
           "rgb(0,124,78)",
           "rgb(0,124,78)",
           "rgb(0,73,46)",
           "rgb(0,73,46)",
           "rgb(0,73,46)",
           "rgb(0,73,46)",
           "rgb(0,73,46)",
           "rgb(0,124,78)",
           "rgb(0,73,46)",
           "rgb(0,73,46)",
           "rgb(0,73,46)",
           "rgb(0,73,46)",
           "rgb(0,124,78)",
           "rgb(0,73,46)",
           "rgb(0,73,46)",
           "rgb(0,124,78)",
           "rgb(0,124,78)",
           "rgb(0,124,78)",
           "rgb(0,124,78)",
           "rgb(0,124,78)",
           "rgb(0,124,78)",
           "rgb(0,73,46)",
           "rgb(0,124,78)",
           "rgb(0,124,78)",
           "rgb(0,73,46)",
           "rgb(0,124,78)",
           "rgb(0,124,78)",
           "rgb(0,73,46)",
           "rgb(0,73,46)",
           "rgb(0,73,46)",
           "rgb(0,124,78)",
           "rgb(0,73,46)",
           "rgb(0,73,46)",
           "rgb(0,73,46)",
           "rgb(0,73,46)",
           "rgb(0,73,46)",
           "rgb(0,73,46)",
           "rgb(0,124,78)",
           "rgb(0,124,78)",
           "rgb(0,124,78)",
           "rgb(0,73,46)",
           "rgb(0,124,78)",
           "rgb(0,73,46)",
           "rgb(0,124,78)",
           "rgb(0,124,78)",
           "rgb(0,73,46)",
           "rgb(0,124,78)",
           "rgb(0,73,46)",
           "rgb(0,73,46)",
           "rgb(0,124,78)",
           "rgb(0,124,78)",
           "rgb(0,73,46)",
           "rgb(0,73,46)",
           "rgb(0,73,46)",
           "rgb(0,124,78)",
           "rgb(0,73,46)",
           "rgb(0,73,46)",
           "rgb(0,73,46)",
           "rgb(0,124,78)",
           "rgb(0,73,46)",
           "rgb(0,124,78)",
           "rgb(0,73,46)",
           "rgb(0,73,46)",
           "rgb(0,124,78)",
           "rgb(0,73,46)",
           "rgb(0,73,46)",
           "rgb(0,124,78)",
           "rgb(0,124,78)",
           "rgb(0,124,78)",
           "rgb(0,124,78)",
           "rgb(0,124,78)",
           "rgb(0,124,78)",
           "rgb(0,73,46)",
           "rgb(0,124,78)",
           "rgb(0,124,78)",
           "rgb(0,124,78)",
           "rgb(0,73,46)",
           "rgb(0,124,78)",
           "rgb(0,73,46)",
           "rgb(0,73,46)",
           "rgb(0,73,46)",
           "rgb(0,73,46)",
           "rgb(0,73,46)",
           "rgb(0,73,46)",
           "rgb(0,73,46)",
           "rgb(0,73,46)",
           "rgb(0,73,46)",
           "rgb(0,124,78)",
           "rgb(0,73,46)",
           "rgb(0,73,46)",
           "rgb(0,124,78)",
           "rgb(0,124,78)",
           "rgb(0,73,46)",
           "rgb(0,124,78)",
           "rgb(0,124,78)",
           "rgb(0,73,46)",
           "rgb(0,73,46)",
           "rgb(0,73,46)",
           "rgb(0,124,78)",
           "rgb(0,73,46)",
           "rgb(0,73,46)",
           "rgb(0,73,46)",
           "rgb(0,73,46)",
           "rgb(0,124,78)",
           "rgb(0,73,46)",
           "rgb(0,124,78)",
           "rgb(0,124,78)",
           "rgb(0,73,46)",
           "rgb(0,73,46)",
           "rgb(0,73,46)",
           "rgb(0,124,78)",
           "rgb(0,73,46)",
           "rgb(0,73,46)",
           "rgb(0,73,46)",
           "rgb(0,124,78)",
           "rgb(0,124,78)",
           "rgb(0,73,46)",
           "rgb(0,124,78)",
           "rgb(0,124,78)",
           "rgb(0,124,78)",
           "rgb(0,124,78)",
           "rgb(0,124,78)",
           "rgb(0,124,78)",
           "rgb(0,124,78)",
           "rgb(0,73,46)",
           "rgb(0,73,46)",
           "rgb(0,73,46)",
           "rgb(0,124,78)",
           "rgb(0,73,46)",
           "rgb(0,124,78)",
           "rgb(0,73,46)",
           "rgb(0,124,78)",
           "rgb(0,124,78)",
           "rgb(0,73,46)",
           "rgb(0,73,46)",
           "rgb(0,124,78)",
           "rgb(0,73,46)",
           "rgb(0,73,46)",
           "rgb(0,124,78)",
           "rgb(0,73,46)",
           "rgb(0,73,46)",
           "rgb(0,124,78)",
           "rgb(0,124,78)",
           "rgb(0,124,78)",
           "rgb(0,73,46)",
           "rgb(0,73,46)",
           "rgb(0,124,78)",
           "rgb(0,124,78)",
           "rgb(0,124,78)",
           "rgb(0,73,46)",
           "rgb(0,124,78)",
           "rgb(0,73,46)",
           "rgb(0,73,46)",
           "rgb(0,73,46)",
           "rgb(0,73,46)",
           "rgb(0,124,78)",
           "rgb(0,73,46)",
           "rgb(0,73,46)",
           "rgb(0,73,46)",
           "rgb(0,73,46)",
           "rgb(0,73,46)",
           "rgb(0,73,46)",
           "rgb(0,73,46)",
           "rgb(0,73,46)",
           "rgb(0,124,78)",
           "rgb(0,124,78)",
           "rgb(0,124,78)",
           "rgb(0,124,78)",
           "rgb(0,73,46)",
           "rgb(0,73,46)",
           "rgb(0,124,78)",
           "rgb(0,124,78)",
           "rgb(0,124,78)",
           "rgb(0,124,78)",
           "rgb(0,124,78)",
           "rgb(0,73,46)",
           "rgb(0,73,46)",
           "rgb(0,73,46)",
           "rgb(0,124,78)",
           "rgb(0,73,46)",
           "rgb(0,124,78)",
           "rgb(0,73,46)",
           "rgb(0,73,46)",
           "rgb(0,124,78)",
           "rgb(0,124,78)",
           "rgb(0,73,46)",
           "rgb(0,73,46)",
           "rgb(0,124,78)",
           "rgb(0,73,46)",
           "rgb(0,73,46)",
           "rgb(0,124,78)",
           "rgb(0,124,78)",
           "rgb(0,124,78)",
           "rgb(0,73,46)",
           "rgb(0,124,78)",
           "rgb(0,124,78)",
           "rgb(0,124,78)",
           "rgb(0,124,78)",
           "rgb(0,73,46)",
           "rgb(0,124,78)",
           "rgb(0,73,46)",
           "rgb(0,73,46)",
           "rgb(0,73,46)",
           "rgb(0,73,46)",
           "rgb(0,124,78)",
           "rgb(0,73,46)",
           "rgb(0,73,46)",
           "rgb(0,73,46)",
           "rgb(0,73,46)",
           "rgb(0,124,78)",
           "rgb(0,73,46)",
           "rgb(0,73,46)",
           "rgb(0,73,46)",
           "rgb(0,73,46)",
           "rgb(0,124,78)",
           "rgb(0,124,78)",
           "rgb(0,124,78)",
           "rgb(0,73,46)",
           "rgb(0,124,78)",
           "rgb(0,124,78)",
           "rgb(0,73,46)",
           "rgb(0,124,78)",
           "rgb(0,124,78)",
           "rgb(0,73,46)",
           "rgb(0,73,46)",
           "rgb(0,124,78)",
           "rgb(0,73,46)",
           "rgb(0,124,78)",
           "rgb(0,124,78)",
           "rgb(0,73,46)",
           "rgb(0,73,46)",
           "rgb(0,124,78)",
           "rgb(0,124,78)",
           "rgb(0,73,46)",
           "rgb(0,124,78)",
           "rgb(0,124,78)",
           "rgb(0,73,46)",
           "rgb(0,73,46)",
           "rgb(0,73,46)",
           "rgb(0,73,46)",
           "rgb(0,73,46)",
           "rgb(0,73,46)",
           "rgb(0,124,78)",
           "rgb(0,73,46)",
           "rgb(0,73,46)",
           "rgb(0,124,78)",
           "rgb(0,124,78)",
           "rgb(0,124,78)",
           "rgb(0,73,46)",
           "rgb(0,73,46)",
           "rgb(0,73,46)",
           "rgb(0,124,78)",
           "rgb(0,124,78)",
           "rgb(0,124,78)",
           "rgb(0,124,78)",
           "rgb(0,124,78)",
           "rgb(0,124,78)",
           "rgb(0,73,46)",
           "rgb(0,73,46)",
           "rgb(0,124,78)",
           "rgb(0,73,46)",
           "rgb(0,124,78)",
           "rgb(0,73,46)",
           "rgb(0,73,46)",
           "rgb(0,73,46)",
           "rgb(0,124,78)",
           "rgb(0,124,78)",
           "rgb(0,73,46)",
           "rgb(0,73,46)",
           "rgb(0,124,78)",
           "rgb(0,124,78)",
           "rgb(0,124,78)",
           "rgb(0,124,78)",
           "rgb(0,124,78)",
           "rgb(0,73,46)",
           "rgb(0,73,46)",
           "rgb(0,73,46)",
           "rgb(0,73,46)",
           "rgb(0,73,46)",
           "rgb(0,124,78)",
           "rgb(0,73,46)",
           "rgb(0,73,46)",
           "rgb(0,73,46)",
           "rgb(0,73,46)",
           "rgb(0,73,46)",
           "rgb(0,73,46)",
           "rgb(0,73,46)",
           "rgb(0,73,46)",
           "rgb(0,124,78)",
           "rgb(0,73,46)",
           "rgb(0,124,78)",
           "rgb(0,124,78)",
           "rgb(0,124,78)",
           "rgb(0,124,78)",
           "rgb(0,124,78)",
           "rgb(0,73,46)",
           "rgb(0,73,46)",
           "rgb(0,73,46)",
           "rgb(0,124,78)",
           "rgb(0,73,46)",
           "rgb(0,73,46)",
           "rgb(0,73,46)",
           "rgb(0,73,46)",
           "rgb(0,124,78)",
           "rgb(0,124,78)",
           "rgb(0,73,46)",
           "rgb(0,124,78)",
           "rgb(0,73,46)",
           "rgb(0,73,46)",
           "rgb(0,73,46)",
           "rgb(0,73,46)",
           "rgb(0,73,46)",
           "rgb(0,73,46)",
           "rgb(0,73,46)",
           "rgb(0,73,46)",
           "rgb(0,73,46)",
           "rgb(0,73,46)",
           "rgb(0,124,78)",
           "rgb(0,73,46)",
           "rgb(0,73,46)",
           "rgb(0,73,46)",
           "rgb(0,73,46)",
           "rgb(0,73,46)",
           "rgb(0,124,78)",
           "rgb(0,73,46)",
           "rgb(0,73,46)",
           "rgb(0,73,46)",
           "rgb(0,73,46)",
           "rgb(0,73,46)",
           "rgb(0,73,46)",
           "rgb(0,73,46)",
           "rgb(0,73,46)",
           "rgb(0,73,46)",
           "rgb(0,124,78)",
           "rgb(0,124,78)",
           "rgb(0,73,46)",
           "rgb(0,73,46)",
           "rgb(0,73,46)",
           "rgb(0,73,46)",
           "rgb(0,73,46)",
           "rgb(0,73,46)",
           "rgb(0,124,78)",
           "rgb(0,73,46)",
           "rgb(0,73,46)",
           "rgb(0,73,46)",
           "rgb(0,73,46)",
           "rgb(0,73,46)",
           "rgb(0,73,46)",
           "rgb(0,73,46)",
           "rgb(0,73,46)",
           "rgb(0,73,46)",
           "rgb(0,73,46)",
           "rgb(0,73,46)",
           "rgb(0,73,46)",
           "rgb(0,124,78)",
           "rgb(0,73,46)",
           "rgb(0,73,46)",
           "rgb(0,124,78)",
           "rgb(0,73,46)",
           "rgb(0,124,78)",
           "rgb(0,73,46)",
           "rgb(0,73,46)",
           "rgb(0,73,46)",
           "rgb(0,124,78)",
           "rgb(0,73,46)",
           "rgb(0,73,46)",
           "rgb(0,73,46)",
           "rgb(0,73,46)",
           "rgb(0,124,78)",
           "rgb(0,73,46)",
           "rgb(0,73,46)",
           "rgb(0,73,46)",
           "rgb(0,73,46)",
           "rgb(0,73,46)",
           "rgb(0,124,78)",
           "rgb(0,124,78)",
           "rgb(0,73,46)",
           "rgb(0,124,78)",
           "rgb(0,124,78)",
           "rgb(0,124,78)",
           "rgb(0,124,78)",
           "rgb(0,73,46)",
           "rgb(0,73,46)",
           "rgb(0,73,46)",
           "rgb(0,124,78)",
           "rgb(0,73,46)",
           "rgb(0,73,46)",
           "rgb(0,73,46)",
           "rgb(0,73,46)",
           "rgb(0,73,46)",
           "rgb(0,73,46)",
           "rgb(0,124,78)",
           "rgb(0,124,78)",
           "rgb(0,124,78)",
           "rgb(0,124,78)",
           "rgb(0,124,78)",
           "rgb(0,73,46)",
           "rgb(0,73,46)",
           "rgb(0,73,46)",
           "rgb(0,73,46)",
           "rgb(0,73,46)",
           "rgb(0,73,46)",
           "rgb(0,73,46)",
           "rgb(0,73,46)",
           "rgb(0,73,46)",
           "rgb(0,124,78)",
           "rgb(0,73,46)",
           "rgb(0,73,46)",
           "rgb(0,73,46)",
           "rgb(0,124,78)",
           "rgb(0,124,78)",
           "rgb(0,73,46)",
           "rgb(0,124,78)",
           "rgb(0,73,46)",
           "rgb(0,73,46)",
           "rgb(0,124,78)",
           "rgb(0,124,78)",
           "rgb(0,73,46)",
           "rgb(0,73,46)",
           "rgb(0,73,46)",
           "rgb(0,73,46)",
           "rgb(0,124,78)",
           "rgb(0,73,46)",
           "rgb(0,73,46)",
           "rgb(0,73,46)",
           "rgb(0,73,46)",
           "rgb(0,73,46)",
           "rgb(0,124,78)",
           "rgb(0,73,46)",
           "rgb(0,124,78)",
           "rgb(0,73,46)",
           "rgb(0,73,46)",
           "rgb(0,124,78)",
           "rgb(0,124,78)",
           "rgb(0,73,46)",
           "rgb(0,73,46)",
           "rgb(0,73,46)",
           "rgb(0,73,46)",
           "rgb(0,73,46)",
           "rgb(0,124,78)",
           "rgb(0,124,78)",
           "rgb(0,73,46)",
           "rgb(0,124,78)",
           "rgb(0,124,78)",
           "rgb(0,73,46)",
           "rgb(0,124,78)",
           "rgb(0,73,46)",
           "rgb(0,73,46)",
           "rgb(0,73,46)",
           "rgb(0,124,78)",
           "rgb(0,124,78)",
           "rgb(0,124,78)",
           "rgb(0,124,78)",
           "rgb(0,124,78)",
           "rgb(0,124,78)",
           "rgb(0,73,46)",
           "rgb(0,73,46)",
           "rgb(0,73,46)",
           "rgb(0,73,46)",
           "rgb(0,73,46)",
           "rgb(0,73,46)",
           "rgb(0,73,46)",
           "rgb(0,124,78)",
           "rgb(0,124,78)",
           "rgb(0,73,46)",
           "rgb(0,124,78)",
           "rgb(0,124,78)",
           "rgb(0,73,46)",
           "rgb(0,124,78)",
           "rgb(0,124,78)",
           "rgb(0,124,78)",
           "rgb(0,124,78)",
           "rgb(0,73,46)",
           "rgb(0,124,78)",
           "rgb(0,124,78)",
           "rgb(0,73,46)",
           "rgb(0,73,46)",
           "rgb(0,124,78)",
           "rgb(0,124,78)",
           "rgb(0,124,78)",
           "rgb(0,124,78)",
           "rgb(0,124,78)",
           "rgb(0,73,46)",
           "rgb(0,73,46)",
           "rgb(0,124,78)",
           "rgb(0,73,46)",
           "rgb(0,73,46)",
           "rgb(0,73,46)",
           "rgb(0,73,46)",
           "rgb(0,124,78)",
           "rgb(0,124,78)",
           "rgb(0,124,78)",
           "rgb(0,124,78)",
           "rgb(0,124,78)",
           "rgb(0,73,46)",
           "rgb(0,73,46)",
           "rgb(0,124,78)",
           "rgb(0,124,78)",
           "rgb(0,124,78)",
           "rgb(0,73,46)",
           "rgb(0,73,46)",
           "rgb(0,124,78)",
           "rgb(0,124,78)",
           "rgb(0,124,78)",
           "rgb(0,124,78)",
           "rgb(0,124,78)",
           "rgb(0,124,78)",
           "rgb(0,73,46)",
           "rgb(0,73,46)",
           "rgb(0,73,46)",
           "rgb(0,73,46)",
           "rgb(0,73,46)",
           "rgb(0,124,78)",
           "rgb(0,73,46)",
           "rgb(0,124,78)",
           "rgb(0,73,46)",
           "rgb(0,73,46)",
           "rgb(0,73,46)",
           "rgb(0,73,46)",
           "rgb(0,73,46)",
           "rgb(0,73,46)",
           "rgb(0,124,78)",
           "rgb(0,73,46)",
           "rgb(0,73,46)",
           "rgb(0,73,46)",
           "rgb(0,73,46)",
           "rgb(0,73,46)",
           "rgb(0,73,46)",
           "rgb(0,73,46)",
           "rgb(0,124,78)",
           "rgb(0,73,46)",
           "rgb(0,124,78)",
           "rgb(0,73,46)",
           "rgb(0,73,46)",
           "rgb(0,73,46)",
           "rgb(0,124,78)",
           "rgb(0,73,46)",
           "rgb(0,124,78)",
           "rgb(0,124,78)",
           "rgb(0,124,78)",
           "rgb(0,124,78)",
           "rgb(0,124,78)",
           "rgb(0,73,46)",
           "rgb(0,73,46)",
           "rgb(0,73,46)",
           "rgb(0,124,78)",
           "rgb(0,124,78)",
           "rgb(0,124,78)",
           "rgb(0,73,46)",
           "rgb(0,73,46)",
           "rgb(0,124,78)",
           "rgb(0,73,46)",
           "rgb(0,73,46)",
           "rgb(0,124,78)",
           "rgb(0,73,46)",
           "rgb(0,124,78)",
           "rgb(0,124,78)",
           "rgb(0,124,78)",
           "rgb(0,73,46)",
           "rgb(0,73,46)",
           "rgb(0,73,46)",
           "rgb(0,73,46)",
           "rgb(0,124,78)",
           "rgb(0,73,46)",
           "rgb(0,73,46)",
           "rgb(0,124,78)",
           "rgb(0,73,46)",
           "rgb(0,124,78)",
           "rgb(0,73,46)",
           "rgb(0,73,46)",
           "rgb(0,73,46)",
           "rgb(0,73,46)",
           "rgb(0,124,78)",
           "rgb(0,124,78)",
           "rgb(0,73,46)",
           "rgb(0,73,46)",
           "rgb(0,124,78)",
           "rgb(0,73,46)",
           "rgb(0,124,78)",
           "rgb(0,124,78)",
           "rgb(0,124,78)",
           "rgb(0,73,46)",
           "rgb(0,73,46)",
           "rgb(0,124,78)",
           "rgb(0,124,78)",
           "rgb(0,73,46)",
           "rgb(0,73,46)",
           "rgb(0,73,46)",
           "rgb(0,124,78)",
           "rgb(0,73,46)",
           "rgb(0,73,46)",
           "rgb(0,73,46)",
           "rgb(0,73,46)",
           "rgb(0,73,46)",
           "rgb(0,124,78)",
           "rgb(0,73,46)",
           "rgb(0,124,78)",
           "rgb(0,73,46)",
           "rgb(0,73,46)",
           "rgb(0,124,78)",
           "rgb(0,73,46)",
           "rgb(0,73,46)",
           "rgb(0,73,46)",
           "rgb(0,73,46)",
           "rgb(0,73,46)",
           "rgb(0,73,46)",
           "rgb(0,124,78)",
           "rgb(0,124,78)",
           "rgb(0,73,46)",
           "rgb(0,73,46)",
           "rgb(0,73,46)",
           "rgb(0,124,78)",
           "rgb(0,124,78)",
           "rgb(0,124,78)",
           "rgb(0,124,78)",
           "rgb(0,124,78)",
           "rgb(0,73,46)",
           "rgb(0,73,46)",
           "rgb(0,73,46)",
           "rgb(0,73,46)",
           "rgb(0,73,46)",
           "rgb(0,124,78)",
           "rgb(0,124,78)",
           "rgb(0,73,46)",
           "rgb(0,73,46)",
           "rgb(0,124,78)",
           "rgb(0,73,46)",
           "rgb(0,124,78)",
           "rgb(0,73,46)",
           "rgb(0,124,78)",
           "rgb(0,124,78)",
           "rgb(0,73,46)",
           "rgb(0,73,46)",
           "rgb(0,73,46)",
           "rgb(0,73,46)",
           "rgb(0,124,78)",
           "rgb(0,73,46)",
           "rgb(0,124,78)",
           "rgb(0,124,78)",
           "rgb(0,73,46)",
           "rgb(0,124,78)",
           "rgb(0,73,46)",
           "rgb(0,124,78)",
           "rgb(0,124,78)",
           "rgb(0,73,46)",
           "rgb(0,73,46)",
           "rgb(0,73,46)",
           "rgb(0,73,46)",
           "rgb(0,124,78)",
           "rgb(0,124,78)",
           "rgb(0,73,46)",
           "rgb(0,73,46)",
           "rgb(0,73,46)",
           "rgb(0,124,78)",
           "rgb(0,73,46)",
           "rgb(0,124,78)",
           "rgb(0,124,78)",
           "rgb(0,73,46)",
           "rgb(0,124,78)",
           "rgb(0,124,78)",
           "rgb(0,124,78)",
           "rgb(0,124,78)",
           "rgb(0,124,78)",
           "rgb(0,124,78)",
           "rgb(0,124,78)",
           "rgb(0,73,46)",
           "rgb(0,73,46)",
           "rgb(0,73,46)",
           "rgb(0,124,78)",
           "rgb(0,73,46)",
           "rgb(0,73,46)",
           "rgb(0,73,46)",
           "rgb(0,124,78)",
           "rgb(0,73,46)",
           "rgb(0,73,46)",
           "rgb(0,73,46)",
           "rgb(0,124,78)",
           "rgb(0,73,46)",
           "rgb(0,73,46)",
           "rgb(0,73,46)",
           "rgb(0,124,78)",
           "rgb(0,73,46)",
           "rgb(0,124,78)",
           "rgb(0,73,46)",
           "rgb(0,73,46)",
           "rgb(0,73,46)",
           "rgb(0,73,46)",
           "rgb(0,73,46)",
           "rgb(0,73,46)",
           "rgb(0,73,46)",
           "rgb(0,73,46)",
           "rgb(0,73,46)",
           "rgb(0,73,46)",
           "rgb(0,73,46)",
           "rgb(0,124,78)",
           "rgb(0,73,46)",
           "rgb(0,73,46)",
           "rgb(0,124,78)",
           "rgb(0,73,46)",
           "rgb(0,73,46)",
           "rgb(0,73,46)",
           "rgb(0,124,78)",
           "rgb(0,124,78)",
           "rgb(0,124,78)",
           "rgb(0,124,78)",
           "rgb(0,73,46)",
           "rgb(0,124,78)",
           "rgb(0,73,46)",
           "rgb(0,73,46)",
           "rgb(0,73,46)",
           "rgb(0,124,78)",
           "rgb(0,124,78)",
           "rgb(0,73,46)",
           "rgb(0,124,78)",
           "rgb(0,73,46)",
           "rgb(0,73,46)",
           "rgb(0,73,46)",
           "rgb(0,73,46)",
           "rgb(0,73,46)",
           "rgb(0,124,78)",
           "rgb(0,73,46)",
           "rgb(0,124,78)",
           "rgb(0,73,46)",
           "rgb(0,124,78)",
           "rgb(0,124,78)",
           "rgb(0,73,46)",
           "rgb(0,124,78)",
           "rgb(0,124,78)",
           "rgb(0,73,46)",
           "rgb(0,124,78)",
           "rgb(0,124,78)",
           "rgb(0,124,78)",
           "rgb(0,73,46)",
           "rgb(0,124,78)",
           "rgb(0,73,46)",
           "rgb(0,73,46)",
           "rgb(0,73,46)",
           "rgb(0,73,46)",
           "rgb(0,73,46)",
           "rgb(0,73,46)",
           "rgb(0,73,46)",
           "rgb(0,73,46)",
           "rgb(0,73,46)",
           "rgb(0,73,46)",
           "rgb(0,73,46)",
           "rgb(0,73,46)",
           "rgb(0,73,46)",
           "rgb(0,124,78)",
           "rgb(0,124,78)",
           "rgb(0,124,78)",
           "rgb(0,124,78)",
           "rgb(0,73,46)",
           "rgb(0,124,78)",
           "rgb(0,73,46)",
           "rgb(0,73,46)",
           "rgb(0,124,78)",
           "rgb(0,124,78)",
           "rgb(0,73,46)",
           "rgb(0,73,46)",
           "rgb(0,124,78)",
           "rgb(0,124,78)",
           "rgb(0,124,78)",
           "rgb(0,73,46)",
           "rgb(0,73,46)",
           "rgb(0,73,46)",
           "rgb(0,73,46)",
           "rgb(0,73,46)",
           "rgb(0,73,46)",
           "rgb(0,73,46)",
           "rgb(0,124,78)",
           "rgb(0,73,46)",
           "rgb(0,73,46)",
           "rgb(0,73,46)",
           "rgb(0,124,78)",
           "rgb(0,124,78)",
           "rgb(0,73,46)",
           "rgb(0,124,78)",
           "rgb(0,124,78)",
           "rgb(0,73,46)",
           "rgb(0,73,46)",
           "rgb(0,124,78)",
           "rgb(0,73,46)",
           "rgb(0,73,46)",
           "rgb(0,73,46)",
           "rgb(0,124,78)",
           "rgb(0,124,78)",
           "rgb(0,124,78)",
           "rgb(0,73,46)",
           "rgb(0,124,78)",
           "rgb(0,73,46)",
           "rgb(0,73,46)",
           "rgb(0,124,78)",
           "rgb(0,73,46)",
           "rgb(0,73,46)",
           "rgb(0,73,46)",
           "rgb(0,124,78)",
           "rgb(0,73,46)",
           "rgb(0,73,46)",
           "rgb(0,73,46)",
           "rgb(0,73,46)",
           "rgb(0,124,78)",
           "rgb(0,124,78)",
           "rgb(0,124,78)",
           "rgb(0,73,46)",
           "rgb(0,73,46)",
           "rgb(0,73,46)",
           "rgb(0,73,46)",
           "rgb(0,124,78)",
           "rgb(0,124,78)",
           "rgb(0,73,46)",
           "rgb(0,73,46)",
           "rgb(0,124,78)",
           "rgb(0,124,78)",
           "rgb(0,124,78)",
           "rgb(0,124,78)",
           "rgb(0,73,46)",
           "rgb(0,124,78)",
           "rgb(0,73,46)",
           "rgb(0,124,78)",
           "rgb(0,124,78)",
           "rgb(0,124,78)",
           "rgb(0,73,46)",
           "rgb(0,73,46)",
           "rgb(0,73,46)",
           "rgb(0,73,46)",
           "rgb(0,73,46)",
           "rgb(0,73,46)",
           "rgb(0,73,46)",
           "rgb(0,124,78)",
           "rgb(0,73,46)",
           "rgb(0,124,78)",
           "rgb(0,73,46)",
           "rgb(0,124,78)",
           "rgb(0,73,46)",
           "rgb(0,124,78)",
           "rgb(0,124,78)",
           "rgb(0,124,78)",
           "rgb(0,73,46)",
           "rgb(0,73,46)",
           "rgb(0,73,46)",
           "rgb(0,73,46)",
           "rgb(0,73,46)",
           "rgb(0,124,78)",
           "rgb(0,124,78)",
           "rgb(0,73,46)",
           "rgb(0,73,46)",
           "rgb(0,73,46)",
           "rgb(0,124,78)",
           "rgb(0,124,78)",
           "rgb(0,124,78)",
           "rgb(0,124,78)",
           "rgb(0,73,46)",
           "rgb(0,73,46)",
           "rgb(0,73,46)",
           "rgb(0,73,46)",
           "rgb(0,73,46)",
           "rgb(0,73,46)",
           "rgb(0,124,78)",
           "rgb(0,73,46)",
           "rgb(0,73,46)",
           "rgb(0,73,46)",
           "rgb(0,73,46)",
           "rgb(0,73,46)",
           "rgb(0,73,46)",
           "rgb(0,73,46)",
           "rgb(0,73,46)",
           "rgb(0,124,78)",
           "rgb(0,73,46)",
           "rgb(0,73,46)",
           "rgb(0,124,78)",
           "rgb(0,73,46)",
           "rgb(0,124,78)",
           "rgb(0,73,46)",
           "rgb(0,73,46)",
           "rgb(0,73,46)",
           "rgb(0,124,78)",
           "rgb(0,73,46)",
           "rgb(0,73,46)",
           "rgb(0,124,78)",
           "rgb(0,124,78)",
           "rgb(0,124,78)",
           "rgb(0,124,78)",
           "rgb(0,124,78)",
           "rgb(0,73,46)",
           "rgb(0,124,78)",
           "rgb(0,73,46)",
           "rgb(0,124,78)",
           "rgb(0,124,78)",
           "rgb(0,124,78)",
           "rgb(0,124,78)",
           "rgb(0,124,78)",
           "rgb(0,73,46)",
           "rgb(0,73,46)",
           "rgb(0,124,78)",
           "rgb(0,124,78)",
           "rgb(0,124,78)",
           "rgb(0,124,78)",
           "rgb(0,73,46)",
           "rgb(0,124,78)",
           "rgb(0,73,46)",
           "rgb(0,73,46)",
           "rgb(0,73,46)",
           "rgb(0,73,46)",
           "rgb(0,124,78)",
           "rgb(0,73,46)",
           "rgb(0,73,46)",
           "rgb(0,73,46)",
           "rgb(0,124,78)",
           "rgb(0,124,78)",
           "rgb(0,124,78)",
           "rgb(0,73,46)",
           "rgb(0,73,46)",
           "rgb(0,73,46)",
           "rgb(0,73,46)",
           "rgb(0,73,46)",
           "rgb(0,73,46)",
           "rgb(0,73,46)",
           "rgb(0,73,46)",
           "rgb(0,124,78)",
           "rgb(0,73,46)",
           "rgb(0,124,78)",
           "rgb(0,73,46)",
           "rgb(0,73,46)",
           "rgb(0,73,46)",
           "rgb(0,73,46)",
           "rgb(0,73,46)",
           "rgb(0,73,46)",
           "rgb(0,124,78)",
           "rgb(0,124,78)",
           "rgb(0,73,46)",
           "rgb(0,124,78)",
           "rgb(0,124,78)",
           "rgb(0,124,78)",
           "rgb(0,73,46)",
           "rgb(0,73,46)",
           "rgb(0,73,46)",
           "rgb(0,124,78)",
           "rgb(0,124,78)",
           "rgb(0,124,78)",
           "rgb(0,73,46)",
           "rgb(0,73,46)",
           "rgb(0,73,46)",
           "rgb(0,124,78)",
           "rgb(0,124,78)",
           "rgb(0,73,46)",
           "rgb(0,73,46)",
           "rgb(0,73,46)",
           "rgb(0,73,46)",
           "rgb(0,124,78)",
           "rgb(0,124,78)",
           "rgb(0,73,46)",
           "rgb(0,73,46)",
           "rgb(0,124,78)",
           "rgb(0,124,78)",
           "rgb(0,73,46)",
           "rgb(0,124,78)",
           "rgb(0,73,46)",
           "rgb(0,124,78)",
           "rgb(0,73,46)",
           "rgb(0,73,46)",
           "rgb(0,73,46)",
           "rgb(0,73,46)",
           "rgb(0,124,78)",
           "rgb(0,124,78)",
           "rgb(0,73,46)",
           "rgb(0,124,78)",
           "rgb(0,73,46)",
           "rgb(0,73,46)",
           "rgb(0,73,46)",
           "rgb(0,73,46)",
           "rgb(0,73,46)",
           "rgb(0,73,46)",
           "rgb(0,73,46)",
           "rgb(0,124,78)",
           "rgb(0,124,78)",
           "rgb(0,124,78)",
           "rgb(0,73,46)",
           "rgb(0,73,46)",
           "rgb(0,73,46)",
           "rgb(0,124,78)",
           "rgb(0,73,46)",
           "rgb(0,73,46)",
           "rgb(0,73,46)",
           "rgb(0,73,46)",
           "rgb(0,73,46)",
           "rgb(0,73,46)",
           "rgb(0,124,78)",
           "rgb(0,124,78)",
           "rgb(0,73,46)",
           "rgb(0,73,46)",
           "rgb(0,73,46)",
           "rgb(0,73,46)",
           "rgb(0,73,46)",
           "rgb(0,124,78)",
           "rgb(0,124,78)",
           "rgb(0,73,46)",
           "rgb(0,73,46)",
           "rgb(0,124,78)",
           "rgb(0,124,78)",
           "rgb(0,73,46)",
           "rgb(0,73,46)",
           "rgb(0,73,46)",
           "rgb(0,73,46)",
           "rgb(0,73,46)",
           "rgb(0,124,78)",
           "rgb(0,124,78)",
           "rgb(0,124,78)",
           "rgb(0,124,78)",
           "rgb(0,124,78)",
           "rgb(0,124,78)",
           "rgb(0,124,78)",
           "rgb(0,124,78)",
           "rgb(0,124,78)",
           "rgb(0,124,78)",
           "rgb(0,124,78)",
           "rgb(0,124,78)",
           "rgb(0,124,78)",
           "rgb(0,124,78)",
           "rgb(0,124,78)",
           "rgb(0,73,46)",
           "rgb(0,124,78)",
           "rgb(0,73,46)",
           "rgb(0,73,46)",
           "rgb(0,124,78)",
           "rgb(0,73,46)",
           "rgb(0,73,46)",
           "rgb(0,73,46)",
           "rgb(0,124,78)",
           "rgb(0,73,46)",
           "rgb(0,124,78)",
           "rgb(0,73,46)",
           "rgb(0,124,78)",
           "rgb(0,73,46)",
           "rgb(0,124,78)",
           "rgb(0,73,46)",
           "rgb(0,73,46)",
           "rgb(0,73,46)",
           "rgb(0,73,46)",
           "rgb(0,73,46)",
           "rgb(0,73,46)",
           "rgb(0,124,78)",
           "rgb(0,124,78)",
           "rgb(0,124,78)",
           "rgb(0,124,78)",
           "rgb(0,124,78)",
           "rgb(0,124,78)",
           "rgb(0,73,46)",
           "rgb(0,124,78)",
           "rgb(0,73,46)",
           "rgb(0,124,78)",
           "rgb(0,73,46)",
           "rgb(0,73,46)",
           "rgb(0,73,46)",
           "rgb(0,124,78)",
           "rgb(0,124,78)",
           "rgb(0,124,78)",
           "rgb(0,73,46)",
           "rgb(0,124,78)",
           "rgb(0,124,78)",
           "rgb(0,124,78)",
           "rgb(0,124,78)",
           "rgb(0,73,46)",
           "rgb(0,73,46)",
           "rgb(0,73,46)",
           "rgb(0,73,46)",
           "rgb(0,73,46)",
           "rgb(0,73,46)",
           "rgb(0,73,46)",
           "rgb(0,124,78)",
           "rgb(0,73,46)",
           "rgb(0,73,46)",
           "rgb(0,124,78)",
           "rgb(0,73,46)",
           "rgb(0,73,46)",
           "rgb(0,73,46)",
           "rgb(0,73,46)",
           "rgb(0,124,78)",
           "rgb(0,73,46)",
           "rgb(0,124,78)",
           "rgb(0,73,46)",
           "rgb(0,73,46)",
           "rgb(0,73,46)",
           "rgb(0,124,78)",
           "rgb(0,124,78)",
           "rgb(0,73,46)",
           "rgb(0,124,78)",
           "rgb(0,124,78)",
           "rgb(0,73,46)",
           "rgb(0,73,46)",
           "rgb(0,124,78)",
           "rgb(0,124,78)",
           "rgb(0,73,46)",
           "rgb(0,124,78)",
           "rgb(0,124,78)",
           "rgb(0,124,78)",
           "rgb(0,73,46)",
           "rgb(0,124,78)",
           "rgb(0,124,78)",
           "rgb(0,73,46)",
           "rgb(0,73,46)",
           "rgb(0,124,78)",
           "rgb(0,124,78)",
           "rgb(0,73,46)",
           "rgb(0,73,46)",
           "rgb(0,73,46)",
           "rgb(0,73,46)",
           "rgb(0,124,78)",
           "rgb(0,124,78)",
           "rgb(0,124,78)",
           "rgb(0,124,78)",
           "rgb(0,73,46)",
           "rgb(0,73,46)",
           "rgb(0,73,46)",
           "rgb(0,124,78)",
           "rgb(0,73,46)",
           "rgb(0,73,46)",
           "rgb(0,73,46)",
           "rgb(0,73,46)",
           "rgb(0,73,46)",
           "rgb(0,73,46)",
           "rgb(0,73,46)",
           "rgb(0,73,46)",
           "rgb(0,73,46)",
           "rgb(0,73,46)",
           "rgb(0,73,46)",
           "rgb(0,124,78)",
           "rgb(0,124,78)",
           "rgb(0,73,46)",
           "rgb(0,73,46)",
           "rgb(0,73,46)",
           "rgb(0,73,46)",
           "rgb(0,73,46)",
           "rgb(0,73,46)",
           "rgb(0,73,46)",
           "rgb(0,73,46)",
           "rgb(0,73,46)",
           "rgb(0,73,46)",
           "rgb(0,73,46)",
           "rgb(0,73,46)",
           "rgb(0,73,46)",
           "rgb(0,73,46)",
           "rgb(0,73,46)",
           "rgb(0,124,78)",
           "rgb(0,124,78)",
           "rgb(0,73,46)",
           "rgb(0,73,46)",
           "rgb(0,73,46)",
           "rgb(0,73,46)",
           "rgb(0,73,46)",
           "rgb(0,124,78)",
           "rgb(0,73,46)",
           "rgb(0,73,46)",
           "rgb(0,73,46)",
           "rgb(0,73,46)",
           "rgb(0,73,46)",
           "rgb(0,73,46)",
           "rgb(0,73,46)",
           "rgb(0,124,78)",
           "rgb(0,73,46)",
           "rgb(0,73,46)",
           "rgb(0,73,46)",
           "rgb(0,73,46)",
           "rgb(0,73,46)",
           "rgb(0,73,46)",
           "rgb(0,73,46)",
           "rgb(0,73,46)",
           "rgb(0,73,46)",
           "rgb(0,73,46)",
           "rgb(0,73,46)",
           "rgb(0,124,78)",
           "rgb(0,124,78)",
           "rgb(0,124,78)",
           "rgb(0,124,78)",
           "rgb(0,73,46)",
           "rgb(0,73,46)",
           "rgb(0,73,46)",
           "rgb(0,73,46)",
           "rgb(0,73,46)",
           "rgb(0,73,46)",
           "rgb(0,73,46)",
           "rgb(0,73,46)",
           "rgb(0,73,46)",
           "rgb(0,124,78)",
           "rgb(0,124,78)",
           "rgb(0,124,78)",
           "rgb(0,73,46)",
           "rgb(0,124,78)",
           "rgb(0,73,46)",
           "rgb(0,124,78)",
           "rgb(0,73,46)",
           "rgb(0,73,46)",
           "rgb(0,73,46)",
           "rgb(0,73,46)",
           "rgb(0,73,46)",
           "rgb(0,73,46)",
           "rgb(0,73,46)",
           "rgb(0,73,46)",
           "rgb(0,73,46)",
           "rgb(0,73,46)",
           "rgb(0,73,46)",
           "rgb(0,73,46)",
           "rgb(0,73,46)",
           "rgb(0,73,46)",
           "rgb(0,73,46)",
           "rgb(0,73,46)",
           "rgb(0,73,46)",
           "rgb(0,73,46)",
           "rgb(0,73,46)",
           "rgb(0,73,46)",
           "rgb(0,73,46)",
           "rgb(0,73,46)",
           "rgb(0,73,46)",
           "rgb(0,73,46)",
           "rgb(0,124,78)",
           "rgb(0,124,78)",
           "rgb(0,124,78)",
           "rgb(0,124,78)",
           "rgb(0,124,78)",
           "rgb(0,124,78)",
           "rgb(0,73,46)",
           "rgb(0,73,46)",
           "rgb(0,124,78)",
           "rgb(0,73,46)",
           "rgb(0,73,46)",
           "rgb(0,73,46)",
           "rgb(0,124,78)",
           "rgb(0,73,46)",
           "rgb(0,73,46)",
           "rgb(0,73,46)",
           "rgb(0,73,46)",
           "rgb(0,73,46)",
           "rgb(0,73,46)",
           "rgb(0,73,46)",
           "rgb(0,73,46)",
           "rgb(0,124,78)",
           "rgb(0,73,46)",
           "rgb(0,73,46)",
           "rgb(0,73,46)",
           "rgb(0,73,46)",
           "rgb(0,73,46)",
           "rgb(0,73,46)",
           "rgb(0,124,78)",
           "rgb(0,124,78)",
           "rgb(0,124,78)",
           "rgb(0,124,78)",
           "rgb(0,73,46)",
           "rgb(0,73,46)",
           "rgb(0,73,46)",
           "rgb(0,73,46)",
           "rgb(0,73,46)",
           "rgb(0,73,46)",
           "rgb(0,73,46)",
           "rgb(0,73,46)",
           "rgb(0,124,78)",
           "rgb(0,73,46)",
           "rgb(0,124,78)",
           "rgb(0,73,46)",
           "rgb(0,124,78)",
           "rgb(0,73,46)",
           "rgb(0,124,78)",
           "rgb(0,73,46)",
           "rgb(0,73,46)",
           "rgb(0,124,78)",
           "rgb(0,73,46)",
           "rgb(0,73,46)",
           "rgb(0,73,46)",
           "rgb(0,73,46)",
           "rgb(0,124,78)",
           "rgb(0,124,78)",
           "rgb(0,73,46)",
           "rgb(0,73,46)",
           "rgb(0,124,78)",
           "rgb(0,124,78)",
           "rgb(0,124,78)",
           "rgb(0,73,46)",
           "rgb(0,124,78)",
           "rgb(0,73,46)",
           "rgb(0,73,46)",
           "rgb(0,73,46)",
           "rgb(0,73,46)",
           "rgb(0,73,46)",
           "rgb(0,124,78)",
           "rgb(0,124,78)",
           "rgb(0,73,46)",
           "rgb(0,73,46)",
           "rgb(0,73,46)",
           "rgb(0,124,78)",
           "rgb(0,73,46)",
           "rgb(0,124,78)",
           "rgb(0,124,78)",
           "rgb(0,124,78)",
           "rgb(0,124,78)",
           "rgb(0,124,78)",
           "rgb(0,124,78)",
           "rgb(0,124,78)",
           "rgb(0,124,78)",
           "rgb(0,124,78)",
           "rgb(0,124,78)",
           "rgb(0,73,46)",
           "rgb(0,73,46)",
           "rgb(0,124,78)",
           "rgb(0,124,78)",
           "rgb(0,124,78)",
           "rgb(0,73,46)",
           "rgb(0,73,46)",
           "rgb(0,124,78)",
           "rgb(0,73,46)",
           "rgb(0,73,46)",
           "rgb(0,73,46)",
           "rgb(0,73,46)",
           "rgb(0,73,46)",
           "rgb(0,73,46)",
           "rgb(0,124,78)",
           "rgb(0,73,46)",
           "rgb(0,73,46)",
           "rgb(0,124,78)",
           "rgb(0,73,46)",
           "rgb(0,124,78)",
           "rgb(0,73,46)",
           "rgb(0,73,46)",
           "rgb(0,124,78)",
           "rgb(0,124,78)",
           "rgb(0,73,46)",
           "rgb(0,73,46)",
           "rgb(0,124,78)",
           "rgb(0,73,46)",
           "rgb(0,73,46)",
           "rgb(0,124,78)",
           "rgb(0,73,46)",
           "rgb(0,124,78)",
           "rgb(0,73,46)",
           "rgb(0,73,46)",
           "rgb(0,73,46)",
           "rgb(0,124,78)",
           "rgb(0,124,78)",
           "rgb(0,73,46)",
           "rgb(0,73,46)",
           "rgb(0,73,46)",
           "rgb(0,124,78)",
           "rgb(0,124,78)",
           "rgb(0,73,46)",
           "rgb(0,73,46)",
           "rgb(0,124,78)",
           "rgb(0,124,78)",
           "rgb(0,124,78)",
           "rgb(0,73,46)",
           "rgb(0,73,46)",
           "rgb(0,124,78)",
           "rgb(0,124,78)",
           "rgb(0,124,78)",
           "rgb(0,73,46)",
           "rgb(0,73,46)",
           "rgb(0,73,46)",
           "rgb(0,73,46)",
           "rgb(0,73,46)",
           "rgb(0,73,46)"
          ]
         },
         "name": "",
         "showlegend": true,
         "type": "pie",
         "values": [
          635,
          635,
          635,
          635,
          635,
          635,
          635,
          635,
          635,
          635,
          777,
          913.75,
          304.58,
          1054.81,
          389.42,
          367.59,
          833,
          222,
          662,
          662,
          1218.33,
          958,
          785,
          519.1,
          958,
          789,
          360,
          958,
          958,
          252,
          133,
          444.5,
          907.5,
          251.2,
          237.5,
          588,
          1060,
          1355.88,
          503.53,
          3435.6,
          676.15,
          351.6,
          1059.47,
          332.22,
          2286.92,
          1557.82,
          13560.75,
          493,
          91.94,
          1112.91,
          255,
          1924,
          2093.91,
          3542.22,
          767.26,
          1411.77,
          382.5,
          1283,
          365,
          471,
          157,
          225,
          625,
          808.5,
          628.34,
          479.54,
          406.49,
          589,
          520,
          864.5,
          1570,
          258.78,
          479.54,
          520,
          350,
          238,
          1556.49,
          1298.22,
          486.83,
          269.79,
          545,
          518,
          1640.65,
          2145.56,
          314,
          536.39,
          1413.4,
          1016.91,
          1016.9,
          477.1,
          1243.86,
          203.23,
          525,
          1091.6,
          52.27,
          960,
          942.01,
          384.65,
          3894.66,
          960,
          1346.5,
          767.26,
          910,
          317.3,
          1074,
          1040,
          600,
          1074,
          479.54,
          2628.31,
          2768.58,
          992.98,
          314,
          1383.26,
          1890,
          2355.03,
          809.37,
          628,
          392.5,
          772,
          80.01,
          4162,
          518.83,
          2200,
          119.26,
          469.95,
          525.66,
          314,
          314,
          628,
          628.34,
          785,
          769.3,
          481.98,
          260.31,
          1832,
          628.17,
          1412.54,
          687.22,
          961.67,
          1538,
          695,
          1846.32,
          461.47,
          2075.32,
          518.83,
          2119.5,
          289.1,
          1020,
          315,
          1570.02,
          942.01,
          518.83,
          2512.68,
          785,
          1078,
          378.66,
          942,
          808.41,
          288.83,
          1260.45,
          1884.02,
          635,
          1096.5,
          360,
          808.41,
          157,
          1570.02,
          706.5,
          628.34,
          706.5,
          958,
          1413,
          1037.66,
          1037.66,
          620,
          469.95,
          1037.66,
          1037.66,
          706.5,
          942,
          2596.44,
          944.68,
          1444.72,
          9189.31,
          400,
          497,
          536.39,
          1054.8,
          9732,
          662.63,
          374,
          3435.6,
          959.08,
          2576.7,
          1283.68,
          537,
          315,
          334,
          683,
          1285,
          601,
          293,
          7316.1,
          3458.1,
          628.17,
          1038.28,
          1076.25,
          528.76,
          471,
          282,
          314,
          157,
          518.83,
          3692.64,
          258.78,
          1832,
          2826.02,
          702.13,
          2509.31,
          501.86,
          399.84,
          1563,
          2825.15,
          1865.1,
          9842.34,
          518.83,
          2417.45,
          958,
          471,
          0.01,
          236.99,
          768,
          545.46,
          475.4,
          760.21,
          474.25,
          1413,
          492.35,
          462.5,
          385,
          474.25,
          620.83,
          332.5,
          3112.98,
          518.83,
          695,
          253.6,
          4484,
          978.78,
          1865.1,
          469.95,
          785.01,
          2083.73,
          486.84,
          2032.3,
          269.79,
          314,
          1037.66,
          1037.66,
          1106.38,
          1538.61,
          1703,
          666.67,
          1590,
          1512,
          133,
          545.46,
          518.18,
          859.1,
          2036.52,
          3019.59,
          236.99,
          0.01,
          157,
          2301.9,
          1883.47,
          2226.36,
          942,
          6891.96,
          3008.16,
          770,
          1037.66,
          2036.52,
          716.46,
          2769.51,
          54,
          528.76,
          942.01,
          175,
          1884,
          1256,
          958,
          202,
          3417.92,
          518.83,
          1057.52,
          314,
          628,
          480.2,
          2033.81,
          2582.86,
          182,
          1055,
          2826.02,
          185.54,
          518.84,
          2675,
          503.38,
          821,
          597,
          518.83,
          2363.08,
          2075.32,
          2355.02,
          1300,
          716.46,
          1343,
          384.5,
          706.5,
          3435.6,
          1037.66,
          1037.66,
          297.99,
          0.01,
          556.59,
          4239.03,
          768.48,
          518.83,
          1037.66,
          1300,
          959.08,
          2962.52,
          1352.3,
          703.2,
          282,
          843,
          713,
          1037.66,
          1413,
          1568.32,
          942,
          942,
          284.2,
          170,
          297.99,
          0.01,
          1383.26,
          1563.31,
          518.83,
          6891.96,
          244.54,
          5054.1,
          923,
          471,
          885,
          556.59,
          282,
          1413,
          702.13,
          314,
          351.6,
          288.1,
          942.01,
          314,
          600,
          167,
          528.76,
          360,
          330,
          2075.32,
          789,
          184.63,
          692.37,
          812,
          307.72,
          1448,
          5652.04,
          785.01,
          959.08,
          628,
          785.01,
          1290,
          89.97,
          360,
          1037.66,
          628,
          768.48,
          785.01,
          1037.66,
          255,
          2321.03,
          2052,
          1568.32,
          1320,
          885,
          167,
          1900,
          1037.66,
          471,
          314,
          471,
          518.83,
          50,
          1256.01,
          471,
          376.8,
          743,
          282,
          702.13,
          780,
          958,
          3768,
          1413.01,
          933,
          843,
          321,
          2075.32,
          683,
          683,
          1343.02,
          677.04,
          1256.01,
          1309.88,
          204,
          1310.4,
          1016.91,
          88.9,
          174.49,
          1038.2,
          314,
          1151.57,
          959.08,
          628,
          3015.23,
          803.38,
          675,
          1256.01,
          1270,
          727,
          973.68,
          392.5,
          1259.27,
          518.83,
          183.65,
          685.3,
          471,
          995,
          204,
          169.26,
          1827.05,
          1041.94,
          1578,
          703.2,
          2352.48,
          2512.02,
          518.83,
          174.49,
          392.5,
          1440.59,
          768,
          512.9,
          668,
          1177.82,
          950,
          360,
          809.37,
          106.11,
          3263.82,
          1832,
          19473.3,
          360,
          304.58,
          251.2,
          261.7,
          1005.69,
          518.83,
          1556.49,
          1038.2,
          1887.96,
          1556.49,
          872.46,
          503.27,
          499.06,
          1015.56,
          675,
          249.53,
          260.99,
          0.01,
          1057.52,
          675,
          2280.63,
          2596.44,
          3318,
          3292.84,
          3140,
          1097.95,
          11105,
          959.08,
          539.89,
          1550.38,
          269.79,
          706.27,
          921.5,
          1037.66,
          676.15,
          1413.01,
          388,
          163,
          9749.2,
          2075.32,
          1411.49,
          675,
          785.01,
          157,
          1370.61,
          556.59,
          470.89,
          942,
          1640,
          707.42,
          716.46,
          740,
          257,
          580,
          695,
          59.2,
          503.38,
          1557.3,
          519.1,
          518.83,
          539.89,
          2075.32,
          1037.66,
          479.54,
          1254.66,
          1037.66,
          518.83,
          2740,
          1370,
          695,
          2512.02,
          503.27,
          363.5,
          2227.76,
          258.02,
          1037.66,
          1079.16,
          167,
          1060,
          664,
          2505.38,
          249.53,
          269.79,
          3015.24,
          392.5,
          202,
          1256.01,
          1557.3,
          683,
          683,
          950,
          1117.02,
          543.15,
          48,
          503.52,
          261.7,
          249.53,
          580,
          1320,
          958,
          958,
          1015.56,
          503.53,
          933,
          933,
          533.5,
          933,
          39958.25,
          326,
          204,
          942,
          1413,
          387.27,
          486.84,
          562.6,
          351.6,
          335,
          471,
          834,
          479.54,
          2075.32,
          1320,
          629,
          456.87,
          465.15,
          495.75,
          942,
          1038.2,
          676.15,
          519.1,
          933,
          1060.54,
          546.64,
          202,
          649.11,
          653,
          170,
          1177.83,
          716.46,
          1884,
          843,
          348.99,
          0.01,
          676.15,
          486.84,
          1038.2,
          1038.2,
          628,
          1298.22,
          117.87,
          204,
          157,
          170,
          519.1,
          352.12,
          472.1,
          1570.02,
          519.1,
          9189.28,
          260.4,
          386,
          942.01,
          920,
          2014.53,
          1343.02,
          1884.01,
          628,
          102,
          471,
          249,
          102,
          338.51,
          798.5,
          497.25,
          290.13,
          0.01,
          532.97,
          1157.22,
          1037.66,
          1568.32,
          697.96,
          300,
          3069.04,
          676.15,
          486.84,
          479.54,
          1096.13,
          519.1,
          2014.53,
          933,
          1413.01,
          2227.76,
          665,
          872.45,
          1406.5,
          913.75,
          1692.6,
          1027,
          653,
          1450,
          1197,
          843,
          385.87,
          670,
          115.9,
          695,
          520.61,
          880.28,
          1884,
          1510.58,
          341.05,
          991.57,
          4642.06,
          339.61,
          1260,
          1354.08,
          519.1,
          556.59,
          760.64,
          942.01,
          913,
          913,
          695,
          1037.66,
          10442,
          348.98,
          314,
          470.89,
          360,
          843,
          455,
          304.58,
          339.61,
          157,
          1993.32,
          487,
          1079.78,
          23.9,
          380.72,
          328,
          125.92,
          402.69,
          54,
          392,
          196,
          1369.15,
          942,
          549.45,
          99.15,
          519.1,
          157,
          782,
          782,
          190,
          6393.32,
          774.06,
          179,
          1060,
          923.37,
          670,
          767.26,
          40,
          200,
          279.52,
          1607,
          760.64,
          2119.5,
          2596.44,
          5757.85,
          809.37,
          1054.8,
          628,
          92.5,
          24.42,
          950,
          833.67,
          157,
          804.61,
          218.56,
          1131.9,
          774.54,
          520,
          950,
          549.45,
          471,
          519.1,
          228,
          120,
          190,
          249.53,
          298.57,
          1250,
          79,
          182.75,
          814,
          121.52,
          942,
          539.58,
          332.22,
          725,
          629,
          7203,
          1744.9,
          655.68,
          3768.02,
          532.97,
          507.5,
          3015.24,
          502.4,
          314,
          1557.3,
          629,
          79,
          913.75,
          471,
          6.7,
          631.26,
          170,
          1244.07,
          1260,
          843.9,
          3767,
          785,
          487,
          1884.02,
          519.1,
          1089,
          1465.2,
          1320,
          119.09,
          913,
          628,
          942.01,
          2553.6,
          539.58,
          2076.4,
          600,
          200,
          1026.73,
          507.5,
          933,
          933,
          933,
          933,
          933,
          157,
          942,
          3691.6,
          286.32,
          238.67,
          787.5,
          486.7,
          1526.15,
          1098.9,
          518.83,
          1037.66,
          1154.26,
          649.11,
          486.84,
          3485,
          3767,
          1729,
          9040.52,
          1256,
          244,
          959.08,
          9749.2,
          628,
          314,
          537.54,
          1038.2,
          190,
          120,
          1677.12,
          532,
          79,
          913,
          633.5,
          1651.54,
          400.32,
          3432.99,
          394.45,
          785,
          2512.6,
          913.75,
          788,
          1369.85,
          218.56,
          1733.24,
          7991.65,
          1947.33,
          1406.4,
          487,
          1256.6,
          1199.52,
          299.98,
          1280,
          549.45,
          315.5,
          454,
          1080,
          327.84,
          327.84,
          273.91,
          2512.6,
          285,
          9189.28,
          79,
          913,
          205.2,
          419.28,
          435.75,
          487,
          1007.06,
          538,
          1026,
          690,
          631,
          730,
          653,
          2107.16,
          1272.25,
          1618.04,
          1449,
          913,
          537.54,
          473.34,
          537.54,
          1420,
          1256.01,
          2400,
          843,
          843,
          843,
          1075,
          5832,
          165,
          913.75,
          1053.58,
          547.86,
          834,
          350.11,
          966,
          1113.88,
          640,
          477,
          538.46,
          1692.6,
          697.96,
          1932,
          229,
          229,
          892,
          538.46,
          174.49,
          468.51,
          8887.2,
          532,
          769.48,
          5880,
          1075,
          677.8,
          142.1,
          521.41,
          644,
          174.49,
          244,
          368,
          266,
          165,
          1413,
          1449,
          537.54,
          866,
          663,
          322,
          966,
          1140,
          271.13,
          749.61,
          1259.27,
          487,
          270,
          604.8,
          332.22,
          1769.15,
          338.5,
          935,
          1564.2,
          79,
          468.51,
          57,
          576,
          758.2,
          758.2,
          219.82,
          367.8,
          1460,
          1298.22,
          732.6,
          563,
          1516.4,
          1171,
          1171,
          8057.56,
          1408.65,
          10071.95,
          1690.38,
          937.02,
          730,
          892,
          624.68,
          64.58,
          3345.67,
          1625.82,
          3225,
          866,
          322,
          99.87,
          479.54,
          114.51,
          1256,
          485,
          690,
          1160,
          1098.9,
          437,
          260,
          206.75,
          970,
          1460,
          199.08,
          1449,
          725,
          549.45,
          2355,
          141.66,
          952,
          952,
          952,
          1256.01,
          537.54,
          472.23,
          937.02,
          866,
          402.5,
          6558.66,
          1075,
          1075,
          244.24,
          866,
          866,
          866,
          866,
          161,
          21.68,
          1303.4,
          1298.22,
          782.04,
          690,
          322,
          388,
          313,
          563,
          556.62,
          563,
          2737.84,
          633.51,
          1075.08,
          260.68,
          60,
          946.68,
          782.04,
          157.7,
          980,
          251,
          475,
          549.45,
          4928.91,
          2898,
          538.46,
          1893.36,
          1076.92,
          61.69,
          940.8,
          728.9,
          2150.16,
          692.14,
          1193.77,
          1288,
          270,
          259,
          1580.37,
          433.64,
          271.03,
          361.36,
          1095.72,
          2214.93,
          270,
          52.79,
          546.67,
          1136.8,
          537.54,
          1075,
          1043,
          1392.38,
          1390,
          315.56,
          1845.8,
          229,
          79,
          1932,
          279.52,
          1947.36,
          1185,
          3225.24,
          1075,
          788.9,
          597.24,
          1169.15,
          500,
          1449,
          966,
          1420.8,
          2919,
          322,
          36.14,
          399.84,
          888,
          888,
          1270,
          714.32,
          345,
          538.46,
          3591.7,
          538.46,
          538,
          805,
          189.33,
          946.68,
          644,
          549.45,
          903.44,
          784,
          486.84,
          644,
          79,
          2825.25,
          537.54,
          100,
          60,
          1000,
          644,
          559.04,
          639.45,
          39.99,
          79,
          390,
          454,
          179.94,
          488,
          537.54,
          1780,
          402.5,
          190,
          973.68,
          1406.4,
          367.8,
          966,
          1932,
          314,
          279.9,
          537.54,
          488.78,
          503.6,
          273.93,
          780.85,
          1042.75,
          1744.9,
          1176,
          348.98,
          363,
          940,
          523.47,
          966,
          1788.3,
          724.5,
          537.54,
          363,
          2415,
          788.9,
          79,
          2150.16,
          941,
          266,
          940.8,
          39.19,
          79,
          244,
          784,
          171,
          564,
          279.52,
          1118.08,
          1932,
          185,
          538.46,
          2825.15,
          1449,
          750.35,
          36.14,
          483,
          5152,
          644,
          189.33,
          201.1,
          50.4,
          2150.16,
          921.98,
          360.44,
          1130.5,
          564,
          1288,
          403.2,
          63.43,
          148,
          528.63,
          40.17,
          1000,
          537.54,
          312.57,
          941,
          941,
          3600,
          537.54,
          2551.5,
          79,
          428,
          215,
          1075.08,
          3151.16,
          6685.32,
          4300,
          42.63,
          326.24,
          623.3,
          575.4,
          620,
          79,
          483,
          1540,
          1160,
          2100,
          1924.32,
          1740,
          761.16,
          1062.5,
          79,
          5215.25,
          1726.74,
          538.75,
          1186,
          1366,
          2825.25,
          79,
          79,
          615.38,
          1405.71,
          49,
          96,
          1610,
          966,
          1054.8,
          471,
          683.1,
          799.89,
          1449,
          486.84,
          1610,
          634.34,
          100.42,
          1677.12,
          1054.8,
          402,
          1075,
          273.93,
          1053.58,
          563.72,
          174.49,
          756,
          422.9,
          254,
          1557.14,
          147,
          134.26,
          1115.65,
          52.47,
          216,
          631.62,
          394,
          872.45,
          171,
          180.22,
          289.84,
          15.58,
          665,
          50,
          49,
          279,
          179,
          2076,
          187.54,
          4025,
          95.04,
          470.89,
          788.9,
          665,
          665,
          665,
          402.5,
          838.56,
          969.66,
          1902.9,
          1205.16,
          800,
          382.14,
          1551.35,
          98,
          3990,
          980,
          1612.62,
          79,
          2684.11,
          2012.97,
          331.02,
          483,
          402.5,
          526.79,
          75.05,
          745.75,
          537.54,
          483,
          1053,
          805,
          1075.08,
          7850.1,
          105.73,
          1449,
          2635.88,
          1932,
          769.5,
          342,
          49,
          79,
          662.62,
          1449,
          1749,
          1727.02,
          332,
          49,
          123.38,
          1093.5,
          100,
          49,
          169,
          537.54,
          5152,
          1075,
          192,
          50,
          1459.93,
          1107.43,
          2825.15,
          6780.39,
          1883.47,
          4772,
          1784.25,
          3425.76,
          946.68,
          1075,
          2115.79,
          111,
          1102,
          1102,
          39.99,
          2085.5,
          805,
          218,
          408.43,
          1612.62,
          1075.1,
          98,
          750.6,
          867,
          564,
          1053.5,
          1075,
          1075,
          537.54,
          2354.45,
          5650.16,
          1130.03,
          1412.53,
          941.75,
          1412.69,
          2147.4,
          4520.26,
          991.62,
          877.12,
          494.38,
          34.47,
          9200,
          1897,
          1382.51,
          96,
          1397.6,
          49,
          564,
          79,
          1460.52,
          1207.5,
          174.49,
          2107.15,
          483,
          191,
          483,
          91.63,
          1503.9,
          169,
          724.5,
          498.75,
          808.5,
          690,
          690,
          690,
          690,
          690,
          690,
          1449,
          537.54,
          96,
          1568,
          332,
          1018,
          591.5,
          1382.51,
          271,
          887.76,
          49,
          182.88,
          14546.52,
          1449,
          690,
          240,
          788.9,
          1756.42,
          215.6,
          50,
          330.95,
          315,
          2107.16,
          1929.01,
          527.44,
          211.45,
          644,
          867,
          53,
          96,
          1633.3,
          813,
          1449,
          142.1,
          2596.44,
          5192.88,
          966,
          126.86,
          800,
          537.54,
          556.96,
          1134,
          348.98,
          5657.04,
          14546.58,
          537.54,
          644,
          805,
          2576,
          925,
          174.99,
          3285.94,
          728.05,
          487,
          615.44,
          1570.01,
          384.65,
          662.63,
          160,
          843,
          1254.66,
          676.15,
          351.6,
          751.91,
          787.19,
          519.1,
          384.65,
          959.08,
          671.3,
          769.31,
          180.22,
          649.11,
          460,
          114,
          1260,
          142.1,
          100,
          1319.75,
          950,
          913,
          1612.62,
          1412.53,
          244,
          79,
          843,
          196,
          892,
          3220,
          789,
          454,
          940,
          436,
          297,
          769.5,
          769.5,
          843,
          4976.29,
          2397.7,
          2954.94,
          538.46,
          549.45,
          538.46,
          79,
          157,
          1413.01,
          843,
          843,
          665,
          170,
          843,
          620,
          237.5,
          477.09,
          233.9,
          519.1,
          710,
          538.46,
          545,
          843,
          950,
          360,
          788,
          160,
          1352.3,
          703.2,
          1282.55,
          161,
          1610,
          2268,
          260.68,
          1874.15,
          555,
          402.5,
          1612.62,
          460,
          335,
          471,
          537.54,
          315.56,
          1449,
          1288,
          1510,
          1159.59,
          165,
          260,
          537.54,
          468,
          487,
          502.54,
          874.24,
          950,
          34.94,
          402.69,
          1642.97,
          1449,
          79,
          79,
          1460,
          3750,
          892,
          892,
          892,
          532.97,
          1120,
          1530.08,
          468.51,
          271.13,
          644,
          559.04,
          1612.62,
          2030.68,
          785,
          710,
          532.97,
          229,
          2085.64,
          483,
          483,
          151.08,
          3435.6,
          167,
          79,
          449,
          279.52,
          1821.33,
          1093.34,
          946.68,
          1093.34,
          378.68,
          257.99,
          0.01,
          1026,
          660,
          3320.91,
          1850,
          867,
          867,
          867,
          867,
          79,
          240,
          125,
          111,
          1118.08,
          183.9,
          180.47,
          832,
          489.39,
          627.94,
          537.54,
          2028.44,
          716.46,
          1449,
          537.54,
          1374.1,
          799.89,
          1075.08,
          690,
          506.4,
          4915.6,
          1064,
          966,
          161,
          504,
          1288,
          966,
          1947.36,
          351.6,
          806.4,
          1207.5,
          218.56,
          380,
          960.3,
          538.84,
          1112.63,
          500,
          805,
          2500,
          500,
          174.49,
          537.54,
          142.89,
          2236.16,
          483,
          402.5,
          401.72,
          951.45,
          63.43,
          784,
          473.34,
          483,
          1075.08,
          343.11,
          498.75,
          2150,
          1610,
          2201.07,
          5454.96,
          191,
          1298.22,
          473.34,
          191,
          1134,
          1030.5,
          788.9,
          3160.74,
          322,
          202,
          1609,
          2150,
          390,
          2687.7,
          96,
          1335.89,
          1335.89,
          537.54,
          1410.72,
          2928,
          483,
          79,
          382,
          2962.52,
          780,
          1490.5,
          768.6,
          278,
          956.75,
          956.75,
          935,
          98,
          390,
          191,
          1207.5,
          174.49,
          896.4,
          72,
          1075,
          805,
          1053.58,
          315.56,
          1020.81,
          260,
          322,
          692.34,
          935,
          265.58,
          1632,
          315.56,
          1046.33,
          4083.24
         ]
        }
       ],
       "layout": {
        "autosize": true,
        "legend": {
         "tracegroupgap": 0
        },
        "template": {
         "data": {
          "bar": [
           {
            "error_x": {
             "color": "#2a3f5f"
            },
            "error_y": {
             "color": "#2a3f5f"
            },
            "marker": {
             "line": {
              "color": "#E5ECF6",
              "width": 0.5
             },
             "pattern": {
              "fillmode": "overlay",
              "size": 10,
              "solidity": 0.2
             }
            },
            "type": "bar"
           }
          ],
          "barpolar": [
           {
            "marker": {
             "line": {
              "color": "#E5ECF6",
              "width": 0.5
             },
             "pattern": {
              "fillmode": "overlay",
              "size": 10,
              "solidity": 0.2
             }
            },
            "type": "barpolar"
           }
          ],
          "carpet": [
           {
            "aaxis": {
             "endlinecolor": "#2a3f5f",
             "gridcolor": "white",
             "linecolor": "white",
             "minorgridcolor": "white",
             "startlinecolor": "#2a3f5f"
            },
            "baxis": {
             "endlinecolor": "#2a3f5f",
             "gridcolor": "white",
             "linecolor": "white",
             "minorgridcolor": "white",
             "startlinecolor": "#2a3f5f"
            },
            "type": "carpet"
           }
          ],
          "choropleth": [
           {
            "colorbar": {
             "outlinewidth": 0,
             "ticks": ""
            },
            "type": "choropleth"
           }
          ],
          "contour": [
           {
            "colorbar": {
             "outlinewidth": 0,
             "ticks": ""
            },
            "colorscale": [
             [
              0,
              "#0d0887"
             ],
             [
              0.1111111111111111,
              "#46039f"
             ],
             [
              0.2222222222222222,
              "#7201a8"
             ],
             [
              0.3333333333333333,
              "#9c179e"
             ],
             [
              0.4444444444444444,
              "#bd3786"
             ],
             [
              0.5555555555555556,
              "#d8576b"
             ],
             [
              0.6666666666666666,
              "#ed7953"
             ],
             [
              0.7777777777777778,
              "#fb9f3a"
             ],
             [
              0.8888888888888888,
              "#fdca26"
             ],
             [
              1,
              "#f0f921"
             ]
            ],
            "type": "contour"
           }
          ],
          "contourcarpet": [
           {
            "colorbar": {
             "outlinewidth": 0,
             "ticks": ""
            },
            "type": "contourcarpet"
           }
          ],
          "heatmap": [
           {
            "colorbar": {
             "outlinewidth": 0,
             "ticks": ""
            },
            "colorscale": [
             [
              0,
              "#0d0887"
             ],
             [
              0.1111111111111111,
              "#46039f"
             ],
             [
              0.2222222222222222,
              "#7201a8"
             ],
             [
              0.3333333333333333,
              "#9c179e"
             ],
             [
              0.4444444444444444,
              "#bd3786"
             ],
             [
              0.5555555555555556,
              "#d8576b"
             ],
             [
              0.6666666666666666,
              "#ed7953"
             ],
             [
              0.7777777777777778,
              "#fb9f3a"
             ],
             [
              0.8888888888888888,
              "#fdca26"
             ],
             [
              1,
              "#f0f921"
             ]
            ],
            "type": "heatmap"
           }
          ],
          "heatmapgl": [
           {
            "colorbar": {
             "outlinewidth": 0,
             "ticks": ""
            },
            "colorscale": [
             [
              0,
              "#0d0887"
             ],
             [
              0.1111111111111111,
              "#46039f"
             ],
             [
              0.2222222222222222,
              "#7201a8"
             ],
             [
              0.3333333333333333,
              "#9c179e"
             ],
             [
              0.4444444444444444,
              "#bd3786"
             ],
             [
              0.5555555555555556,
              "#d8576b"
             ],
             [
              0.6666666666666666,
              "#ed7953"
             ],
             [
              0.7777777777777778,
              "#fb9f3a"
             ],
             [
              0.8888888888888888,
              "#fdca26"
             ],
             [
              1,
              "#f0f921"
             ]
            ],
            "type": "heatmapgl"
           }
          ],
          "histogram": [
           {
            "marker": {
             "pattern": {
              "fillmode": "overlay",
              "size": 10,
              "solidity": 0.2
             }
            },
            "type": "histogram"
           }
          ],
          "histogram2d": [
           {
            "colorbar": {
             "outlinewidth": 0,
             "ticks": ""
            },
            "colorscale": [
             [
              0,
              "#0d0887"
             ],
             [
              0.1111111111111111,
              "#46039f"
             ],
             [
              0.2222222222222222,
              "#7201a8"
             ],
             [
              0.3333333333333333,
              "#9c179e"
             ],
             [
              0.4444444444444444,
              "#bd3786"
             ],
             [
              0.5555555555555556,
              "#d8576b"
             ],
             [
              0.6666666666666666,
              "#ed7953"
             ],
             [
              0.7777777777777778,
              "#fb9f3a"
             ],
             [
              0.8888888888888888,
              "#fdca26"
             ],
             [
              1,
              "#f0f921"
             ]
            ],
            "type": "histogram2d"
           }
          ],
          "histogram2dcontour": [
           {
            "colorbar": {
             "outlinewidth": 0,
             "ticks": ""
            },
            "colorscale": [
             [
              0,
              "#0d0887"
             ],
             [
              0.1111111111111111,
              "#46039f"
             ],
             [
              0.2222222222222222,
              "#7201a8"
             ],
             [
              0.3333333333333333,
              "#9c179e"
             ],
             [
              0.4444444444444444,
              "#bd3786"
             ],
             [
              0.5555555555555556,
              "#d8576b"
             ],
             [
              0.6666666666666666,
              "#ed7953"
             ],
             [
              0.7777777777777778,
              "#fb9f3a"
             ],
             [
              0.8888888888888888,
              "#fdca26"
             ],
             [
              1,
              "#f0f921"
             ]
            ],
            "type": "histogram2dcontour"
           }
          ],
          "mesh3d": [
           {
            "colorbar": {
             "outlinewidth": 0,
             "ticks": ""
            },
            "type": "mesh3d"
           }
          ],
          "parcoords": [
           {
            "line": {
             "colorbar": {
              "outlinewidth": 0,
              "ticks": ""
             }
            },
            "type": "parcoords"
           }
          ],
          "pie": [
           {
            "automargin": true,
            "type": "pie"
           }
          ],
          "scatter": [
           {
            "fillpattern": {
             "fillmode": "overlay",
             "size": 10,
             "solidity": 0.2
            },
            "type": "scatter"
           }
          ],
          "scatter3d": [
           {
            "line": {
             "colorbar": {
              "outlinewidth": 0,
              "ticks": ""
             }
            },
            "marker": {
             "colorbar": {
              "outlinewidth": 0,
              "ticks": ""
             }
            },
            "type": "scatter3d"
           }
          ],
          "scattercarpet": [
           {
            "marker": {
             "colorbar": {
              "outlinewidth": 0,
              "ticks": ""
             }
            },
            "type": "scattercarpet"
           }
          ],
          "scattergeo": [
           {
            "marker": {
             "colorbar": {
              "outlinewidth": 0,
              "ticks": ""
             }
            },
            "type": "scattergeo"
           }
          ],
          "scattergl": [
           {
            "marker": {
             "colorbar": {
              "outlinewidth": 0,
              "ticks": ""
             }
            },
            "type": "scattergl"
           }
          ],
          "scattermapbox": [
           {
            "marker": {
             "colorbar": {
              "outlinewidth": 0,
              "ticks": ""
             }
            },
            "type": "scattermapbox"
           }
          ],
          "scatterpolar": [
           {
            "marker": {
             "colorbar": {
              "outlinewidth": 0,
              "ticks": ""
             }
            },
            "type": "scatterpolar"
           }
          ],
          "scatterpolargl": [
           {
            "marker": {
             "colorbar": {
              "outlinewidth": 0,
              "ticks": ""
             }
            },
            "type": "scatterpolargl"
           }
          ],
          "scatterternary": [
           {
            "marker": {
             "colorbar": {
              "outlinewidth": 0,
              "ticks": ""
             }
            },
            "type": "scatterternary"
           }
          ],
          "surface": [
           {
            "colorbar": {
             "outlinewidth": 0,
             "ticks": ""
            },
            "colorscale": [
             [
              0,
              "#0d0887"
             ],
             [
              0.1111111111111111,
              "#46039f"
             ],
             [
              0.2222222222222222,
              "#7201a8"
             ],
             [
              0.3333333333333333,
              "#9c179e"
             ],
             [
              0.4444444444444444,
              "#bd3786"
             ],
             [
              0.5555555555555556,
              "#d8576b"
             ],
             [
              0.6666666666666666,
              "#ed7953"
             ],
             [
              0.7777777777777778,
              "#fb9f3a"
             ],
             [
              0.8888888888888888,
              "#fdca26"
             ],
             [
              1,
              "#f0f921"
             ]
            ],
            "type": "surface"
           }
          ],
          "table": [
           {
            "cells": {
             "fill": {
              "color": "#EBF0F8"
             },
             "line": {
              "color": "white"
             }
            },
            "header": {
             "fill": {
              "color": "#C8D4E3"
             },
             "line": {
              "color": "white"
             }
            },
            "type": "table"
           }
          ]
         },
         "layout": {
          "annotationdefaults": {
           "arrowcolor": "#2a3f5f",
           "arrowhead": 0,
           "arrowwidth": 1
          },
          "autotypenumbers": "strict",
          "coloraxis": {
           "colorbar": {
            "outlinewidth": 0,
            "ticks": ""
           }
          },
          "colorscale": {
           "diverging": [
            [
             0,
             "#8e0152"
            ],
            [
             0.1,
             "#c51b7d"
            ],
            [
             0.2,
             "#de77ae"
            ],
            [
             0.3,
             "#f1b6da"
            ],
            [
             0.4,
             "#fde0ef"
            ],
            [
             0.5,
             "#f7f7f7"
            ],
            [
             0.6,
             "#e6f5d0"
            ],
            [
             0.7,
             "#b8e186"
            ],
            [
             0.8,
             "#7fbc41"
            ],
            [
             0.9,
             "#4d9221"
            ],
            [
             1,
             "#276419"
            ]
           ],
           "sequential": [
            [
             0,
             "#0d0887"
            ],
            [
             0.1111111111111111,
             "#46039f"
            ],
            [
             0.2222222222222222,
             "#7201a8"
            ],
            [
             0.3333333333333333,
             "#9c179e"
            ],
            [
             0.4444444444444444,
             "#bd3786"
            ],
            [
             0.5555555555555556,
             "#d8576b"
            ],
            [
             0.6666666666666666,
             "#ed7953"
            ],
            [
             0.7777777777777778,
             "#fb9f3a"
            ],
            [
             0.8888888888888888,
             "#fdca26"
            ],
            [
             1,
             "#f0f921"
            ]
           ],
           "sequentialminus": [
            [
             0,
             "#0d0887"
            ],
            [
             0.1111111111111111,
             "#46039f"
            ],
            [
             0.2222222222222222,
             "#7201a8"
            ],
            [
             0.3333333333333333,
             "#9c179e"
            ],
            [
             0.4444444444444444,
             "#bd3786"
            ],
            [
             0.5555555555555556,
             "#d8576b"
            ],
            [
             0.6666666666666666,
             "#ed7953"
            ],
            [
             0.7777777777777778,
             "#fb9f3a"
            ],
            [
             0.8888888888888888,
             "#fdca26"
            ],
            [
             1,
             "#f0f921"
            ]
           ]
          },
          "colorway": [
           "#636efa",
           "#EF553B",
           "#00cc96",
           "#ab63fa",
           "#FFA15A",
           "#19d3f3",
           "#FF6692",
           "#B6E880",
           "#FF97FF",
           "#FECB52"
          ],
          "font": {
           "color": "#2a3f5f"
          },
          "geo": {
           "bgcolor": "white",
           "lakecolor": "white",
           "landcolor": "#E5ECF6",
           "showlakes": true,
           "showland": true,
           "subunitcolor": "white"
          },
          "hoverlabel": {
           "align": "left"
          },
          "hovermode": "closest",
          "mapbox": {
           "style": "light"
          },
          "paper_bgcolor": "white",
          "plot_bgcolor": "#E5ECF6",
          "polar": {
           "angularaxis": {
            "gridcolor": "white",
            "linecolor": "white",
            "ticks": ""
           },
           "bgcolor": "#E5ECF6",
           "radialaxis": {
            "gridcolor": "white",
            "linecolor": "white",
            "ticks": ""
           }
          },
          "scene": {
           "xaxis": {
            "backgroundcolor": "#E5ECF6",
            "gridcolor": "white",
            "gridwidth": 2,
            "linecolor": "white",
            "showbackground": true,
            "ticks": "",
            "zerolinecolor": "white"
           },
           "yaxis": {
            "backgroundcolor": "#E5ECF6",
            "gridcolor": "white",
            "gridwidth": 2,
            "linecolor": "white",
            "showbackground": true,
            "ticks": "",
            "zerolinecolor": "white"
           },
           "zaxis": {
            "backgroundcolor": "#E5ECF6",
            "gridcolor": "white",
            "gridwidth": 2,
            "linecolor": "white",
            "showbackground": true,
            "ticks": "",
            "zerolinecolor": "white"
           }
          },
          "shapedefaults": {
           "line": {
            "color": "#2a3f5f"
           }
          },
          "ternary": {
           "aaxis": {
            "gridcolor": "white",
            "linecolor": "white",
            "ticks": ""
           },
           "baxis": {
            "gridcolor": "white",
            "linecolor": "white",
            "ticks": ""
           },
           "bgcolor": "#E5ECF6",
           "caxis": {
            "gridcolor": "white",
            "linecolor": "white",
            "ticks": ""
           }
          },
          "title": {
           "x": 0.05
          },
          "xaxis": {
           "automargin": true,
           "gridcolor": "white",
           "linecolor": "white",
           "ticks": "",
           "title": {
            "standoff": 15
           },
           "zerolinecolor": "white",
           "zerolinewidth": 2
          },
          "yaxis": {
           "automargin": true,
           "gridcolor": "white",
           "linecolor": "white",
           "ticks": "",
           "title": {
            "standoff": 15
           },
           "zerolinecolor": "white",
           "zerolinewidth": 2
          }
         }
        },
        "title": {
         "text": "Tipo de Venda"
        }
       }
      },
      "image/png": "[encoded data removed]",
      "text/html": [
       "<div>                            <div id=\"d1296846-f4e5-4574-9962-0e0bf36afd14\" class=\"plotly-graph-div\" style=\"height:525px; width:100%;\"></div>            <script type=\"text/javascript\">                require([\"plotly\"], function(Plotly) {                    window.PLOTLYENV=window.PLOTLYENV || {};                                    if (document.getElementById(\"d1296846-f4e5-4574-9962-0e0bf36afd14\")) {                    Plotly.newPlot(                        \"d1296846-f4e5-4574-9962-0e0bf36afd14\",                        [{\"customdata\":[[\"CLIENTE NOVO\"],[\"RECOMPRA\"],[\"RECOMPRA\"],[\"RECOMPRA\"],[\"RECOMPRA\"],[\"RECOMPRA\"],[\"RECOMPRA\"],[\"RECOMPRA\"],[\"RECOMPRA\"],[\"RECOMPRA\"],[\"CLIENTE NOVO\"],[\"RECOMPRA\"],[\"RECOMPRA\"],[\"RECOMPRA\"],[\"CLIENTE NOVO\"],[\"CLIENTE NOVO\"],[\"CLIENTE NOVO\"],[\"CLIENTE NOVO\"],[\"CLIENTE NOVO\"],[\"CLIENTE NOVO\"],[\"CLIENTE NOVO\"],[\"CLIENTE NOVO\"],[\"CLIENTE NOVO\"],[\"CLIENTE NOVO\"],[\"CLIENTE NOVO\"],[\"CLIENTE NOVO\"],[\"CLIENTE NOVO\"],[\"CLIENTE NOVO\"],[\"CLIENTE NOVO\"],[\"CLIENTE NOVO\"],[\"CLIENTE NOVO\"],[\"CLIENTE NOVO\"],[\"CLIENTE NOVO\"],[\"RECOMPRA\"],[\"CLIENTE NOVO\"],[\"CLIENTE NOVO\"],[\"CLIENTE NOVO\"],[\"CLIENTE NOVO\"],[\"RECOMPRA\"],[\"RECOMPRA\"],[\"RECOMPRA\"],[\"RECOMPRA\"],[\"CLIENTE NOVO\"],[\"CLIENTE NOVO\"],[\"CLIENTE NOVO\"],[\"CLIENTE NOVO\"],[\"RECOMPRA\"],[\"CLIENTE NOVO\"],[\"CLIENTE NOVO\"],[\"CLIENTE NOVO\"],[\"CLIENTE NOVO\"],[\"CLIENTE NOVO\"],[\"RECOMPRA\"],[\"RECOMPRA\"],[\"RECOMPRA\"],[\"CLIENTE NOVO\"],[\"RECOMPRA\"],[\"CLIENTE NOVO\"],[\"CLIENTE NOVO\"],[\"RECOMPRA\"],[\"RECOMPRA\"],[\"CLIENTE NOVO\"],[\"CLIENTE NOVO\"],[\"CLIENTE NOVO\"],[\"CLIENTE NOVO\"],[\"CLIENTE NOVO\"],[\"CLIENTE NOVO\"],[\"CLIENTE NOVO\"],[\"CLIENTE NOVO\"],[\"CLIENTE NOVO\"],[\"CLIENTE NOVO\"],[\"CLIENTE NOVO\"],[\"RECOMPRA\"],[\"CLIENTE NOVO\"],[\"RECOMPRA\"],[\"CLIENTE NOVO\"],[\"CLIENTE NOVO\"],[\"RECOMPRA\"],[\"RECOMPRA\"],[\"RECOMPRA\"],[\"CLIENTE NOVO\"],[\"RECOMPRA\"],[\"CLIENTE NOVO\"],[\"CLIENTE NOVO\"],[\"RECOMPRA\"],[\"RECOMPRA\"],[\"RECOMPRA\"],[\"CLIENTE NOVO\"],[\"CLIENTE NOVO\"],[\"CLIENTE NOVO\"],[\"CLIENTE NOVO\"],[\"CLIENTE NOVO\"],[\"CLIENTE NOVO\"],[\"CLIENTE NOVO\"],[\"CLIENTE NOVO\"],[\"CLIENTE NOVO\"],[\"CLIENTE NOVO\"],[\"CLIENTE NOVO\"],[\"RECOMPRA\"],[\"CLIENTE NOVO\"],[\"RECOMPRA\"],[\"CLIENTE NOVO\"],[\"CLIENTE NOVO\"],[\"CLIENTE NOVO\"],[\"CLIENTE NOVO\"],[\"CLIENTE NOVO\"],[\"CLIENTE NOVO\"],[\"RECOMPRA\"],[\"RECOMPRA\"],[\"RECOMPRA\"],[\"RECOMPRA\"],[\"CLIENTE NOVO\"],[\"RECOMPRA\"],[\"RECOMPRA\"],[\"CLIENTE NOVO\"],[\"RECOMPRA\"],[\"RECOMPRA\"],[\"RECOMPRA\"],[\"CLIENTE NOVO\"],[\"RECOMPRA\"],[\"CLIENTE NOVO\"],[\"RECOMPRA\"],[\"RECOMPRA\"],[\"RECOMPRA\"],[\"RECOMPRA\"],[\"RECOMPRA\"],[\"RECOMPRA\"],[\"RECOMPRA\"],[\"RECOMPRA\"],[\"RECOMPRA\"],[\"CLIENTE NOVO\"],[\"RECOMPRA\"],[\"RECOMPRA\"],[\"CLIENTE NOVO\"],[\"CLIENTE NOVO\"],[\"RECOMPRA\"],[\"CLIENTE NOVO\"],[\"RECOMPRA\"],[\"RECOMPRA\"],[\"CLIENTE NOVO\"],[\"RECOMPRA\"],[\"CLIENTE NOVO\"],[\"RECOMPRA\"],[\"RECOMPRA\"],[\"RECOMPRA\"],[\"RECOMPRA\"],[\"RECOMPRA\"],[\"CLIENTE NOVO\"],[\"CLIENTE NOVO\"],[\"CLIENTE NOVO\"],[\"RECOMPRA\"],[\"RECOMPRA\"],[\"RECOMPRA\"],[\"RECOMPRA\"],[\"CLIENTE NOVO\"],[\"CLIENTE NOVO\"],[\"RECOMPRA\"],[\"RECOMPRA\"],[\"RECOMPRA\"],[\"RECOMPRA\"],[\"CLIENTE NOVO\"],[\"CLIENTE NOVO\"],[\"RECOMPRA\"],[\"RECOMPRA\"],[\"CLIENTE NOVO\"],[\"CLIENTE NOVO\"],[\"CLIENTE NOVO\"],[\"RECOMPRA\"],[\"RECOMPRA\"],[\"CLIENTE NOVO\"],[\"RECOMPRA\"],[\"CLIENTE NOVO\"],[\"CLIENTE NOVO\"],[\"RECOMPRA\"],[\"RECOMPRA\"],[\"CLIENTE NOVO\"],[\"RECOMPRA\"],[\"RECOMPRA\"],[\"RECOMPRA\"],[\"RECOMPRA\"],[\"RECOMPRA\"],[\"RECOMPRA\"],[\"CLIENTE NOVO\"],[\"CLIENTE NOVO\"],[\"RECOMPRA\"],[\"CLIENTE NOVO\"],[\"CLIENTE NOVO\"],[\"CLIENTE NOVO\"],[\"RECOMPRA\"],[\"RECOMPRA\"],[\"CLIENTE NOVO\"],[\"CLIENTE NOVO\"],[\"RECOMPRA\"],[\"RECOMPRA\"],[\"RECOMPRA\"],[\"RECOMPRA\"],[\"RECOMPRA\"],[\"CLIENTE NOVO\"],[\"CLIENTE NOVO\"],[\"RECOMPRA\"],[\"CLIENTE NOVO\"],[\"CLIENTE NOVO\"],[\"CLIENTE NOVO\"],[\"RECOMPRA\"],[\"CLIENTE NOVO\"],[\"RECOMPRA\"],[\"RECOMPRA\"],[\"CLIENTE NOVO\"],[\"RECOMPRA\"],[\"RECOMPRA\"],[\"CLIENTE NOVO\"],[\"CLIENTE NOVO\"],[\"RECOMPRA\"],[\"RECOMPRA\"],[\"RECOMPRA\"],[\"CLIENTE NOVO\"],[\"RECOMPRA\"],[\"CLIENTE NOVO\"],[\"RECOMPRA\"],[\"RECOMPRA\"],[\"RECOMPRA\"],[\"RECOMPRA\"],[\"CLIENTE NOVO\"],[\"RECOMPRA\"],[\"CLIENTE NOVO\"],[\"RECOMPRA\"],[\"RECOMPRA\"],[\"CLIENTE NOVO\"],[\"RECOMPRA\"],[\"RECOMPRA\"],[\"CLIENTE NOVO\"],[\"CLIENTE NOVO\"],[\"CLIENTE NOVO\"],[\"RECOMPRA\"],[\"CLIENTE NOVO\"],[\"RECOMPRA\"],[\"CLIENTE NOVO\"],[\"CLIENTE NOVO\"],[\"CLIENTE NOVO\"],[\"CLIENTE NOVO\"],[\"RECOMPRA\"],[\"RECOMPRA\"],[\"CLIENTE NOVO\"],[\"RECOMPRA\"],[\"RECOMPRA\"],[\"RECOMPRA\"],[\"CLIENTE NOVO\"],[\"CLIENTE NOVO\"],[\"CLIENTE NOVO\"],[\"RECOMPRA\"],[\"CLIENTE NOVO\"],[\"CLIENTE NOVO\"],[\"CLIENTE NOVO\"],[\"CLIENTE NOVO\"],[\"RECOMPRA\"],[\"CLIENTE NOVO\"],[\"RECOMPRA\"],[\"RECOMPRA\"],[\"RECOMPRA\"],[\"RECOMPRA\"],[\"RECOMPRA\"],[\"RECOMPRA\"],[\"RECOMPRA\"],[\"RECOMPRA\"],[\"CLIENTE NOVO\"],[\"CLIENTE NOVO\"],[\"CLIENTE NOVO\"],[\"CLIENTE NOVO\"],[\"CLIENTE NOVO\"],[\"CLIENTE NOVO\"],[\"CLIENTE NOVO\"],[\"CLIENTE NOVO\"],[\"CLIENTE NOVO\"],[\"CLIENTE NOVO\"],[\"RECOMPRA\"],[\"CLIENTE NOVO\"],[\"CLIENTE NOVO\"],[\"CLIENTE NOVO\"],[\"RECOMPRA\"],[\"RECOMPRA\"],[\"RECOMPRA\"],[\"CLIENTE NOVO\"],[\"RECOMPRA\"],[\"CLIENTE NOVO\"],[\"CLIENTE NOVO\"],[\"CLIENTE NOVO\"],[\"CLIENTE NOVO\"],[\"CLIENTE NOVO\"],[\"RECOMPRA\"],[\"CLIENTE NOVO\"],[\"RECOMPRA\"],[\"RECOMPRA\"],[\"CLIENTE NOVO\"],[\"CLIENTE NOVO\"],[\"CLIENTE NOVO\"],[\"RECOMPRA\"],[\"CLIENTE NOVO\"],[\"RECOMPRA\"],[\"RECOMPRA\"],[\"CLIENTE NOVO\"],[\"RECOMPRA\"],[\"CLIENTE NOVO\"],[\"CLIENTE NOVO\"],[\"CLIENTE NOVO\"],[\"RECOMPRA\"],[\"CLIENTE NOVO\"],[\"CLIENTE NOVO\"],[\"CLIENTE NOVO\"],[\"CLIENTE NOVO\"],[\"CLIENTE NOVO\"],[\"CLIENTE NOVO\"],[\"RECOMPRA\"],[\"CLIENTE NOVO\"],[\"RECOMPRA\"],[\"RECOMPRA\"],[\"CLIENTE NOVO\"],[\"CLIENTE NOVO\"],[\"RECOMPRA\"],[\"CLIENTE NOVO\"],[\"RECOMPRA\"],[\"RECOMPRA\"],[\"RECOMPRA\"],[\"RECOMPRA\"],[\"CLIENTE NOVO\"],[\"CLIENTE NOVO\"],[\"CLIENTE NOVO\"],[\"RECOMPRA\"],[\"CLIENTE NOVO\"],[\"RECOMPRA\"],[\"CLIENTE NOVO\"],[\"CLIENTE NOVO\"],[\"RECOMPRA\"],[\"CLIENTE NOVO\"],[\"RECOMPRA\"],[\"RECOMPRA\"],[\"CLIENTE NOVO\"],[\"CLIENTE NOVO\"],[\"CLIENTE NOVO\"],[\"RECOMPRA\"],[\"RECOMPRA\"],[\"RECOMPRA\"],[\"CLIENTE NOVO\"],[\"CLIENTE NOVO\"],[\"CLIENTE NOVO\"],[\"CLIENTE NOVO\"],[\"CLIENTE NOVO\"],[\"CLIENTE NOVO\"],[\"RECOMPRA\"],[\"CLIENTE NOVO\"],[\"RECOMPRA\"],[\"RECOMPRA\"],[\"CLIENTE NOVO\"],[\"RECOMPRA\"],[\"RECOMPRA\"],[\"RECOMPRA\"],[\"RECOMPRA\"],[\"CLIENTE NOVO\"],[\"CLIENTE NOVO\"],[\"CLIENTE NOVO\"],[\"CLIENTE NOVO\"],[\"RECOMPRA\"],[\"RECOMPRA\"],[\"CLIENTE NOVO\"],[\"RECOMPRA\"],[\"RECOMPRA\"],[\"CLIENTE NOVO\"],[\"CLIENTE NOVO\"],[\"CLIENTE NOVO\"],[\"CLIENTE NOVO\"],[\"CLIENTE NOVO\"],[\"RECOMPRA\"],[\"CLIENTE NOVO\"],[\"CLIENTE NOVO\"],[\"CLIENTE NOVO\"],[\"CLIENTE NOVO\"],[\"RECOMPRA\"],[\"CLIENTE NOVO\"],[\"CLIENTE NOVO\"],[\"RECOMPRA\"],[\"RECOMPRA\"],[\"RECOMPRA\"],[\"RECOMPRA\"],[\"RECOMPRA\"],[\"RECOMPRA\"],[\"CLIENTE NOVO\"],[\"RECOMPRA\"],[\"RECOMPRA\"],[\"CLIENTE NOVO\"],[\"RECOMPRA\"],[\"RECOMPRA\"],[\"CLIENTE NOVO\"],[\"CLIENTE NOVO\"],[\"CLIENTE NOVO\"],[\"RECOMPRA\"],[\"CLIENTE NOVO\"],[\"CLIENTE NOVO\"],[\"CLIENTE NOVO\"],[\"CLIENTE NOVO\"],[\"CLIENTE NOVO\"],[\"CLIENTE NOVO\"],[\"RECOMPRA\"],[\"RECOMPRA\"],[\"RECOMPRA\"],[\"CLIENTE NOVO\"],[\"RECOMPRA\"],[\"CLIENTE NOVO\"],[\"RECOMPRA\"],[\"RECOMPRA\"],[\"CLIENTE NOVO\"],[\"RECOMPRA\"],[\"CLIENTE NOVO\"],[\"CLIENTE NOVO\"],[\"RECOMPRA\"],[\"RECOMPRA\"],[\"CLIENTE NOVO\"],[\"CLIENTE NOVO\"],[\"CLIENTE NOVO\"],[\"RECOMPRA\"],[\"CLIENTE NOVO\"],[\"CLIENTE NOVO\"],[\"CLIENTE NOVO\"],[\"RECOMPRA\"],[\"CLIENTE NOVO\"],[\"RECOMPRA\"],[\"CLIENTE NOVO\"],[\"CLIENTE NOVO\"],[\"RECOMPRA\"],[\"CLIENTE NOVO\"],[\"CLIENTE NOVO\"],[\"RECOMPRA\"],[\"RECOMPRA\"],[\"RECOMPRA\"],[\"RECOMPRA\"],[\"RECOMPRA\"],[\"RECOMPRA\"],[\"CLIENTE NOVO\"],[\"RECOMPRA\"],[\"RECOMPRA\"],[\"RECOMPRA\"],[\"CLIENTE NOVO\"],[\"RECOMPRA\"],[\"CLIENTE NOVO\"],[\"CLIENTE NOVO\"],[\"CLIENTE NOVO\"],[\"CLIENTE NOVO\"],[\"CLIENTE NOVO\"],[\"CLIENTE NOVO\"],[\"CLIENTE NOVO\"],[\"CLIENTE NOVO\"],[\"CLIENTE NOVO\"],[\"RECOMPRA\"],[\"CLIENTE NOVO\"],[\"CLIENTE NOVO\"],[\"RECOMPRA\"],[\"RECOMPRA\"],[\"CLIENTE NOVO\"],[\"RECOMPRA\"],[\"RECOMPRA\"],[\"CLIENTE NOVO\"],[\"CLIENTE NOVO\"],[\"CLIENTE NOVO\"],[\"RECOMPRA\"],[\"CLIENTE NOVO\"],[\"CLIENTE NOVO\"],[\"CLIENTE NOVO\"],[\"CLIENTE NOVO\"],[\"RECOMPRA\"],[\"CLIENTE NOVO\"],[\"RECOMPRA\"],[\"RECOMPRA\"],[\"CLIENTE NOVO\"],[\"CLIENTE NOVO\"],[\"CLIENTE NOVO\"],[\"RECOMPRA\"],[\"CLIENTE NOVO\"],[\"CLIENTE NOVO\"],[\"CLIENTE NOVO\"],[\"RECOMPRA\"],[\"RECOMPRA\"],[\"CLIENTE NOVO\"],[\"RECOMPRA\"],[\"RECOMPRA\"],[\"RECOMPRA\"],[\"RECOMPRA\"],[\"RECOMPRA\"],[\"RECOMPRA\"],[\"RECOMPRA\"],[\"CLIENTE NOVO\"],[\"CLIENTE NOVO\"],[\"CLIENTE NOVO\"],[\"RECOMPRA\"],[\"CLIENTE NOVO\"],[\"RECOMPRA\"],[\"CLIENTE NOVO\"],[\"RECOMPRA\"],[\"RECOMPRA\"],[\"CLIENTE NOVO\"],[\"CLIENTE NOVO\"],[\"RECOMPRA\"],[\"CLIENTE NOVO\"],[\"CLIENTE NOVO\"],[\"RECOMPRA\"],[\"CLIENTE NOVO\"],[\"CLIENTE NOVO\"],[\"RECOMPRA\"],[\"RECOMPRA\"],[\"RECOMPRA\"],[\"CLIENTE NOVO\"],[\"CLIENTE NOVO\"],[\"RECOMPRA\"],[\"RECOMPRA\"],[\"RECOMPRA\"],[\"CLIENTE NOVO\"],[\"RECOMPRA\"],[\"CLIENTE NOVO\"],[\"CLIENTE NOVO\"],[\"CLIENTE NOVO\"],[\"CLIENTE NOVO\"],[\"RECOMPRA\"],[\"CLIENTE NOVO\"],[\"CLIENTE NOVO\"],[\"CLIENTE NOVO\"],[\"CLIENTE NOVO\"],[\"CLIENTE NOVO\"],[\"CLIENTE NOVO\"],[\"CLIENTE NOVO\"],[\"CLIENTE NOVO\"],[\"RECOMPRA\"],[\"RECOMPRA\"],[\"RECOMPRA\"],[\"RECOMPRA\"],[\"CLIENTE NOVO\"],[\"CLIENTE NOVO\"],[\"RECOMPRA\"],[\"RECOMPRA\"],[\"RECOMPRA\"],[\"RECOMPRA\"],[\"RECOMPRA\"],[\"CLIENTE NOVO\"],[\"CLIENTE NOVO\"],[\"CLIENTE NOVO\"],[\"RECOMPRA\"],[\"CLIENTE NOVO\"],[\"RECOMPRA\"],[\"CLIENTE NOVO\"],[\"CLIENTE NOVO\"],[\"RECOMPRA\"],[\"RECOMPRA\"],[\"CLIENTE NOVO\"],[\"CLIENTE NOVO\"],[\"RECOMPRA\"],[\"CLIENTE NOVO\"],[\"CLIENTE NOVO\"],[\"RECOMPRA\"],[\"RECOMPRA\"],[\"RECOMPRA\"],[\"CLIENTE NOVO\"],[\"RECOMPRA\"],[\"RECOMPRA\"],[\"RECOMPRA\"],[\"RECOMPRA\"],[\"CLIENTE NOVO\"],[\"RECOMPRA\"],[\"CLIENTE NOVO\"],[\"CLIENTE NOVO\"],[\"CLIENTE NOVO\"],[\"CLIENTE NOVO\"],[\"RECOMPRA\"],[\"CLIENTE NOVO\"],[\"CLIENTE NOVO\"],[\"CLIENTE NOVO\"],[\"CLIENTE NOVO\"],[\"RECOMPRA\"],[\"CLIENTE NOVO\"],[\"CLIENTE NOVO\"],[\"CLIENTE NOVO\"],[\"CLIENTE NOVO\"],[\"RECOMPRA\"],[\"RECOMPRA\"],[\"RECOMPRA\"],[\"CLIENTE NOVO\"],[\"RECOMPRA\"],[\"RECOMPRA\"],[\"CLIENTE NOVO\"],[\"RECOMPRA\"],[\"RECOMPRA\"],[\"CLIENTE NOVO\"],[\"CLIENTE NOVO\"],[\"RECOMPRA\"],[\"CLIENTE NOVO\"],[\"RECOMPRA\"],[\"RECOMPRA\"],[\"CLIENTE NOVO\"],[\"CLIENTE NOVO\"],[\"RECOMPRA\"],[\"RECOMPRA\"],[\"CLIENTE NOVO\"],[\"RECOMPRA\"],[\"RECOMPRA\"],[\"CLIENTE NOVO\"],[\"CLIENTE NOVO\"],[\"CLIENTE NOVO\"],[\"CLIENTE NOVO\"],[\"CLIENTE NOVO\"],[\"CLIENTE NOVO\"],[\"RECOMPRA\"],[\"CLIENTE NOVO\"],[\"CLIENTE NOVO\"],[\"RECOMPRA\"],[\"RECOMPRA\"],[\"RECOMPRA\"],[\"CLIENTE NOVO\"],[\"CLIENTE NOVO\"],[\"CLIENTE NOVO\"],[\"RECOMPRA\"],[\"RECOMPRA\"],[\"RECOMPRA\"],[\"RECOMPRA\"],[\"RECOMPRA\"],[\"RECOMPRA\"],[\"CLIENTE NOVO\"],[\"CLIENTE NOVO\"],[\"RECOMPRA\"],[\"CLIENTE NOVO\"],[\"RECOMPRA\"],[\"CLIENTE NOVO\"],[\"CLIENTE NOVO\"],[\"CLIENTE NOVO\"],[\"RECOMPRA\"],[\"RECOMPRA\"],[\"CLIENTE NOVO\"],[\"CLIENTE NOVO\"],[\"RECOMPRA\"],[\"RECOMPRA\"],[\"RECOMPRA\"],[\"RECOMPRA\"],[\"RECOMPRA\"],[\"CLIENTE NOVO\"],[\"CLIENTE NOVO\"],[\"CLIENTE NOVO\"],[\"CLIENTE NOVO\"],[\"CLIENTE NOVO\"],[\"RECOMPRA\"],[\"CLIENTE NOVO\"],[\"CLIENTE NOVO\"],[\"CLIENTE NOVO\"],[\"CLIENTE NOVO\"],[\"CLIENTE NOVO\"],[\"CLIENTE NOVO\"],[\"CLIENTE NOVO\"],[\"CLIENTE NOVO\"],[\"RECOMPRA\"],[\"CLIENTE NOVO\"],[\"RECOMPRA\"],[\"RECOMPRA\"],[\"RECOMPRA\"],[\"RECOMPRA\"],[\"RECOMPRA\"],[\"CLIENTE NOVO\"],[\"CLIENTE NOVO\"],[\"CLIENTE NOVO\"],[\"RECOMPRA\"],[\"CLIENTE NOVO\"],[\"CLIENTE NOVO\"],[\"CLIENTE NOVO\"],[\"CLIENTE NOVO\"],[\"RECOMPRA\"],[\"RECOMPRA\"],[\"CLIENTE NOVO\"],[\"RECOMPRA\"],[\"CLIENTE NOVO\"],[\"CLIENTE NOVO\"],[\"CLIENTE NOVO\"],[\"CLIENTE NOVO\"],[\"CLIENTE NOVO\"],[\"CLIENTE NOVO\"],[\"CLIENTE NOVO\"],[\"CLIENTE NOVO\"],[\"CLIENTE NOVO\"],[\"CLIENTE NOVO\"],[\"RECOMPRA\"],[\"CLIENTE NOVO\"],[\"CLIENTE NOVO\"],[\"CLIENTE NOVO\"],[\"CLIENTE NOVO\"],[\"CLIENTE NOVO\"],[\"RECOMPRA\"],[\"CLIENTE NOVO\"],[\"CLIENTE NOVO\"],[\"CLIENTE NOVO\"],[\"CLIENTE NOVO\"],[\"CLIENTE NOVO\"],[\"CLIENTE NOVO\"],[\"CLIENTE NOVO\"],[\"CLIENTE NOVO\"],[\"CLIENTE NOVO\"],[\"RECOMPRA\"],[\"RECOMPRA\"],[\"CLIENTE NOVO\"],[\"CLIENTE NOVO\"],[\"CLIENTE NOVO\"],[\"CLIENTE NOVO\"],[\"CLIENTE NOVO\"],[\"CLIENTE NOVO\"],[\"RECOMPRA\"],[\"CLIENTE NOVO\"],[\"CLIENTE NOVO\"],[\"CLIENTE NOVO\"],[\"CLIENTE NOVO\"],[\"CLIENTE NOVO\"],[\"CLIENTE NOVO\"],[\"CLIENTE NOVO\"],[\"CLIENTE NOVO\"],[\"CLIENTE NOVO\"],[\"CLIENTE NOVO\"],[\"CLIENTE NOVO\"],[\"CLIENTE NOVO\"],[\"RECOMPRA\"],[\"CLIENTE NOVO\"],[\"CLIENTE NOVO\"],[\"RECOMPRA\"],[\"CLIENTE NOVO\"],[\"RECOMPRA\"],[\"CLIENTE NOVO\"],[\"CLIENTE NOVO\"],[\"CLIENTE NOVO\"],[\"RECOMPRA\"],[\"CLIENTE NOVO\"],[\"CLIENTE NOVO\"],[\"CLIENTE NOVO\"],[\"CLIENTE NOVO\"],[\"RECOMPRA\"],[\"CLIENTE NOVO\"],[\"CLIENTE NOVO\"],[\"CLIENTE NOVO\"],[\"CLIENTE NOVO\"],[\"CLIENTE NOVO\"],[\"RECOMPRA\"],[\"RECOMPRA\"],[\"CLIENTE NOVO\"],[\"RECOMPRA\"],[\"RECOMPRA\"],[\"RECOMPRA\"],[\"RECOMPRA\"],[\"CLIENTE NOVO\"],[\"CLIENTE NOVO\"],[\"CLIENTE NOVO\"],[\"RECOMPRA\"],[\"CLIENTE NOVO\"],[\"CLIENTE NOVO\"],[\"CLIENTE NOVO\"],[\"CLIENTE NOVO\"],[\"CLIENTE NOVO\"],[\"CLIENTE NOVO\"],[\"RECOMPRA\"],[\"RECOMPRA\"],[\"RECOMPRA\"],[\"RECOMPRA\"],[\"RECOMPRA\"],[\"CLIENTE NOVO\"],[\"CLIENTE NOVO\"],[\"CLIENTE NOVO\"],[\"CLIENTE NOVO\"],[\"CLIENTE NOVO\"],[\"CLIENTE NOVO\"],[\"CLIENTE NOVO\"],[\"CLIENTE NOVO\"],[\"CLIENTE NOVO\"],[\"RECOMPRA\"],[\"CLIENTE NOVO\"],[\"CLIENTE NOVO\"],[\"CLIENTE NOVO\"],[\"RECOMPRA\"],[\"RECOMPRA\"],[\"CLIENTE NOVO\"],[\"RECOMPRA\"],[\"CLIENTE NOVO\"],[\"CLIENTE NOVO\"],[\"RECOMPRA\"],[\"RECOMPRA\"],[\"CLIENTE NOVO\"],[\"CLIENTE NOVO\"],[\"CLIENTE NOVO\"],[\"CLIENTE NOVO\"],[\"RECOMPRA\"],[\"CLIENTE NOVO\"],[\"CLIENTE NOVO\"],[\"CLIENTE NOVO\"],[\"CLIENTE NOVO\"],[\"CLIENTE NOVO\"],[\"RECOMPRA\"],[\"CLIENTE NOVO\"],[\"RECOMPRA\"],[\"CLIENTE NOVO\"],[\"CLIENTE NOVO\"],[\"RECOMPRA\"],[\"RECOMPRA\"],[\"CLIENTE NOVO\"],[\"CLIENTE NOVO\"],[\"CLIENTE NOVO\"],[\"CLIENTE NOVO\"],[\"CLIENTE NOVO\"],[\"RECOMPRA\"],[\"RECOMPRA\"],[\"CLIENTE NOVO\"],[\"RECOMPRA\"],[\"RECOMPRA\"],[\"CLIENTE NOVO\"],[\"RECOMPRA\"],[\"CLIENTE NOVO\"],[\"CLIENTE NOVO\"],[\"CLIENTE NOVO\"],[\"RECOMPRA\"],[\"RECOMPRA\"],[\"RECOMPRA\"],[\"RECOMPRA\"],[\"RECOMPRA\"],[\"RECOMPRA\"],[\"CLIENTE NOVO\"],[\"CLIENTE NOVO\"],[\"CLIENTE NOVO\"],[\"CLIENTE NOVO\"],[\"CLIENTE NOVO\"],[\"CLIENTE NOVO\"],[\"CLIENTE NOVO\"],[\"RECOMPRA\"],[\"RECOMPRA\"],[\"CLIENTE NOVO\"],[\"RECOMPRA\"],[\"RECOMPRA\"],[\"CLIENTE NOVO\"],[\"RECOMPRA\"],[\"RECOMPRA\"],[\"RECOMPRA\"],[\"RECOMPRA\"],[\"CLIENTE NOVO\"],[\"RECOMPRA\"],[\"RECOMPRA\"],[\"CLIENTE NOVO\"],[\"CLIENTE NOVO\"],[\"RECOMPRA\"],[\"RECOMPRA\"],[\"RECOMPRA\"],[\"RECOMPRA\"],[\"RECOMPRA\"],[\"CLIENTE NOVO\"],[\"CLIENTE NOVO\"],[\"RECOMPRA\"],[\"CLIENTE NOVO\"],[\"CLIENTE NOVO\"],[\"CLIENTE NOVO\"],[\"CLIENTE NOVO\"],[\"RECOMPRA\"],[\"RECOMPRA\"],[\"RECOMPRA\"],[\"RECOMPRA\"],[\"RECOMPRA\"],[\"CLIENTE NOVO\"],[\"CLIENTE NOVO\"],[\"RECOMPRA\"],[\"RECOMPRA\"],[\"RECOMPRA\"],[\"CLIENTE NOVO\"],[\"CLIENTE NOVO\"],[\"RECOMPRA\"],[\"RECOMPRA\"],[\"RECOMPRA\"],[\"RECOMPRA\"],[\"RECOMPRA\"],[\"RECOMPRA\"],[\"CLIENTE NOVO\"],[\"CLIENTE NOVO\"],[\"CLIENTE NOVO\"],[\"CLIENTE NOVO\"],[\"CLIENTE NOVO\"],[\"RECOMPRA\"],[\"CLIENTE NOVO\"],[\"RECOMPRA\"],[\"CLIENTE NOVO\"],[\"CLIENTE NOVO\"],[\"CLIENTE NOVO\"],[\"CLIENTE NOVO\"],[\"CLIENTE NOVO\"],[\"CLIENTE NOVO\"],[\"RECOMPRA\"],[\"CLIENTE NOVO\"],[\"CLIENTE NOVO\"],[\"CLIENTE NOVO\"],[\"CLIENTE NOVO\"],[\"CLIENTE NOVO\"],[\"CLIENTE NOVO\"],[\"CLIENTE NOVO\"],[\"RECOMPRA\"],[\"CLIENTE NOVO\"],[\"RECOMPRA\"],[\"CLIENTE NOVO\"],[\"CLIENTE NOVO\"],[\"CLIENTE NOVO\"],[\"RECOMPRA\"],[\"CLIENTE NOVO\"],[\"RECOMPRA\"],[\"RECOMPRA\"],[\"RECOMPRA\"],[\"RECOMPRA\"],[\"RECOMPRA\"],[\"CLIENTE NOVO\"],[\"CLIENTE NOVO\"],[\"CLIENTE NOVO\"],[\"RECOMPRA\"],[\"RECOMPRA\"],[\"RECOMPRA\"],[\"CLIENTE NOVO\"],[\"CLIENTE NOVO\"],[\"RECOMPRA\"],[\"CLIENTE NOVO\"],[\"CLIENTE NOVO\"],[\"RECOMPRA\"],[\"CLIENTE NOVO\"],[\"RECOMPRA\"],[\"RECOMPRA\"],[\"RECOMPRA\"],[\"CLIENTE NOVO\"],[\"CLIENTE NOVO\"],[\"CLIENTE NOVO\"],[\"CLIENTE NOVO\"],[\"RECOMPRA\"],[\"CLIENTE NOVO\"],[\"CLIENTE NOVO\"],[\"RECOMPRA\"],[\"CLIENTE NOVO\"],[\"RECOMPRA\"],[\"CLIENTE NOVO\"],[\"CLIENTE NOVO\"],[\"CLIENTE NOVO\"],[\"CLIENTE NOVO\"],[\"RECOMPRA\"],[\"RECOMPRA\"],[\"CLIENTE NOVO\"],[\"CLIENTE NOVO\"],[\"RECOMPRA\"],[\"CLIENTE NOVO\"],[\"RECOMPRA\"],[\"RECOMPRA\"],[\"RECOMPRA\"],[\"CLIENTE NOVO\"],[\"CLIENTE NOVO\"],[\"RECOMPRA\"],[\"RECOMPRA\"],[\"CLIENTE NOVO\"],[\"CLIENTE NOVO\"],[\"CLIENTE NOVO\"],[\"RECOMPRA\"],[\"CLIENTE NOVO\"],[\"CLIENTE NOVO\"],[\"CLIENTE NOVO\"],[\"CLIENTE NOVO\"],[\"CLIENTE NOVO\"],[\"RECOMPRA\"],[\"CLIENTE NOVO\"],[\"RECOMPRA\"],[\"CLIENTE NOVO\"],[\"CLIENTE NOVO\"],[\"RECOMPRA\"],[\"CLIENTE NOVO\"],[\"CLIENTE NOVO\"],[\"CLIENTE NOVO\"],[\"CLIENTE NOVO\"],[\"CLIENTE NOVO\"],[\"CLIENTE NOVO\"],[\"RECOMPRA\"],[\"RECOMPRA\"],[\"CLIENTE NOVO\"],[\"CLIENTE NOVO\"],[\"CLIENTE NOVO\"],[\"RECOMPRA\"],[\"RECOMPRA\"],[\"RECOMPRA\"],[\"RECOMPRA\"],[\"RECOMPRA\"],[\"CLIENTE NOVO\"],[\"CLIENTE NOVO\"],[\"CLIENTE NOVO\"],[\"CLIENTE NOVO\"],[\"CLIENTE NOVO\"],[\"RECOMPRA\"],[\"RECOMPRA\"],[\"CLIENTE NOVO\"],[\"CLIENTE NOVO\"],[\"RECOMPRA\"],[\"CLIENTE NOVO\"],[\"RECOMPRA\"],[\"CLIENTE NOVO\"],[\"RECOMPRA\"],[\"RECOMPRA\"],[\"CLIENTE NOVO\"],[\"CLIENTE NOVO\"],[\"CLIENTE NOVO\"],[\"CLIENTE NOVO\"],[\"RECOMPRA\"],[\"CLIENTE NOVO\"],[\"RECOMPRA\"],[\"RECOMPRA\"],[\"CLIENTE NOVO\"],[\"RECOMPRA\"],[\"CLIENTE NOVO\"],[\"RECOMPRA\"],[\"RECOMPRA\"],[\"CLIENTE NOVO\"],[\"CLIENTE NOVO\"],[\"CLIENTE NOVO\"],[\"CLIENTE NOVO\"],[\"RECOMPRA\"],[\"RECOMPRA\"],[\"CLIENTE NOVO\"],[\"CLIENTE NOVO\"],[\"CLIENTE NOVO\"],[\"RECOMPRA\"],[\"CLIENTE NOVO\"],[\"RECOMPRA\"],[\"RECOMPRA\"],[\"CLIENTE NOVO\"],[\"RECOMPRA\"],[\"RECOMPRA\"],[\"RECOMPRA\"],[\"RECOMPRA\"],[\"RECOMPRA\"],[\"RECOMPRA\"],[\"RECOMPRA\"],[\"CLIENTE NOVO\"],[\"CLIENTE NOVO\"],[\"CLIENTE NOVO\"],[\"RECOMPRA\"],[\"CLIENTE NOVO\"],[\"CLIENTE NOVO\"],[\"CLIENTE NOVO\"],[\"RECOMPRA\"],[\"CLIENTE NOVO\"],[\"CLIENTE NOVO\"],[\"CLIENTE NOVO\"],[\"RECOMPRA\"],[\"CLIENTE NOVO\"],[\"CLIENTE NOVO\"],[\"CLIENTE NOVO\"],[\"RECOMPRA\"],[\"CLIENTE NOVO\"],[\"RECOMPRA\"],[\"CLIENTE NOVO\"],[\"CLIENTE NOVO\"],[\"CLIENTE NOVO\"],[\"CLIENTE NOVO\"],[\"CLIENTE NOVO\"],[\"CLIENTE NOVO\"],[\"CLIENTE NOVO\"],[\"CLIENTE NOVO\"],[\"CLIENTE NOVO\"],[\"CLIENTE NOVO\"],[\"CLIENTE NOVO\"],[\"RECOMPRA\"],[\"CLIENTE NOVO\"],[\"CLIENTE NOVO\"],[\"RECOMPRA\"],[\"CLIENTE NOVO\"],[\"CLIENTE NOVO\"],[\"CLIENTE NOVO\"],[\"RECOMPRA\"],[\"RECOMPRA\"],[\"RECOMPRA\"],[\"RECOMPRA\"],[\"CLIENTE NOVO\"],[\"RECOMPRA\"],[\"CLIENTE NOVO\"],[\"CLIENTE NOVO\"],[\"CLIENTE NOVO\"],[\"RECOMPRA\"],[\"RECOMPRA\"],[\"CLIENTE NOVO\"],[\"RECOMPRA\"],[\"CLIENTE NOVO\"],[\"CLIENTE NOVO\"],[\"CLIENTE NOVO\"],[\"CLIENTE NOVO\"],[\"CLIENTE NOVO\"],[\"RECOMPRA\"],[\"CLIENTE NOVO\"],[\"RECOMPRA\"],[\"CLIENTE NOVO\"],[\"RECOMPRA\"],[\"RECOMPRA\"],[\"CLIENTE NOVO\"],[\"RECOMPRA\"],[\"RECOMPRA\"],[\"CLIENTE NOVO\"],[\"RECOMPRA\"],[\"RECOMPRA\"],[\"RECOMPRA\"],[\"CLIENTE NOVO\"],[\"RECOMPRA\"],[\"CLIENTE NOVO\"],[\"CLIENTE NOVO\"],[\"CLIENTE NOVO\"],[\"CLIENTE NOVO\"],[\"CLIENTE NOVO\"],[\"CLIENTE NOVO\"],[\"CLIENTE NOVO\"],[\"CLIENTE NOVO\"],[\"CLIENTE NOVO\"],[\"CLIENTE NOVO\"],[\"CLIENTE NOVO\"],[\"CLIENTE NOVO\"],[\"CLIENTE NOVO\"],[\"RECOMPRA\"],[\"RECOMPRA\"],[\"RECOMPRA\"],[\"RECOMPRA\"],[\"CLIENTE NOVO\"],[\"RECOMPRA\"],[\"CLIENTE NOVO\"],[\"CLIENTE NOVO\"],[\"RECOMPRA\"],[\"RECOMPRA\"],[\"CLIENTE NOVO\"],[\"CLIENTE NOVO\"],[\"RECOMPRA\"],[\"RECOMPRA\"],[\"RECOMPRA\"],[\"CLIENTE NOVO\"],[\"CLIENTE NOVO\"],[\"CLIENTE NOVO\"],[\"CLIENTE NOVO\"],[\"CLIENTE NOVO\"],[\"CLIENTE NOVO\"],[\"CLIENTE NOVO\"],[\"RECOMPRA\"],[\"CLIENTE NOVO\"],[\"CLIENTE NOVO\"],[\"CLIENTE NOVO\"],[\"RECOMPRA\"],[\"RECOMPRA\"],[\"CLIENTE NOVO\"],[\"RECOMPRA\"],[\"RECOMPRA\"],[\"CLIENTE NOVO\"],[\"CLIENTE NOVO\"],[\"RECOMPRA\"],[\"CLIENTE NOVO\"],[\"CLIENTE NOVO\"],[\"CLIENTE NOVO\"],[\"RECOMPRA\"],[\"RECOMPRA\"],[\"RECOMPRA\"],[\"CLIENTE NOVO\"],[\"RECOMPRA\"],[\"CLIENTE NOVO\"],[\"CLIENTE NOVO\"],[\"RECOMPRA\"],[\"CLIENTE NOVO\"],[\"CLIENTE NOVO\"],[\"CLIENTE NOVO\"],[\"RECOMPRA\"],[\"CLIENTE NOVO\"],[\"CLIENTE NOVO\"],[\"CLIENTE NOVO\"],[\"CLIENTE NOVO\"],[\"RECOMPRA\"],[\"RECOMPRA\"],[\"RECOMPRA\"],[\"CLIENTE NOVO\"],[\"CLIENTE NOVO\"],[\"CLIENTE NOVO\"],[\"CLIENTE NOVO\"],[\"RECOMPRA\"],[\"RECOMPRA\"],[\"CLIENTE NOVO\"],[\"CLIENTE NOVO\"],[\"RECOMPRA\"],[\"RECOMPRA\"],[\"RECOMPRA\"],[\"RECOMPRA\"],[\"CLIENTE NOVO\"],[\"RECOMPRA\"],[\"CLIENTE NOVO\"],[\"RECOMPRA\"],[\"RECOMPRA\"],[\"RECOMPRA\"],[\"CLIENTE NOVO\"],[\"CLIENTE NOVO\"],[\"CLIENTE NOVO\"],[\"CLIENTE NOVO\"],[\"CLIENTE NOVO\"],[\"CLIENTE NOVO\"],[\"CLIENTE NOVO\"],[\"RECOMPRA\"],[\"CLIENTE NOVO\"],[\"RECOMPRA\"],[\"CLIENTE NOVO\"],[\"RECOMPRA\"],[\"CLIENTE NOVO\"],[\"RECOMPRA\"],[\"RECOMPRA\"],[\"RECOMPRA\"],[\"CLIENTE NOVO\"],[\"CLIENTE NOVO\"],[\"CLIENTE NOVO\"],[\"CLIENTE NOVO\"],[\"CLIENTE NOVO\"],[\"RECOMPRA\"],[\"RECOMPRA\"],[\"CLIENTE NOVO\"],[\"CLIENTE NOVO\"],[\"CLIENTE NOVO\"],[\"RECOMPRA\"],[\"RECOMPRA\"],[\"RECOMPRA\"],[\"RECOMPRA\"],[\"CLIENTE NOVO\"],[\"CLIENTE NOVO\"],[\"CLIENTE NOVO\"],[\"CLIENTE NOVO\"],[\"CLIENTE NOVO\"],[\"CLIENTE NOVO\"],[\"RECOMPRA\"],[\"CLIENTE NOVO\"],[\"CLIENTE NOVO\"],[\"CLIENTE NOVO\"],[\"CLIENTE NOVO\"],[\"CLIENTE NOVO\"],[\"CLIENTE NOVO\"],[\"CLIENTE NOVO\"],[\"CLIENTE NOVO\"],[\"RECOMPRA\"],[\"CLIENTE NOVO\"],[\"CLIENTE NOVO\"],[\"RECOMPRA\"],[\"CLIENTE NOVO\"],[\"RECOMPRA\"],[\"CLIENTE NOVO\"],[\"CLIENTE NOVO\"],[\"CLIENTE NOVO\"],[\"RECOMPRA\"],[\"CLIENTE NOVO\"],[\"CLIENTE NOVO\"],[\"RECOMPRA\"],[\"RECOMPRA\"],[\"RECOMPRA\"],[\"RECOMPRA\"],[\"RECOMPRA\"],[\"CLIENTE NOVO\"],[\"RECOMPRA\"],[\"CLIENTE NOVO\"],[\"RECOMPRA\"],[\"RECOMPRA\"],[\"RECOMPRA\"],[\"RECOMPRA\"],[\"RECOMPRA\"],[\"CLIENTE NOVO\"],[\"CLIENTE NOVO\"],[\"RECOMPRA\"],[\"RECOMPRA\"],[\"RECOMPRA\"],[\"RECOMPRA\"],[\"CLIENTE NOVO\"],[\"RECOMPRA\"],[\"CLIENTE NOVO\"],[\"CLIENTE NOVO\"],[\"CLIENTE NOVO\"],[\"CLIENTE NOVO\"],[\"RECOMPRA\"],[\"CLIENTE NOVO\"],[\"CLIENTE NOVO\"],[\"CLIENTE NOVO\"],[\"RECOMPRA\"],[\"RECOMPRA\"],[\"RECOMPRA\"],[\"CLIENTE NOVO\"],[\"CLIENTE NOVO\"],[\"CLIENTE NOVO\"],[\"CLIENTE NOVO\"],[\"CLIENTE NOVO\"],[\"CLIENTE NOVO\"],[\"CLIENTE NOVO\"],[\"CLIENTE NOVO\"],[\"RECOMPRA\"],[\"CLIENTE NOVO\"],[\"RECOMPRA\"],[\"CLIENTE NOVO\"],[\"CLIENTE NOVO\"],[\"CLIENTE NOVO\"],[\"CLIENTE NOVO\"],[\"CLIENTE NOVO\"],[\"CLIENTE NOVO\"],[\"RECOMPRA\"],[\"RECOMPRA\"],[\"CLIENTE NOVO\"],[\"RECOMPRA\"],[\"RECOMPRA\"],[\"RECOMPRA\"],[\"CLIENTE NOVO\"],[\"CLIENTE NOVO\"],[\"CLIENTE NOVO\"],[\"RECOMPRA\"],[\"RECOMPRA\"],[\"RECOMPRA\"],[\"CLIENTE NOVO\"],[\"CLIENTE NOVO\"],[\"CLIENTE NOVO\"],[\"RECOMPRA\"],[\"RECOMPRA\"],[\"CLIENTE NOVO\"],[\"CLIENTE NOVO\"],[\"CLIENTE NOVO\"],[\"CLIENTE NOVO\"],[\"RECOMPRA\"],[\"RECOMPRA\"],[\"CLIENTE NOVO\"],[\"CLIENTE NOVO\"],[\"RECOMPRA\"],[\"RECOMPRA\"],[\"CLIENTE NOVO\"],[\"RECOMPRA\"],[\"CLIENTE NOVO\"],[\"RECOMPRA\"],[\"CLIENTE NOVO\"],[\"CLIENTE NOVO\"],[\"CLIENTE NOVO\"],[\"CLIENTE NOVO\"],[\"RECOMPRA\"],[\"RECOMPRA\"],[\"CLIENTE NOVO\"],[\"RECOMPRA\"],[\"CLIENTE NOVO\"],[\"CLIENTE NOVO\"],[\"CLIENTE NOVO\"],[\"CLIENTE NOVO\"],[\"CLIENTE NOVO\"],[\"CLIENTE NOVO\"],[\"CLIENTE NOVO\"],[\"RECOMPRA\"],[\"RECOMPRA\"],[\"RECOMPRA\"],[\"CLIENTE NOVO\"],[\"CLIENTE NOVO\"],[\"CLIENTE NOVO\"],[\"RECOMPRA\"],[\"CLIENTE NOVO\"],[\"CLIENTE NOVO\"],[\"CLIENTE NOVO\"],[\"CLIENTE NOVO\"],[\"CLIENTE NOVO\"],[\"CLIENTE NOVO\"],[\"RECOMPRA\"],[\"RECOMPRA\"],[\"CLIENTE NOVO\"],[\"CLIENTE NOVO\"],[\"CLIENTE NOVO\"],[\"CLIENTE NOVO\"],[\"CLIENTE NOVO\"],[\"RECOMPRA\"],[\"RECOMPRA\"],[\"CLIENTE NOVO\"],[\"CLIENTE NOVO\"],[\"RECOMPRA\"],[\"RECOMPRA\"],[\"CLIENTE NOVO\"],[\"CLIENTE NOVO\"],[\"CLIENTE NOVO\"],[\"CLIENTE NOVO\"],[\"CLIENTE NOVO\"],[\"RECOMPRA\"],[\"RECOMPRA\"],[\"RECOMPRA\"],[\"RECOMPRA\"],[\"RECOMPRA\"],[\"RECOMPRA\"],[\"RECOMPRA\"],[\"RECOMPRA\"],[\"RECOMPRA\"],[\"RECOMPRA\"],[\"RECOMPRA\"],[\"RECOMPRA\"],[\"RECOMPRA\"],[\"RECOMPRA\"],[\"RECOMPRA\"],[\"CLIENTE NOVO\"],[\"RECOMPRA\"],[\"CLIENTE NOVO\"],[\"CLIENTE NOVO\"],[\"RECOMPRA\"],[\"CLIENTE NOVO\"],[\"CLIENTE NOVO\"],[\"CLIENTE NOVO\"],[\"RECOMPRA\"],[\"CLIENTE NOVO\"],[\"RECOMPRA\"],[\"CLIENTE NOVO\"],[\"RECOMPRA\"],[\"CLIENTE NOVO\"],[\"RECOMPRA\"],[\"CLIENTE NOVO\"],[\"CLIENTE NOVO\"],[\"CLIENTE NOVO\"],[\"CLIENTE NOVO\"],[\"CLIENTE NOVO\"],[\"CLIENTE NOVO\"],[\"RECOMPRA\"],[\"RECOMPRA\"],[\"RECOMPRA\"],[\"RECOMPRA\"],[\"RECOMPRA\"],[\"RECOMPRA\"],[\"CLIENTE NOVO\"],[\"RECOMPRA\"],[\"CLIENTE NOVO\"],[\"RECOMPRA\"],[\"CLIENTE NOVO\"],[\"CLIENTE NOVO\"],[\"CLIENTE NOVO\"],[\"RECOMPRA\"],[\"RECOMPRA\"],[\"RECOMPRA\"],[\"CLIENTE NOVO\"],[\"RECOMPRA\"],[\"RECOMPRA\"],[\"RECOMPRA\"],[\"RECOMPRA\"],[\"CLIENTE NOVO\"],[\"CLIENTE NOVO\"],[\"CLIENTE NOVO\"],[\"CLIENTE NOVO\"],[\"CLIENTE NOVO\"],[\"CLIENTE NOVO\"],[\"CLIENTE NOVO\"],[\"RECOMPRA\"],[\"CLIENTE NOVO\"],[\"CLIENTE NOVO\"],[\"RECOMPRA\"],[\"CLIENTE NOVO\"],[\"CLIENTE NOVO\"],[\"CLIENTE NOVO\"],[\"CLIENTE NOVO\"],[\"RECOMPRA\"],[\"CLIENTE NOVO\"],[\"RECOMPRA\"],[\"CLIENTE NOVO\"],[\"CLIENTE NOVO\"],[\"CLIENTE NOVO\"],[\"RECOMPRA\"],[\"RECOMPRA\"],[\"CLIENTE NOVO\"],[\"RECOMPRA\"],[\"RECOMPRA\"],[\"CLIENTE NOVO\"],[\"CLIENTE NOVO\"],[\"RECOMPRA\"],[\"RECOMPRA\"],[\"CLIENTE NOVO\"],[\"RECOMPRA\"],[\"RECOMPRA\"],[\"RECOMPRA\"],[\"CLIENTE NOVO\"],[\"RECOMPRA\"],[\"RECOMPRA\"],[\"CLIENTE NOVO\"],[\"CLIENTE NOVO\"],[\"RECOMPRA\"],[\"RECOMPRA\"],[\"CLIENTE NOVO\"],[\"CLIENTE NOVO\"],[\"CLIENTE NOVO\"],[\"CLIENTE NOVO\"],[\"RECOMPRA\"],[\"RECOMPRA\"],[\"RECOMPRA\"],[\"RECOMPRA\"],[\"CLIENTE NOVO\"],[\"CLIENTE NOVO\"],[\"CLIENTE NOVO\"],[\"RECOMPRA\"],[\"CLIENTE NOVO\"],[\"CLIENTE NOVO\"],[\"CLIENTE NOVO\"],[\"CLIENTE NOVO\"],[\"CLIENTE NOVO\"],[\"CLIENTE NOVO\"],[\"CLIENTE NOVO\"],[\"CLIENTE NOVO\"],[\"CLIENTE NOVO\"],[\"CLIENTE NOVO\"],[\"CLIENTE NOVO\"],[\"RECOMPRA\"],[\"RECOMPRA\"],[\"CLIENTE NOVO\"],[\"CLIENTE NOVO\"],[\"CLIENTE NOVO\"],[\"CLIENTE NOVO\"],[\"CLIENTE NOVO\"],[\"CLIENTE NOVO\"],[\"CLIENTE NOVO\"],[\"CLIENTE NOVO\"],[\"CLIENTE NOVO\"],[\"CLIENTE NOVO\"],[\"CLIENTE NOVO\"],[\"CLIENTE NOVO\"],[\"CLIENTE NOVO\"],[\"CLIENTE NOVO\"],[\"CLIENTE NOVO\"],[\"RECOMPRA\"],[\"RECOMPRA\"],[\"CLIENTE NOVO\"],[\"CLIENTE NOVO\"],[\"CLIENTE NOVO\"],[\"CLIENTE NOVO\"],[\"CLIENTE NOVO\"],[\"RECOMPRA\"],[\"CLIENTE NOVO\"],[\"CLIENTE NOVO\"],[\"CLIENTE NOVO\"],[\"CLIENTE NOVO\"],[\"CLIENTE NOVO\"],[\"CLIENTE NOVO\"],[\"CLIENTE NOVO\"],[\"RECOMPRA\"],[\"CLIENTE NOVO\"],[\"CLIENTE NOVO\"],[\"CLIENTE NOVO\"],[\"CLIENTE NOVO\"],[\"CLIENTE NOVO\"],[\"CLIENTE NOVO\"],[\"CLIENTE NOVO\"],[\"CLIENTE NOVO\"],[\"CLIENTE NOVO\"],[\"CLIENTE NOVO\"],[\"CLIENTE NOVO\"],[\"RECOMPRA\"],[\"RECOMPRA\"],[\"RECOMPRA\"],[\"RECOMPRA\"],[\"CLIENTE NOVO\"],[\"CLIENTE NOVO\"],[\"CLIENTE NOVO\"],[\"CLIENTE NOVO\"],[\"CLIENTE NOVO\"],[\"CLIENTE NOVO\"],[\"CLIENTE NOVO\"],[\"CLIENTE NOVO\"],[\"CLIENTE NOVO\"],[\"RECOMPRA\"],[\"RECOMPRA\"],[\"RECOMPRA\"],[\"CLIENTE NOVO\"],[\"RECOMPRA\"],[\"CLIENTE NOVO\"],[\"RECOMPRA\"],[\"CLIENTE NOVO\"],[\"CLIENTE NOVO\"],[\"CLIENTE NOVO\"],[\"CLIENTE NOVO\"],[\"CLIENTE NOVO\"],[\"CLIENTE NOVO\"],[\"CLIENTE NOVO\"],[\"CLIENTE NOVO\"],[\"CLIENTE NOVO\"],[\"CLIENTE NOVO\"],[\"CLIENTE NOVO\"],[\"CLIENTE NOVO\"],[\"CLIENTE NOVO\"],[\"CLIENTE NOVO\"],[\"CLIENTE NOVO\"],[\"CLIENTE NOVO\"],[\"CLIENTE NOVO\"],[\"CLIENTE NOVO\"],[\"CLIENTE NOVO\"],[\"CLIENTE NOVO\"],[\"CLIENTE NOVO\"],[\"CLIENTE NOVO\"],[\"CLIENTE NOVO\"],[\"CLIENTE NOVO\"],[\"RECOMPRA\"],[\"RECOMPRA\"],[\"RECOMPRA\"],[\"RECOMPRA\"],[\"RECOMPRA\"],[\"RECOMPRA\"],[\"CLIENTE NOVO\"],[\"CLIENTE NOVO\"],[\"RECOMPRA\"],[\"CLIENTE NOVO\"],[\"CLIENTE NOVO\"],[\"CLIENTE NOVO\"],[\"RECOMPRA\"],[\"CLIENTE NOVO\"],[\"CLIENTE NOVO\"],[\"CLIENTE NOVO\"],[\"CLIENTE NOVO\"],[\"CLIENTE NOVO\"],[\"CLIENTE NOVO\"],[\"CLIENTE NOVO\"],[\"CLIENTE NOVO\"],[\"RECOMPRA\"],[\"CLIENTE NOVO\"],[\"CLIENTE NOVO\"],[\"CLIENTE NOVO\"],[\"CLIENTE NOVO\"],[\"CLIENTE NOVO\"],[\"CLIENTE NOVO\"],[\"RECOMPRA\"],[\"RECOMPRA\"],[\"RECOMPRA\"],[\"RECOMPRA\"],[\"CLIENTE NOVO\"],[\"CLIENTE NOVO\"],[\"CLIENTE NOVO\"],[\"CLIENTE NOVO\"],[\"CLIENTE NOVO\"],[\"CLIENTE NOVO\"],[\"CLIENTE NOVO\"],[\"CLIENTE NOVO\"],[\"RECOMPRA\"],[\"CLIENTE NOVO\"],[\"RECOMPRA\"],[\"CLIENTE NOVO\"],[\"RECOMPRA\"],[\"CLIENTE NOVO\"],[\"RECOMPRA\"],[\"CLIENTE NOVO\"],[\"CLIENTE NOVO\"],[\"RECOMPRA\"],[\"CLIENTE NOVO\"],[\"CLIENTE NOVO\"],[\"CLIENTE NOVO\"],[\"CLIENTE NOVO\"],[\"RECOMPRA\"],[\"RECOMPRA\"],[\"CLIENTE NOVO\"],[\"CLIENTE NOVO\"],[\"RECOMPRA\"],[\"RECOMPRA\"],[\"RECOMPRA\"],[\"CLIENTE NOVO\"],[\"RECOMPRA\"],[\"CLIENTE NOVO\"],[\"CLIENTE NOVO\"],[\"CLIENTE NOVO\"],[\"CLIENTE NOVO\"],[\"CLIENTE NOVO\"],[\"RECOMPRA\"],[\"RECOMPRA\"],[\"CLIENTE NOVO\"],[\"CLIENTE NOVO\"],[\"CLIENTE NOVO\"],[\"RECOMPRA\"],[\"CLIENTE NOVO\"],[\"RECOMPRA\"],[\"RECOMPRA\"],[\"RECOMPRA\"],[\"RECOMPRA\"],[\"RECOMPRA\"],[\"RECOMPRA\"],[\"RECOMPRA\"],[\"RECOMPRA\"],[\"RECOMPRA\"],[\"RECOMPRA\"],[\"CLIENTE NOVO\"],[\"CLIENTE NOVO\"],[\"RECOMPRA\"],[\"RECOMPRA\"],[\"RECOMPRA\"],[\"CLIENTE NOVO\"],[\"CLIENTE NOVO\"],[\"RECOMPRA\"],[\"CLIENTE NOVO\"],[\"CLIENTE NOVO\"],[\"CLIENTE NOVO\"],[\"CLIENTE NOVO\"],[\"CLIENTE NOVO\"],[\"CLIENTE NOVO\"],[\"RECOMPRA\"],[\"CLIENTE NOVO\"],[\"CLIENTE NOVO\"],[\"RECOMPRA\"],[\"CLIENTE NOVO\"],[\"RECOMPRA\"],[\"CLIENTE NOVO\"],[\"CLIENTE NOVO\"],[\"RECOMPRA\"],[\"RECOMPRA\"],[\"CLIENTE NOVO\"],[\"CLIENTE NOVO\"],[\"RECOMPRA\"],[\"CLIENTE NOVO\"],[\"CLIENTE NOVO\"],[\"RECOMPRA\"],[\"CLIENTE NOVO\"],[\"RECOMPRA\"],[\"CLIENTE NOVO\"],[\"CLIENTE NOVO\"],[\"CLIENTE NOVO\"],[\"RECOMPRA\"],[\"RECOMPRA\"],[\"CLIENTE NOVO\"],[\"CLIENTE NOVO\"],[\"CLIENTE NOVO\"],[\"RECOMPRA\"],[\"RECOMPRA\"],[\"CLIENTE NOVO\"],[\"CLIENTE NOVO\"],[\"RECOMPRA\"],[\"RECOMPRA\"],[\"RECOMPRA\"],[\"CLIENTE NOVO\"],[\"CLIENTE NOVO\"],[\"RECOMPRA\"],[\"RECOMPRA\"],[\"RECOMPRA\"],[\"CLIENTE NOVO\"],[\"CLIENTE NOVO\"],[\"CLIENTE NOVO\"],[\"CLIENTE NOVO\"],[\"CLIENTE NOVO\"],[\"CLIENTE NOVO\"]],\"domain\":{\"x\":[0.0,1.0],\"y\":[0.0,1.0]},\"hole\":0.4,\"hovertemplate\":\"Vendedor=%{customdata[0]}\\u003cbr\\u003eTotal=%{value}\\u003cextra\\u003e\\u003c\\u002fextra\\u003e\",\"labels\":[\"CLIENTE NOVO\",\"RECOMPRA\",\"RECOMPRA\",\"RECOMPRA\",\"RECOMPRA\",\"RECOMPRA\",\"RECOMPRA\",\"RECOMPRA\",\"RECOMPRA\",\"RECOMPRA\",\"CLIENTE NOVO\",\"RECOMPRA\",\"RECOMPRA\",\"RECOMPRA\",\"CLIENTE NOVO\",\"CLIENTE NOVO\",\"CLIENTE NOVO\",\"CLIENTE NOVO\",\"CLIENTE NOVO\",\"CLIENTE NOVO\",\"CLIENTE NOVO\",\"CLIENTE NOVO\",\"CLIENTE NOVO\",\"CLIENTE NOVO\",\"CLIENTE NOVO\",\"CLIENTE NOVO\",\"CLIENTE NOVO\",\"CLIENTE NOVO\",\"CLIENTE NOVO\",\"CLIENTE NOVO\",\"CLIENTE NOVO\",\"CLIENTE NOVO\",\"CLIENTE NOVO\",\"RECOMPRA\",\"CLIENTE NOVO\",\"CLIENTE NOVO\",\"CLIENTE NOVO\",\"CLIENTE NOVO\",\"RECOMPRA\",\"RECOMPRA\",\"RECOMPRA\",\"RECOMPRA\",\"CLIENTE NOVO\",\"CLIENTE NOVO\",\"CLIENTE NOVO\",\"CLIENTE NOVO\",\"RECOMPRA\",\"CLIENTE NOVO\",\"CLIENTE NOVO\",\"CLIENTE NOVO\",\"CLIENTE NOVO\",\"CLIENTE NOVO\",\"RECOMPRA\",\"RECOMPRA\",\"RECOMPRA\",\"CLIENTE NOVO\",\"RECOMPRA\",\"CLIENTE NOVO\",\"CLIENTE NOVO\",\"RECOMPRA\",\"RECOMPRA\",\"CLIENTE NOVO\",\"CLIENTE NOVO\",\"CLIENTE NOVO\",\"CLIENTE NOVO\",\"CLIENTE NOVO\",\"CLIENTE NOVO\",\"CLIENTE NOVO\",\"CLIENTE NOVO\",\"CLIENTE NOVO\",\"CLIENTE NOVO\",\"CLIENTE NOVO\",\"RECOMPRA\",\"CLIENTE NOVO\",\"RECOMPRA\",\"CLIENTE NOVO\",\"CLIENTE NOVO\",\"RECOMPRA\",\"RECOMPRA\",\"RECOMPRA\",\"CLIENTE NOVO\",\"RECOMPRA\",\"CLIENTE NOVO\",\"CLIENTE NOVO\",\"RECOMPRA\",\"RECOMPRA\",\"RECOMPRA\",\"CLIENTE NOVO\",\"CLIENTE NOVO\",\"CLIENTE NOVO\",\"CLIENTE NOVO\",\"CLIENTE NOVO\",\"CLIENTE NOVO\",\"CLIENTE NOVO\",\"CLIENTE NOVO\",\"CLIENTE NOVO\",\"CLIENTE NOVO\",\"CLIENTE NOVO\",\"RECOMPRA\",\"CLIENTE NOVO\",\"RECOMPRA\",\"CLIENTE NOVO\",\"CLIENTE NOVO\",\"CLIENTE NOVO\",\"CLIENTE NOVO\",\"CLIENTE NOVO\",\"CLIENTE NOVO\",\"RECOMPRA\",\"RECOMPRA\",\"RECOMPRA\",\"RECOMPRA\",\"CLIENTE NOVO\",\"RECOMPRA\",\"RECOMPRA\",\"CLIENTE NOVO\",\"RECOMPRA\",\"RECOMPRA\",\"RECOMPRA\",\"CLIENTE NOVO\",\"RECOMPRA\",\"CLIENTE NOVO\",\"RECOMPRA\",\"RECOMPRA\",\"RECOMPRA\",\"RECOMPRA\",\"RECOMPRA\",\"RECOMPRA\",\"RECOMPRA\",\"RECOMPRA\",\"RECOMPRA\",\"CLIENTE NOVO\",\"RECOMPRA\",\"RECOMPRA\",\"CLIENTE NOVO\",\"CLIENTE NOVO\",\"RECOMPRA\",\"CLIENTE NOVO\",\"RECOMPRA\",\"RECOMPRA\",\"CLIENTE NOVO\",\"RECOMPRA\",\"CLIENTE NOVO\",\"RECOMPRA\",\"RECOMPRA\",\"RECOMPRA\",\"RECOMPRA\",\"RECOMPRA\",\"CLIENTE NOVO\",\"CLIENTE NOVO\",\"CLIENTE NOVO\",\"RECOMPRA\",\"RECOMPRA\",\"RECOMPRA\",\"RECOMPRA\",\"CLIENTE NOVO\",\"CLIENTE NOVO\",\"RECOMPRA\",\"RECOMPRA\",\"RECOMPRA\",\"RECOMPRA\",\"CLIENTE NOVO\",\"CLIENTE NOVO\",\"RECOMPRA\",\"RECOMPRA\",\"CLIENTE NOVO\",\"CLIENTE NOVO\",\"CLIENTE NOVO\",\"RECOMPRA\",\"RECOMPRA\",\"CLIENTE NOVO\",\"RECOMPRA\",\"CLIENTE NOVO\",\"CLIENTE NOVO\",\"RECOMPRA\",\"RECOMPRA\",\"CLIENTE NOVO\",\"RECOMPRA\",\"RECOMPRA\",\"RECOMPRA\",\"RECOMPRA\",\"RECOMPRA\",\"RECOMPRA\",\"CLIENTE NOVO\",\"CLIENTE NOVO\",\"RECOMPRA\",\"CLIENTE NOVO\",\"CLIENTE NOVO\",\"CLIENTE NOVO\",\"RECOMPRA\",\"RECOMPRA\",\"CLIENTE NOVO\",\"CLIENTE NOVO\",\"RECOMPRA\",\"RECOMPRA\",\"RECOMPRA\",\"RECOMPRA\",\"RECOMPRA\",\"CLIENTE NOVO\",\"CLIENTE NOVO\",\"RECOMPRA\",\"CLIENTE NOVO\",\"CLIENTE NOVO\",\"CLIENTE NOVO\",\"RECOMPRA\",\"CLIENTE NOVO\",\"RECOMPRA\",\"RECOMPRA\",\"CLIENTE NOVO\",\"RECOMPRA\",\"RECOMPRA\",\"CLIENTE NOVO\",\"CLIENTE NOVO\",\"RECOMPRA\",\"RECOMPRA\",\"RECOMPRA\",\"CLIENTE NOVO\",\"RECOMPRA\",\"CLIENTE NOVO\",\"RECOMPRA\",\"RECOMPRA\",\"RECOMPRA\",\"RECOMPRA\",\"CLIENTE NOVO\",\"RECOMPRA\",\"CLIENTE NOVO\",\"RECOMPRA\",\"RECOMPRA\",\"CLIENTE NOVO\",\"RECOMPRA\",\"RECOMPRA\",\"CLIENTE NOVO\",\"CLIENTE NOVO\",\"CLIENTE NOVO\",\"RECOMPRA\",\"CLIENTE NOVO\",\"RECOMPRA\",\"CLIENTE NOVO\",\"CLIENTE NOVO\",\"CLIENTE NOVO\",\"CLIENTE NOVO\",\"RECOMPRA\",\"RECOMPRA\",\"CLIENTE NOVO\",\"RECOMPRA\",\"RECOMPRA\",\"RECOMPRA\",\"CLIENTE NOVO\",\"CLIENTE NOVO\",\"CLIENTE NOVO\",\"RECOMPRA\",\"CLIENTE NOVO\",\"CLIENTE NOVO\",\"CLIENTE NOVO\",\"CLIENTE NOVO\",\"RECOMPRA\",\"CLIENTE NOVO\",\"RECOMPRA\",\"RECOMPRA\",\"RECOMPRA\",\"RECOMPRA\",\"RECOMPRA\",\"RECOMPRA\",\"RECOMPRA\",\"RECOMPRA\",\"CLIENTE NOVO\",\"CLIENTE NOVO\",\"CLIENTE NOVO\",\"CLIENTE NOVO\",\"CLIENTE NOVO\",\"CLIENTE NOVO\",\"CLIENTE NOVO\",\"CLIENTE NOVO\",\"CLIENTE NOVO\",\"CLIENTE NOVO\",\"RECOMPRA\",\"CLIENTE NOVO\",\"CLIENTE NOVO\",\"CLIENTE NOVO\",\"RECOMPRA\",\"RECOMPRA\",\"RECOMPRA\",\"CLIENTE NOVO\",\"RECOMPRA\",\"CLIENTE NOVO\",\"CLIENTE NOVO\",\"CLIENTE NOVO\",\"CLIENTE NOVO\",\"CLIENTE NOVO\",\"RECOMPRA\",\"CLIENTE NOVO\",\"RECOMPRA\",\"RECOMPRA\",\"CLIENTE NOVO\",\"CLIENTE NOVO\",\"CLIENTE NOVO\",\"RECOMPRA\",\"CLIENTE NOVO\",\"RECOMPRA\",\"RECOMPRA\",\"CLIENTE NOVO\",\"RECOMPRA\",\"CLIENTE NOVO\",\"CLIENTE NOVO\",\"CLIENTE NOVO\",\"RECOMPRA\",\"CLIENTE NOVO\",\"CLIENTE NOVO\",\"CLIENTE NOVO\",\"CLIENTE NOVO\",\"CLIENTE NOVO\",\"CLIENTE NOVO\",\"RECOMPRA\",\"CLIENTE NOVO\",\"RECOMPRA\",\"RECOMPRA\",\"CLIENTE NOVO\",\"CLIENTE NOVO\",\"RECOMPRA\",\"CLIENTE NOVO\",\"RECOMPRA\",\"RECOMPRA\",\"RECOMPRA\",\"RECOMPRA\",\"CLIENTE NOVO\",\"CLIENTE NOVO\",\"CLIENTE NOVO\",\"RECOMPRA\",\"CLIENTE NOVO\",\"RECOMPRA\",\"CLIENTE NOVO\",\"CLIENTE NOVO\",\"RECOMPRA\",\"CLIENTE NOVO\",\"RECOMPRA\",\"RECOMPRA\",\"CLIENTE NOVO\",\"CLIENTE NOVO\",\"CLIENTE NOVO\",\"RECOMPRA\",\"RECOMPRA\",\"RECOMPRA\",\"CLIENTE NOVO\",\"CLIENTE NOVO\",\"CLIENTE NOVO\",\"CLIENTE NOVO\",\"CLIENTE NOVO\",\"CLIENTE NOVO\",\"RECOMPRA\",\"CLIENTE NOVO\",\"RECOMPRA\",\"RECOMPRA\",\"CLIENTE NOVO\",\"RECOMPRA\",\"RECOMPRA\",\"RECOMPRA\",\"RECOMPRA\",\"CLIENTE NOVO\",\"CLIENTE NOVO\",\"CLIENTE NOVO\",\"CLIENTE NOVO\",\"RECOMPRA\",\"RECOMPRA\",\"CLIENTE NOVO\",\"RECOMPRA\",\"RECOMPRA\",\"CLIENTE NOVO\",\"CLIENTE NOVO\",\"CLIENTE NOVO\",\"CLIENTE NOVO\",\"CLIENTE NOVO\",\"RECOMPRA\",\"CLIENTE NOVO\",\"CLIENTE NOVO\",\"CLIENTE NOVO\",\"CLIENTE NOVO\",\"RECOMPRA\",\"CLIENTE NOVO\",\"CLIENTE NOVO\",\"RECOMPRA\",\"RECOMPRA\",\"RECOMPRA\",\"RECOMPRA\",\"RECOMPRA\",\"RECOMPRA\",\"CLIENTE NOVO\",\"RECOMPRA\",\"RECOMPRA\",\"CLIENTE NOVO\",\"RECOMPRA\",\"RECOMPRA\",\"CLIENTE NOVO\",\"CLIENTE NOVO\",\"CLIENTE NOVO\",\"RECOMPRA\",\"CLIENTE NOVO\",\"CLIENTE NOVO\",\"CLIENTE NOVO\",\"CLIENTE NOVO\",\"CLIENTE NOVO\",\"CLIENTE NOVO\",\"RECOMPRA\",\"RECOMPRA\",\"RECOMPRA\",\"CLIENTE NOVO\",\"RECOMPRA\",\"CLIENTE NOVO\",\"RECOMPRA\",\"RECOMPRA\",\"CLIENTE NOVO\",\"RECOMPRA\",\"CLIENTE NOVO\",\"CLIENTE NOVO\",\"RECOMPRA\",\"RECOMPRA\",\"CLIENTE NOVO\",\"CLIENTE NOVO\",\"CLIENTE NOVO\",\"RECOMPRA\",\"CLIENTE NOVO\",\"CLIENTE NOVO\",\"CLIENTE NOVO\",\"RECOMPRA\",\"CLIENTE NOVO\",\"RECOMPRA\",\"CLIENTE NOVO\",\"CLIENTE NOVO\",\"RECOMPRA\",\"CLIENTE NOVO\",\"CLIENTE NOVO\",\"RECOMPRA\",\"RECOMPRA\",\"RECOMPRA\",\"RECOMPRA\",\"RECOMPRA\",\"RECOMPRA\",\"CLIENTE NOVO\",\"RECOMPRA\",\"RECOMPRA\",\"RECOMPRA\",\"CLIENTE NOVO\",\"RECOMPRA\",\"CLIENTE NOVO\",\"CLIENTE NOVO\",\"CLIENTE NOVO\",\"CLIENTE NOVO\",\"CLIENTE NOVO\",\"CLIENTE NOVO\",\"CLIENTE NOVO\",\"CLIENTE NOVO\",\"CLIENTE NOVO\",\"RECOMPRA\",\"CLIENTE NOVO\",\"CLIENTE NOVO\",\"RECOMPRA\",\"RECOMPRA\",\"CLIENTE NOVO\",\"RECOMPRA\",\"RECOMPRA\",\"CLIENTE NOVO\",\"CLIENTE NOVO\",\"CLIENTE NOVO\",\"RECOMPRA\",\"CLIENTE NOVO\",\"CLIENTE NOVO\",\"CLIENTE NOVO\",\"CLIENTE NOVO\",\"RECOMPRA\",\"CLIENTE NOVO\",\"RECOMPRA\",\"RECOMPRA\",\"CLIENTE NOVO\",\"CLIENTE NOVO\",\"CLIENTE NOVO\",\"RECOMPRA\",\"CLIENTE NOVO\",\"CLIENTE NOVO\",\"CLIENTE NOVO\",\"RECOMPRA\",\"RECOMPRA\",\"CLIENTE NOVO\",\"RECOMPRA\",\"RECOMPRA\",\"RECOMPRA\",\"RECOMPRA\",\"RECOMPRA\",\"RECOMPRA\",\"RECOMPRA\",\"CLIENTE NOVO\",\"CLIENTE NOVO\",\"CLIENTE NOVO\",\"RECOMPRA\",\"CLIENTE NOVO\",\"RECOMPRA\",\"CLIENTE NOVO\",\"RECOMPRA\",\"RECOMPRA\",\"CLIENTE NOVO\",\"CLIENTE NOVO\",\"RECOMPRA\",\"CLIENTE NOVO\",\"CLIENTE NOVO\",\"RECOMPRA\",\"CLIENTE NOVO\",\"CLIENTE NOVO\",\"RECOMPRA\",\"RECOMPRA\",\"RECOMPRA\",\"CLIENTE NOVO\",\"CLIENTE NOVO\",\"RECOMPRA\",\"RECOMPRA\",\"RECOMPRA\",\"CLIENTE NOVO\",\"RECOMPRA\",\"CLIENTE NOVO\",\"CLIENTE NOVO\",\"CLIENTE NOVO\",\"CLIENTE NOVO\",\"RECOMPRA\",\"CLIENTE NOVO\",\"CLIENTE NOVO\",\"CLIENTE NOVO\",\"CLIENTE NOVO\",\"CLIENTE NOVO\",\"CLIENTE NOVO\",\"CLIENTE NOVO\",\"CLIENTE NOVO\",\"RECOMPRA\",\"RECOMPRA\",\"RECOMPRA\",\"RECOMPRA\",\"CLIENTE NOVO\",\"CLIENTE NOVO\",\"RECOMPRA\",\"RECOMPRA\",\"RECOMPRA\",\"RECOMPRA\",\"RECOMPRA\",\"CLIENTE NOVO\",\"CLIENTE NOVO\",\"CLIENTE NOVO\",\"RECOMPRA\",\"CLIENTE NOVO\",\"RECOMPRA\",\"CLIENTE NOVO\",\"CLIENTE NOVO\",\"RECOMPRA\",\"RECOMPRA\",\"CLIENTE NOVO\",\"CLIENTE NOVO\",\"RECOMPRA\",\"CLIENTE NOVO\",\"CLIENTE NOVO\",\"RECOMPRA\",\"RECOMPRA\",\"RECOMPRA\",\"CLIENTE NOVO\",\"RECOMPRA\",\"RECOMPRA\",\"RECOMPRA\",\"RECOMPRA\",\"CLIENTE NOVO\",\"RECOMPRA\",\"CLIENTE NOVO\",\"CLIENTE NOVO\",\"CLIENTE NOVO\",\"CLIENTE NOVO\",\"RECOMPRA\",\"CLIENTE NOVO\",\"CLIENTE NOVO\",\"CLIENTE NOVO\",\"CLIENTE NOVO\",\"RECOMPRA\",\"CLIENTE NOVO\",\"CLIENTE NOVO\",\"CLIENTE NOVO\",\"CLIENTE NOVO\",\"RECOMPRA\",\"RECOMPRA\",\"RECOMPRA\",\"CLIENTE NOVO\",\"RECOMPRA\",\"RECOMPRA\",\"CLIENTE NOVO\",\"RECOMPRA\",\"RECOMPRA\",\"CLIENTE NOVO\",\"CLIENTE NOVO\",\"RECOMPRA\",\"CLIENTE NOVO\",\"RECOMPRA\",\"RECOMPRA\",\"CLIENTE NOVO\",\"CLIENTE NOVO\",\"RECOMPRA\",\"RECOMPRA\",\"CLIENTE NOVO\",\"RECOMPRA\",\"RECOMPRA\",\"CLIENTE NOVO\",\"CLIENTE NOVO\",\"CLIENTE NOVO\",\"CLIENTE NOVO\",\"CLIENTE NOVO\",\"CLIENTE NOVO\",\"RECOMPRA\",\"CLIENTE NOVO\",\"CLIENTE NOVO\",\"RECOMPRA\",\"RECOMPRA\",\"RECOMPRA\",\"CLIENTE NOVO\",\"CLIENTE NOVO\",\"CLIENTE NOVO\",\"RECOMPRA\",\"RECOMPRA\",\"RECOMPRA\",\"RECOMPRA\",\"RECOMPRA\",\"RECOMPRA\",\"CLIENTE NOVO\",\"CLIENTE NOVO\",\"RECOMPRA\",\"CLIENTE NOVO\",\"RECOMPRA\",\"CLIENTE NOVO\",\"CLIENTE NOVO\",\"CLIENTE NOVO\",\"RECOMPRA\",\"RECOMPRA\",\"CLIENTE NOVO\",\"CLIENTE NOVO\",\"RECOMPRA\",\"RECOMPRA\",\"RECOMPRA\",\"RECOMPRA\",\"RECOMPRA\",\"CLIENTE NOVO\",\"CLIENTE NOVO\",\"CLIENTE NOVO\",\"CLIENTE NOVO\",\"CLIENTE NOVO\",\"RECOMPRA\",\"CLIENTE NOVO\",\"CLIENTE NOVO\",\"CLIENTE NOVO\",\"CLIENTE NOVO\",\"CLIENTE NOVO\",\"CLIENTE NOVO\",\"CLIENTE NOVO\",\"CLIENTE NOVO\",\"RECOMPRA\",\"CLIENTE NOVO\",\"RECOMPRA\",\"RECOMPRA\",\"RECOMPRA\",\"RECOMPRA\",\"RECOMPRA\",\"CLIENTE NOVO\",\"CLIENTE NOVO\",\"CLIENTE NOVO\",\"RECOMPRA\",\"CLIENTE NOVO\",\"CLIENTE NOVO\",\"CLIENTE NOVO\",\"CLIENTE NOVO\",\"RECOMPRA\",\"RECOMPRA\",\"CLIENTE NOVO\",\"RECOMPRA\",\"CLIENTE NOVO\",\"CLIENTE NOVO\",\"CLIENTE NOVO\",\"CLIENTE NOVO\",\"CLIENTE NOVO\",\"CLIENTE NOVO\",\"CLIENTE NOVO\",\"CLIENTE NOVO\",\"CLIENTE NOVO\",\"CLIENTE NOVO\",\"RECOMPRA\",\"CLIENTE NOVO\",\"CLIENTE NOVO\",\"CLIENTE NOVO\",\"CLIENTE NOVO\",\"CLIENTE NOVO\",\"RECOMPRA\",\"CLIENTE NOVO\",\"CLIENTE NOVO\",\"CLIENTE NOVO\",\"CLIENTE NOVO\",\"CLIENTE NOVO\",\"CLIENTE NOVO\",\"CLIENTE NOVO\",\"CLIENTE NOVO\",\"CLIENTE NOVO\",\"RECOMPRA\",\"RECOMPRA\",\"CLIENTE NOVO\",\"CLIENTE NOVO\",\"CLIENTE NOVO\",\"CLIENTE NOVO\",\"CLIENTE NOVO\",\"CLIENTE NOVO\",\"RECOMPRA\",\"CLIENTE NOVO\",\"CLIENTE NOVO\",\"CLIENTE NOVO\",\"CLIENTE NOVO\",\"CLIENTE NOVO\",\"CLIENTE NOVO\",\"CLIENTE NOVO\",\"CLIENTE NOVO\",\"CLIENTE NOVO\",\"CLIENTE NOVO\",\"CLIENTE NOVO\",\"CLIENTE NOVO\",\"RECOMPRA\",\"CLIENTE NOVO\",\"CLIENTE NOVO\",\"RECOMPRA\",\"CLIENTE NOVO\",\"RECOMPRA\",\"CLIENTE NOVO\",\"CLIENTE NOVO\",\"CLIENTE NOVO\",\"RECOMPRA\",\"CLIENTE NOVO\",\"CLIENTE NOVO\",\"CLIENTE NOVO\",\"CLIENTE NOVO\",\"RECOMPRA\",\"CLIENTE NOVO\",\"CLIENTE NOVO\",\"CLIENTE NOVO\",\"CLIENTE NOVO\",\"CLIENTE NOVO\",\"RECOMPRA\",\"RECOMPRA\",\"CLIENTE NOVO\",\"RECOMPRA\",\"RECOMPRA\",\"RECOMPRA\",\"RECOMPRA\",\"CLIENTE NOVO\",\"CLIENTE NOVO\",\"CLIENTE NOVO\",\"RECOMPRA\",\"CLIENTE NOVO\",\"CLIENTE NOVO\",\"CLIENTE NOVO\",\"CLIENTE NOVO\",\"CLIENTE NOVO\",\"CLIENTE NOVO\",\"RECOMPRA\",\"RECOMPRA\",\"RECOMPRA\",\"RECOMPRA\",\"RECOMPRA\",\"CLIENTE NOVO\",\"CLIENTE NOVO\",\"CLIENTE NOVO\",\"CLIENTE NOVO\",\"CLIENTE NOVO\",\"CLIENTE NOVO\",\"CLIENTE NOVO\",\"CLIENTE NOVO\",\"CLIENTE NOVO\",\"RECOMPRA\",\"CLIENTE NOVO\",\"CLIENTE NOVO\",\"CLIENTE NOVO\",\"RECOMPRA\",\"RECOMPRA\",\"CLIENTE NOVO\",\"RECOMPRA\",\"CLIENTE NOVO\",\"CLIENTE NOVO\",\"RECOMPRA\",\"RECOMPRA\",\"CLIENTE NOVO\",\"CLIENTE NOVO\",\"CLIENTE NOVO\",\"CLIENTE NOVO\",\"RECOMPRA\",\"CLIENTE NOVO\",\"CLIENTE NOVO\",\"CLIENTE NOVO\",\"CLIENTE NOVO\",\"CLIENTE NOVO\",\"RECOMPRA\",\"CLIENTE NOVO\",\"RECOMPRA\",\"CLIENTE NOVO\",\"CLIENTE NOVO\",\"RECOMPRA\",\"RECOMPRA\",\"CLIENTE NOVO\",\"CLIENTE NOVO\",\"CLIENTE NOVO\",\"CLIENTE NOVO\",\"CLIENTE NOVO\",\"RECOMPRA\",\"RECOMPRA\",\"CLIENTE NOVO\",\"RECOMPRA\",\"RECOMPRA\",\"CLIENTE NOVO\",\"RECOMPRA\",\"CLIENTE NOVO\",\"CLIENTE NOVO\",\"CLIENTE NOVO\",\"RECOMPRA\",\"RECOMPRA\",\"RECOMPRA\",\"RECOMPRA\",\"RECOMPRA\",\"RECOMPRA\",\"CLIENTE NOVO\",\"CLIENTE NOVO\",\"CLIENTE NOVO\",\"CLIENTE NOVO\",\"CLIENTE NOVO\",\"CLIENTE NOVO\",\"CLIENTE NOVO\",\"RECOMPRA\",\"RECOMPRA\",\"CLIENTE NOVO\",\"RECOMPRA\",\"RECOMPRA\",\"CLIENTE NOVO\",\"RECOMPRA\",\"RECOMPRA\",\"RECOMPRA\",\"RECOMPRA\",\"CLIENTE NOVO\",\"RECOMPRA\",\"RECOMPRA\",\"CLIENTE NOVO\",\"CLIENTE NOVO\",\"RECOMPRA\",\"RECOMPRA\",\"RECOMPRA\",\"RECOMPRA\",\"RECOMPRA\",\"CLIENTE NOVO\",\"CLIENTE NOVO\",\"RECOMPRA\",\"CLIENTE NOVO\",\"CLIENTE NOVO\",\"CLIENTE NOVO\",\"CLIENTE NOVO\",\"RECOMPRA\",\"RECOMPRA\",\"RECOMPRA\",\"RECOMPRA\",\"RECOMPRA\",\"CLIENTE NOVO\",\"CLIENTE NOVO\",\"RECOMPRA\",\"RECOMPRA\",\"RECOMPRA\",\"CLIENTE NOVO\",\"CLIENTE NOVO\",\"RECOMPRA\",\"RECOMPRA\",\"RECOMPRA\",\"RECOMPRA\",\"RECOMPRA\",\"RECOMPRA\",\"CLIENTE NOVO\",\"CLIENTE NOVO\",\"CLIENTE NOVO\",\"CLIENTE NOVO\",\"CLIENTE NOVO\",\"RECOMPRA\",\"CLIENTE NOVO\",\"RECOMPRA\",\"CLIENTE NOVO\",\"CLIENTE NOVO\",\"CLIENTE NOVO\",\"CLIENTE NOVO\",\"CLIENTE NOVO\",\"CLIENTE NOVO\",\"RECOMPRA\",\"CLIENTE NOVO\",\"CLIENTE NOVO\",\"CLIENTE NOVO\",\"CLIENTE NOVO\",\"CLIENTE NOVO\",\"CLIENTE NOVO\",\"CLIENTE NOVO\",\"RECOMPRA\",\"CLIENTE NOVO\",\"RECOMPRA\",\"CLIENTE NOVO\",\"CLIENTE NOVO\",\"CLIENTE NOVO\",\"RECOMPRA\",\"CLIENTE NOVO\",\"RECOMPRA\",\"RECOMPRA\",\"RECOMPRA\",\"RECOMPRA\",\"RECOMPRA\",\"CLIENTE NOVO\",\"CLIENTE NOVO\",\"CLIENTE NOVO\",\"RECOMPRA\",\"RECOMPRA\",\"RECOMPRA\",\"CLIENTE NOVO\",\"CLIENTE NOVO\",\"RECOMPRA\",\"CLIENTE NOVO\",\"CLIENTE NOVO\",\"RECOMPRA\",\"CLIENTE NOVO\",\"RECOMPRA\",\"RECOMPRA\",\"RECOMPRA\",\"CLIENTE NOVO\",\"CLIENTE NOVO\",\"CLIENTE NOVO\",\"CLIENTE NOVO\",\"RECOMPRA\",\"CLIENTE NOVO\",\"CLIENTE NOVO\",\"RECOMPRA\",\"CLIENTE NOVO\",\"RECOMPRA\",\"CLIENTE NOVO\",\"CLIENTE NOVO\",\"CLIENTE NOVO\",\"CLIENTE NOVO\",\"RECOMPRA\",\"RECOMPRA\",\"CLIENTE NOVO\",\"CLIENTE NOVO\",\"RECOMPRA\",\"CLIENTE NOVO\",\"RECOMPRA\",\"RECOMPRA\",\"RECOMPRA\",\"CLIENTE NOVO\",\"CLIENTE NOVO\",\"RECOMPRA\",\"RECOMPRA\",\"CLIENTE NOVO\",\"CLIENTE NOVO\",\"CLIENTE NOVO\",\"RECOMPRA\",\"CLIENTE NOVO\",\"CLIENTE NOVO\",\"CLIENTE NOVO\",\"CLIENTE NOVO\",\"CLIENTE NOVO\",\"RECOMPRA\",\"CLIENTE NOVO\",\"RECOMPRA\",\"CLIENTE NOVO\",\"CLIENTE NOVO\",\"RECOMPRA\",\"CLIENTE NOVO\",\"CLIENTE NOVO\",\"CLIENTE NOVO\",\"CLIENTE NOVO\",\"CLIENTE NOVO\",\"CLIENTE NOVO\",\"RECOMPRA\",\"RECOMPRA\",\"CLIENTE NOVO\",\"CLIENTE NOVO\",\"CLIENTE NOVO\",\"RECOMPRA\",\"RECOMPRA\",\"RECOMPRA\",\"RECOMPRA\",\"RECOMPRA\",\"CLIENTE NOVO\",\"CLIENTE NOVO\",\"CLIENTE NOVO\",\"CLIENTE NOVO\",\"CLIENTE NOVO\",\"RECOMPRA\",\"RECOMPRA\",\"CLIENTE NOVO\",\"CLIENTE NOVO\",\"RECOMPRA\",\"CLIENTE NOVO\",\"RECOMPRA\",\"CLIENTE NOVO\",\"RECOMPRA\",\"RECOMPRA\",\"CLIENTE NOVO\",\"CLIENTE NOVO\",\"CLIENTE NOVO\",\"CLIENTE NOVO\",\"RECOMPRA\",\"CLIENTE NOVO\",\"RECOMPRA\",\"RECOMPRA\",\"CLIENTE NOVO\",\"RECOMPRA\",\"CLIENTE NOVO\",\"RECOMPRA\",\"RECOMPRA\",\"CLIENTE NOVO\",\"CLIENTE NOVO\",\"CLIENTE NOVO\",\"CLIENTE NOVO\",\"RECOMPRA\",\"RECOMPRA\",\"CLIENTE NOVO\",\"CLIENTE NOVO\",\"CLIENTE NOVO\",\"RECOMPRA\",\"CLIENTE NOVO\",\"RECOMPRA\",\"RECOMPRA\",\"CLIENTE NOVO\",\"RECOMPRA\",\"RECOMPRA\",\"RECOMPRA\",\"RECOMPRA\",\"RECOMPRA\",\"RECOMPRA\",\"RECOMPRA\",\"CLIENTE NOVO\",\"CLIENTE NOVO\",\"CLIENTE NOVO\",\"RECOMPRA\",\"CLIENTE NOVO\",\"CLIENTE NOVO\",\"CLIENTE NOVO\",\"RECOMPRA\",\"CLIENTE NOVO\",\"CLIENTE NOVO\",\"CLIENTE NOVO\",\"RECOMPRA\",\"CLIENTE NOVO\",\"CLIENTE NOVO\",\"CLIENTE NOVO\",\"RECOMPRA\",\"CLIENTE NOVO\",\"RECOMPRA\",\"CLIENTE NOVO\",\"CLIENTE NOVO\",\"CLIENTE NOVO\",\"CLIENTE NOVO\",\"CLIENTE NOVO\",\"CLIENTE NOVO\",\"CLIENTE NOVO\",\"CLIENTE NOVO\",\"CLIENTE NOVO\",\"CLIENTE NOVO\",\"CLIENTE NOVO\",\"RECOMPRA\",\"CLIENTE NOVO\",\"CLIENTE NOVO\",\"RECOMPRA\",\"CLIENTE NOVO\",\"CLIENTE NOVO\",\"CLIENTE NOVO\",\"RECOMPRA\",\"RECOMPRA\",\"RECOMPRA\",\"RECOMPRA\",\"CLIENTE NOVO\",\"RECOMPRA\",\"CLIENTE NOVO\",\"CLIENTE NOVO\",\"CLIENTE NOVO\",\"RECOMPRA\",\"RECOMPRA\",\"CLIENTE NOVO\",\"RECOMPRA\",\"CLIENTE NOVO\",\"CLIENTE NOVO\",\"CLIENTE NOVO\",\"CLIENTE NOVO\",\"CLIENTE NOVO\",\"RECOMPRA\",\"CLIENTE NOVO\",\"RECOMPRA\",\"CLIENTE NOVO\",\"RECOMPRA\",\"RECOMPRA\",\"CLIENTE NOVO\",\"RECOMPRA\",\"RECOMPRA\",\"CLIENTE NOVO\",\"RECOMPRA\",\"RECOMPRA\",\"RECOMPRA\",\"CLIENTE NOVO\",\"RECOMPRA\",\"CLIENTE NOVO\",\"CLIENTE NOVO\",\"CLIENTE NOVO\",\"CLIENTE NOVO\",\"CLIENTE NOVO\",\"CLIENTE NOVO\",\"CLIENTE NOVO\",\"CLIENTE NOVO\",\"CLIENTE NOVO\",\"CLIENTE NOVO\",\"CLIENTE NOVO\",\"CLIENTE NOVO\",\"CLIENTE NOVO\",\"RECOMPRA\",\"RECOMPRA\",\"RECOMPRA\",\"RECOMPRA\",\"CLIENTE NOVO\",\"RECOMPRA\",\"CLIENTE NOVO\",\"CLIENTE NOVO\",\"RECOMPRA\",\"RECOMPRA\",\"CLIENTE NOVO\",\"CLIENTE NOVO\",\"RECOMPRA\",\"RECOMPRA\",\"RECOMPRA\",\"CLIENTE NOVO\",\"CLIENTE NOVO\",\"CLIENTE NOVO\",\"CLIENTE NOVO\",\"CLIENTE NOVO\",\"CLIENTE NOVO\",\"CLIENTE NOVO\",\"RECOMPRA\",\"CLIENTE NOVO\",\"CLIENTE NOVO\",\"CLIENTE NOVO\",\"RECOMPRA\",\"RECOMPRA\",\"CLIENTE NOVO\",\"RECOMPRA\",\"RECOMPRA\",\"CLIENTE NOVO\",\"CLIENTE NOVO\",\"RECOMPRA\",\"CLIENTE NOVO\",\"CLIENTE NOVO\",\"CLIENTE NOVO\",\"RECOMPRA\",\"RECOMPRA\",\"RECOMPRA\",\"CLIENTE NOVO\",\"RECOMPRA\",\"CLIENTE NOVO\",\"CLIENTE NOVO\",\"RECOMPRA\",\"CLIENTE NOVO\",\"CLIENTE NOVO\",\"CLIENTE NOVO\",\"RECOMPRA\",\"CLIENTE NOVO\",\"CLIENTE NOVO\",\"CLIENTE NOVO\",\"CLIENTE NOVO\",\"RECOMPRA\",\"RECOMPRA\",\"RECOMPRA\",\"CLIENTE NOVO\",\"CLIENTE NOVO\",\"CLIENTE NOVO\",\"CLIENTE NOVO\",\"RECOMPRA\",\"RECOMPRA\",\"CLIENTE NOVO\",\"CLIENTE NOVO\",\"RECOMPRA\",\"RECOMPRA\",\"RECOMPRA\",\"RECOMPRA\",\"CLIENTE NOVO\",\"RECOMPRA\",\"CLIENTE NOVO\",\"RECOMPRA\",\"RECOMPRA\",\"RECOMPRA\",\"CLIENTE NOVO\",\"CLIENTE NOVO\",\"CLIENTE NOVO\",\"CLIENTE NOVO\",\"CLIENTE NOVO\",\"CLIENTE NOVO\",\"CLIENTE NOVO\",\"RECOMPRA\",\"CLIENTE NOVO\",\"RECOMPRA\",\"CLIENTE NOVO\",\"RECOMPRA\",\"CLIENTE NOVO\",\"RECOMPRA\",\"RECOMPRA\",\"RECOMPRA\",\"CLIENTE NOVO\",\"CLIENTE NOVO\",\"CLIENTE NOVO\",\"CLIENTE NOVO\",\"CLIENTE NOVO\",\"RECOMPRA\",\"RECOMPRA\",\"CLIENTE NOVO\",\"CLIENTE NOVO\",\"CLIENTE NOVO\",\"RECOMPRA\",\"RECOMPRA\",\"RECOMPRA\",\"RECOMPRA\",\"CLIENTE NOVO\",\"CLIENTE NOVO\",\"CLIENTE NOVO\",\"CLIENTE NOVO\",\"CLIENTE NOVO\",\"CLIENTE NOVO\",\"RECOMPRA\",\"CLIENTE NOVO\",\"CLIENTE NOVO\",\"CLIENTE NOVO\",\"CLIENTE NOVO\",\"CLIENTE NOVO\",\"CLIENTE NOVO\",\"CLIENTE NOVO\",\"CLIENTE NOVO\",\"RECOMPRA\",\"CLIENTE NOVO\",\"CLIENTE NOVO\",\"RECOMPRA\",\"CLIENTE NOVO\",\"RECOMPRA\",\"CLIENTE NOVO\",\"CLIENTE NOVO\",\"CLIENTE NOVO\",\"RECOMPRA\",\"CLIENTE NOVO\",\"CLIENTE NOVO\",\"RECOMPRA\",\"RECOMPRA\",\"RECOMPRA\",\"RECOMPRA\",\"RECOMPRA\",\"CLIENTE NOVO\",\"RECOMPRA\",\"CLIENTE NOVO\",\"RECOMPRA\",\"RECOMPRA\",\"RECOMPRA\",\"RECOMPRA\",\"RECOMPRA\",\"CLIENTE NOVO\",\"CLIENTE NOVO\",\"RECOMPRA\",\"RECOMPRA\",\"RECOMPRA\",\"RECOMPRA\",\"CLIENTE NOVO\",\"RECOMPRA\",\"CLIENTE NOVO\",\"CLIENTE NOVO\",\"CLIENTE NOVO\",\"CLIENTE NOVO\",\"RECOMPRA\",\"CLIENTE NOVO\",\"CLIENTE NOVO\",\"CLIENTE NOVO\",\"RECOMPRA\",\"RECOMPRA\",\"RECOMPRA\",\"CLIENTE NOVO\",\"CLIENTE NOVO\",\"CLIENTE NOVO\",\"CLIENTE NOVO\",\"CLIENTE NOVO\",\"CLIENTE NOVO\",\"CLIENTE NOVO\",\"CLIENTE NOVO\",\"RECOMPRA\",\"CLIENTE NOVO\",\"RECOMPRA\",\"CLIENTE NOVO\",\"CLIENTE NOVO\",\"CLIENTE NOVO\",\"CLIENTE NOVO\",\"CLIENTE NOVO\",\"CLIENTE NOVO\",\"RECOMPRA\",\"RECOMPRA\",\"CLIENTE NOVO\",\"RECOMPRA\",\"RECOMPRA\",\"RECOMPRA\",\"CLIENTE NOVO\",\"CLIENTE NOVO\",\"CLIENTE NOVO\",\"RECOMPRA\",\"RECOMPRA\",\"RECOMPRA\",\"CLIENTE NOVO\",\"CLIENTE NOVO\",\"CLIENTE NOVO\",\"RECOMPRA\",\"RECOMPRA\",\"CLIENTE NOVO\",\"CLIENTE NOVO\",\"CLIENTE NOVO\",\"CLIENTE NOVO\",\"RECOMPRA\",\"RECOMPRA\",\"CLIENTE NOVO\",\"CLIENTE NOVO\",\"RECOMPRA\",\"RECOMPRA\",\"CLIENTE NOVO\",\"RECOMPRA\",\"CLIENTE NOVO\",\"RECOMPRA\",\"CLIENTE NOVO\",\"CLIENTE NOVO\",\"CLIENTE NOVO\",\"CLIENTE NOVO\",\"RECOMPRA\",\"RECOMPRA\",\"CLIENTE NOVO\",\"RECOMPRA\",\"CLIENTE NOVO\",\"CLIENTE NOVO\",\"CLIENTE NOVO\",\"CLIENTE NOVO\",\"CLIENTE NOVO\",\"CLIENTE NOVO\",\"CLIENTE NOVO\",\"RECOMPRA\",\"RECOMPRA\",\"RECOMPRA\",\"CLIENTE NOVO\",\"CLIENTE NOVO\",\"CLIENTE NOVO\",\"RECOMPRA\",\"CLIENTE NOVO\",\"CLIENTE NOVO\",\"CLIENTE NOVO\",\"CLIENTE NOVO\",\"CLIENTE NOVO\",\"CLIENTE NOVO\",\"RECOMPRA\",\"RECOMPRA\",\"CLIENTE NOVO\",\"CLIENTE NOVO\",\"CLIENTE NOVO\",\"CLIENTE NOVO\",\"CLIENTE NOVO\",\"RECOMPRA\",\"RECOMPRA\",\"CLIENTE NOVO\",\"CLIENTE NOVO\",\"RECOMPRA\",\"RECOMPRA\",\"CLIENTE NOVO\",\"CLIENTE NOVO\",\"CLIENTE NOVO\",\"CLIENTE NOVO\",\"CLIENTE NOVO\",\"RECOMPRA\",\"RECOMPRA\",\"RECOMPRA\",\"RECOMPRA\",\"RECOMPRA\",\"RECOMPRA\",\"RECOMPRA\",\"RECOMPRA\",\"RECOMPRA\",\"RECOMPRA\",\"RECOMPRA\",\"RECOMPRA\",\"RECOMPRA\",\"RECOMPRA\",\"RECOMPRA\",\"CLIENTE NOVO\",\"RECOMPRA\",\"CLIENTE NOVO\",\"CLIENTE NOVO\",\"RECOMPRA\",\"CLIENTE NOVO\",\"CLIENTE NOVO\",\"CLIENTE NOVO\",\"RECOMPRA\",\"CLIENTE NOVO\",\"RECOMPRA\",\"CLIENTE NOVO\",\"RECOMPRA\",\"CLIENTE NOVO\",\"RECOMPRA\",\"CLIENTE NOVO\",\"CLIENTE NOVO\",\"CLIENTE NOVO\",\"CLIENTE NOVO\",\"CLIENTE NOVO\",\"CLIENTE NOVO\",\"RECOMPRA\",\"RECOMPRA\",\"RECOMPRA\",\"RECOMPRA\",\"RECOMPRA\",\"RECOMPRA\",\"CLIENTE NOVO\",\"RECOMPRA\",\"CLIENTE NOVO\",\"RECOMPRA\",\"CLIENTE NOVO\",\"CLIENTE NOVO\",\"CLIENTE NOVO\",\"RECOMPRA\",\"RECOMPRA\",\"RECOMPRA\",\"CLIENTE NOVO\",\"RECOMPRA\",\"RECOMPRA\",\"RECOMPRA\",\"RECOMPRA\",\"CLIENTE NOVO\",\"CLIENTE NOVO\",\"CLIENTE NOVO\",\"CLIENTE NOVO\",\"CLIENTE NOVO\",\"CLIENTE NOVO\",\"CLIENTE NOVO\",\"RECOMPRA\",\"CLIENTE NOVO\",\"CLIENTE NOVO\",\"RECOMPRA\",\"CLIENTE NOVO\",\"CLIENTE NOVO\",\"CLIENTE NOVO\",\"CLIENTE NOVO\",\"RECOMPRA\",\"CLIENTE NOVO\",\"RECOMPRA\",\"CLIENTE NOVO\",\"CLIENTE NOVO\",\"CLIENTE NOVO\",\"RECOMPRA\",\"RECOMPRA\",\"CLIENTE NOVO\",\"RECOMPRA\",\"RECOMPRA\",\"CLIENTE NOVO\",\"CLIENTE NOVO\",\"RECOMPRA\",\"RECOMPRA\",\"CLIENTE NOVO\",\"RECOMPRA\",\"RECOMPRA\",\"RECOMPRA\",\"CLIENTE NOVO\",\"RECOMPRA\",\"RECOMPRA\",\"CLIENTE NOVO\",\"CLIENTE NOVO\",\"RECOMPRA\",\"RECOMPRA\",\"CLIENTE NOVO\",\"CLIENTE NOVO\",\"CLIENTE NOVO\",\"CLIENTE NOVO\",\"RECOMPRA\",\"RECOMPRA\",\"RECOMPRA\",\"RECOMPRA\",\"CLIENTE NOVO\",\"CLIENTE NOVO\",\"CLIENTE NOVO\",\"RECOMPRA\",\"CLIENTE NOVO\",\"CLIENTE NOVO\",\"CLIENTE NOVO\",\"CLIENTE NOVO\",\"CLIENTE NOVO\",\"CLIENTE NOVO\",\"CLIENTE NOVO\",\"CLIENTE NOVO\",\"CLIENTE NOVO\",\"CLIENTE NOVO\",\"CLIENTE NOVO\",\"RECOMPRA\",\"RECOMPRA\",\"CLIENTE NOVO\",\"CLIENTE NOVO\",\"CLIENTE NOVO\",\"CLIENTE NOVO\",\"CLIENTE NOVO\",\"CLIENTE NOVO\",\"CLIENTE NOVO\",\"CLIENTE NOVO\",\"CLIENTE NOVO\",\"CLIENTE NOVO\",\"CLIENTE NOVO\",\"CLIENTE NOVO\",\"CLIENTE NOVO\",\"CLIENTE NOVO\",\"CLIENTE NOVO\",\"RECOMPRA\",\"RECOMPRA\",\"CLIENTE NOVO\",\"CLIENTE NOVO\",\"CLIENTE NOVO\",\"CLIENTE NOVO\",\"CLIENTE NOVO\",\"RECOMPRA\",\"CLIENTE NOVO\",\"CLIENTE NOVO\",\"CLIENTE NOVO\",\"CLIENTE NOVO\",\"CLIENTE NOVO\",\"CLIENTE NOVO\",\"CLIENTE NOVO\",\"RECOMPRA\",\"CLIENTE NOVO\",\"CLIENTE NOVO\",\"CLIENTE NOVO\",\"CLIENTE NOVO\",\"CLIENTE NOVO\",\"CLIENTE NOVO\",\"CLIENTE NOVO\",\"CLIENTE NOVO\",\"CLIENTE NOVO\",\"CLIENTE NOVO\",\"CLIENTE NOVO\",\"RECOMPRA\",\"RECOMPRA\",\"RECOMPRA\",\"RECOMPRA\",\"CLIENTE NOVO\",\"CLIENTE NOVO\",\"CLIENTE NOVO\",\"CLIENTE NOVO\",\"CLIENTE NOVO\",\"CLIENTE NOVO\",\"CLIENTE NOVO\",\"CLIENTE NOVO\",\"CLIENTE NOVO\",\"RECOMPRA\",\"RECOMPRA\",\"RECOMPRA\",\"CLIENTE NOVO\",\"RECOMPRA\",\"CLIENTE NOVO\",\"RECOMPRA\",\"CLIENTE NOVO\",\"CLIENTE NOVO\",\"CLIENTE NOVO\",\"CLIENTE NOVO\",\"CLIENTE NOVO\",\"CLIENTE NOVO\",\"CLIENTE NOVO\",\"CLIENTE NOVO\",\"CLIENTE NOVO\",\"CLIENTE NOVO\",\"CLIENTE NOVO\",\"CLIENTE NOVO\",\"CLIENTE NOVO\",\"CLIENTE NOVO\",\"CLIENTE NOVO\",\"CLIENTE NOVO\",\"CLIENTE NOVO\",\"CLIENTE NOVO\",\"CLIENTE NOVO\",\"CLIENTE NOVO\",\"CLIENTE NOVO\",\"CLIENTE NOVO\",\"CLIENTE NOVO\",\"CLIENTE NOVO\",\"RECOMPRA\",\"RECOMPRA\",\"RECOMPRA\",\"RECOMPRA\",\"RECOMPRA\",\"RECOMPRA\",\"CLIENTE NOVO\",\"CLIENTE NOVO\",\"RECOMPRA\",\"CLIENTE NOVO\",\"CLIENTE NOVO\",\"CLIENTE NOVO\",\"RECOMPRA\",\"CLIENTE NOVO\",\"CLIENTE NOVO\",\"CLIENTE NOVO\",\"CLIENTE NOVO\",\"CLIENTE NOVO\",\"CLIENTE NOVO\",\"CLIENTE NOVO\",\"CLIENTE NOVO\",\"RECOMPRA\",\"CLIENTE NOVO\",\"CLIENTE NOVO\",\"CLIENTE NOVO\",\"CLIENTE NOVO\",\"CLIENTE NOVO\",\"CLIENTE NOVO\",\"RECOMPRA\",\"RECOMPRA\",\"RECOMPRA\",\"RECOMPRA\",\"CLIENTE NOVO\",\"CLIENTE NOVO\",\"CLIENTE NOVO\",\"CLIENTE NOVO\",\"CLIENTE NOVO\",\"CLIENTE NOVO\",\"CLIENTE NOVO\",\"CLIENTE NOVO\",\"RECOMPRA\",\"CLIENTE NOVO\",\"RECOMPRA\",\"CLIENTE NOVO\",\"RECOMPRA\",\"CLIENTE NOVO\",\"RECOMPRA\",\"CLIENTE NOVO\",\"CLIENTE NOVO\",\"RECOMPRA\",\"CLIENTE NOVO\",\"CLIENTE NOVO\",\"CLIENTE NOVO\",\"CLIENTE NOVO\",\"RECOMPRA\",\"RECOMPRA\",\"CLIENTE NOVO\",\"CLIENTE NOVO\",\"RECOMPRA\",\"RECOMPRA\",\"RECOMPRA\",\"CLIENTE NOVO\",\"RECOMPRA\",\"CLIENTE NOVO\",\"CLIENTE NOVO\",\"CLIENTE NOVO\",\"CLIENTE NOVO\",\"CLIENTE NOVO\",\"RECOMPRA\",\"RECOMPRA\",\"CLIENTE NOVO\",\"CLIENTE NOVO\",\"CLIENTE NOVO\",\"RECOMPRA\",\"CLIENTE NOVO\",\"RECOMPRA\",\"RECOMPRA\",\"RECOMPRA\",\"RECOMPRA\",\"RECOMPRA\",\"RECOMPRA\",\"RECOMPRA\",\"RECOMPRA\",\"RECOMPRA\",\"RECOMPRA\",\"CLIENTE NOVO\",\"CLIENTE NOVO\",\"RECOMPRA\",\"RECOMPRA\",\"RECOMPRA\",\"CLIENTE NOVO\",\"CLIENTE NOVO\",\"RECOMPRA\",\"CLIENTE NOVO\",\"CLIENTE NOVO\",\"CLIENTE NOVO\",\"CLIENTE NOVO\",\"CLIENTE NOVO\",\"CLIENTE NOVO\",\"RECOMPRA\",\"CLIENTE NOVO\",\"CLIENTE NOVO\",\"RECOMPRA\",\"CLIENTE NOVO\",\"RECOMPRA\",\"CLIENTE NOVO\",\"CLIENTE NOVO\",\"RECOMPRA\",\"RECOMPRA\",\"CLIENTE NOVO\",\"CLIENTE NOVO\",\"RECOMPRA\",\"CLIENTE NOVO\",\"CLIENTE NOVO\",\"RECOMPRA\",\"CLIENTE NOVO\",\"RECOMPRA\",\"CLIENTE NOVO\",\"CLIENTE NOVO\",\"CLIENTE NOVO\",\"RECOMPRA\",\"RECOMPRA\",\"CLIENTE NOVO\",\"CLIENTE NOVO\",\"CLIENTE NOVO\",\"RECOMPRA\",\"RECOMPRA\",\"CLIENTE NOVO\",\"CLIENTE NOVO\",\"RECOMPRA\",\"RECOMPRA\",\"RECOMPRA\",\"CLIENTE NOVO\",\"CLIENTE NOVO\",\"RECOMPRA\",\"RECOMPRA\",\"RECOMPRA\",\"CLIENTE NOVO\",\"CLIENTE NOVO\",\"CLIENTE NOVO\",\"CLIENTE NOVO\",\"CLIENTE NOVO\",\"CLIENTE NOVO\"],\"legendgroup\":\"\",\"marker\":{\"colors\":[\"rgb(0,73,46)\",\"rgb(0,124,78)\",\"rgb(0,124,78)\",\"rgb(0,124,78)\",\"rgb(0,124,78)\",\"rgb(0,124,78)\",\"rgb(0,124,78)\",\"rgb(0,124,78)\",\"rgb(0,124,78)\",\"rgb(0,124,78)\",\"rgb(0,73,46)\",\"rgb(0,124,78)\",\"rgb(0,124,78)\",\"rgb(0,124,78)\",\"rgb(0,73,46)\",\"rgb(0,73,46)\",\"rgb(0,73,46)\",\"rgb(0,73,46)\",\"rgb(0,73,46)\",\"rgb(0,73,46)\",\"rgb(0,73,46)\",\"rgb(0,73,46)\",\"rgb(0,73,46)\",\"rgb(0,73,46)\",\"rgb(0,73,46)\",\"rgb(0,73,46)\",\"rgb(0,73,46)\",\"rgb(0,73,46)\",\"rgb(0,73,46)\",\"rgb(0,73,46)\",\"rgb(0,73,46)\",\"rgb(0,73,46)\",\"rgb(0,73,46)\",\"rgb(0,124,78)\",\"rgb(0,73,46)\",\"rgb(0,73,46)\",\"rgb(0,73,46)\",\"rgb(0,73,46)\",\"rgb(0,124,78)\",\"rgb(0,124,78)\",\"rgb(0,124,78)\",\"rgb(0,124,78)\",\"rgb(0,73,46)\",\"rgb(0,73,46)\",\"rgb(0,73,46)\",\"rgb(0,73,46)\",\"rgb(0,124,78)\",\"rgb(0,73,46)\",\"rgb(0,73,46)\",\"rgb(0,73,46)\",\"rgb(0,73,46)\",\"rgb(0,73,46)\",\"rgb(0,124,78)\",\"rgb(0,124,78)\",\"rgb(0,124,78)\",\"rgb(0,73,46)\",\"rgb(0,124,78)\",\"rgb(0,73,46)\",\"rgb(0,73,46)\",\"rgb(0,124,78)\",\"rgb(0,124,78)\",\"rgb(0,73,46)\",\"rgb(0,73,46)\",\"rgb(0,73,46)\",\"rgb(0,73,46)\",\"rgb(0,73,46)\",\"rgb(0,73,46)\",\"rgb(0,73,46)\",\"rgb(0,73,46)\",\"rgb(0,73,46)\",\"rgb(0,73,46)\",\"rgb(0,73,46)\",\"rgb(0,124,78)\",\"rgb(0,73,46)\",\"rgb(0,124,78)\",\"rgb(0,73,46)\",\"rgb(0,73,46)\",\"rgb(0,124,78)\",\"rgb(0,124,78)\",\"rgb(0,124,78)\",\"rgb(0,73,46)\",\"rgb(0,124,78)\",\"rgb(0,73,46)\",\"rgb(0,73,46)\",\"rgb(0,124,78)\",\"rgb(0,124,78)\",\"rgb(0,124,78)\",\"rgb(0,73,46)\",\"rgb(0,73,46)\",\"rgb(0,73,46)\",\"rgb(0,73,46)\",\"rgb(0,73,46)\",\"rgb(0,73,46)\",\"rgb(0,73,46)\",\"rgb(0,73,46)\",\"rgb(0,73,46)\",\"rgb(0,73,46)\",\"rgb(0,73,46)\",\"rgb(0,124,78)\",\"rgb(0,73,46)\",\"rgb(0,124,78)\",\"rgb(0,73,46)\",\"rgb(0,73,46)\",\"rgb(0,73,46)\",\"rgb(0,73,46)\",\"rgb(0,73,46)\",\"rgb(0,73,46)\",\"rgb(0,124,78)\",\"rgb(0,124,78)\",\"rgb(0,124,78)\",\"rgb(0,124,78)\",\"rgb(0,73,46)\",\"rgb(0,124,78)\",\"rgb(0,124,78)\",\"rgb(0,73,46)\",\"rgb(0,124,78)\",\"rgb(0,124,78)\",\"rgb(0,124,78)\",\"rgb(0,73,46)\",\"rgb(0,124,78)\",\"rgb(0,73,46)\",\"rgb(0,124,78)\",\"rgb(0,124,78)\",\"rgb(0,124,78)\",\"rgb(0,124,78)\",\"rgb(0,124,78)\",\"rgb(0,124,78)\",\"rgb(0,124,78)\",\"rgb(0,124,78)\",\"rgb(0,124,78)\",\"rgb(0,73,46)\",\"rgb(0,124,78)\",\"rgb(0,124,78)\",\"rgb(0,73,46)\",\"rgb(0,73,46)\",\"rgb(0,124,78)\",\"rgb(0,73,46)\",\"rgb(0,124,78)\",\"rgb(0,124,78)\",\"rgb(0,73,46)\",\"rgb(0,124,78)\",\"rgb(0,73,46)\",\"rgb(0,124,78)\",\"rgb(0,124,78)\",\"rgb(0,124,78)\",\"rgb(0,124,78)\",\"rgb(0,124,78)\",\"rgb(0,73,46)\",\"rgb(0,73,46)\",\"rgb(0,73,46)\",\"rgb(0,124,78)\",\"rgb(0,124,78)\",\"rgb(0,124,78)\",\"rgb(0,124,78)\",\"rgb(0,73,46)\",\"rgb(0,73,46)\",\"rgb(0,124,78)\",\"rgb(0,124,78)\",\"rgb(0,124,78)\",\"rgb(0,124,78)\",\"rgb(0,73,46)\",\"rgb(0,73,46)\",\"rgb(0,124,78)\",\"rgb(0,124,78)\",\"rgb(0,73,46)\",\"rgb(0,73,46)\",\"rgb(0,73,46)\",\"rgb(0,124,78)\",\"rgb(0,124,78)\",\"rgb(0,73,46)\",\"rgb(0,124,78)\",\"rgb(0,73,46)\",\"rgb(0,73,46)\",\"rgb(0,124,78)\",\"rgb(0,124,78)\",\"rgb(0,73,46)\",\"rgb(0,124,78)\",\"rgb(0,124,78)\",\"rgb(0,124,78)\",\"rgb(0,124,78)\",\"rgb(0,124,78)\",\"rgb(0,124,78)\",\"rgb(0,73,46)\",\"rgb(0,73,46)\",\"rgb(0,124,78)\",\"rgb(0,73,46)\",\"rgb(0,73,46)\",\"rgb(0,73,46)\",\"rgb(0,124,78)\",\"rgb(0,124,78)\",\"rgb(0,73,46)\",\"rgb(0,73,46)\",\"rgb(0,124,78)\",\"rgb(0,124,78)\",\"rgb(0,124,78)\",\"rgb(0,124,78)\",\"rgb(0,124,78)\",\"rgb(0,73,46)\",\"rgb(0,73,46)\",\"rgb(0,124,78)\",\"rgb(0,73,46)\",\"rgb(0,73,46)\",\"rgb(0,73,46)\",\"rgb(0,124,78)\",\"rgb(0,73,46)\",\"rgb(0,124,78)\",\"rgb(0,124,78)\",\"rgb(0,73,46)\",\"rgb(0,124,78)\",\"rgb(0,124,78)\",\"rgb(0,73,46)\",\"rgb(0,73,46)\",\"rgb(0,124,78)\",\"rgb(0,124,78)\",\"rgb(0,124,78)\",\"rgb(0,73,46)\",\"rgb(0,124,78)\",\"rgb(0,73,46)\",\"rgb(0,124,78)\",\"rgb(0,124,78)\",\"rgb(0,124,78)\",\"rgb(0,124,78)\",\"rgb(0,73,46)\",\"rgb(0,124,78)\",\"rgb(0,73,46)\",\"rgb(0,124,78)\",\"rgb(0,124,78)\",\"rgb(0,73,46)\",\"rgb(0,124,78)\",\"rgb(0,124,78)\",\"rgb(0,73,46)\",\"rgb(0,73,46)\",\"rgb(0,73,46)\",\"rgb(0,124,78)\",\"rgb(0,73,46)\",\"rgb(0,124,78)\",\"rgb(0,73,46)\",\"rgb(0,73,46)\",\"rgb(0,73,46)\",\"rgb(0,73,46)\",\"rgb(0,124,78)\",\"rgb(0,124,78)\",\"rgb(0,73,46)\",\"rgb(0,124,78)\",\"rgb(0,124,78)\",\"rgb(0,124,78)\",\"rgb(0,73,46)\",\"rgb(0,73,46)\",\"rgb(0,73,46)\",\"rgb(0,124,78)\",\"rgb(0,73,46)\",\"rgb(0,73,46)\",\"rgb(0,73,46)\",\"rgb(0,73,46)\",\"rgb(0,124,78)\",\"rgb(0,73,46)\",\"rgb(0,124,78)\",\"rgb(0,124,78)\",\"rgb(0,124,78)\",\"rgb(0,124,78)\",\"rgb(0,124,78)\",\"rgb(0,124,78)\",\"rgb(0,124,78)\",\"rgb(0,124,78)\",\"rgb(0,73,46)\",\"rgb(0,73,46)\",\"rgb(0,73,46)\",\"rgb(0,73,46)\",\"rgb(0,73,46)\",\"rgb(0,73,46)\",\"rgb(0,73,46)\",\"rgb(0,73,46)\",\"rgb(0,73,46)\",\"rgb(0,73,46)\",\"rgb(0,124,78)\",\"rgb(0,73,46)\",\"rgb(0,73,46)\",\"rgb(0,73,46)\",\"rgb(0,124,78)\",\"rgb(0,124,78)\",\"rgb(0,124,78)\",\"rgb(0,73,46)\",\"rgb(0,124,78)\",\"rgb(0,73,46)\",\"rgb(0,73,46)\",\"rgb(0,73,46)\",\"rgb(0,73,46)\",\"rgb(0,73,46)\",\"rgb(0,124,78)\",\"rgb(0,73,46)\",\"rgb(0,124,78)\",\"rgb(0,124,78)\",\"rgb(0,73,46)\",\"rgb(0,73,46)\",\"rgb(0,73,46)\",\"rgb(0,124,78)\",\"rgb(0,73,46)\",\"rgb(0,124,78)\",\"rgb(0,124,78)\",\"rgb(0,73,46)\",\"rgb(0,124,78)\",\"rgb(0,73,46)\",\"rgb(0,73,46)\",\"rgb(0,73,46)\",\"rgb(0,124,78)\",\"rgb(0,73,46)\",\"rgb(0,73,46)\",\"rgb(0,73,46)\",\"rgb(0,73,46)\",\"rgb(0,73,46)\",\"rgb(0,73,46)\",\"rgb(0,124,78)\",\"rgb(0,73,46)\",\"rgb(0,124,78)\",\"rgb(0,124,78)\",\"rgb(0,73,46)\",\"rgb(0,73,46)\",\"rgb(0,124,78)\",\"rgb(0,73,46)\",\"rgb(0,124,78)\",\"rgb(0,124,78)\",\"rgb(0,124,78)\",\"rgb(0,124,78)\",\"rgb(0,73,46)\",\"rgb(0,73,46)\",\"rgb(0,73,46)\",\"rgb(0,124,78)\",\"rgb(0,73,46)\",\"rgb(0,124,78)\",\"rgb(0,73,46)\",\"rgb(0,73,46)\",\"rgb(0,124,78)\",\"rgb(0,73,46)\",\"rgb(0,124,78)\",\"rgb(0,124,78)\",\"rgb(0,73,46)\",\"rgb(0,73,46)\",\"rgb(0,73,46)\",\"rgb(0,124,78)\",\"rgb(0,124,78)\",\"rgb(0,124,78)\",\"rgb(0,73,46)\",\"rgb(0,73,46)\",\"rgb(0,73,46)\",\"rgb(0,73,46)\",\"rgb(0,73,46)\",\"rgb(0,73,46)\",\"rgb(0,124,78)\",\"rgb(0,73,46)\",\"rgb(0,124,78)\",\"rgb(0,124,78)\",\"rgb(0,73,46)\",\"rgb(0,124,78)\",\"rgb(0,124,78)\",\"rgb(0,124,78)\",\"rgb(0,124,78)\",\"rgb(0,73,46)\",\"rgb(0,73,46)\",\"rgb(0,73,46)\",\"rgb(0,73,46)\",\"rgb(0,124,78)\",\"rgb(0,124,78)\",\"rgb(0,73,46)\",\"rgb(0,124,78)\",\"rgb(0,124,78)\",\"rgb(0,73,46)\",\"rgb(0,73,46)\",\"rgb(0,73,46)\",\"rgb(0,73,46)\",\"rgb(0,73,46)\",\"rgb(0,124,78)\",\"rgb(0,73,46)\",\"rgb(0,73,46)\",\"rgb(0,73,46)\",\"rgb(0,73,46)\",\"rgb(0,124,78)\",\"rgb(0,73,46)\",\"rgb(0,73,46)\",\"rgb(0,124,78)\",\"rgb(0,124,78)\",\"rgb(0,124,78)\",\"rgb(0,124,78)\",\"rgb(0,124,78)\",\"rgb(0,124,78)\",\"rgb(0,73,46)\",\"rgb(0,124,78)\",\"rgb(0,124,78)\",\"rgb(0,73,46)\",\"rgb(0,124,78)\",\"rgb(0,124,78)\",\"rgb(0,73,46)\",\"rgb(0,73,46)\",\"rgb(0,73,46)\",\"rgb(0,124,78)\",\"rgb(0,73,46)\",\"rgb(0,73,46)\",\"rgb(0,73,46)\",\"rgb(0,73,46)\",\"rgb(0,73,46)\",\"rgb(0,73,46)\",\"rgb(0,124,78)\",\"rgb(0,124,78)\",\"rgb(0,124,78)\",\"rgb(0,73,46)\",\"rgb(0,124,78)\",\"rgb(0,73,46)\",\"rgb(0,124,78)\",\"rgb(0,124,78)\",\"rgb(0,73,46)\",\"rgb(0,124,78)\",\"rgb(0,73,46)\",\"rgb(0,73,46)\",\"rgb(0,124,78)\",\"rgb(0,124,78)\",\"rgb(0,73,46)\",\"rgb(0,73,46)\",\"rgb(0,73,46)\",\"rgb(0,124,78)\",\"rgb(0,73,46)\",\"rgb(0,73,46)\",\"rgb(0,73,46)\",\"rgb(0,124,78)\",\"rgb(0,73,46)\",\"rgb(0,124,78)\",\"rgb(0,73,46)\",\"rgb(0,73,46)\",\"rgb(0,124,78)\",\"rgb(0,73,46)\",\"rgb(0,73,46)\",\"rgb(0,124,78)\",\"rgb(0,124,78)\",\"rgb(0,124,78)\",\"rgb(0,124,78)\",\"rgb(0,124,78)\",\"rgb(0,124,78)\",\"rgb(0,73,46)\",\"rgb(0,124,78)\",\"rgb(0,124,78)\",\"rgb(0,124,78)\",\"rgb(0,73,46)\",\"rgb(0,124,78)\",\"rgb(0,73,46)\",\"rgb(0,73,46)\",\"rgb(0,73,46)\",\"rgb(0,73,46)\",\"rgb(0,73,46)\",\"rgb(0,73,46)\",\"rgb(0,73,46)\",\"rgb(0,73,46)\",\"rgb(0,73,46)\",\"rgb(0,124,78)\",\"rgb(0,73,46)\",\"rgb(0,73,46)\",\"rgb(0,124,78)\",\"rgb(0,124,78)\",\"rgb(0,73,46)\",\"rgb(0,124,78)\",\"rgb(0,124,78)\",\"rgb(0,73,46)\",\"rgb(0,73,46)\",\"rgb(0,73,46)\",\"rgb(0,124,78)\",\"rgb(0,73,46)\",\"rgb(0,73,46)\",\"rgb(0,73,46)\",\"rgb(0,73,46)\",\"rgb(0,124,78)\",\"rgb(0,73,46)\",\"rgb(0,124,78)\",\"rgb(0,124,78)\",\"rgb(0,73,46)\",\"rgb(0,73,46)\",\"rgb(0,73,46)\",\"rgb(0,124,78)\",\"rgb(0,73,46)\",\"rgb(0,73,46)\",\"rgb(0,73,46)\",\"rgb(0,124,78)\",\"rgb(0,124,78)\",\"rgb(0,73,46)\",\"rgb(0,124,78)\",\"rgb(0,124,78)\",\"rgb(0,124,78)\",\"rgb(0,124,78)\",\"rgb(0,124,78)\",\"rgb(0,124,78)\",\"rgb(0,124,78)\",\"rgb(0,73,46)\",\"rgb(0,73,46)\",\"rgb(0,73,46)\",\"rgb(0,124,78)\",\"rgb(0,73,46)\",\"rgb(0,124,78)\",\"rgb(0,73,46)\",\"rgb(0,124,78)\",\"rgb(0,124,78)\",\"rgb(0,73,46)\",\"rgb(0,73,46)\",\"rgb(0,124,78)\",\"rgb(0,73,46)\",\"rgb(0,73,46)\",\"rgb(0,124,78)\",\"rgb(0,73,46)\",\"rgb(0,73,46)\",\"rgb(0,124,78)\",\"rgb(0,124,78)\",\"rgb(0,124,78)\",\"rgb(0,73,46)\",\"rgb(0,73,46)\",\"rgb(0,124,78)\",\"rgb(0,124,78)\",\"rgb(0,124,78)\",\"rgb(0,73,46)\",\"rgb(0,124,78)\",\"rgb(0,73,46)\",\"rgb(0,73,46)\",\"rgb(0,73,46)\",\"rgb(0,73,46)\",\"rgb(0,124,78)\",\"rgb(0,73,46)\",\"rgb(0,73,46)\",\"rgb(0,73,46)\",\"rgb(0,73,46)\",\"rgb(0,73,46)\",\"rgb(0,73,46)\",\"rgb(0,73,46)\",\"rgb(0,73,46)\",\"rgb(0,124,78)\",\"rgb(0,124,78)\",\"rgb(0,124,78)\",\"rgb(0,124,78)\",\"rgb(0,73,46)\",\"rgb(0,73,46)\",\"rgb(0,124,78)\",\"rgb(0,124,78)\",\"rgb(0,124,78)\",\"rgb(0,124,78)\",\"rgb(0,124,78)\",\"rgb(0,73,46)\",\"rgb(0,73,46)\",\"rgb(0,73,46)\",\"rgb(0,124,78)\",\"rgb(0,73,46)\",\"rgb(0,124,78)\",\"rgb(0,73,46)\",\"rgb(0,73,46)\",\"rgb(0,124,78)\",\"rgb(0,124,78)\",\"rgb(0,73,46)\",\"rgb(0,73,46)\",\"rgb(0,124,78)\",\"rgb(0,73,46)\",\"rgb(0,73,46)\",\"rgb(0,124,78)\",\"rgb(0,124,78)\",\"rgb(0,124,78)\",\"rgb(0,73,46)\",\"rgb(0,124,78)\",\"rgb(0,124,78)\",\"rgb(0,124,78)\",\"rgb(0,124,78)\",\"rgb(0,73,46)\",\"rgb(0,124,78)\",\"rgb(0,73,46)\",\"rgb(0,73,46)\",\"rgb(0,73,46)\",\"rgb(0,73,46)\",\"rgb(0,124,78)\",\"rgb(0,73,46)\",\"rgb(0,73,46)\",\"rgb(0,73,46)\",\"rgb(0,73,46)\",\"rgb(0,124,78)\",\"rgb(0,73,46)\",\"rgb(0,73,46)\",\"rgb(0,73,46)\",\"rgb(0,73,46)\",\"rgb(0,124,78)\",\"rgb(0,124,78)\",\"rgb(0,124,78)\",\"rgb(0,73,46)\",\"rgb(0,124,78)\",\"rgb(0,124,78)\",\"rgb(0,73,46)\",\"rgb(0,124,78)\",\"rgb(0,124,78)\",\"rgb(0,73,46)\",\"rgb(0,73,46)\",\"rgb(0,124,78)\",\"rgb(0,73,46)\",\"rgb(0,124,78)\",\"rgb(0,124,78)\",\"rgb(0,73,46)\",\"rgb(0,73,46)\",\"rgb(0,124,78)\",\"rgb(0,124,78)\",\"rgb(0,73,46)\",\"rgb(0,124,78)\",\"rgb(0,124,78)\",\"rgb(0,73,46)\",\"rgb(0,73,46)\",\"rgb(0,73,46)\",\"rgb(0,73,46)\",\"rgb(0,73,46)\",\"rgb(0,73,46)\",\"rgb(0,124,78)\",\"rgb(0,73,46)\",\"rgb(0,73,46)\",\"rgb(0,124,78)\",\"rgb(0,124,78)\",\"rgb(0,124,78)\",\"rgb(0,73,46)\",\"rgb(0,73,46)\",\"rgb(0,73,46)\",\"rgb(0,124,78)\",\"rgb(0,124,78)\",\"rgb(0,124,78)\",\"rgb(0,124,78)\",\"rgb(0,124,78)\",\"rgb(0,124,78)\",\"rgb(0,73,46)\",\"rgb(0,73,46)\",\"rgb(0,124,78)\",\"rgb(0,73,46)\",\"rgb(0,124,78)\",\"rgb(0,73,46)\",\"rgb(0,73,46)\",\"rgb(0,73,46)\",\"rgb(0,124,78)\",\"rgb(0,124,78)\",\"rgb(0,73,46)\",\"rgb(0,73,46)\",\"rgb(0,124,78)\",\"rgb(0,124,78)\",\"rgb(0,124,78)\",\"rgb(0,124,78)\",\"rgb(0,124,78)\",\"rgb(0,73,46)\",\"rgb(0,73,46)\",\"rgb(0,73,46)\",\"rgb(0,73,46)\",\"rgb(0,73,46)\",\"rgb(0,124,78)\",\"rgb(0,73,46)\",\"rgb(0,73,46)\",\"rgb(0,73,46)\",\"rgb(0,73,46)\",\"rgb(0,73,46)\",\"rgb(0,73,46)\",\"rgb(0,73,46)\",\"rgb(0,73,46)\",\"rgb(0,124,78)\",\"rgb(0,73,46)\",\"rgb(0,124,78)\",\"rgb(0,124,78)\",\"rgb(0,124,78)\",\"rgb(0,124,78)\",\"rgb(0,124,78)\",\"rgb(0,73,46)\",\"rgb(0,73,46)\",\"rgb(0,73,46)\",\"rgb(0,124,78)\",\"rgb(0,73,46)\",\"rgb(0,73,46)\",\"rgb(0,73,46)\",\"rgb(0,73,46)\",\"rgb(0,124,78)\",\"rgb(0,124,78)\",\"rgb(0,73,46)\",\"rgb(0,124,78)\",\"rgb(0,73,46)\",\"rgb(0,73,46)\",\"rgb(0,73,46)\",\"rgb(0,73,46)\",\"rgb(0,73,46)\",\"rgb(0,73,46)\",\"rgb(0,73,46)\",\"rgb(0,73,46)\",\"rgb(0,73,46)\",\"rgb(0,73,46)\",\"rgb(0,124,78)\",\"rgb(0,73,46)\",\"rgb(0,73,46)\",\"rgb(0,73,46)\",\"rgb(0,73,46)\",\"rgb(0,73,46)\",\"rgb(0,124,78)\",\"rgb(0,73,46)\",\"rgb(0,73,46)\",\"rgb(0,73,46)\",\"rgb(0,73,46)\",\"rgb(0,73,46)\",\"rgb(0,73,46)\",\"rgb(0,73,46)\",\"rgb(0,73,46)\",\"rgb(0,73,46)\",\"rgb(0,124,78)\",\"rgb(0,124,78)\",\"rgb(0,73,46)\",\"rgb(0,73,46)\",\"rgb(0,73,46)\",\"rgb(0,73,46)\",\"rgb(0,73,46)\",\"rgb(0,73,46)\",\"rgb(0,124,78)\",\"rgb(0,73,46)\",\"rgb(0,73,46)\",\"rgb(0,73,46)\",\"rgb(0,73,46)\",\"rgb(0,73,46)\",\"rgb(0,73,46)\",\"rgb(0,73,46)\",\"rgb(0,73,46)\",\"rgb(0,73,46)\",\"rgb(0,73,46)\",\"rgb(0,73,46)\",\"rgb(0,73,46)\",\"rgb(0,124,78)\",\"rgb(0,73,46)\",\"rgb(0,73,46)\",\"rgb(0,124,78)\",\"rgb(0,73,46)\",\"rgb(0,124,78)\",\"rgb(0,73,46)\",\"rgb(0,73,46)\",\"rgb(0,73,46)\",\"rgb(0,124,78)\",\"rgb(0,73,46)\",\"rgb(0,73,46)\",\"rgb(0,73,46)\",\"rgb(0,73,46)\",\"rgb(0,124,78)\",\"rgb(0,73,46)\",\"rgb(0,73,46)\",\"rgb(0,73,46)\",\"rgb(0,73,46)\",\"rgb(0,73,46)\",\"rgb(0,124,78)\",\"rgb(0,124,78)\",\"rgb(0,73,46)\",\"rgb(0,124,78)\",\"rgb(0,124,78)\",\"rgb(0,124,78)\",\"rgb(0,124,78)\",\"rgb(0,73,46)\",\"rgb(0,73,46)\",\"rgb(0,73,46)\",\"rgb(0,124,78)\",\"rgb(0,73,46)\",\"rgb(0,73,46)\",\"rgb(0,73,46)\",\"rgb(0,73,46)\",\"rgb(0,73,46)\",\"rgb(0,73,46)\",\"rgb(0,124,78)\",\"rgb(0,124,78)\",\"rgb(0,124,78)\",\"rgb(0,124,78)\",\"rgb(0,124,78)\",\"rgb(0,73,46)\",\"rgb(0,73,46)\",\"rgb(0,73,46)\",\"rgb(0,73,46)\",\"rgb(0,73,46)\",\"rgb(0,73,46)\",\"rgb(0,73,46)\",\"rgb(0,73,46)\",\"rgb(0,73,46)\",\"rgb(0,124,78)\",\"rgb(0,73,46)\",\"rgb(0,73,46)\",\"rgb(0,73,46)\",\"rgb(0,124,78)\",\"rgb(0,124,78)\",\"rgb(0,73,46)\",\"rgb(0,124,78)\",\"rgb(0,73,46)\",\"rgb(0,73,46)\",\"rgb(0,124,78)\",\"rgb(0,124,78)\",\"rgb(0,73,46)\",\"rgb(0,73,46)\",\"rgb(0,73,46)\",\"rgb(0,73,46)\",\"rgb(0,124,78)\",\"rgb(0,73,46)\",\"rgb(0,73,46)\",\"rgb(0,73,46)\",\"rgb(0,73,46)\",\"rgb(0,73,46)\",\"rgb(0,124,78)\",\"rgb(0,73,46)\",\"rgb(0,124,78)\",\"rgb(0,73,46)\",\"rgb(0,73,46)\",\"rgb(0,124,78)\",\"rgb(0,124,78)\",\"rgb(0,73,46)\",\"rgb(0,73,46)\",\"rgb(0,73,46)\",\"rgb(0,73,46)\",\"rgb(0,73,46)\",\"rgb(0,124,78)\",\"rgb(0,124,78)\",\"rgb(0,73,46)\",\"rgb(0,124,78)\",\"rgb(0,124,78)\",\"rgb(0,73,46)\",\"rgb(0,124,78)\",\"rgb(0,73,46)\",\"rgb(0,73,46)\",\"rgb(0,73,46)\",\"rgb(0,124,78)\",\"rgb(0,124,78)\",\"rgb(0,124,78)\",\"rgb(0,124,78)\",\"rgb(0,124,78)\",\"rgb(0,124,78)\",\"rgb(0,73,46)\",\"rgb(0,73,46)\",\"rgb(0,73,46)\",\"rgb(0,73,46)\",\"rgb(0,73,46)\",\"rgb(0,73,46)\",\"rgb(0,73,46)\",\"rgb(0,124,78)\",\"rgb(0,124,78)\",\"rgb(0,73,46)\",\"rgb(0,124,78)\",\"rgb(0,124,78)\",\"rgb(0,73,46)\",\"rgb(0,124,78)\",\"rgb(0,124,78)\",\"rgb(0,124,78)\",\"rgb(0,124,78)\",\"rgb(0,73,46)\",\"rgb(0,124,78)\",\"rgb(0,124,78)\",\"rgb(0,73,46)\",\"rgb(0,73,46)\",\"rgb(0,124,78)\",\"rgb(0,124,78)\",\"rgb(0,124,78)\",\"rgb(0,124,78)\",\"rgb(0,124,78)\",\"rgb(0,73,46)\",\"rgb(0,73,46)\",\"rgb(0,124,78)\",\"rgb(0,73,46)\",\"rgb(0,73,46)\",\"rgb(0,73,46)\",\"rgb(0,73,46)\",\"rgb(0,124,78)\",\"rgb(0,124,78)\",\"rgb(0,124,78)\",\"rgb(0,124,78)\",\"rgb(0,124,78)\",\"rgb(0,73,46)\",\"rgb(0,73,46)\",\"rgb(0,124,78)\",\"rgb(0,124,78)\",\"rgb(0,124,78)\",\"rgb(0,73,46)\",\"rgb(0,73,46)\",\"rgb(0,124,78)\",\"rgb(0,124,78)\",\"rgb(0,124,78)\",\"rgb(0,124,78)\",\"rgb(0,124,78)\",\"rgb(0,124,78)\",\"rgb(0,73,46)\",\"rgb(0,73,46)\",\"rgb(0,73,46)\",\"rgb(0,73,46)\",\"rgb(0,73,46)\",\"rgb(0,124,78)\",\"rgb(0,73,46)\",\"rgb(0,124,78)\",\"rgb(0,73,46)\",\"rgb(0,73,46)\",\"rgb(0,73,46)\",\"rgb(0,73,46)\",\"rgb(0,73,46)\",\"rgb(0,73,46)\",\"rgb(0,124,78)\",\"rgb(0,73,46)\",\"rgb(0,73,46)\",\"rgb(0,73,46)\",\"rgb(0,73,46)\",\"rgb(0,73,46)\",\"rgb(0,73,46)\",\"rgb(0,73,46)\",\"rgb(0,124,78)\",\"rgb(0,73,46)\",\"rgb(0,124,78)\",\"rgb(0,73,46)\",\"rgb(0,73,46)\",\"rgb(0,73,46)\",\"rgb(0,124,78)\",\"rgb(0,73,46)\",\"rgb(0,124,78)\",\"rgb(0,124,78)\",\"rgb(0,124,78)\",\"rgb(0,124,78)\",\"rgb(0,124,78)\",\"rgb(0,73,46)\",\"rgb(0,73,46)\",\"rgb(0,73,46)\",\"rgb(0,124,78)\",\"rgb(0,124,78)\",\"rgb(0,124,78)\",\"rgb(0,73,46)\",\"rgb(0,73,46)\",\"rgb(0,124,78)\",\"rgb(0,73,46)\",\"rgb(0,73,46)\",\"rgb(0,124,78)\",\"rgb(0,73,46)\",\"rgb(0,124,78)\",\"rgb(0,124,78)\",\"rgb(0,124,78)\",\"rgb(0,73,46)\",\"rgb(0,73,46)\",\"rgb(0,73,46)\",\"rgb(0,73,46)\",\"rgb(0,124,78)\",\"rgb(0,73,46)\",\"rgb(0,73,46)\",\"rgb(0,124,78)\",\"rgb(0,73,46)\",\"rgb(0,124,78)\",\"rgb(0,73,46)\",\"rgb(0,73,46)\",\"rgb(0,73,46)\",\"rgb(0,73,46)\",\"rgb(0,124,78)\",\"rgb(0,124,78)\",\"rgb(0,73,46)\",\"rgb(0,73,46)\",\"rgb(0,124,78)\",\"rgb(0,73,46)\",\"rgb(0,124,78)\",\"rgb(0,124,78)\",\"rgb(0,124,78)\",\"rgb(0,73,46)\",\"rgb(0,73,46)\",\"rgb(0,124,78)\",\"rgb(0,124,78)\",\"rgb(0,73,46)\",\"rgb(0,73,46)\",\"rgb(0,73,46)\",\"rgb(0,124,78)\",\"rgb(0,73,46)\",\"rgb(0,73,46)\",\"rgb(0,73,46)\",\"rgb(0,73,46)\",\"rgb(0,73,46)\",\"rgb(0,124,78)\",\"rgb(0,73,46)\",\"rgb(0,124,78)\",\"rgb(0,73,46)\",\"rgb(0,73,46)\",\"rgb(0,124,78)\",\"rgb(0,73,46)\",\"rgb(0,73,46)\",\"rgb(0,73,46)\",\"rgb(0,73,46)\",\"rgb(0,73,46)\",\"rgb(0,73,46)\",\"rgb(0,124,78)\",\"rgb(0,124,78)\",\"rgb(0,73,46)\",\"rgb(0,73,46)\",\"rgb(0,73,46)\",\"rgb(0,124,78)\",\"rgb(0,124,78)\",\"rgb(0,124,78)\",\"rgb(0,124,78)\",\"rgb(0,124,78)\",\"rgb(0,73,46)\",\"rgb(0,73,46)\",\"rgb(0,73,46)\",\"rgb(0,73,46)\",\"rgb(0,73,46)\",\"rgb(0,124,78)\",\"rgb(0,124,78)\",\"rgb(0,73,46)\",\"rgb(0,73,46)\",\"rgb(0,124,78)\",\"rgb(0,73,46)\",\"rgb(0,124,78)\",\"rgb(0,73,46)\",\"rgb(0,124,78)\",\"rgb(0,124,78)\",\"rgb(0,73,46)\",\"rgb(0,73,46)\",\"rgb(0,73,46)\",\"rgb(0,73,46)\",\"rgb(0,124,78)\",\"rgb(0,73,46)\",\"rgb(0,124,78)\",\"rgb(0,124,78)\",\"rgb(0,73,46)\",\"rgb(0,124,78)\",\"rgb(0,73,46)\",\"rgb(0,124,78)\",\"rgb(0,124,78)\",\"rgb(0,73,46)\",\"rgb(0,73,46)\",\"rgb(0,73,46)\",\"rgb(0,73,46)\",\"rgb(0,124,78)\",\"rgb(0,124,78)\",\"rgb(0,73,46)\",\"rgb(0,73,46)\",\"rgb(0,73,46)\",\"rgb(0,124,78)\",\"rgb(0,73,46)\",\"rgb(0,124,78)\",\"rgb(0,124,78)\",\"rgb(0,73,46)\",\"rgb(0,124,78)\",\"rgb(0,124,78)\",\"rgb(0,124,78)\",\"rgb(0,124,78)\",\"rgb(0,124,78)\",\"rgb(0,124,78)\",\"rgb(0,124,78)\",\"rgb(0,73,46)\",\"rgb(0,73,46)\",\"rgb(0,73,46)\",\"rgb(0,124,78)\",\"rgb(0,73,46)\",\"rgb(0,73,46)\",\"rgb(0,73,46)\",\"rgb(0,124,78)\",\"rgb(0,73,46)\",\"rgb(0,73,46)\",\"rgb(0,73,46)\",\"rgb(0,124,78)\",\"rgb(0,73,46)\",\"rgb(0,73,46)\",\"rgb(0,73,46)\",\"rgb(0,124,78)\",\"rgb(0,73,46)\",\"rgb(0,124,78)\",\"rgb(0,73,46)\",\"rgb(0,73,46)\",\"rgb(0,73,46)\",\"rgb(0,73,46)\",\"rgb(0,73,46)\",\"rgb(0,73,46)\",\"rgb(0,73,46)\",\"rgb(0,73,46)\",\"rgb(0,73,46)\",\"rgb(0,73,46)\",\"rgb(0,73,46)\",\"rgb(0,124,78)\",\"rgb(0,73,46)\",\"rgb(0,73,46)\",\"rgb(0,124,78)\",\"rgb(0,73,46)\",\"rgb(0,73,46)\",\"rgb(0,73,46)\",\"rgb(0,124,78)\",\"rgb(0,124,78)\",\"rgb(0,124,78)\",\"rgb(0,124,78)\",\"rgb(0,73,46)\",\"rgb(0,124,78)\",\"rgb(0,73,46)\",\"rgb(0,73,46)\",\"rgb(0,73,46)\",\"rgb(0,124,78)\",\"rgb(0,124,78)\",\"rgb(0,73,46)\",\"rgb(0,124,78)\",\"rgb(0,73,46)\",\"rgb(0,73,46)\",\"rgb(0,73,46)\",\"rgb(0,73,46)\",\"rgb(0,73,46)\",\"rgb(0,124,78)\",\"rgb(0,73,46)\",\"rgb(0,124,78)\",\"rgb(0,73,46)\",\"rgb(0,124,78)\",\"rgb(0,124,78)\",\"rgb(0,73,46)\",\"rgb(0,124,78)\",\"rgb(0,124,78)\",\"rgb(0,73,46)\",\"rgb(0,124,78)\",\"rgb(0,124,78)\",\"rgb(0,124,78)\",\"rgb(0,73,46)\",\"rgb(0,124,78)\",\"rgb(0,73,46)\",\"rgb(0,73,46)\",\"rgb(0,73,46)\",\"rgb(0,73,46)\",\"rgb(0,73,46)\",\"rgb(0,73,46)\",\"rgb(0,73,46)\",\"rgb(0,73,46)\",\"rgb(0,73,46)\",\"rgb(0,73,46)\",\"rgb(0,73,46)\",\"rgb(0,73,46)\",\"rgb(0,73,46)\",\"rgb(0,124,78)\",\"rgb(0,124,78)\",\"rgb(0,124,78)\",\"rgb(0,124,78)\",\"rgb(0,73,46)\",\"rgb(0,124,78)\",\"rgb(0,73,46)\",\"rgb(0,73,46)\",\"rgb(0,124,78)\",\"rgb(0,124,78)\",\"rgb(0,73,46)\",\"rgb(0,73,46)\",\"rgb(0,124,78)\",\"rgb(0,124,78)\",\"rgb(0,124,78)\",\"rgb(0,73,46)\",\"rgb(0,73,46)\",\"rgb(0,73,46)\",\"rgb(0,73,46)\",\"rgb(0,73,46)\",\"rgb(0,73,46)\",\"rgb(0,73,46)\",\"rgb(0,124,78)\",\"rgb(0,73,46)\",\"rgb(0,73,46)\",\"rgb(0,73,46)\",\"rgb(0,124,78)\",\"rgb(0,124,78)\",\"rgb(0,73,46)\",\"rgb(0,124,78)\",\"rgb(0,124,78)\",\"rgb(0,73,46)\",\"rgb(0,73,46)\",\"rgb(0,124,78)\",\"rgb(0,73,46)\",\"rgb(0,73,46)\",\"rgb(0,73,46)\",\"rgb(0,124,78)\",\"rgb(0,124,78)\",\"rgb(0,124,78)\",\"rgb(0,73,46)\",\"rgb(0,124,78)\",\"rgb(0,73,46)\",\"rgb(0,73,46)\",\"rgb(0,124,78)\",\"rgb(0,73,46)\",\"rgb(0,73,46)\",\"rgb(0,73,46)\",\"rgb(0,124,78)\",\"rgb(0,73,46)\",\"rgb(0,73,46)\",\"rgb(0,73,46)\",\"rgb(0,73,46)\",\"rgb(0,124,78)\",\"rgb(0,124,78)\",\"rgb(0,124,78)\",\"rgb(0,73,46)\",\"rgb(0,73,46)\",\"rgb(0,73,46)\",\"rgb(0,73,46)\",\"rgb(0,124,78)\",\"rgb(0,124,78)\",\"rgb(0,73,46)\",\"rgb(0,73,46)\",\"rgb(0,124,78)\",\"rgb(0,124,78)\",\"rgb(0,124,78)\",\"rgb(0,124,78)\",\"rgb(0,73,46)\",\"rgb(0,124,78)\",\"rgb(0,73,46)\",\"rgb(0,124,78)\",\"rgb(0,124,78)\",\"rgb(0,124,78)\",\"rgb(0,73,46)\",\"rgb(0,73,46)\",\"rgb(0,73,46)\",\"rgb(0,73,46)\",\"rgb(0,73,46)\",\"rgb(0,73,46)\",\"rgb(0,73,46)\",\"rgb(0,124,78)\",\"rgb(0,73,46)\",\"rgb(0,124,78)\",\"rgb(0,73,46)\",\"rgb(0,124,78)\",\"rgb(0,73,46)\",\"rgb(0,124,78)\",\"rgb(0,124,78)\",\"rgb(0,124,78)\",\"rgb(0,73,46)\",\"rgb(0,73,46)\",\"rgb(0,73,46)\",\"rgb(0,73,46)\",\"rgb(0,73,46)\",\"rgb(0,124,78)\",\"rgb(0,124,78)\",\"rgb(0,73,46)\",\"rgb(0,73,46)\",\"rgb(0,73,46)\",\"rgb(0,124,78)\",\"rgb(0,124,78)\",\"rgb(0,124,78)\",\"rgb(0,124,78)\",\"rgb(0,73,46)\",\"rgb(0,73,46)\",\"rgb(0,73,46)\",\"rgb(0,73,46)\",\"rgb(0,73,46)\",\"rgb(0,73,46)\",\"rgb(0,124,78)\",\"rgb(0,73,46)\",\"rgb(0,73,46)\",\"rgb(0,73,46)\",\"rgb(0,73,46)\",\"rgb(0,73,46)\",\"rgb(0,73,46)\",\"rgb(0,73,46)\",\"rgb(0,73,46)\",\"rgb(0,124,78)\",\"rgb(0,73,46)\",\"rgb(0,73,46)\",\"rgb(0,124,78)\",\"rgb(0,73,46)\",\"rgb(0,124,78)\",\"rgb(0,73,46)\",\"rgb(0,73,46)\",\"rgb(0,73,46)\",\"rgb(0,124,78)\",\"rgb(0,73,46)\",\"rgb(0,73,46)\",\"rgb(0,124,78)\",\"rgb(0,124,78)\",\"rgb(0,124,78)\",\"rgb(0,124,78)\",\"rgb(0,124,78)\",\"rgb(0,73,46)\",\"rgb(0,124,78)\",\"rgb(0,73,46)\",\"rgb(0,124,78)\",\"rgb(0,124,78)\",\"rgb(0,124,78)\",\"rgb(0,124,78)\",\"rgb(0,124,78)\",\"rgb(0,73,46)\",\"rgb(0,73,46)\",\"rgb(0,124,78)\",\"rgb(0,124,78)\",\"rgb(0,124,78)\",\"rgb(0,124,78)\",\"rgb(0,73,46)\",\"rgb(0,124,78)\",\"rgb(0,73,46)\",\"rgb(0,73,46)\",\"rgb(0,73,46)\",\"rgb(0,73,46)\",\"rgb(0,124,78)\",\"rgb(0,73,46)\",\"rgb(0,73,46)\",\"rgb(0,73,46)\",\"rgb(0,124,78)\",\"rgb(0,124,78)\",\"rgb(0,124,78)\",\"rgb(0,73,46)\",\"rgb(0,73,46)\",\"rgb(0,73,46)\",\"rgb(0,73,46)\",\"rgb(0,73,46)\",\"rgb(0,73,46)\",\"rgb(0,73,46)\",\"rgb(0,73,46)\",\"rgb(0,124,78)\",\"rgb(0,73,46)\",\"rgb(0,124,78)\",\"rgb(0,73,46)\",\"rgb(0,73,46)\",\"rgb(0,73,46)\",\"rgb(0,73,46)\",\"rgb(0,73,46)\",\"rgb(0,73,46)\",\"rgb(0,124,78)\",\"rgb(0,124,78)\",\"rgb(0,73,46)\",\"rgb(0,124,78)\",\"rgb(0,124,78)\",\"rgb(0,124,78)\",\"rgb(0,73,46)\",\"rgb(0,73,46)\",\"rgb(0,73,46)\",\"rgb(0,124,78)\",\"rgb(0,124,78)\",\"rgb(0,124,78)\",\"rgb(0,73,46)\",\"rgb(0,73,46)\",\"rgb(0,73,46)\",\"rgb(0,124,78)\",\"rgb(0,124,78)\",\"rgb(0,73,46)\",\"rgb(0,73,46)\",\"rgb(0,73,46)\",\"rgb(0,73,46)\",\"rgb(0,124,78)\",\"rgb(0,124,78)\",\"rgb(0,73,46)\",\"rgb(0,73,46)\",\"rgb(0,124,78)\",\"rgb(0,124,78)\",\"rgb(0,73,46)\",\"rgb(0,124,78)\",\"rgb(0,73,46)\",\"rgb(0,124,78)\",\"rgb(0,73,46)\",\"rgb(0,73,46)\",\"rgb(0,73,46)\",\"rgb(0,73,46)\",\"rgb(0,124,78)\",\"rgb(0,124,78)\",\"rgb(0,73,46)\",\"rgb(0,124,78)\",\"rgb(0,73,46)\",\"rgb(0,73,46)\",\"rgb(0,73,46)\",\"rgb(0,73,46)\",\"rgb(0,73,46)\",\"rgb(0,73,46)\",\"rgb(0,73,46)\",\"rgb(0,124,78)\",\"rgb(0,124,78)\",\"rgb(0,124,78)\",\"rgb(0,73,46)\",\"rgb(0,73,46)\",\"rgb(0,73,46)\",\"rgb(0,124,78)\",\"rgb(0,73,46)\",\"rgb(0,73,46)\",\"rgb(0,73,46)\",\"rgb(0,73,46)\",\"rgb(0,73,46)\",\"rgb(0,73,46)\",\"rgb(0,124,78)\",\"rgb(0,124,78)\",\"rgb(0,73,46)\",\"rgb(0,73,46)\",\"rgb(0,73,46)\",\"rgb(0,73,46)\",\"rgb(0,73,46)\",\"rgb(0,124,78)\",\"rgb(0,124,78)\",\"rgb(0,73,46)\",\"rgb(0,73,46)\",\"rgb(0,124,78)\",\"rgb(0,124,78)\",\"rgb(0,73,46)\",\"rgb(0,73,46)\",\"rgb(0,73,46)\",\"rgb(0,73,46)\",\"rgb(0,73,46)\",\"rgb(0,124,78)\",\"rgb(0,124,78)\",\"rgb(0,124,78)\",\"rgb(0,124,78)\",\"rgb(0,124,78)\",\"rgb(0,124,78)\",\"rgb(0,124,78)\",\"rgb(0,124,78)\",\"rgb(0,124,78)\",\"rgb(0,124,78)\",\"rgb(0,124,78)\",\"rgb(0,124,78)\",\"rgb(0,124,78)\",\"rgb(0,124,78)\",\"rgb(0,124,78)\",\"rgb(0,73,46)\",\"rgb(0,124,78)\",\"rgb(0,73,46)\",\"rgb(0,73,46)\",\"rgb(0,124,78)\",\"rgb(0,73,46)\",\"rgb(0,73,46)\",\"rgb(0,73,46)\",\"rgb(0,124,78)\",\"rgb(0,73,46)\",\"rgb(0,124,78)\",\"rgb(0,73,46)\",\"rgb(0,124,78)\",\"rgb(0,73,46)\",\"rgb(0,124,78)\",\"rgb(0,73,46)\",\"rgb(0,73,46)\",\"rgb(0,73,46)\",\"rgb(0,73,46)\",\"rgb(0,73,46)\",\"rgb(0,73,46)\",\"rgb(0,124,78)\",\"rgb(0,124,78)\",\"rgb(0,124,78)\",\"rgb(0,124,78)\",\"rgb(0,124,78)\",\"rgb(0,124,78)\",\"rgb(0,73,46)\",\"rgb(0,124,78)\",\"rgb(0,73,46)\",\"rgb(0,124,78)\",\"rgb(0,73,46)\",\"rgb(0,73,46)\",\"rgb(0,73,46)\",\"rgb(0,124,78)\",\"rgb(0,124,78)\",\"rgb(0,124,78)\",\"rgb(0,73,46)\",\"rgb(0,124,78)\",\"rgb(0,124,78)\",\"rgb(0,124,78)\",\"rgb(0,124,78)\",\"rgb(0,73,46)\",\"rgb(0,73,46)\",\"rgb(0,73,46)\",\"rgb(0,73,46)\",\"rgb(0,73,46)\",\"rgb(0,73,46)\",\"rgb(0,73,46)\",\"rgb(0,124,78)\",\"rgb(0,73,46)\",\"rgb(0,73,46)\",\"rgb(0,124,78)\",\"rgb(0,73,46)\",\"rgb(0,73,46)\",\"rgb(0,73,46)\",\"rgb(0,73,46)\",\"rgb(0,124,78)\",\"rgb(0,73,46)\",\"rgb(0,124,78)\",\"rgb(0,73,46)\",\"rgb(0,73,46)\",\"rgb(0,73,46)\",\"rgb(0,124,78)\",\"rgb(0,124,78)\",\"rgb(0,73,46)\",\"rgb(0,124,78)\",\"rgb(0,124,78)\",\"rgb(0,73,46)\",\"rgb(0,73,46)\",\"rgb(0,124,78)\",\"rgb(0,124,78)\",\"rgb(0,73,46)\",\"rgb(0,124,78)\",\"rgb(0,124,78)\",\"rgb(0,124,78)\",\"rgb(0,73,46)\",\"rgb(0,124,78)\",\"rgb(0,124,78)\",\"rgb(0,73,46)\",\"rgb(0,73,46)\",\"rgb(0,124,78)\",\"rgb(0,124,78)\",\"rgb(0,73,46)\",\"rgb(0,73,46)\",\"rgb(0,73,46)\",\"rgb(0,73,46)\",\"rgb(0,124,78)\",\"rgb(0,124,78)\",\"rgb(0,124,78)\",\"rgb(0,124,78)\",\"rgb(0,73,46)\",\"rgb(0,73,46)\",\"rgb(0,73,46)\",\"rgb(0,124,78)\",\"rgb(0,73,46)\",\"rgb(0,73,46)\",\"rgb(0,73,46)\",\"rgb(0,73,46)\",\"rgb(0,73,46)\",\"rgb(0,73,46)\",\"rgb(0,73,46)\",\"rgb(0,73,46)\",\"rgb(0,73,46)\",\"rgb(0,73,46)\",\"rgb(0,73,46)\",\"rgb(0,124,78)\",\"rgb(0,124,78)\",\"rgb(0,73,46)\",\"rgb(0,73,46)\",\"rgb(0,73,46)\",\"rgb(0,73,46)\",\"rgb(0,73,46)\",\"rgb(0,73,46)\",\"rgb(0,73,46)\",\"rgb(0,73,46)\",\"rgb(0,73,46)\",\"rgb(0,73,46)\",\"rgb(0,73,46)\",\"rgb(0,73,46)\",\"rgb(0,73,46)\",\"rgb(0,73,46)\",\"rgb(0,73,46)\",\"rgb(0,124,78)\",\"rgb(0,124,78)\",\"rgb(0,73,46)\",\"rgb(0,73,46)\",\"rgb(0,73,46)\",\"rgb(0,73,46)\",\"rgb(0,73,46)\",\"rgb(0,124,78)\",\"rgb(0,73,46)\",\"rgb(0,73,46)\",\"rgb(0,73,46)\",\"rgb(0,73,46)\",\"rgb(0,73,46)\",\"rgb(0,73,46)\",\"rgb(0,73,46)\",\"rgb(0,124,78)\",\"rgb(0,73,46)\",\"rgb(0,73,46)\",\"rgb(0,73,46)\",\"rgb(0,73,46)\",\"rgb(0,73,46)\",\"rgb(0,73,46)\",\"rgb(0,73,46)\",\"rgb(0,73,46)\",\"rgb(0,73,46)\",\"rgb(0,73,46)\",\"rgb(0,73,46)\",\"rgb(0,124,78)\",\"rgb(0,124,78)\",\"rgb(0,124,78)\",\"rgb(0,124,78)\",\"rgb(0,73,46)\",\"rgb(0,73,46)\",\"rgb(0,73,46)\",\"rgb(0,73,46)\",\"rgb(0,73,46)\",\"rgb(0,73,46)\",\"rgb(0,73,46)\",\"rgb(0,73,46)\",\"rgb(0,73,46)\",\"rgb(0,124,78)\",\"rgb(0,124,78)\",\"rgb(0,124,78)\",\"rgb(0,73,46)\",\"rgb(0,124,78)\",\"rgb(0,73,46)\",\"rgb(0,124,78)\",\"rgb(0,73,46)\",\"rgb(0,73,46)\",\"rgb(0,73,46)\",\"rgb(0,73,46)\",\"rgb(0,73,46)\",\"rgb(0,73,46)\",\"rgb(0,73,46)\",\"rgb(0,73,46)\",\"rgb(0,73,46)\",\"rgb(0,73,46)\",\"rgb(0,73,46)\",\"rgb(0,73,46)\",\"rgb(0,73,46)\",\"rgb(0,73,46)\",\"rgb(0,73,46)\",\"rgb(0,73,46)\",\"rgb(0,73,46)\",\"rgb(0,73,46)\",\"rgb(0,73,46)\",\"rgb(0,73,46)\",\"rgb(0,73,46)\",\"rgb(0,73,46)\",\"rgb(0,73,46)\",\"rgb(0,73,46)\",\"rgb(0,124,78)\",\"rgb(0,124,78)\",\"rgb(0,124,78)\",\"rgb(0,124,78)\",\"rgb(0,124,78)\",\"rgb(0,124,78)\",\"rgb(0,73,46)\",\"rgb(0,73,46)\",\"rgb(0,124,78)\",\"rgb(0,73,46)\",\"rgb(0,73,46)\",\"rgb(0,73,46)\",\"rgb(0,124,78)\",\"rgb(0,73,46)\",\"rgb(0,73,46)\",\"rgb(0,73,46)\",\"rgb(0,73,46)\",\"rgb(0,73,46)\",\"rgb(0,73,46)\",\"rgb(0,73,46)\",\"rgb(0,73,46)\",\"rgb(0,124,78)\",\"rgb(0,73,46)\",\"rgb(0,73,46)\",\"rgb(0,73,46)\",\"rgb(0,73,46)\",\"rgb(0,73,46)\",\"rgb(0,73,46)\",\"rgb(0,124,78)\",\"rgb(0,124,78)\",\"rgb(0,124,78)\",\"rgb(0,124,78)\",\"rgb(0,73,46)\",\"rgb(0,73,46)\",\"rgb(0,73,46)\",\"rgb(0,73,46)\",\"rgb(0,73,46)\",\"rgb(0,73,46)\",\"rgb(0,73,46)\",\"rgb(0,73,46)\",\"rgb(0,124,78)\",\"rgb(0,73,46)\",\"rgb(0,124,78)\",\"rgb(0,73,46)\",\"rgb(0,124,78)\",\"rgb(0,73,46)\",\"rgb(0,124,78)\",\"rgb(0,73,46)\",\"rgb(0,73,46)\",\"rgb(0,124,78)\",\"rgb(0,73,46)\",\"rgb(0,73,46)\",\"rgb(0,73,46)\",\"rgb(0,73,46)\",\"rgb(0,124,78)\",\"rgb(0,124,78)\",\"rgb(0,73,46)\",\"rgb(0,73,46)\",\"rgb(0,124,78)\",\"rgb(0,124,78)\",\"rgb(0,124,78)\",\"rgb(0,73,46)\",\"rgb(0,124,78)\",\"rgb(0,73,46)\",\"rgb(0,73,46)\",\"rgb(0,73,46)\",\"rgb(0,73,46)\",\"rgb(0,73,46)\",\"rgb(0,124,78)\",\"rgb(0,124,78)\",\"rgb(0,73,46)\",\"rgb(0,73,46)\",\"rgb(0,73,46)\",\"rgb(0,124,78)\",\"rgb(0,73,46)\",\"rgb(0,124,78)\",\"rgb(0,124,78)\",\"rgb(0,124,78)\",\"rgb(0,124,78)\",\"rgb(0,124,78)\",\"rgb(0,124,78)\",\"rgb(0,124,78)\",\"rgb(0,124,78)\",\"rgb(0,124,78)\",\"rgb(0,124,78)\",\"rgb(0,73,46)\",\"rgb(0,73,46)\",\"rgb(0,124,78)\",\"rgb(0,124,78)\",\"rgb(0,124,78)\",\"rgb(0,73,46)\",\"rgb(0,73,46)\",\"rgb(0,124,78)\",\"rgb(0,73,46)\",\"rgb(0,73,46)\",\"rgb(0,73,46)\",\"rgb(0,73,46)\",\"rgb(0,73,46)\",\"rgb(0,73,46)\",\"rgb(0,124,78)\",\"rgb(0,73,46)\",\"rgb(0,73,46)\",\"rgb(0,124,78)\",\"rgb(0,73,46)\",\"rgb(0,124,78)\",\"rgb(0,73,46)\",\"rgb(0,73,46)\",\"rgb(0,124,78)\",\"rgb(0,124,78)\",\"rgb(0,73,46)\",\"rgb(0,73,46)\",\"rgb(0,124,78)\",\"rgb(0,73,46)\",\"rgb(0,73,46)\",\"rgb(0,124,78)\",\"rgb(0,73,46)\",\"rgb(0,124,78)\",\"rgb(0,73,46)\",\"rgb(0,73,46)\",\"rgb(0,73,46)\",\"rgb(0,124,78)\",\"rgb(0,124,78)\",\"rgb(0,73,46)\",\"rgb(0,73,46)\",\"rgb(0,73,46)\",\"rgb(0,124,78)\",\"rgb(0,124,78)\",\"rgb(0,73,46)\",\"rgb(0,73,46)\",\"rgb(0,124,78)\",\"rgb(0,124,78)\",\"rgb(0,124,78)\",\"rgb(0,73,46)\",\"rgb(0,73,46)\",\"rgb(0,124,78)\",\"rgb(0,124,78)\",\"rgb(0,124,78)\",\"rgb(0,73,46)\",\"rgb(0,73,46)\",\"rgb(0,73,46)\",\"rgb(0,73,46)\",\"rgb(0,73,46)\",\"rgb(0,73,46)\"]},\"name\":\"\",\"showlegend\":true,\"values\":[635.0,635.0,635.0,635.0,635.0,635.0,635.0,635.0,635.0,635.0,777.0,913.75,304.58,1054.81,389.42,367.59,833.0,222.0,662.0,662.0,1218.33,958.0,785.0,519.1,958.0,789.0,360.0,958.0,958.0,252.0,133.0,444.5,907.5,251.2,237.5,588.0,1060.0,1355.88,503.53,3435.6,676.15,351.6,1059.47,332.22,2286.92,1557.82,13560.75,493.0,91.94,1112.91,255.0,1924.0,2093.91,3542.22,767.26,1411.77,382.5,1283.0,365.0,471.0,157.0,225.0,625.0,808.5,628.34,479.54,406.49,589.0,520.0,864.5,1570.0,258.78,479.54,520.0,350.0,238.0,1556.49,1298.22,486.83,269.79,545.0,518.0,1640.65,2145.56,314.0,536.39,1413.4,1016.91,1016.9,477.1,1243.86,203.23,525.0,1091.6,52.27,960.0,942.01,384.65,3894.66,960.0,1346.5,767.26,910.0,317.3,1074.0,1040.0,600.0,1074.0,479.54,2628.31,2768.58,992.98,314.0,1383.26,1890.0,2355.03,809.37,628.0,392.5,772.0,80.01,4162.0,518.83,2200.0,119.26,469.95,525.66,314.0,314.0,628.0,628.34,785.0,769.3,481.98,260.31,1832.0,628.17,1412.54,687.22,961.67,1538.0,695.0,1846.32,461.47,2075.32,518.83,2119.5,289.1,1020.0,315.0,1570.02,942.01,518.83,2512.68,785.0,1078.0,378.66,942.0,808.41,288.83,1260.45,1884.02,635.0,1096.5,360.0,808.41,157.0,1570.02,706.5,628.34,706.5,958.0,1413.0,1037.66,1037.66,620.0,469.95,1037.66,1037.66,706.5,942.0,2596.44,944.68,1444.72,9189.31,400.0,497.0,536.39,1054.8,9732.0,662.63,374.0,3435.6,959.08,2576.7,1283.68,537.0,315.0,334.0,683.0,1285.0,601.0,293.0,7316.1,3458.1,628.17,1038.28,1076.25,528.76,471.0,282.0,314.0,157.0,518.83,3692.64,258.78,1832.0,2826.02,702.13,2509.31,501.86,399.84,1563.0,2825.15,1865.1,9842.34,518.83,2417.45,958.0,471.0,0.01,236.99,768.0,545.46,475.4,760.21,474.25,1413.0,492.35,462.5,385.0,474.25,620.83,332.5,3112.98,518.83,695.0,253.6,4484.0,978.78,1865.1,469.95,785.01,2083.73,486.84,2032.3,269.79,314.0,1037.66,1037.66,1106.38,1538.61,1703.0,666.67,1590.0,1512.0,133.0,545.46,518.18,859.1,2036.52,3019.59,236.99,0.01,157.0,2301.9,1883.47,2226.36,942.0,6891.96,3008.16,770.0,1037.66,2036.52,716.46,2769.51,54.0,528.76,942.01,175.0,1884.0,1256.0,958.0,202.0,3417.92,518.83,1057.52,314.0,628.0,480.2,2033.81,2582.86,182.0,1055.0,2826.02,185.54,518.84,2675.0,503.38,821.0,597.0,518.83,2363.08,2075.32,2355.02,1300.0,716.46,1343.0,384.5,706.5,3435.6,1037.66,1037.66,297.99,0.01,556.59,4239.03,768.48,518.83,1037.66,1300.0,959.08,2962.52,1352.3,703.2,282.0,843.0,713.0,1037.66,1413.0,1568.32,942.0,942.0,284.2,170.0,297.99,0.01,1383.26,1563.31,518.83,6891.96,244.54,5054.1,923.0,471.0,885.0,556.59,282.0,1413.0,702.13,314.0,351.6,288.1,942.01,314.0,600.0,167.0,528.76,360.0,330.0,2075.32,789.0,184.63,692.37,812.0,307.72,1448.0,5652.04,785.01,959.08,628.0,785.01,1290.0,89.97,360.0,1037.66,628.0,768.48,785.01,1037.66,255.0,2321.03,2052.0,1568.32,1320.0,885.0,167.0,1900.0,1037.66,471.0,314.0,471.0,518.83,50.0,1256.01,471.0,376.8,743.0,282.0,702.13,780.0,958.0,3768.0,1413.01,933.0,843.0,321.0,2075.32,683.0,683.0,1343.02,677.04,1256.01,1309.88,204.0,1310.4,1016.91,88.9,174.49,1038.2,314.0,1151.57,959.08,628.0,3015.23,803.38,675.0,1256.01,1270.0,727.0,973.68,392.5,1259.27,518.83,183.65,685.3,471.0,995.0,204.0,169.26,1827.05,1041.94,1578.0,703.2,2352.48,2512.02,518.83,174.49,392.5,1440.59,768.0,512.9,668.0,1177.82,950.0,360.0,809.37,106.11,3263.82,1832.0,19473.3,360.0,304.58,251.2,261.7,1005.69,518.83,1556.49,1038.2,1887.96,1556.49,872.46,503.27,499.06,1015.56,675.0,249.53,260.99,0.01,1057.52,675.0,2280.63,2596.44,3318.0,3292.84,3140.0,1097.95,11105.0,959.08,539.89,1550.38,269.79,706.27,921.5,1037.66,676.15,1413.01,388.0,163.0,9749.2,2075.32,1411.49,675.0,785.01,157.0,1370.61,556.59,470.89,942.0,1640.0,707.42,716.46,740.0,257.0,580.0,695.0,59.2,503.38,1557.3,519.1,518.83,539.89,2075.32,1037.66,479.54,1254.66,1037.66,518.83,2740.0,1370.0,695.0,2512.02,503.27,363.5,2227.76,258.02,1037.66,1079.16,167.0,1060.0,664.0,2505.38,249.53,269.79,3015.24,392.5,202.0,1256.01,1557.3,683.0,683.0,950.0,1117.02,543.15,48.0,503.52,261.7,249.53,580.0,1320.0,958.0,958.0,1015.56,503.53,933.0,933.0,533.5,933.0,39958.25,326.0,204.0,942.0,1413.0,387.27,486.84,562.6,351.6,335.0,471.0,834.0,479.54,2075.32,1320.0,629.0,456.87,465.15,495.75,942.0,1038.2,676.15,519.1,933.0,1060.54,546.64,202.0,649.11,653.0,170.0,1177.83,716.46,1884.0,843.0,348.99,0.01,676.15,486.84,1038.2,1038.2,628.0,1298.22,117.87,204.0,157.0,170.0,519.1,352.12,472.1,1570.02,519.1,9189.28,260.4,386.0,942.01,920.0,2014.53,1343.02,1884.01,628.0,102.0,471.0,249.0,102.0,338.51,798.5,497.25,290.13,0.01,532.97,1157.22,1037.66,1568.32,697.96,300.0,3069.04,676.15,486.84,479.54,1096.13,519.1,2014.53,933.0,1413.01,2227.76,665.0,872.45,1406.5,913.75,1692.6,1027.0,653.0,1450.0,1197.0,843.0,385.87,670.0,115.9,695.0,520.61,880.28,1884.0,1510.58,341.05,991.57,4642.06,339.61,1260.0,1354.08,519.1,556.59,760.64,942.01,913.0,913.0,695.0,1037.66,10442.0,348.98,314.0,470.89,360.0,843.0,455.0,304.58,339.61,157.0,1993.32,487.0,1079.78,23.9,380.72,328.0,125.92,402.69,54.0,392.0,196.0,1369.15,942.0,549.45,99.15,519.1,157.0,782.0,782.0,190.0,6393.32,774.06,179.0,1060.0,923.37,670.0,767.26,40.0,200.0,279.52,1607.0,760.64,2119.5,2596.44,5757.85,809.37,1054.8,628.0,92.5,24.42,950.0,833.67,157.0,804.61,218.56,1131.9,774.54,520.0,950.0,549.45,471.0,519.1,228.0,120.0,190.0,249.53,298.57,1250.0,79.0,182.75,814.0,121.52,942.0,539.58,332.22,725.0,629.0,7203.0,1744.9,655.68,3768.02,532.97,507.5,3015.24,502.4,314.0,1557.3,629.0,79.0,913.75,471.0,6.7,631.26,170.0,1244.07,1260.0,843.9,3767.0,785.0,487.0,1884.02,519.1,1089.0,1465.2,1320.0,119.09,913.0,628.0,942.01,2553.6,539.58,2076.4,600.0,200.0,1026.73,507.5,933.0,933.0,933.0,933.0,933.0,157.0,942.0,3691.6,286.32,238.67,787.5,486.7,1526.15,1098.9,518.83,1037.66,1154.26,649.11,486.84,3485.0,3767.0,1729.0,9040.52,1256.0,244.0,959.08,9749.2,628.0,314.0,537.54,1038.2,190.0,120.0,1677.12,532.0,79.0,913.0,633.5,1651.54,400.32,3432.99,394.45,785.0,2512.6,913.75,788.0,1369.85,218.56,1733.24,7991.65,1947.33,1406.4,487.0,1256.6,1199.52,299.98,1280.0,549.45,315.5,454.0,1080.0,327.84,327.84,273.91,2512.6,285.0,9189.28,79.0,913.0,205.2,419.28,435.75,487.0,1007.06,538.0,1026.0,690.0,631.0,730.0,653.0,2107.16,1272.25,1618.04,1449.0,913.0,537.54,473.34,537.54,1420.0,1256.01,2400.0,843.0,843.0,843.0,1075.0,5832.0,165.0,913.75,1053.58,547.86,834.0,350.11,966.0,1113.88,640.0,477.0,538.46,1692.6,697.96,1932.0,229.0,229.0,892.0,538.46,174.49,468.51,8887.2,532.0,769.48,5880.0,1075.0,677.8,142.1,521.41,644.0,174.49,244.0,368.0,266.0,165.0,1413.0,1449.0,537.54,866.0,663.0,322.0,966.0,1140.0,271.13,749.61,1259.27,487.0,270.0,604.8,332.22,1769.15,338.5,935.0,1564.2,79.0,468.51,57.0,576.0,758.2,758.2,219.82,367.8,1460.0,1298.22,732.6,563.0,1516.4,1171.0,1171.0,8057.56,1408.65,10071.95,1690.38,937.02,730.0,892.0,624.68,64.58,3345.67,1625.82,3225.0,866.0,322.0,99.87,479.54,114.51,1256.0,485.0,690.0,1160.0,1098.9,437.0,260.0,206.75,970.0,1460.0,199.08,1449.0,725.0,549.45,2355.0,141.66,952.0,952.0,952.0,1256.01,537.54,472.23,937.02,866.0,402.5,6558.66,1075.0,1075.0,244.24,866.0,866.0,866.0,866.0,161.0,21.68,1303.4,1298.22,782.04,690.0,322.0,388.0,313.0,563.0,556.62,563.0,2737.84,633.51,1075.08,260.68,60.0,946.68,782.04,157.7,980.0,251.0,475.0,549.45,4928.91,2898.0,538.46,1893.36,1076.92,61.69,940.8,728.9,2150.16,692.14,1193.77,1288.0,270.0,259.0,1580.37,433.64,271.03,361.36,1095.72,2214.93,270.0,52.79,546.67,1136.8,537.54,1075.0,1043.0,1392.38,1390.0,315.56,1845.8,229.0,79.0,1932.0,279.52,1947.36,1185.0,3225.24,1075.0,788.9,597.24,1169.15,500.0,1449.0,966.0,1420.8,2919.0,322.0,36.14,399.84,888.0,888.0,1270.0,714.32,345.0,538.46,3591.7,538.46,538.0,805.0,189.33,946.68,644.0,549.45,903.44,784.0,486.84,644.0,79.0,2825.25,537.54,100.0,60.0,1000.0,644.0,559.04,639.45,39.99,79.0,390.0,454.0,179.94,488.0,537.54,1780.0,402.5,190.0,973.68,1406.4,367.8,966.0,1932.0,314.0,279.9,537.54,488.78,503.6,273.93,780.85,1042.75,1744.9,1176.0,348.98,363.0,940.0,523.47,966.0,1788.3,724.5,537.54,363.0,2415.0,788.9,79.0,2150.16,941.0,266.0,940.8,39.19,79.0,244.0,784.0,171.0,564.0,279.52,1118.08,1932.0,185.0,538.46,2825.15,1449.0,750.35,36.14,483.0,5152.0,644.0,189.33,201.1,50.4,2150.16,921.98,360.44,1130.5,564.0,1288.0,403.2,63.43,148.0,528.63,40.17,1000.0,537.54,312.57,941.0,941.0,3600.0,537.54,2551.5,79.0,428.0,215.0,1075.08,3151.16,6685.32,4300.0,42.63,326.24,623.3,575.4,620.0,79.0,483.0,1540.0,1160.0,2100.0,1924.32,1740.0,761.16,1062.5,79.0,5215.25,1726.74,538.75,1186.0,1366.0,2825.25,79.0,79.0,615.38,1405.71,49.0,96.0,1610.0,966.0,1054.8,471.0,683.1,799.89,1449.0,486.84,1610.0,634.34,100.42,1677.12,1054.8,402.0,1075.0,273.93,1053.58,563.72,174.49,756.0,422.9,254.0,1557.14,147.0,134.26,1115.65,52.47,216.0,631.62,394.0,872.45,171.0,180.22,289.84,15.58,665.0,50.0,49.0,279.0,179.0,2076.0,187.54,4025.0,95.04,470.89,788.9,665.0,665.0,665.0,402.5,838.56,969.66,1902.9,1205.16,800.0,382.14,1551.35,98.0,3990.0,980.0,1612.62,79.0,2684.11,2012.97,331.02,483.0,402.5,526.79,75.05,745.75,537.54,483.0,1053.0,805.0,1075.08,7850.1,105.73,1449.0,2635.88,1932.0,769.5,342.0,49.0,79.0,662.62,1449.0,1749.0,1727.02,332.0,49.0,123.38,1093.5,100.0,49.0,169.0,537.54,5152.0,1075.0,192.0,50.0,1459.93,1107.43,2825.15,6780.39,1883.47,4772.0,1784.25,3425.76,946.68,1075.0,2115.79,111.0,1102.0,1102.0,39.99,2085.5,805.0,218.0,408.43,1612.62,1075.1,98.0,750.6,867.0,564.0,1053.5,1075.0,1075.0,537.54,2354.45,5650.16,1130.03,1412.53,941.75,1412.69,2147.4,4520.26,991.62,877.12,494.38,34.47,9200.0,1897.0,1382.51,96.0,1397.6,49.0,564.0,79.0,1460.52,1207.5,174.49,2107.15,483.0,191.0,483.0,91.63,1503.9,169.0,724.5,498.75,808.5,690.0,690.0,690.0,690.0,690.0,690.0,1449.0,537.54,96.0,1568.0,332.0,1018.0,591.5,1382.51,271.0,887.76,49.0,182.88,14546.52,1449.0,690.0,240.0,788.9,1756.42,215.6,50.0,330.95,315.0,2107.16,1929.01,527.44,211.45,644.0,867.0,53.0,96.0,1633.3,813.0,1449.0,142.1,2596.44,5192.88,966.0,126.86,800.0,537.54,556.96,1134.0,348.98,5657.04,14546.58,537.54,644.0,805.0,2576.0,925.0,174.99,3285.94,728.05,487.0,615.44,1570.01,384.65,662.63,160.0,843.0,1254.66,676.15,351.6,751.91,787.19,519.1,384.65,959.08,671.3,769.31,180.22,649.11,460.0,114.0,1260.0,142.1,100.0,1319.75,950.0,913.0,1612.62,1412.53,244.0,79.0,843.0,196.0,892.0,3220.0,789.0,454.0,940.0,436.0,297.0,769.5,769.5,843.0,4976.29,2397.7,2954.94,538.46,549.45,538.46,79.0,157.0,1413.01,843.0,843.0,665.0,170.0,843.0,620.0,237.5,477.09,233.9,519.1,710.0,538.46,545.0,843.0,950.0,360.0,788.0,160.0,1352.3,703.2,1282.55,161.0,1610.0,2268.0,260.68,1874.15,555.0,402.5,1612.62,460.0,335.0,471.0,537.54,315.56,1449.0,1288.0,1510.0,1159.59,165.0,260.0,537.54,468.0,487.0,502.54,874.24,950.0,34.94,402.69,1642.97,1449.0,79.0,79.0,1460.0,3750.0,892.0,892.0,892.0,532.97,1120.0,1530.08,468.51,271.13,644.0,559.04,1612.62,2030.68,785.0,710.0,532.97,229.0,2085.64,483.0,483.0,151.08,3435.6,167.0,79.0,449.0,279.52,1821.33,1093.34,946.68,1093.34,378.68,257.99,0.01,1026.0,660.0,3320.91,1850.0,867.0,867.0,867.0,867.0,79.0,240.0,125.0,111.0,1118.08,183.9,180.47,832.0,489.39,627.94,537.54,2028.44,716.46,1449.0,537.54,1374.1,799.89,1075.08,690.0,506.4,4915.6,1064.0,966.0,161.0,504.0,1288.0,966.0,1947.36,351.6,806.4,1207.5,218.56,380.0,960.3,538.84,1112.63,500.0,805.0,2500.0,500.0,174.49,537.54,142.89,2236.16,483.0,402.5,401.72,951.45,63.43,784.0,473.34,483.0,1075.08,343.11,498.75,2150.0,1610.0,2201.07,5454.96,191.0,1298.22,473.34,191.0,1134.0,1030.5,788.9,3160.74,322.0,202.0,1609.0,2150.0,390.0,2687.7,96.0,1335.89,1335.89,537.54,1410.72,2928.0,483.0,79.0,382.0,2962.52,780.0,1490.5,768.6,278.0,956.75,956.75,935.0,98.0,390.0,191.0,1207.5,174.49,896.4,72.0,1075.0,805.0,1053.58,315.56,1020.81,260.0,322.0,692.34,935.0,265.58,1632.0,315.56,1046.33,4083.24],\"type\":\"pie\"}],                        {\"template\":{\"data\":{\"histogram2dcontour\":[{\"type\":\"histogram2dcontour\",\"colorbar\":{\"outlinewidth\":0,\"ticks\":\"\"},\"colorscale\":[[0.0,\"#0d0887\"],[0.1111111111111111,\"#46039f\"],[0.2222222222222222,\"#7201a8\"],[0.3333333333333333,\"#9c179e\"],[0.4444444444444444,\"#bd3786\"],[0.5555555555555556,\"#d8576b\"],[0.6666666666666666,\"#ed7953\"],[0.7777777777777778,\"#fb9f3a\"],[0.8888888888888888,\"#fdca26\"],[1.0,\"#f0f921\"]]}],\"choropleth\":[{\"type\":\"choropleth\",\"colorbar\":{\"outlinewidth\":0,\"ticks\":\"\"}}],\"histogram2d\":[{\"type\":\"histogram2d\",\"colorbar\":{\"outlinewidth\":0,\"ticks\":\"\"},\"colorscale\":[[0.0,\"#0d0887\"],[0.1111111111111111,\"#46039f\"],[0.2222222222222222,\"#7201a8\"],[0.3333333333333333,\"#9c179e\"],[0.4444444444444444,\"#bd3786\"],[0.5555555555555556,\"#d8576b\"],[0.6666666666666666,\"#ed7953\"],[0.7777777777777778,\"#fb9f3a\"],[0.8888888888888888,\"#fdca26\"],[1.0,\"#f0f921\"]]}],\"heatmap\":[{\"type\":\"heatmap\",\"colorbar\":{\"outlinewidth\":0,\"ticks\":\"\"},\"colorscale\":[[0.0,\"#0d0887\"],[0.1111111111111111,\"#46039f\"],[0.2222222222222222,\"#7201a8\"],[0.3333333333333333,\"#9c179e\"],[0.4444444444444444,\"#bd3786\"],[0.5555555555555556,\"#d8576b\"],[0.6666666666666666,\"#ed7953\"],[0.7777777777777778,\"#fb9f3a\"],[0.8888888888888888,\"#fdca26\"],[1.0,\"#f0f921\"]]}],\"heatmapgl\":[{\"type\":\"heatmapgl\",\"colorbar\":{\"outlinewidth\":0,\"ticks\":\"\"},\"colorscale\":[[0.0,\"#0d0887\"],[0.1111111111111111,\"#46039f\"],[0.2222222222222222,\"#7201a8\"],[0.3333333333333333,\"#9c179e\"],[0.4444444444444444,\"#bd3786\"],[0.5555555555555556,\"#d8576b\"],[0.6666666666666666,\"#ed7953\"],[0.7777777777777778,\"#fb9f3a\"],[0.8888888888888888,\"#fdca26\"],[1.0,\"#f0f921\"]]}],\"contourcarpet\":[{\"type\":\"contourcarpet\",\"colorbar\":{\"outlinewidth\":0,\"ticks\":\"\"}}],\"contour\":[{\"type\":\"contour\",\"colorbar\":{\"outlinewidth\":0,\"ticks\":\"\"},\"colorscale\":[[0.0,\"#0d0887\"],[0.1111111111111111,\"#46039f\"],[0.2222222222222222,\"#7201a8\"],[0.3333333333333333,\"#9c179e\"],[0.4444444444444444,\"#bd3786\"],[0.5555555555555556,\"#d8576b\"],[0.6666666666666666,\"#ed7953\"],[0.7777777777777778,\"#fb9f3a\"],[0.8888888888888888,\"#fdca26\"],[1.0,\"#f0f921\"]]}],\"surface\":[{\"type\":\"surface\",\"colorbar\":{\"outlinewidth\":0,\"ticks\":\"\"},\"colorscale\":[[0.0,\"#0d0887\"],[0.1111111111111111,\"#46039f\"],[0.2222222222222222,\"#7201a8\"],[0.3333333333333333,\"#9c179e\"],[0.4444444444444444,\"#bd3786\"],[0.5555555555555556,\"#d8576b\"],[0.6666666666666666,\"#ed7953\"],[0.7777777777777778,\"#fb9f3a\"],[0.8888888888888888,\"#fdca26\"],[1.0,\"#f0f921\"]]}],\"mesh3d\":[{\"type\":\"mesh3d\",\"colorbar\":{\"outlinewidth\":0,\"ticks\":\"\"}}],\"scatter\":[{\"fillpattern\":{\"fillmode\":\"overlay\",\"size\":10,\"solidity\":0.2},\"type\":\"scatter\"}],\"parcoords\":[{\"type\":\"parcoords\",\"line\":{\"colorbar\":{\"outlinewidth\":0,\"ticks\":\"\"}}}],\"scatterpolargl\":[{\"type\":\"scatterpolargl\",\"marker\":{\"colorbar\":{\"outlinewidth\":0,\"ticks\":\"\"}}}],\"bar\":[{\"error_x\":{\"color\":\"#2a3f5f\"},\"error_y\":{\"color\":\"#2a3f5f\"},\"marker\":{\"line\":{\"color\":\"#E5ECF6\",\"width\":0.5},\"pattern\":{\"fillmode\":\"overlay\",\"size\":10,\"solidity\":0.2}},\"type\":\"bar\"}],\"scattergeo\":[{\"type\":\"scattergeo\",\"marker\":{\"colorbar\":{\"outlinewidth\":0,\"ticks\":\"\"}}}],\"scatterpolar\":[{\"type\":\"scatterpolar\",\"marker\":{\"colorbar\":{\"outlinewidth\":0,\"ticks\":\"\"}}}],\"histogram\":[{\"marker\":{\"pattern\":{\"fillmode\":\"overlay\",\"size\":10,\"solidity\":0.2}},\"type\":\"histogram\"}],\"scattergl\":[{\"type\":\"scattergl\",\"marker\":{\"colorbar\":{\"outlinewidth\":0,\"ticks\":\"\"}}}],\"scatter3d\":[{\"type\":\"scatter3d\",\"line\":{\"colorbar\":{\"outlinewidth\":0,\"ticks\":\"\"}},\"marker\":{\"colorbar\":{\"outlinewidth\":0,\"ticks\":\"\"}}}],\"scattermapbox\":[{\"type\":\"scattermapbox\",\"marker\":{\"colorbar\":{\"outlinewidth\":0,\"ticks\":\"\"}}}],\"scatterternary\":[{\"type\":\"scatterternary\",\"marker\":{\"colorbar\":{\"outlinewidth\":0,\"ticks\":\"\"}}}],\"scattercarpet\":[{\"type\":\"scattercarpet\",\"marker\":{\"colorbar\":{\"outlinewidth\":0,\"ticks\":\"\"}}}],\"carpet\":[{\"aaxis\":{\"endlinecolor\":\"#2a3f5f\",\"gridcolor\":\"white\",\"linecolor\":\"white\",\"minorgridcolor\":\"white\",\"startlinecolor\":\"#2a3f5f\"},\"baxis\":{\"endlinecolor\":\"#2a3f5f\",\"gridcolor\":\"white\",\"linecolor\":\"white\",\"minorgridcolor\":\"white\",\"startlinecolor\":\"#2a3f5f\"},\"type\":\"carpet\"}],\"table\":[{\"cells\":{\"fill\":{\"color\":\"#EBF0F8\"},\"line\":{\"color\":\"white\"}},\"header\":{\"fill\":{\"color\":\"#C8D4E3\"},\"line\":{\"color\":\"white\"}},\"type\":\"table\"}],\"barpolar\":[{\"marker\":{\"line\":{\"color\":\"#E5ECF6\",\"width\":0.5},\"pattern\":{\"fillmode\":\"overlay\",\"size\":10,\"solidity\":0.2}},\"type\":\"barpolar\"}],\"pie\":[{\"automargin\":true,\"type\":\"pie\"}]},\"layout\":{\"autotypenumbers\":\"strict\",\"colorway\":[\"#636efa\",\"#EF553B\",\"#00cc96\",\"#ab63fa\",\"#FFA15A\",\"#19d3f3\",\"#FF6692\",\"#B6E880\",\"#FF97FF\",\"#FECB52\"],\"font\":{\"color\":\"#2a3f5f\"},\"hovermode\":\"closest\",\"hoverlabel\":{\"align\":\"left\"},\"paper_bgcolor\":\"white\",\"plot_bgcolor\":\"#E5ECF6\",\"polar\":{\"bgcolor\":\"#E5ECF6\",\"angularaxis\":{\"gridcolor\":\"white\",\"linecolor\":\"white\",\"ticks\":\"\"},\"radialaxis\":{\"gridcolor\":\"white\",\"linecolor\":\"white\",\"ticks\":\"\"}},\"ternary\":{\"bgcolor\":\"#E5ECF6\",\"aaxis\":{\"gridcolor\":\"white\",\"linecolor\":\"white\",\"ticks\":\"\"},\"baxis\":{\"gridcolor\":\"white\",\"linecolor\":\"white\",\"ticks\":\"\"},\"caxis\":{\"gridcolor\":\"white\",\"linecolor\":\"white\",\"ticks\":\"\"}},\"coloraxis\":{\"colorbar\":{\"outlinewidth\":0,\"ticks\":\"\"}},\"colorscale\":{\"sequential\":[[0.0,\"#0d0887\"],[0.1111111111111111,\"#46039f\"],[0.2222222222222222,\"#7201a8\"],[0.3333333333333333,\"#9c179e\"],[0.4444444444444444,\"#bd3786\"],[0.5555555555555556,\"#d8576b\"],[0.6666666666666666,\"#ed7953\"],[0.7777777777777778,\"#fb9f3a\"],[0.8888888888888888,\"#fdca26\"],[1.0,\"#f0f921\"]],\"sequentialminus\":[[0.0,\"#0d0887\"],[0.1111111111111111,\"#46039f\"],[0.2222222222222222,\"#7201a8\"],[0.3333333333333333,\"#9c179e\"],[0.4444444444444444,\"#bd3786\"],[0.5555555555555556,\"#d8576b\"],[0.6666666666666666,\"#ed7953\"],[0.7777777777777778,\"#fb9f3a\"],[0.8888888888888888,\"#fdca26\"],[1.0,\"#f0f921\"]],\"diverging\":[[0,\"#8e0152\"],[0.1,\"#c51b7d\"],[0.2,\"#de77ae\"],[0.3,\"#f1b6da\"],[0.4,\"#fde0ef\"],[0.5,\"#f7f7f7\"],[0.6,\"#e6f5d0\"],[0.7,\"#b8e186\"],[0.8,\"#7fbc41\"],[0.9,\"#4d9221\"],[1,\"#276419\"]]},\"xaxis\":{\"gridcolor\":\"white\",\"linecolor\":\"white\",\"ticks\":\"\",\"title\":{\"standoff\":15},\"zerolinecolor\":\"white\",\"automargin\":true,\"zerolinewidth\":2},\"yaxis\":{\"gridcolor\":\"white\",\"linecolor\":\"white\",\"ticks\":\"\",\"title\":{\"standoff\":15},\"zerolinecolor\":\"white\",\"automargin\":true,\"zerolinewidth\":2},\"scene\":{\"xaxis\":{\"backgroundcolor\":\"#E5ECF6\",\"gridcolor\":\"white\",\"linecolor\":\"white\",\"showbackground\":true,\"ticks\":\"\",\"zerolinecolor\":\"white\",\"gridwidth\":2},\"yaxis\":{\"backgroundcolor\":\"#E5ECF6\",\"gridcolor\":\"white\",\"linecolor\":\"white\",\"showbackground\":true,\"ticks\":\"\",\"zerolinecolor\":\"white\",\"gridwidth\":2},\"zaxis\":{\"backgroundcolor\":\"#E5ECF6\",\"gridcolor\":\"white\",\"linecolor\":\"white\",\"showbackground\":true,\"ticks\":\"\",\"zerolinecolor\":\"white\",\"gridwidth\":2}},\"shapedefaults\":{\"line\":{\"color\":\"#2a3f5f\"}},\"annotationdefaults\":{\"arrowcolor\":\"#2a3f5f\",\"arrowhead\":0,\"arrowwidth\":1},\"geo\":{\"bgcolor\":\"white\",\"landcolor\":\"#E5ECF6\",\"subunitcolor\":\"white\",\"showland\":true,\"showlakes\":true,\"lakecolor\":\"white\"},\"title\":{\"x\":0.05},\"mapbox\":{\"style\":\"light\"}}},\"legend\":{\"tracegroupgap\":0},\"title\":{\"text\":\"Tipo de Venda\"}},                        {\"responsive\": true}                    ).then(function(){\n",
       "                            \n",
       "var gd = document.getElementById('d1296846-f4e5-4574-9962-0e0bf36afd14');\n",
       "var x = new MutationObserver(function (mutations, observer) {{\n",
       "        var display = window.getComputedStyle(gd).display;\n",
       "        if (!display || display === 'none') {{\n",
       "            console.log([gd, 'removed!']);\n",
       "            Plotly.purge(gd);\n",
       "            observer.disconnect();\n",
       "        }}\n",
       "}});\n",
       "\n",
       "// Listen for the removal of the full notebook cells\n",
       "var notebookContainer = gd.closest('#notebook-container');\n",
       "if (notebookContainer) {{\n",
       "    x.observe(notebookContainer, {childList: true});\n",
       "}}\n",
       "\n",
       "// Listen for the clearing of the current output cell\n",
       "var outputEl = gd.closest('.output');\n",
       "if (outputEl) {{\n",
       "    x.observe(outputEl, {childList: true});\n",
       "}}\n",
       "\n",
       "                        })                };                });            </script>        </div>"
      ]
     },
     "metadata": {},
     "output_type": "display_data"
    }
   ],
   "source": [
    "fig = px.pie(df[df['Vendedor'].isin(tipos)], values='Total', names='Vendedor', title='Tipo de Venda', \n",
    "             hole=.4, color='Vendedor', color_discrete_map=cores_vendedor )\n",
    "fig.show()"
   ]
  },
  {
   "cell_type": "code",
   "execution_count": 212,
   "id": "90c1e9e0-8264-41b1-aca2-090cdaae06c6",
   "metadata": {},
   "outputs": [
    {
     "data": {
      "text/html": [
       "<div>\n",
       "<style scoped>\n",
       "    .dataframe tbody tr th:only-of-type {\n",
       "        vertical-align: middle;\n",
       "    }\n",
       "\n",
       "    .dataframe tbody tr th {\n",
       "        vertical-align: top;\n",
       "    }\n",
       "\n",
       "    .dataframe thead th {\n",
       "        text-align: right;\n",
       "    }\n",
       "</style>\n",
       "<table border=\"1\" class=\"dataframe\">\n",
       "  <thead>\n",
       "    <tr style=\"text-align: right;\">\n",
       "      <th></th>\n",
       "      <th>Vendedor</th>\n",
       "      <th>Data</th>\n",
       "      <th>Data entrega</th>\n",
       "      <th>Ordem Item</th>\n",
       "      <th>Código</th>\n",
       "      <th>Descrição</th>\n",
       "      <th>Cor/Espec./Tam.</th>\n",
       "      <th>Estado</th>\n",
       "      <th>Cidade</th>\n",
       "      <th>Unid.</th>\n",
       "      <th>...</th>\n",
       "      <th>Vl. Unitário</th>\n",
       "      <th>Desconto</th>\n",
       "      <th>Total</th>\n",
       "      <th>Observações</th>\n",
       "      <th>Obs. Itens</th>\n",
       "      <th>Peso Bruto</th>\n",
       "      <th>Peso Líquido</th>\n",
       "      <th>Ano</th>\n",
       "      <th>Mês</th>\n",
       "      <th>Período</th>\n",
       "    </tr>\n",
       "  </thead>\n",
       "  <tbody>\n",
       "    <tr>\n",
       "      <th>0</th>\n",
       "      <td>BOCCHI SUPRIMENTOS</td>\n",
       "      <td>2023-01-11</td>\n",
       "      <td>2023-01-11</td>\n",
       "      <td>1</td>\n",
       "      <td>LP0190008</td>\n",
       "      <td>ESTUFA CRISTAL LONAX 2,2 X 105 28 KG REF: 150</td>\n",
       "      <td>NaN</td>\n",
       "      <td>Tocantins</td>\n",
       "      <td>ARAGUAINA</td>\n",
       "      <td>BOBINA</td>\n",
       "      <td>...</td>\n",
       "      <td>1183.000</td>\n",
       "      <td>0.00</td>\n",
       "      <td>1183.00</td>\n",
       "      <td>NaN</td>\n",
       "      <td>NaN</td>\n",
       "      <td>28.0</td>\n",
       "      <td>0.0</td>\n",
       "      <td>2023</td>\n",
       "      <td>1</td>\n",
       "      <td>2023-01-01</td>\n",
       "    </tr>\n",
       "    <tr>\n",
       "      <th>1</th>\n",
       "      <td>BOCCHI SUPRIMENTOS</td>\n",
       "      <td>2023-01-11</td>\n",
       "      <td>2023-01-11</td>\n",
       "      <td>1</td>\n",
       "      <td>LP0010003</td>\n",
       "      <td>LONA PRETA 4 X 100 10 KG REF: 30</td>\n",
       "      <td>NaN</td>\n",
       "      <td>São Paulo</td>\n",
       "      <td>SAO JOSE DO RIO PRETO</td>\n",
       "      <td>BOBINA</td>\n",
       "      <td>...</td>\n",
       "      <td>157.001</td>\n",
       "      <td>0.00</td>\n",
       "      <td>314.00</td>\n",
       "      <td>NaN</td>\n",
       "      <td>NaN</td>\n",
       "      <td>20.0</td>\n",
       "      <td>0.0</td>\n",
       "      <td>2023</td>\n",
       "      <td>1</td>\n",
       "      <td>2023-01-01</td>\n",
       "    </tr>\n",
       "    <tr>\n",
       "      <th>2</th>\n",
       "      <td>BOCCHI SUPRIMENTOS</td>\n",
       "      <td>2023-01-11</td>\n",
       "      <td>2023-01-11</td>\n",
       "      <td>1</td>\n",
       "      <td>LP0020001</td>\n",
       "      <td>LONA BRANCA 4 X 100 25 KG REF: 100</td>\n",
       "      <td>NaN</td>\n",
       "      <td>São Paulo</td>\n",
       "      <td>SAO PAULO</td>\n",
       "      <td>BOBINA</td>\n",
       "      <td>...</td>\n",
       "      <td>518.830</td>\n",
       "      <td>0.00</td>\n",
       "      <td>2594.15</td>\n",
       "      <td>NaN</td>\n",
       "      <td>NaN</td>\n",
       "      <td>125.0</td>\n",
       "      <td>0.0</td>\n",
       "      <td>2023</td>\n",
       "      <td>1</td>\n",
       "      <td>2023-01-01</td>\n",
       "    </tr>\n",
       "    <tr>\n",
       "      <th>3</th>\n",
       "      <td>BOCCHI SUPRIMENTOS</td>\n",
       "      <td>2023-01-18</td>\n",
       "      <td>2023-01-18</td>\n",
       "      <td>1</td>\n",
       "      <td>LP0190008</td>\n",
       "      <td>ESTUFA CRISTAL LONAX 2,2 X 105 28 KG REF: 150</td>\n",
       "      <td>NaN</td>\n",
       "      <td>Minas Gerais</td>\n",
       "      <td>SAO SEBASTIAO DO PARAISO</td>\n",
       "      <td>BOBINA</td>\n",
       "      <td>...</td>\n",
       "      <td>951.720</td>\n",
       "      <td>19.03</td>\n",
       "      <td>932.69</td>\n",
       "      <td>NaN</td>\n",
       "      <td>NaN</td>\n",
       "      <td>28.0</td>\n",
       "      <td>0.0</td>\n",
       "      <td>2023</td>\n",
       "      <td>1</td>\n",
       "      <td>2023-01-01</td>\n",
       "    </tr>\n",
       "    <tr>\n",
       "      <th>4</th>\n",
       "      <td>BOCCHI SUPRIMENTOS</td>\n",
       "      <td>2023-03-15</td>\n",
       "      <td>2023-03-15</td>\n",
       "      <td>1</td>\n",
       "      <td>LP0020001</td>\n",
       "      <td>LONA BRANCA 4 X 100 25 KG REF: 100</td>\n",
       "      <td>NaN</td>\n",
       "      <td>São Paulo</td>\n",
       "      <td>MAUA</td>\n",
       "      <td>BOBINA</td>\n",
       "      <td>...</td>\n",
       "      <td>490.000</td>\n",
       "      <td>0.00</td>\n",
       "      <td>980.00</td>\n",
       "      <td>NaN</td>\n",
       "      <td>NaN</td>\n",
       "      <td>50.0</td>\n",
       "      <td>0.0</td>\n",
       "      <td>2023</td>\n",
       "      <td>3</td>\n",
       "      <td>2023-03-01</td>\n",
       "    </tr>\n",
       "  </tbody>\n",
       "</table>\n",
       "<p>5 rows × 23 columns</p>\n",
       "</div>"
      ],
      "text/plain": [
       "             Vendedor       Data Data entrega  Ordem Item     Código  \\\n",
       "0  BOCCHI SUPRIMENTOS 2023-01-11   2023-01-11           1  LP0190008   \n",
       "1  BOCCHI SUPRIMENTOS 2023-01-11   2023-01-11           1  LP0010003   \n",
       "2  BOCCHI SUPRIMENTOS 2023-01-11   2023-01-11           1  LP0020001   \n",
       "3  BOCCHI SUPRIMENTOS 2023-01-18   2023-01-18           1  LP0190008   \n",
       "4  BOCCHI SUPRIMENTOS 2023-03-15   2023-03-15           1  LP0020001   \n",
       "\n",
       "                                       Descrição  Cor/Espec./Tam.  \\\n",
       "0  ESTUFA CRISTAL LONAX 2,2 X 105 28 KG REF: 150              NaN   \n",
       "1               LONA PRETA 4 X 100 10 KG REF: 30              NaN   \n",
       "2             LONA BRANCA 4 X 100 25 KG REF: 100              NaN   \n",
       "3  ESTUFA CRISTAL LONAX 2,2 X 105 28 KG REF: 150              NaN   \n",
       "4             LONA BRANCA 4 X 100 25 KG REF: 100              NaN   \n",
       "\n",
       "         Estado                    Cidade   Unid.  ... Vl. Unitário Desconto  \\\n",
       "0     Tocantins                 ARAGUAINA  BOBINA  ...     1183.000     0.00   \n",
       "1     São Paulo     SAO JOSE DO RIO PRETO  BOBINA  ...      157.001     0.00   \n",
       "2     São Paulo                 SAO PAULO  BOBINA  ...      518.830     0.00   \n",
       "3  Minas Gerais  SAO SEBASTIAO DO PARAISO  BOBINA  ...      951.720    19.03   \n",
       "4     São Paulo                      MAUA  BOBINA  ...      490.000     0.00   \n",
       "\n",
       "     Total  Observações  Obs. Itens  Peso Bruto  Peso Líquido   Ano  Mês  \\\n",
       "0  1183.00          NaN         NaN        28.0           0.0  2023    1   \n",
       "1   314.00          NaN         NaN        20.0           0.0  2023    1   \n",
       "2  2594.15          NaN         NaN       125.0           0.0  2023    1   \n",
       "3   932.69          NaN         NaN        28.0           0.0  2023    1   \n",
       "4   980.00          NaN         NaN        50.0           0.0  2023    3   \n",
       "\n",
       "     Período  \n",
       "0 2023-01-01  \n",
       "1 2023-01-01  \n",
       "2 2023-01-01  \n",
       "3 2023-01-01  \n",
       "4 2023-03-01  \n",
       "\n",
       "[5 rows x 23 columns]"
      ]
     },
     "execution_count": 212,
     "metadata": {},
     "output_type": "execute_result"
    }
   ],
   "source": [
    "df['Ano'] = df['Data'].dt.year\n",
    "df['Mês'] = df['Data'].dt.month\n",
    "df['Período'] = df['Mês'].astype(str) + '-' + df['Ano'].astype(str)\n",
    "df['Período'] = pd.to_datetime(df['Período'], format='%m-%Y')\n",
    "df.head()"
   ]
  },
  {
   "cell_type": "code",
   "execution_count": 232,
   "id": "3c8500d0-1a45-4cad-8010-d2635b586d87",
   "metadata": {},
   "outputs": [
    {
     "data": {
      "application/vnd.plotly.v1+json": {
       "config": {
        "plotlyServerURL": "https://plot.ly"
       },
       "data": [
        {
         "hovertemplate": "Período=%{x}<br>Total=%{y}<extra></extra>",
         "legendgroup": "",
         "line": {
          "color": "rgb(0,73,46)",
          "dash": "solid"
         },
         "marker": {
          "symbol": "circle"
         },
         "mode": "lines+markers",
         "name": "",
         "orientation": "v",
         "showlegend": false,
         "type": "scatter",
         "x": [
          "2023-01-01T00:00:00",
          "2023-02-01T00:00:00",
          "2023-03-01T00:00:00",
          "2023-04-01T00:00:00",
          "2023-05-01T00:00:00",
          "2023-06-01T00:00:00",
          "2023-07-01T00:00:00",
          "2023-08-01T00:00:00",
          "2023-09-01T00:00:00",
          "2023-10-01T00:00:00",
          "2023-11-01T00:00:00",
          "2023-12-01T00:00:00",
          "2024-01-01T00:00:00",
          "2024-02-01T00:00:00",
          "2024-03-01T00:00:00"
         ],
         "xaxis": "x",
         "y": [
          96731.96,
          94595.79,
          139388.47,
          123751.52,
          85202.06,
          152911.53,
          169101.18,
          181895.81,
          155012.51,
          147628.7,
          132020.37,
          128207.42,
          162743.44,
          174097.63,
          44126.35
         ],
         "yaxis": "y"
        }
       ],
       "layout": {
        "autosize": true,
        "legend": {
         "tracegroupgap": 0
        },
        "template": {
         "data": {
          "bar": [
           {
            "error_x": {
             "color": "#2a3f5f"
            },
            "error_y": {
             "color": "#2a3f5f"
            },
            "marker": {
             "line": {
              "color": "#E5ECF6",
              "width": 0.5
             },
             "pattern": {
              "fillmode": "overlay",
              "size": 10,
              "solidity": 0.2
             }
            },
            "type": "bar"
           }
          ],
          "barpolar": [
           {
            "marker": {
             "line": {
              "color": "#E5ECF6",
              "width": 0.5
             },
             "pattern": {
              "fillmode": "overlay",
              "size": 10,
              "solidity": 0.2
             }
            },
            "type": "barpolar"
           }
          ],
          "carpet": [
           {
            "aaxis": {
             "endlinecolor": "#2a3f5f",
             "gridcolor": "white",
             "linecolor": "white",
             "minorgridcolor": "white",
             "startlinecolor": "#2a3f5f"
            },
            "baxis": {
             "endlinecolor": "#2a3f5f",
             "gridcolor": "white",
             "linecolor": "white",
             "minorgridcolor": "white",
             "startlinecolor": "#2a3f5f"
            },
            "type": "carpet"
           }
          ],
          "choropleth": [
           {
            "colorbar": {
             "outlinewidth": 0,
             "ticks": ""
            },
            "type": "choropleth"
           }
          ],
          "contour": [
           {
            "colorbar": {
             "outlinewidth": 0,
             "ticks": ""
            },
            "colorscale": [
             [
              0,
              "#0d0887"
             ],
             [
              0.1111111111111111,
              "#46039f"
             ],
             [
              0.2222222222222222,
              "#7201a8"
             ],
             [
              0.3333333333333333,
              "#9c179e"
             ],
             [
              0.4444444444444444,
              "#bd3786"
             ],
             [
              0.5555555555555556,
              "#d8576b"
             ],
             [
              0.6666666666666666,
              "#ed7953"
             ],
             [
              0.7777777777777778,
              "#fb9f3a"
             ],
             [
              0.8888888888888888,
              "#fdca26"
             ],
             [
              1,
              "#f0f921"
             ]
            ],
            "type": "contour"
           }
          ],
          "contourcarpet": [
           {
            "colorbar": {
             "outlinewidth": 0,
             "ticks": ""
            },
            "type": "contourcarpet"
           }
          ],
          "heatmap": [
           {
            "colorbar": {
             "outlinewidth": 0,
             "ticks": ""
            },
            "colorscale": [
             [
              0,
              "#0d0887"
             ],
             [
              0.1111111111111111,
              "#46039f"
             ],
             [
              0.2222222222222222,
              "#7201a8"
             ],
             [
              0.3333333333333333,
              "#9c179e"
             ],
             [
              0.4444444444444444,
              "#bd3786"
             ],
             [
              0.5555555555555556,
              "#d8576b"
             ],
             [
              0.6666666666666666,
              "#ed7953"
             ],
             [
              0.7777777777777778,
              "#fb9f3a"
             ],
             [
              0.8888888888888888,
              "#fdca26"
             ],
             [
              1,
              "#f0f921"
             ]
            ],
            "type": "heatmap"
           }
          ],
          "heatmapgl": [
           {
            "colorbar": {
             "outlinewidth": 0,
             "ticks": ""
            },
            "colorscale": [
             [
              0,
              "#0d0887"
             ],
             [
              0.1111111111111111,
              "#46039f"
             ],
             [
              0.2222222222222222,
              "#7201a8"
             ],
             [
              0.3333333333333333,
              "#9c179e"
             ],
             [
              0.4444444444444444,
              "#bd3786"
             ],
             [
              0.5555555555555556,
              "#d8576b"
             ],
             [
              0.6666666666666666,
              "#ed7953"
             ],
             [
              0.7777777777777778,
              "#fb9f3a"
             ],
             [
              0.8888888888888888,
              "#fdca26"
             ],
             [
              1,
              "#f0f921"
             ]
            ],
            "type": "heatmapgl"
           }
          ],
          "histogram": [
           {
            "marker": {
             "pattern": {
              "fillmode": "overlay",
              "size": 10,
              "solidity": 0.2
             }
            },
            "type": "histogram"
           }
          ],
          "histogram2d": [
           {
            "colorbar": {
             "outlinewidth": 0,
             "ticks": ""
            },
            "colorscale": [
             [
              0,
              "#0d0887"
             ],
             [
              0.1111111111111111,
              "#46039f"
             ],
             [
              0.2222222222222222,
              "#7201a8"
             ],
             [
              0.3333333333333333,
              "#9c179e"
             ],
             [
              0.4444444444444444,
              "#bd3786"
             ],
             [
              0.5555555555555556,
              "#d8576b"
             ],
             [
              0.6666666666666666,
              "#ed7953"
             ],
             [
              0.7777777777777778,
              "#fb9f3a"
             ],
             [
              0.8888888888888888,
              "#fdca26"
             ],
             [
              1,
              "#f0f921"
             ]
            ],
            "type": "histogram2d"
           }
          ],
          "histogram2dcontour": [
           {
            "colorbar": {
             "outlinewidth": 0,
             "ticks": ""
            },
            "colorscale": [
             [
              0,
              "#0d0887"
             ],
             [
              0.1111111111111111,
              "#46039f"
             ],
             [
              0.2222222222222222,
              "#7201a8"
             ],
             [
              0.3333333333333333,
              "#9c179e"
             ],
             [
              0.4444444444444444,
              "#bd3786"
             ],
             [
              0.5555555555555556,
              "#d8576b"
             ],
             [
              0.6666666666666666,
              "#ed7953"
             ],
             [
              0.7777777777777778,
              "#fb9f3a"
             ],
             [
              0.8888888888888888,
              "#fdca26"
             ],
             [
              1,
              "#f0f921"
             ]
            ],
            "type": "histogram2dcontour"
           }
          ],
          "mesh3d": [
           {
            "colorbar": {
             "outlinewidth": 0,
             "ticks": ""
            },
            "type": "mesh3d"
           }
          ],
          "parcoords": [
           {
            "line": {
             "colorbar": {
              "outlinewidth": 0,
              "ticks": ""
             }
            },
            "type": "parcoords"
           }
          ],
          "pie": [
           {
            "automargin": true,
            "type": "pie"
           }
          ],
          "scatter": [
           {
            "fillpattern": {
             "fillmode": "overlay",
             "size": 10,
             "solidity": 0.2
            },
            "type": "scatter"
           }
          ],
          "scatter3d": [
           {
            "line": {
             "colorbar": {
              "outlinewidth": 0,
              "ticks": ""
             }
            },
            "marker": {
             "colorbar": {
              "outlinewidth": 0,
              "ticks": ""
             }
            },
            "type": "scatter3d"
           }
          ],
          "scattercarpet": [
           {
            "marker": {
             "colorbar": {
              "outlinewidth": 0,
              "ticks": ""
             }
            },
            "type": "scattercarpet"
           }
          ],
          "scattergeo": [
           {
            "marker": {
             "colorbar": {
              "outlinewidth": 0,
              "ticks": ""
             }
            },
            "type": "scattergeo"
           }
          ],
          "scattergl": [
           {
            "marker": {
             "colorbar": {
              "outlinewidth": 0,
              "ticks": ""
             }
            },
            "type": "scattergl"
           }
          ],
          "scattermapbox": [
           {
            "marker": {
             "colorbar": {
              "outlinewidth": 0,
              "ticks": ""
             }
            },
            "type": "scattermapbox"
           }
          ],
          "scatterpolar": [
           {
            "marker": {
             "colorbar": {
              "outlinewidth": 0,
              "ticks": ""
             }
            },
            "type": "scatterpolar"
           }
          ],
          "scatterpolargl": [
           {
            "marker": {
             "colorbar": {
              "outlinewidth": 0,
              "ticks": ""
             }
            },
            "type": "scatterpolargl"
           }
          ],
          "scatterternary": [
           {
            "marker": {
             "colorbar": {
              "outlinewidth": 0,
              "ticks": ""
             }
            },
            "type": "scatterternary"
           }
          ],
          "surface": [
           {
            "colorbar": {
             "outlinewidth": 0,
             "ticks": ""
            },
            "colorscale": [
             [
              0,
              "#0d0887"
             ],
             [
              0.1111111111111111,
              "#46039f"
             ],
             [
              0.2222222222222222,
              "#7201a8"
             ],
             [
              0.3333333333333333,
              "#9c179e"
             ],
             [
              0.4444444444444444,
              "#bd3786"
             ],
             [
              0.5555555555555556,
              "#d8576b"
             ],
             [
              0.6666666666666666,
              "#ed7953"
             ],
             [
              0.7777777777777778,
              "#fb9f3a"
             ],
             [
              0.8888888888888888,
              "#fdca26"
             ],
             [
              1,
              "#f0f921"
             ]
            ],
            "type": "surface"
           }
          ],
          "table": [
           {
            "cells": {
             "fill": {
              "color": "#EBF0F8"
             },
             "line": {
              "color": "white"
             }
            },
            "header": {
             "fill": {
              "color": "#C8D4E3"
             },
             "line": {
              "color": "white"
             }
            },
            "type": "table"
           }
          ]
         },
         "layout": {
          "annotationdefaults": {
           "arrowcolor": "#2a3f5f",
           "arrowhead": 0,
           "arrowwidth": 1
          },
          "autotypenumbers": "strict",
          "coloraxis": {
           "colorbar": {
            "outlinewidth": 0,
            "ticks": ""
           }
          },
          "colorscale": {
           "diverging": [
            [
             0,
             "#8e0152"
            ],
            [
             0.1,
             "#c51b7d"
            ],
            [
             0.2,
             "#de77ae"
            ],
            [
             0.3,
             "#f1b6da"
            ],
            [
             0.4,
             "#fde0ef"
            ],
            [
             0.5,
             "#f7f7f7"
            ],
            [
             0.6,
             "#e6f5d0"
            ],
            [
             0.7,
             "#b8e186"
            ],
            [
             0.8,
             "#7fbc41"
            ],
            [
             0.9,
             "#4d9221"
            ],
            [
             1,
             "#276419"
            ]
           ],
           "sequential": [
            [
             0,
             "#0d0887"
            ],
            [
             0.1111111111111111,
             "#46039f"
            ],
            [
             0.2222222222222222,
             "#7201a8"
            ],
            [
             0.3333333333333333,
             "#9c179e"
            ],
            [
             0.4444444444444444,
             "#bd3786"
            ],
            [
             0.5555555555555556,
             "#d8576b"
            ],
            [
             0.6666666666666666,
             "#ed7953"
            ],
            [
             0.7777777777777778,
             "#fb9f3a"
            ],
            [
             0.8888888888888888,
             "#fdca26"
            ],
            [
             1,
             "#f0f921"
            ]
           ],
           "sequentialminus": [
            [
             0,
             "#0d0887"
            ],
            [
             0.1111111111111111,
             "#46039f"
            ],
            [
             0.2222222222222222,
             "#7201a8"
            ],
            [
             0.3333333333333333,
             "#9c179e"
            ],
            [
             0.4444444444444444,
             "#bd3786"
            ],
            [
             0.5555555555555556,
             "#d8576b"
            ],
            [
             0.6666666666666666,
             "#ed7953"
            ],
            [
             0.7777777777777778,
             "#fb9f3a"
            ],
            [
             0.8888888888888888,
             "#fdca26"
            ],
            [
             1,
             "#f0f921"
            ]
           ]
          },
          "colorway": [
           "#636efa",
           "#EF553B",
           "#00cc96",
           "#ab63fa",
           "#FFA15A",
           "#19d3f3",
           "#FF6692",
           "#B6E880",
           "#FF97FF",
           "#FECB52"
          ],
          "font": {
           "color": "#2a3f5f"
          },
          "geo": {
           "bgcolor": "white",
           "lakecolor": "white",
           "landcolor": "#E5ECF6",
           "showlakes": true,
           "showland": true,
           "subunitcolor": "white"
          },
          "hoverlabel": {
           "align": "left"
          },
          "hovermode": "closest",
          "mapbox": {
           "style": "light"
          },
          "paper_bgcolor": "white",
          "plot_bgcolor": "#E5ECF6",
          "polar": {
           "angularaxis": {
            "gridcolor": "white",
            "linecolor": "white",
            "ticks": ""
           },
           "bgcolor": "#E5ECF6",
           "radialaxis": {
            "gridcolor": "white",
            "linecolor": "white",
            "ticks": ""
           }
          },
          "scene": {
           "xaxis": {
            "backgroundcolor": "#E5ECF6",
            "gridcolor": "white",
            "gridwidth": 2,
            "linecolor": "white",
            "showbackground": true,
            "ticks": "",
            "zerolinecolor": "white"
           },
           "yaxis": {
            "backgroundcolor": "#E5ECF6",
            "gridcolor": "white",
            "gridwidth": 2,
            "linecolor": "white",
            "showbackground": true,
            "ticks": "",
            "zerolinecolor": "white"
           },
           "zaxis": {
            "backgroundcolor": "#E5ECF6",
            "gridcolor": "white",
            "gridwidth": 2,
            "linecolor": "white",
            "showbackground": true,
            "ticks": "",
            "zerolinecolor": "white"
           }
          },
          "shapedefaults": {
           "line": {
            "color": "#2a3f5f"
           }
          },
          "ternary": {
           "aaxis": {
            "gridcolor": "white",
            "linecolor": "white",
            "ticks": ""
           },
           "baxis": {
            "gridcolor": "white",
            "linecolor": "white",
            "ticks": ""
           },
           "bgcolor": "#E5ECF6",
           "caxis": {
            "gridcolor": "white",
            "linecolor": "white",
            "ticks": ""
           }
          },
          "title": {
           "x": 0.05
          },
          "xaxis": {
           "automargin": true,
           "gridcolor": "white",
           "linecolor": "white",
           "ticks": "",
           "title": {
            "standoff": 15
           },
           "zerolinecolor": "white",
           "zerolinewidth": 2
          },
          "yaxis": {
           "automargin": true,
           "gridcolor": "white",
           "linecolor": "white",
           "ticks": "",
           "title": {
            "standoff": 15
           },
           "zerolinecolor": "white",
           "zerolinewidth": 2
          }
         }
        },
        "title": {
         "text": "Faturamento Mensal"
        },
        "xaxis": {
         "anchor": "y",
         "autorange": true,
         "domain": [
          0,
          1
         ],
         "range": [
          "2022-12-06 06:42:06.9478",
          "2024-03-26 17:17:53.0522"
         ],
         "title": {
          "text": "Período"
         },
         "type": "date"
        },
        "yaxis": {
         "anchor": "x",
         "autorange": true,
         "domain": [
          0,
          1
         ],
         "range": [
          32757.02563106796,
          193265.13436893205
         ],
         "title": {
          "text": "Total"
         },
         "type": "linear"
        }
       }
      },
      "image/png": "[encoded data removed]",
      "text/html": [
       "<div>                            <div id=\"349241ad-d25b-4b11-8e56-938138949239\" class=\"plotly-graph-div\" style=\"height:525px; width:100%;\"></div>            <script type=\"text/javascript\">                require([\"plotly\"], function(Plotly) {                    window.PLOTLYENV=window.PLOTLYENV || {};                                    if (document.getElementById(\"349241ad-d25b-4b11-8e56-938138949239\")) {                    Plotly.newPlot(                        \"349241ad-d25b-4b11-8e56-938138949239\",                        [{\"hovertemplate\":\"Per\\u00edodo=%{x}\\u003cbr\\u003eTotal=%{y}\\u003cextra\\u003e\\u003c\\u002fextra\\u003e\",\"legendgroup\":\"\",\"line\":{\"color\":\"rgb(0,73,46)\",\"dash\":\"solid\"},\"marker\":{\"symbol\":\"circle\"},\"mode\":\"lines+markers\",\"name\":\"\",\"orientation\":\"v\",\"showlegend\":false,\"x\":[\"2023-01-01T00:00:00\",\"2023-02-01T00:00:00\",\"2023-03-01T00:00:00\",\"2023-04-01T00:00:00\",\"2023-05-01T00:00:00\",\"2023-06-01T00:00:00\",\"2023-07-01T00:00:00\",\"2023-08-01T00:00:00\",\"2023-09-01T00:00:00\",\"2023-10-01T00:00:00\",\"2023-11-01T00:00:00\",\"2023-12-01T00:00:00\",\"2024-01-01T00:00:00\",\"2024-02-01T00:00:00\",\"2024-03-01T00:00:00\"],\"xaxis\":\"x\",\"y\":[96731.96,94595.79,139388.47,123751.52,85202.06,152911.53,169101.18,181895.81,155012.51,147628.7,132020.37,128207.42,162743.44,174097.63,44126.35],\"yaxis\":\"y\",\"type\":\"scatter\"}],                        {\"template\":{\"data\":{\"histogram2dcontour\":[{\"type\":\"histogram2dcontour\",\"colorbar\":{\"outlinewidth\":0,\"ticks\":\"\"},\"colorscale\":[[0.0,\"#0d0887\"],[0.1111111111111111,\"#46039f\"],[0.2222222222222222,\"#7201a8\"],[0.3333333333333333,\"#9c179e\"],[0.4444444444444444,\"#bd3786\"],[0.5555555555555556,\"#d8576b\"],[0.6666666666666666,\"#ed7953\"],[0.7777777777777778,\"#fb9f3a\"],[0.8888888888888888,\"#fdca26\"],[1.0,\"#f0f921\"]]}],\"choropleth\":[{\"type\":\"choropleth\",\"colorbar\":{\"outlinewidth\":0,\"ticks\":\"\"}}],\"histogram2d\":[{\"type\":\"histogram2d\",\"colorbar\":{\"outlinewidth\":0,\"ticks\":\"\"},\"colorscale\":[[0.0,\"#0d0887\"],[0.1111111111111111,\"#46039f\"],[0.2222222222222222,\"#7201a8\"],[0.3333333333333333,\"#9c179e\"],[0.4444444444444444,\"#bd3786\"],[0.5555555555555556,\"#d8576b\"],[0.6666666666666666,\"#ed7953\"],[0.7777777777777778,\"#fb9f3a\"],[0.8888888888888888,\"#fdca26\"],[1.0,\"#f0f921\"]]}],\"heatmap\":[{\"type\":\"heatmap\",\"colorbar\":{\"outlinewidth\":0,\"ticks\":\"\"},\"colorscale\":[[0.0,\"#0d0887\"],[0.1111111111111111,\"#46039f\"],[0.2222222222222222,\"#7201a8\"],[0.3333333333333333,\"#9c179e\"],[0.4444444444444444,\"#bd3786\"],[0.5555555555555556,\"#d8576b\"],[0.6666666666666666,\"#ed7953\"],[0.7777777777777778,\"#fb9f3a\"],[0.8888888888888888,\"#fdca26\"],[1.0,\"#f0f921\"]]}],\"heatmapgl\":[{\"type\":\"heatmapgl\",\"colorbar\":{\"outlinewidth\":0,\"ticks\":\"\"},\"colorscale\":[[0.0,\"#0d0887\"],[0.1111111111111111,\"#46039f\"],[0.2222222222222222,\"#7201a8\"],[0.3333333333333333,\"#9c179e\"],[0.4444444444444444,\"#bd3786\"],[0.5555555555555556,\"#d8576b\"],[0.6666666666666666,\"#ed7953\"],[0.7777777777777778,\"#fb9f3a\"],[0.8888888888888888,\"#fdca26\"],[1.0,\"#f0f921\"]]}],\"contourcarpet\":[{\"type\":\"contourcarpet\",\"colorbar\":{\"outlinewidth\":0,\"ticks\":\"\"}}],\"contour\":[{\"type\":\"contour\",\"colorbar\":{\"outlinewidth\":0,\"ticks\":\"\"},\"colorscale\":[[0.0,\"#0d0887\"],[0.1111111111111111,\"#46039f\"],[0.2222222222222222,\"#7201a8\"],[0.3333333333333333,\"#9c179e\"],[0.4444444444444444,\"#bd3786\"],[0.5555555555555556,\"#d8576b\"],[0.6666666666666666,\"#ed7953\"],[0.7777777777777778,\"#fb9f3a\"],[0.8888888888888888,\"#fdca26\"],[1.0,\"#f0f921\"]]}],\"surface\":[{\"type\":\"surface\",\"colorbar\":{\"outlinewidth\":0,\"ticks\":\"\"},\"colorscale\":[[0.0,\"#0d0887\"],[0.1111111111111111,\"#46039f\"],[0.2222222222222222,\"#7201a8\"],[0.3333333333333333,\"#9c179e\"],[0.4444444444444444,\"#bd3786\"],[0.5555555555555556,\"#d8576b\"],[0.6666666666666666,\"#ed7953\"],[0.7777777777777778,\"#fb9f3a\"],[0.8888888888888888,\"#fdca26\"],[1.0,\"#f0f921\"]]}],\"mesh3d\":[{\"type\":\"mesh3d\",\"colorbar\":{\"outlinewidth\":0,\"ticks\":\"\"}}],\"scatter\":[{\"fillpattern\":{\"fillmode\":\"overlay\",\"size\":10,\"solidity\":0.2},\"type\":\"scatter\"}],\"parcoords\":[{\"type\":\"parcoords\",\"line\":{\"colorbar\":{\"outlinewidth\":0,\"ticks\":\"\"}}}],\"scatterpolargl\":[{\"type\":\"scatterpolargl\",\"marker\":{\"colorbar\":{\"outlinewidth\":0,\"ticks\":\"\"}}}],\"bar\":[{\"error_x\":{\"color\":\"#2a3f5f\"},\"error_y\":{\"color\":\"#2a3f5f\"},\"marker\":{\"line\":{\"color\":\"#E5ECF6\",\"width\":0.5},\"pattern\":{\"fillmode\":\"overlay\",\"size\":10,\"solidity\":0.2}},\"type\":\"bar\"}],\"scattergeo\":[{\"type\":\"scattergeo\",\"marker\":{\"colorbar\":{\"outlinewidth\":0,\"ticks\":\"\"}}}],\"scatterpolar\":[{\"type\":\"scatterpolar\",\"marker\":{\"colorbar\":{\"outlinewidth\":0,\"ticks\":\"\"}}}],\"histogram\":[{\"marker\":{\"pattern\":{\"fillmode\":\"overlay\",\"size\":10,\"solidity\":0.2}},\"type\":\"histogram\"}],\"scattergl\":[{\"type\":\"scattergl\",\"marker\":{\"colorbar\":{\"outlinewidth\":0,\"ticks\":\"\"}}}],\"scatter3d\":[{\"type\":\"scatter3d\",\"line\":{\"colorbar\":{\"outlinewidth\":0,\"ticks\":\"\"}},\"marker\":{\"colorbar\":{\"outlinewidth\":0,\"ticks\":\"\"}}}],\"scattermapbox\":[{\"type\":\"scattermapbox\",\"marker\":{\"colorbar\":{\"outlinewidth\":0,\"ticks\":\"\"}}}],\"scatterternary\":[{\"type\":\"scatterternary\",\"marker\":{\"colorbar\":{\"outlinewidth\":0,\"ticks\":\"\"}}}],\"scattercarpet\":[{\"type\":\"scattercarpet\",\"marker\":{\"colorbar\":{\"outlinewidth\":0,\"ticks\":\"\"}}}],\"carpet\":[{\"aaxis\":{\"endlinecolor\":\"#2a3f5f\",\"gridcolor\":\"white\",\"linecolor\":\"white\",\"minorgridcolor\":\"white\",\"startlinecolor\":\"#2a3f5f\"},\"baxis\":{\"endlinecolor\":\"#2a3f5f\",\"gridcolor\":\"white\",\"linecolor\":\"white\",\"minorgridcolor\":\"white\",\"startlinecolor\":\"#2a3f5f\"},\"type\":\"carpet\"}],\"table\":[{\"cells\":{\"fill\":{\"color\":\"#EBF0F8\"},\"line\":{\"color\":\"white\"}},\"header\":{\"fill\":{\"color\":\"#C8D4E3\"},\"line\":{\"color\":\"white\"}},\"type\":\"table\"}],\"barpolar\":[{\"marker\":{\"line\":{\"color\":\"#E5ECF6\",\"width\":0.5},\"pattern\":{\"fillmode\":\"overlay\",\"size\":10,\"solidity\":0.2}},\"type\":\"barpolar\"}],\"pie\":[{\"automargin\":true,\"type\":\"pie\"}]},\"layout\":{\"autotypenumbers\":\"strict\",\"colorway\":[\"#636efa\",\"#EF553B\",\"#00cc96\",\"#ab63fa\",\"#FFA15A\",\"#19d3f3\",\"#FF6692\",\"#B6E880\",\"#FF97FF\",\"#FECB52\"],\"font\":{\"color\":\"#2a3f5f\"},\"hovermode\":\"closest\",\"hoverlabel\":{\"align\":\"left\"},\"paper_bgcolor\":\"white\",\"plot_bgcolor\":\"#E5ECF6\",\"polar\":{\"bgcolor\":\"#E5ECF6\",\"angularaxis\":{\"gridcolor\":\"white\",\"linecolor\":\"white\",\"ticks\":\"\"},\"radialaxis\":{\"gridcolor\":\"white\",\"linecolor\":\"white\",\"ticks\":\"\"}},\"ternary\":{\"bgcolor\":\"#E5ECF6\",\"aaxis\":{\"gridcolor\":\"white\",\"linecolor\":\"white\",\"ticks\":\"\"},\"baxis\":{\"gridcolor\":\"white\",\"linecolor\":\"white\",\"ticks\":\"\"},\"caxis\":{\"gridcolor\":\"white\",\"linecolor\":\"white\",\"ticks\":\"\"}},\"coloraxis\":{\"colorbar\":{\"outlinewidth\":0,\"ticks\":\"\"}},\"colorscale\":{\"sequential\":[[0.0,\"#0d0887\"],[0.1111111111111111,\"#46039f\"],[0.2222222222222222,\"#7201a8\"],[0.3333333333333333,\"#9c179e\"],[0.4444444444444444,\"#bd3786\"],[0.5555555555555556,\"#d8576b\"],[0.6666666666666666,\"#ed7953\"],[0.7777777777777778,\"#fb9f3a\"],[0.8888888888888888,\"#fdca26\"],[1.0,\"#f0f921\"]],\"sequentialminus\":[[0.0,\"#0d0887\"],[0.1111111111111111,\"#46039f\"],[0.2222222222222222,\"#7201a8\"],[0.3333333333333333,\"#9c179e\"],[0.4444444444444444,\"#bd3786\"],[0.5555555555555556,\"#d8576b\"],[0.6666666666666666,\"#ed7953\"],[0.7777777777777778,\"#fb9f3a\"],[0.8888888888888888,\"#fdca26\"],[1.0,\"#f0f921\"]],\"diverging\":[[0,\"#8e0152\"],[0.1,\"#c51b7d\"],[0.2,\"#de77ae\"],[0.3,\"#f1b6da\"],[0.4,\"#fde0ef\"],[0.5,\"#f7f7f7\"],[0.6,\"#e6f5d0\"],[0.7,\"#b8e186\"],[0.8,\"#7fbc41\"],[0.9,\"#4d9221\"],[1,\"#276419\"]]},\"xaxis\":{\"gridcolor\":\"white\",\"linecolor\":\"white\",\"ticks\":\"\",\"title\":{\"standoff\":15},\"zerolinecolor\":\"white\",\"automargin\":true,\"zerolinewidth\":2},\"yaxis\":{\"gridcolor\":\"white\",\"linecolor\":\"white\",\"ticks\":\"\",\"title\":{\"standoff\":15},\"zerolinecolor\":\"white\",\"automargin\":true,\"zerolinewidth\":2},\"scene\":{\"xaxis\":{\"backgroundcolor\":\"#E5ECF6\",\"gridcolor\":\"white\",\"linecolor\":\"white\",\"showbackground\":true,\"ticks\":\"\",\"zerolinecolor\":\"white\",\"gridwidth\":2},\"yaxis\":{\"backgroundcolor\":\"#E5ECF6\",\"gridcolor\":\"white\",\"linecolor\":\"white\",\"showbackground\":true,\"ticks\":\"\",\"zerolinecolor\":\"white\",\"gridwidth\":2},\"zaxis\":{\"backgroundcolor\":\"#E5ECF6\",\"gridcolor\":\"white\",\"linecolor\":\"white\",\"showbackground\":true,\"ticks\":\"\",\"zerolinecolor\":\"white\",\"gridwidth\":2}},\"shapedefaults\":{\"line\":{\"color\":\"#2a3f5f\"}},\"annotationdefaults\":{\"arrowcolor\":\"#2a3f5f\",\"arrowhead\":0,\"arrowwidth\":1},\"geo\":{\"bgcolor\":\"white\",\"landcolor\":\"#E5ECF6\",\"subunitcolor\":\"white\",\"showland\":true,\"showlakes\":true,\"lakecolor\":\"white\"},\"title\":{\"x\":0.05},\"mapbox\":{\"style\":\"light\"}}},\"xaxis\":{\"anchor\":\"y\",\"domain\":[0.0,1.0],\"title\":{\"text\":\"Per\\u00edodo\"}},\"yaxis\":{\"anchor\":\"x\",\"domain\":[0.0,1.0],\"title\":{\"text\":\"Total\"}},\"legend\":{\"tracegroupgap\":0},\"title\":{\"text\":\"Faturamento Mensal\"}},                        {\"responsive\": true}                    ).then(function(){\n",
       "                            \n",
       "var gd = document.getElementById('349241ad-d25b-4b11-8e56-938138949239');\n",
       "var x = new MutationObserver(function (mutations, observer) {{\n",
       "        var display = window.getComputedStyle(gd).display;\n",
       "        if (!display || display === 'none') {{\n",
       "            console.log([gd, 'removed!']);\n",
       "            Plotly.purge(gd);\n",
       "            observer.disconnect();\n",
       "        }}\n",
       "}});\n",
       "\n",
       "// Listen for the removal of the full notebook cells\n",
       "var notebookContainer = gd.closest('#notebook-container');\n",
       "if (notebookContainer) {{\n",
       "    x.observe(notebookContainer, {childList: true});\n",
       "}}\n",
       "\n",
       "// Listen for the clearing of the current output cell\n",
       "var outputEl = gd.closest('.output');\n",
       "if (outputEl) {{\n",
       "    x.observe(outputEl, {childList: true});\n",
       "}}\n",
       "\n",
       "                        })                };                });            </script>        </div>"
      ]
     },
     "metadata": {},
     "output_type": "display_data"
    }
   ],
   "source": [
    "fat = pd.pivot_table(df, values='Total', index='Período', columns=None, aggfunc='sum')\n",
    "fig = px.line(fat, x=fat.index, y='Total', title='Faturamento Mensal', markers=True)\n",
    "fig.update_traces(line_color='rgb(0,73,46)')\n",
    "#fig.update_layout(plot_bgcolor='white')\n",
    "fig.show()"
   ]
  },
  {
   "cell_type": "code",
   "execution_count": 233,
   "id": "25463978-5f64-4fb9-a9cd-051b5a9b6660",
   "metadata": {},
   "outputs": [
    {
     "data": {
      "text/html": [
       "<div>\n",
       "<style scoped>\n",
       "    .dataframe tbody tr th:only-of-type {\n",
       "        vertical-align: middle;\n",
       "    }\n",
       "\n",
       "    .dataframe tbody tr th {\n",
       "        vertical-align: top;\n",
       "    }\n",
       "\n",
       "    .dataframe thead th {\n",
       "        text-align: right;\n",
       "    }\n",
       "</style>\n",
       "<table border=\"1\" class=\"dataframe\">\n",
       "  <thead>\n",
       "    <tr style=\"text-align: right;\">\n",
       "      <th></th>\n",
       "      <th>Vendedor</th>\n",
       "      <th>Data</th>\n",
       "      <th>Data entrega</th>\n",
       "      <th>Ordem Item</th>\n",
       "      <th>Código</th>\n",
       "      <th>Descrição</th>\n",
       "      <th>Cor/Espec./Tam.</th>\n",
       "      <th>Estado</th>\n",
       "      <th>Cidade</th>\n",
       "      <th>Unid.</th>\n",
       "      <th>...</th>\n",
       "      <th>Vl. Unitário</th>\n",
       "      <th>Desconto</th>\n",
       "      <th>Total</th>\n",
       "      <th>Observações</th>\n",
       "      <th>Obs. Itens</th>\n",
       "      <th>Peso Bruto</th>\n",
       "      <th>Peso Líquido</th>\n",
       "      <th>Ano</th>\n",
       "      <th>Mês</th>\n",
       "      <th>Período</th>\n",
       "    </tr>\n",
       "  </thead>\n",
       "  <tbody>\n",
       "    <tr>\n",
       "      <th>0</th>\n",
       "      <td>BOCCHI SUPRIMENTOS</td>\n",
       "      <td>2023-01-11</td>\n",
       "      <td>2023-01-11</td>\n",
       "      <td>1</td>\n",
       "      <td>LP0190008</td>\n",
       "      <td>ESTUFA CRISTAL LONAX 2,2 X 105 28 KG REF: 150</td>\n",
       "      <td>NaN</td>\n",
       "      <td>Tocantins</td>\n",
       "      <td>ARAGUAINA</td>\n",
       "      <td>BOBINA</td>\n",
       "      <td>...</td>\n",
       "      <td>1183.000</td>\n",
       "      <td>0.00</td>\n",
       "      <td>1183.00</td>\n",
       "      <td>NaN</td>\n",
       "      <td>NaN</td>\n",
       "      <td>28.0</td>\n",
       "      <td>0.0</td>\n",
       "      <td>2023</td>\n",
       "      <td>1</td>\n",
       "      <td>2023-01-01</td>\n",
       "    </tr>\n",
       "    <tr>\n",
       "      <th>1</th>\n",
       "      <td>BOCCHI SUPRIMENTOS</td>\n",
       "      <td>2023-01-11</td>\n",
       "      <td>2023-01-11</td>\n",
       "      <td>1</td>\n",
       "      <td>LP0010003</td>\n",
       "      <td>LONA PRETA 4 X 100 10 KG REF: 30</td>\n",
       "      <td>NaN</td>\n",
       "      <td>São Paulo</td>\n",
       "      <td>SAO JOSE DO RIO PRETO</td>\n",
       "      <td>BOBINA</td>\n",
       "      <td>...</td>\n",
       "      <td>157.001</td>\n",
       "      <td>0.00</td>\n",
       "      <td>314.00</td>\n",
       "      <td>NaN</td>\n",
       "      <td>NaN</td>\n",
       "      <td>20.0</td>\n",
       "      <td>0.0</td>\n",
       "      <td>2023</td>\n",
       "      <td>1</td>\n",
       "      <td>2023-01-01</td>\n",
       "    </tr>\n",
       "    <tr>\n",
       "      <th>2</th>\n",
       "      <td>BOCCHI SUPRIMENTOS</td>\n",
       "      <td>2023-01-11</td>\n",
       "      <td>2023-01-11</td>\n",
       "      <td>1</td>\n",
       "      <td>LP0020001</td>\n",
       "      <td>LONA BRANCA 4 X 100 25 KG REF: 100</td>\n",
       "      <td>NaN</td>\n",
       "      <td>São Paulo</td>\n",
       "      <td>SAO PAULO</td>\n",
       "      <td>BOBINA</td>\n",
       "      <td>...</td>\n",
       "      <td>518.830</td>\n",
       "      <td>0.00</td>\n",
       "      <td>2594.15</td>\n",
       "      <td>NaN</td>\n",
       "      <td>NaN</td>\n",
       "      <td>125.0</td>\n",
       "      <td>0.0</td>\n",
       "      <td>2023</td>\n",
       "      <td>1</td>\n",
       "      <td>2023-01-01</td>\n",
       "    </tr>\n",
       "    <tr>\n",
       "      <th>3</th>\n",
       "      <td>BOCCHI SUPRIMENTOS</td>\n",
       "      <td>2023-01-18</td>\n",
       "      <td>2023-01-18</td>\n",
       "      <td>1</td>\n",
       "      <td>LP0190008</td>\n",
       "      <td>ESTUFA CRISTAL LONAX 2,2 X 105 28 KG REF: 150</td>\n",
       "      <td>NaN</td>\n",
       "      <td>Minas Gerais</td>\n",
       "      <td>SAO SEBASTIAO DO PARAISO</td>\n",
       "      <td>BOBINA</td>\n",
       "      <td>...</td>\n",
       "      <td>951.720</td>\n",
       "      <td>19.03</td>\n",
       "      <td>932.69</td>\n",
       "      <td>NaN</td>\n",
       "      <td>NaN</td>\n",
       "      <td>28.0</td>\n",
       "      <td>0.0</td>\n",
       "      <td>2023</td>\n",
       "      <td>1</td>\n",
       "      <td>2023-01-01</td>\n",
       "    </tr>\n",
       "    <tr>\n",
       "      <th>4</th>\n",
       "      <td>BOCCHI SUPRIMENTOS</td>\n",
       "      <td>2023-03-15</td>\n",
       "      <td>2023-03-15</td>\n",
       "      <td>1</td>\n",
       "      <td>LP0020001</td>\n",
       "      <td>LONA BRANCA 4 X 100 25 KG REF: 100</td>\n",
       "      <td>NaN</td>\n",
       "      <td>São Paulo</td>\n",
       "      <td>MAUA</td>\n",
       "      <td>BOBINA</td>\n",
       "      <td>...</td>\n",
       "      <td>490.000</td>\n",
       "      <td>0.00</td>\n",
       "      <td>980.00</td>\n",
       "      <td>NaN</td>\n",
       "      <td>NaN</td>\n",
       "      <td>50.0</td>\n",
       "      <td>0.0</td>\n",
       "      <td>2023</td>\n",
       "      <td>3</td>\n",
       "      <td>2023-03-01</td>\n",
       "    </tr>\n",
       "  </tbody>\n",
       "</table>\n",
       "<p>5 rows × 23 columns</p>\n",
       "</div>"
      ],
      "text/plain": [
       "             Vendedor       Data Data entrega  Ordem Item     Código  \\\n",
       "0  BOCCHI SUPRIMENTOS 2023-01-11   2023-01-11           1  LP0190008   \n",
       "1  BOCCHI SUPRIMENTOS 2023-01-11   2023-01-11           1  LP0010003   \n",
       "2  BOCCHI SUPRIMENTOS 2023-01-11   2023-01-11           1  LP0020001   \n",
       "3  BOCCHI SUPRIMENTOS 2023-01-18   2023-01-18           1  LP0190008   \n",
       "4  BOCCHI SUPRIMENTOS 2023-03-15   2023-03-15           1  LP0020001   \n",
       "\n",
       "                                       Descrição  Cor/Espec./Tam.  \\\n",
       "0  ESTUFA CRISTAL LONAX 2,2 X 105 28 KG REF: 150              NaN   \n",
       "1               LONA PRETA 4 X 100 10 KG REF: 30              NaN   \n",
       "2             LONA BRANCA 4 X 100 25 KG REF: 100              NaN   \n",
       "3  ESTUFA CRISTAL LONAX 2,2 X 105 28 KG REF: 150              NaN   \n",
       "4             LONA BRANCA 4 X 100 25 KG REF: 100              NaN   \n",
       "\n",
       "         Estado                    Cidade   Unid.  ... Vl. Unitário Desconto  \\\n",
       "0     Tocantins                 ARAGUAINA  BOBINA  ...     1183.000     0.00   \n",
       "1     São Paulo     SAO JOSE DO RIO PRETO  BOBINA  ...      157.001     0.00   \n",
       "2     São Paulo                 SAO PAULO  BOBINA  ...      518.830     0.00   \n",
       "3  Minas Gerais  SAO SEBASTIAO DO PARAISO  BOBINA  ...      951.720    19.03   \n",
       "4     São Paulo                      MAUA  BOBINA  ...      490.000     0.00   \n",
       "\n",
       "     Total  Observações  Obs. Itens  Peso Bruto  Peso Líquido   Ano  Mês  \\\n",
       "0  1183.00          NaN         NaN        28.0           0.0  2023    1   \n",
       "1   314.00          NaN         NaN        20.0           0.0  2023    1   \n",
       "2  2594.15          NaN         NaN       125.0           0.0  2023    1   \n",
       "3   932.69          NaN         NaN        28.0           0.0  2023    1   \n",
       "4   980.00          NaN         NaN        50.0           0.0  2023    3   \n",
       "\n",
       "     Período  \n",
       "0 2023-01-01  \n",
       "1 2023-01-01  \n",
       "2 2023-01-01  \n",
       "3 2023-01-01  \n",
       "4 2023-03-01  \n",
       "\n",
       "[5 rows x 23 columns]"
      ]
     },
     "execution_count": 233,
     "metadata": {},
     "output_type": "execute_result"
    }
   ],
   "source": [
    "df.head()"
   ]
  },
  {
   "cell_type": "code",
   "execution_count": null,
   "id": "03df6fa0-18e2-4e7f-bd4e-2477fac44dda",
   "metadata": {},
   "outputs": [],
   "source": []
  }
 ],
 "metadata": {
  "kernelspec": {
   "display_name": "Python 3 (ipykernel)",
   "language": "python",
   "name": "python3"
  },
  "language_info": {
   "codemirror_mode": {
    "name": "ipython",
    "version": 3
   },
   "file_extension": ".py",
   "mimetype": "text/x-python",
   "name": "python",
   "nbconvert_exporter": "python",
   "pygments_lexer": "ipython3",
   "version": "3.12.4"
  }
 },
 "nbformat": 4,
 "nbformat_minor": 5
}
