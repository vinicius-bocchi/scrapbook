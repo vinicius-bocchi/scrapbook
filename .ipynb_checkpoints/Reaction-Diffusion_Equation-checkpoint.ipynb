{
 "cells": [
  {
   "cell_type": "markdown",
   "id": "49a14b7b-ebc5-4690-8bf4-8c5a8aa2e733",
   "metadata": {},
   "source": [
    "## A Second-Order Numerical Method for the Solution of the Reaction-Diffusion Equation"
   ]
  },
  {
   "cell_type": "markdown",
   "id": "ef5515c3-820c-42e8-9262-cc5e4c08b8f8",
   "metadata": {},
   "source": [
    "### 1. Problem formulation"
   ]
  },
  {
   "cell_type": "markdown",
   "id": "a9121281-5533-448c-a1fd-486a486c04dc",
   "metadata": {},
   "source": [
    "**The Problem:** Given the following differential problem (reaction-diffusion equation) in $\\Omega = [0,1]^2$\n",
    "$$-\\varepsilon \\Delta u = f,\\quad u\\mid_{\\partial\\Omega}=\\alpha,\\quad \\alpha=const,\\quad \\varepsilon \\in \\{1,10^{-1},10^{-2}\\}, $$\n",
    "We want to construct a second-order difference scheme and solve the respective system of linear equations using the following methods:<br>\n",
    "* Linear 2-step optimal process\n",
    "* Optimal 3-layered iteration process"
   ]
  },
  {
   "cell_type": "markdown",
   "id": "244b7e0d-cdb0-43aa-989d-5795217b9b2c",
   "metadata": {},
   "source": [
    "### 2. Formalizing the Problem"
   ]
  },
  {
   "cell_type": "markdown",
   "id": "e0f86fa0-2c25-4bfb-89a8-2ee39af61e3a",
   "metadata": {},
   "source": [
    "We define the following spaces:\n",
    "$$\\Omega = [0,1]^2,\\quad \\partial\\Omega = \\{ \\{(0,y)\\}\\cup\\{(1,y)\\}\\cup\\{(x,0)\\}\\cup\\{(x,1)\\}\\mid x,y\\in[0,1]\\} $$\n",
    "$$U=F=C^4\\left([0,1]^2\\right),\\quad \\Phi=\\{\\varphi:\\partial\\Omega \\rightarrow \\mathbb{R}\\} $$\n",
    "And equip them with the following norms:\n",
    "$$\\lVert u \\rVert_U=\\max_\\Omega\\lvert u(x,y)\\rvert,\\quad \\lVert f \\rVert_F = \\max_\\Omega \\lvert f(x,y) \\rvert, \\quad \\lVert \\varphi \\rVert_\\Phi = \\max_{\\partial\\Omega} \\lvert \\varphi(x,y) \\rvert $$\n",
    "\n",
    "Now we can introduce the following differential operators $L:U\\rightarrow F$ and $l:U\\rightarrow \\Phi$ such that\n",
    "$$Lu=-\\varepsilon \\Delta u,\\quad lu=u-\\alpha $$\n",
    "Then our original problem can be reframed as\n",
    "$$\\begin{cases}\n",
    "    Lu=f\\\\\n",
    "    lu=0\n",
    "\\end{cases}$$"
   ]
  },
  {
   "cell_type": "markdown",
   "id": "c44bfd78-7153-46d4-806e-9d7210aa1e8b",
   "metadata": {},
   "source": [
    "### 3. Discretization"
   ]
  },
  {
   "cell_type": "markdown",
   "id": "706eeecb-ed86-450f-900a-3040156041cd",
   "metadata": {},
   "source": [
    "Let's divide our square $[0,1]^2$ into $M\\cdot N$ parts. We denote by $h_1=\\dfrac{1}{M},\\;h_2=\\dfrac{1}{N}$ the step length. We are now in position to construct the discrete spaces:\n",
    "$$\\Omega_{h_1,h_2}=\\{(ih_i,jh_2) \\mid i=1,\\dots,M-1,\\;j=1,\\dots,N-1 \\} $$\n",
    "$$\\Gamma_{h_1,h_2}=\\{ \\{(0,jh_2)\\}\\cup \\{(1,jh_2)\\}\\cup\\{(ih_i,0)\\}\\cup\\{(ih_1,0)\\} \\mid i=0,\\dots,M,\\; j=0,\\dots,N\\} $$\n",
    "$$\\overline{\\Omega_{h_1,h_2}}=\\Omega_{h_1,h_2}\\cup \\Gamma_{h_1,h_2} $$\n",
    "$$U_{h_1,h_2} = \\{u_{h_1,h_2}:\\Omega_{h_1,h_2}\\rightarrow \\mathbb{R} \\},\\quad F_{h_1,h_2}=\\{f_{h_1,h_2}:\\Omega\\rightarrow\\mathbb{R}\\};\\quad \\Phi_{h_1,h_2}:\\{\\varphi_{h_1,h_2}:\\Gamma_{h_1,h_2}\\rightarrow \\mathbb{R}\\} $$\n",
    "And equip them with the following norms:\n",
    "$$\\lVert u_{h_1,h_2}\\rVert_{U{h_1,h_2}}=\\max_{\\overline{\\Omega_{h_1,h_2}}}\\lvert u_{h_1,h_2} \\rvert,\\quad \\lVert f_{h_1,h_2} \\rVert_{F_{h_1,h_2}}=\\max_{\\Omega_{h_1,h_2}} \\lvert f_{h_1,h_2} \\rvert,\\quad \\lVert \\varphi_{h_1,h_2} \\rVert_{\\Phi_{h_1,h_2}} = \\max_{\\Gamma_{h_1,h_2}} \\lvert \\varphi_{h_1,h_2} \\rvert$$\n",
    "Now we can finally define the 'projector on grid' operator $[\\cdot ]_{h_1,h_2}$ for the spaces $U\\rightarrow U_{h_1,h_2},\\;F\\rightarrow F_{h_1,h_2}\\;$ and $\\Phi\\rightarrow \\Phi_{h_1,h_2}\\;$ by using the same identity: $$[\\psi]_{h_1,h_2}(ih_1,jh_2)=\\psi(ih_1,jh_2)$$\n",
    "By introducing the operators $L_{h_1,h_2}$ and $l_{h_1,h_2}$\n",
    "$$L_{h_1,h_2}(u(ih_1,jh_2)=\\varepsilon \\left( \\dfrac{u_{h_1,h_2}(ih_1+h_1,jh_2)-2u_{h_1,h_2}(ih_1,jh_2)+u_{h_1,h_2}(ih_1-h_1,jh_2)}{h_1^2} \\right)-\\varepsilon\\left( \\dfrac{u_{h_1,h_2}(ih_1,jh_2+h2)-2u_{h_1,h_2}(ih_1,jh_2)+u_{h_1,h_2}(ih_1,jh_2-h_2)}{h_2^2} \\right)+u_{h_1,h_2}(ih_1,jh_2) $$\n",
    "$$l_{h_1,h_2}(u_{h_1,h_2}(ih_1,jh_2))=u_{h_1,h_2}(ih_1,jh_2)-\\alpha $$\n",
    "we obtain the discrete version of the problem. Introducing the notation $u_{h_1,h_2}:=[u]_{h_1,h_2},\\; f_{h_1,h_2}:=[f]_{h_1,h_2}$ we reformulate the original system:\n",
    "$$\\begin{cases}\n",
    "    L_{h_1,h_2}(u_{h_1,h_2})=f_{h_1,h_2})\\\\\n",
    "    l_{h_1,h_2}(u_{h_1,h_2})=0\n",
    "\\end{cases}$$"
   ]
  },
  {
   "cell_type": "code",
   "execution_count": null,
   "id": "bd183546-5af9-4af8-97ad-46110198831f",
   "metadata": {},
   "outputs": [],
   "source": []
  }
 ],
 "metadata": {
  "kernelspec": {
   "display_name": "Python 3 (ipykernel)",
   "language": "python",
   "name": "python3"
  },
  "language_info": {
   "codemirror_mode": {
    "name": "ipython",
    "version": 3
   },
   "file_extension": ".py",
   "mimetype": "text/x-python",
   "name": "python",
   "nbconvert_exporter": "python",
   "pygments_lexer": "ipython3",
   "version": "3.12.4"
  }
 },
 "nbformat": 4,
 "nbformat_minor": 5
}
