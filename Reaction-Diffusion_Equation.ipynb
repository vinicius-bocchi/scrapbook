{
 "cells": [
  {
   "cell_type": "markdown",
   "id": "49a14b7b-ebc5-4690-8bf4-8c5a8aa2e733",
   "metadata": {},
   "source": [
    "## A Second-Order Numerical Method for the Solution of the Reaction-Diffusion Equation"
   ]
  },
  {
   "cell_type": "markdown",
   "id": "ef5515c3-820c-42e8-9262-cc5e4c08b8f8",
   "metadata": {},
   "source": [
    "### 1. Problem formulation"
   ]
  },
  {
   "cell_type": "markdown",
   "id": "a9121281-5533-448c-a1fd-486a486c04dc",
   "metadata": {},
   "source": [
    "**The Problem:** Given the following differential problem (reaction-diffusion equation) in $\\Omega = [0,1]^2$\n",
    "$$-\\varepsilon \\Delta u = f,\\quad u\\mid_{\\partial\\Omega}=\\alpha,\\quad \\alpha=const,\\quad \\varepsilon \\in \\{1,10^{-1},10^{-2}\\}, $$\n",
    "We want to construct a second-order difference scheme and solve the respective system of linear equations using the following methods:<br>\n",
    "* Linear 2-step optimal process\n",
    "* Optimal 3-layered iteration process"
   ]
  },
  {
   "cell_type": "markdown",
   "id": "244b7e0d-cdb0-43aa-989d-5795217b9b2c",
   "metadata": {},
   "source": [
    "### 2. Formalizing the Problem"
   ]
  },
  {
   "cell_type": "markdown",
   "id": "e0f86fa0-2c25-4bfb-89a8-2ee39af61e3a",
   "metadata": {},
   "source": [
    "We define the following spaces:\n",
    "$$\\Omega = [0,1]^2,\\quad \\partial\\Omega = \\{ \\{(0,y)\\}\\cup\\{(1,y)\\}\\cup\\{(x,0)\\}\\cup\\{(x,1)\\}\\mid x,y\\in[0,1]\\} $$\n",
    "$$U=F=C^4\\left([0,1]^2\\right),\\quad \\Phi=\\{\\varphi:\\partial\\Omega \\mapsto \\mathbb{R}\\} $$\n",
    "And equip them with the following norms:\n",
    "$$\\lVert u \\rVert_U=\\max_\\Omega\\lvert u(x,y)\\rvert,\\quad \\lVert f \\rVert_F = \\max_\\Omega \\lvert f(x,y) \\rvert, \\quad \\lVert \\varphi \\rVert_\\Phi = \\max_{\\partial\\Omega} \\lvert \\varphi(x,y) \\rvert $$\n",
    "\n",
    "Now we can introduce the following differential operators $L:U\\mapsto F$ and $l:U\\mapsto \\Phi$ such that\n",
    "$$Lu=-\\varepsilon \\Delta u,\\quad lu=u-\\alpha $$\n",
    "Then our original problem can be reframed as\n",
    "$$\\begin{cases}\n",
    "    Lu=f\\\\\n",
    "    lu=0\n",
    "\\end{cases}$$"
   ]
  },
  {
   "cell_type": "markdown",
   "id": "c44bfd78-7153-46d4-806e-9d7210aa1e8b",
   "metadata": {},
   "source": [
    "### 3. Discretization"
   ]
  },
  {
   "cell_type": "code",
   "execution_count": null,
   "id": "30e2d928-1587-4692-914c-bf65deee0adb",
   "metadata": {},
   "outputs": [],
   "source": []
  }
 ],
 "metadata": {
  "kernelspec": {
   "display_name": "Python 3 (ipykernel)",
   "language": "python",
   "name": "python3"
  },
  "language_info": {
   "codemirror_mode": {
    "name": "ipython",
    "version": 3
   },
   "file_extension": ".py",
   "mimetype": "text/x-python",
   "name": "python",
   "nbconvert_exporter": "python",
   "pygments_lexer": "ipython3",
   "version": "3.12.4"
  }
 },
 "nbformat": 4,
 "nbformat_minor": 5
}
